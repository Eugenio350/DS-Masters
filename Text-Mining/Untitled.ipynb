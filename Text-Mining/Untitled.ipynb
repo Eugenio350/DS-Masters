{
 "cells": [
  {
   "cell_type": "code",
   "execution_count": 6,
   "id": "62654559-d26f-4e3a-b8be-169c83c066bb",
   "metadata": {
    "tags": []
   },
   "outputs": [],
   "source": [
    "import nltk\n",
    "import pandas as pd\n",
    "from nltk.tokenize import word_tokenize\n",
    "from nltk.tokenize import sent_tokenize\n",
    "from nltk.util import ngrams \n",
    "from nltk.corpus import stopwords\n",
    "from nltk.stem import PorterStemmer, SnowballStemmer\n",
    "from nltk import pos_tag\n",
    "from nltk.tokenize import word_tokenize\n",
    "from nltk.chunk import ne_chunk\n",
    "import spacy\n",
    "from spacy import displacy\n",
    "from nltk.corpus import wordnet\n",
    "import textacy\n",
    "import seaborn as sns\n",
    "import matplotlib.pyplot as plt\n",
    "import string\n",
    "\n",
    "def extraer_ngramas(datos, numero):\n",
    "    n_grams = ngrams(work_tokenize(datos), numero)\n",
    "    # Transformar en lista\n",
    "    return [ ' '.join(grams) for grams in n_grams]"
   ]
  },
  {
   "cell_type": "code",
   "execution_count": 8,
   "id": "39aa5161-f9f6-4dbe-9706-dc4f083eacb2",
   "metadata": {
    "tags": []
   },
   "outputs": [],
   "source": [
    "news_summary = pd.read_csv(\"news_summary.csv\", encoding=\"latin-1\")\n",
    "texto_noticias = news_summary[\"text\"].to_list()"
   ]
  },
  {
   "cell_type": "code",
   "execution_count": 12,
   "id": "22fa258c-1aff-4f97-a340-735d5e0314b9",
   "metadata": {
    "tags": []
   },
   "outputs": [
    {
     "name": "stdout",
     "output_type": "stream",
     "text": [
      "(4514, 6)\n"
     ]
    },
    {
     "data": {
      "text/html": [
       "<div>\n",
       "<style scoped>\n",
       "    .dataframe tbody tr th:only-of-type {\n",
       "        vertical-align: middle;\n",
       "    }\n",
       "\n",
       "    .dataframe tbody tr th {\n",
       "        vertical-align: top;\n",
       "    }\n",
       "\n",
       "    .dataframe thead th {\n",
       "        text-align: right;\n",
       "    }\n",
       "</style>\n",
       "<table border=\"1\" class=\"dataframe\">\n",
       "  <thead>\n",
       "    <tr style=\"text-align: right;\">\n",
       "      <th></th>\n",
       "      <th>author</th>\n",
       "      <th>date</th>\n",
       "      <th>headlines</th>\n",
       "      <th>read_more</th>\n",
       "      <th>text</th>\n",
       "      <th>ctext</th>\n",
       "    </tr>\n",
       "  </thead>\n",
       "  <tbody>\n",
       "    <tr>\n",
       "      <th>0</th>\n",
       "      <td>Chhavi Tyagi</td>\n",
       "      <td>03 Aug 2017,Thursday</td>\n",
       "      <td>Daman &amp; Diu revokes mandatory Rakshabandhan in...</td>\n",
       "      <td>http://www.hindustantimes.com/india-news/raksh...</td>\n",
       "      <td>The Administration of Union Territory Daman an...</td>\n",
       "      <td>The Daman and Diu administration on Wednesday ...</td>\n",
       "    </tr>\n",
       "  </tbody>\n",
       "</table>\n",
       "</div>"
      ],
      "text/plain": [
       "         author                  date  \\\n",
       "0  Chhavi Tyagi  03 Aug 2017,Thursday   \n",
       "\n",
       "                                           headlines  \\\n",
       "0  Daman & Diu revokes mandatory Rakshabandhan in...   \n",
       "\n",
       "                                           read_more  \\\n",
       "0  http://www.hindustantimes.com/india-news/raksh...   \n",
       "\n",
       "                                                text  \\\n",
       "0  The Administration of Union Territory Daman an...   \n",
       "\n",
       "                                               ctext  \n",
       "0  The Daman and Diu administration on Wednesday ...  "
      ]
     },
     "execution_count": 12,
     "metadata": {},
     "output_type": "execute_result"
    }
   ],
   "source": [
    "print(news_summary.shape)\n",
    "news_summary.head(1)"
   ]
  },
  {
   "cell_type": "code",
   "execution_count": 14,
   "id": "f442dc25-1864-4b97-b9f1-55d2bac56c06",
   "metadata": {
    "tags": []
   },
   "outputs": [
    {
     "data": {
      "text/plain": [
       "'Malaika Arora slammed an Instagram user who trolled her for \"divorcing a rich man\" and \"having fun with the alimony\". \"Her life now is all about wearing short clothes, going to gym or salon, enjoying vacation[s],\" the user commented. Malaika responded, \"You certainly got to get your damn facts right before spewing sh*t on me...when you know nothing about me.\"'"
      ]
     },
     "execution_count": 14,
     "metadata": {},
     "output_type": "execute_result"
    }
   ],
   "source": [
    "# Para tokenizar palabras utiliza nltk.tokenize\n",
    "subset_noticias = texto_noticias[0:100]\n",
    "# Cada uno tiene una noticia diferente\n",
    "subset_noticias[1]"
   ]
  },
  {
   "cell_type": "code",
   "execution_count": 24,
   "id": "c342dabc-7504-414b-890f-321e1a66d2ee",
   "metadata": {
    "tags": []
   },
   "outputs": [
    {
     "name": "stdout",
     "output_type": "stream",
     "text": [
      "<class 'list'>\n"
     ]
    },
    {
     "data": {
      "text/plain": [
       "['Malaika Arora slammed an Instagram user who trolled her for \"divorcing a rich man\" and \"having fun with the alimony\".',\n",
       " '\"Her life now is all about wearing short clothes, going to gym or salon, enjoying vacation[s],\" the user commented.']"
      ]
     },
     "execution_count": 24,
     "metadata": {},
     "output_type": "execute_result"
    }
   ],
   "source": [
    "# Para dividir la oracion puedes hacer\n",
    "sentences = sent_tokenize(subset_noticias[1]) # Regresa una lista\n",
    "print(type(sentences))\n",
    "sentences[0:2] # Cada unidad es una oracion"
   ]
  },
  {
   "cell_type": "code",
   "execution_count": 27,
   "id": "21dccb84-624c-4aac-b2a9-9d96142f59b6",
   "metadata": {
    "tags": []
   },
   "outputs": [
    {
     "name": "stdout",
     "output_type": "stream",
     "text": [
      "Token num 0 is Malaika\n",
      "Token num 1 is Arora\n",
      "Token num 2 is slammed\n"
     ]
    }
   ],
   "source": [
    "# Utilizando NLTK\n",
    "def visualizador_de_tokens(data, unity, restriction=False,\n",
    "                          number_restriction=5):\n",
    "    i = 0\n",
    "    example_data = data[unity]\n",
    "    token = word_tokenize(example_data)\n",
    "    for num, token in enumerate(token):\n",
    "        i += 1\n",
    "        if restriction == True:\n",
    "            if i < number_restriction + 1:\n",
    "                print(f\"Token num {num} is {token}\")\n",
    "            else:\n",
    "                break\n",
    "        else:\n",
    "            print(f\"Token num {num} is {token}\")\n",
    "            \n",
    "visualizador_de_tokens(subset_noticias, 1, restriction=True,\n",
    "                       number_restriction=3)\n",
    "\n",
    "    "
   ]
  },
  {
   "cell_type": "code",
   "execution_count": 31,
   "id": "92ae3ff0-3b19-4bb8-9774-b8132e5ac372",
   "metadata": {
    "tags": []
   },
   "outputs": [
    {
     "name": "stdout",
     "output_type": "stream",
     "text": [
      "<class 'spacy.lang.en.English'>\n"
     ]
    }
   ],
   "source": [
    "nlp = spacy.load(\"en_core_web_sm\")\n",
    "nlp # Modelo de Procesamiento en Ingles\n",
    "print(type(nlp))\n",
    "documento = nlp(subset_noticias[1])"
   ]
  },
  {
   "cell_type": "code",
   "execution_count": 33,
   "id": "292dca56-b997-48c4-92a3-04465fb23609",
   "metadata": {
    "tags": []
   },
   "outputs": [
    {
     "name": "stdout",
     "output_type": "stream",
     "text": [
      "la oracion numero 0 es: \n",
      " Malaika Arora slammed an Instagram user who trolled her for \"divorcing a rich man\" and \"having fun with the alimony\".\n",
      "la oracion numero 1 es: \n",
      " \"Her life now is all about wearing short clothes, going to gym or salon, enjoying vacation[s],\" the user commented.\n",
      "la oracion numero 2 es: \n",
      " Malaika responded, \"You certainly got to get your damn facts right before spewing sh*t on me...when you know nothing about me.\"\n"
     ]
    }
   ],
   "source": [
    "lista_documentos = [nlp(noticias) for noticias in subset_noticias]\n",
    "for num, sentence in enumerate(lista_documentos[1].sents):\n",
    "    print(f\"la oracion numero {num} es: \\n {sentence}\")"
   ]
  },
  {
   "cell_type": "code",
   "execution_count": null,
   "id": "81c4b16b-c625-4e7b-9693-ca7e485b042b",
   "metadata": {},
   "outputs": [],
   "source": [
    "def dividir_oraciones_nlp(datos, documento, modelo, fragment = False, frag_num=2):\n",
    "    lista_documentos = [modelo(documento) for noticia in datos]\n",
    "    if fragement == True:\n",
    "        for num, sentence in enumerate(lista_documentos[frag_num].sents):\n",
    "            print(f\"la oracion numero {num} es: \\n {sentence}\")\n",
    "        else:\n",
    "            for num, sentence in enumerate(lista_documentos.sents):\n",
    "                print(f\"la oracion numero {num} es: \\n {sentence}\"\n",
    "                      "
   ]
  }
 ],
 "metadata": {
  "kernelspec": {
   "display_name": "Python 3 (ipykernel)",
   "language": "python",
   "name": "python3"
  },
  "language_info": {
   "codemirror_mode": {
    "name": "ipython",
    "version": 3
   },
   "file_extension": ".py",
   "mimetype": "text/x-python",
   "name": "python",
   "nbconvert_exporter": "python",
   "pygments_lexer": "ipython3",
   "version": "3.11.7"
  }
 },
 "nbformat": 4,
 "nbformat_minor": 5
}

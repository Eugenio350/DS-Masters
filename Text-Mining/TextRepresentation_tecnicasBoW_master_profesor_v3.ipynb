{
 "cells": [
  {
   "cell_type": "markdown",
   "metadata": {
    "id": "A48-kUHmOmQZ"
   },
   "source": [
    "\n",
    "# Representación numérica de textos\n",
    "En la mayoría de técnicas comúnmente utilizadas en Text Mining y NLP es necesario representar los textos en forma de vectores numéricos para que puedan ser procesados por modelos estadísticos o modelos de aprendizaje automático. Existen diferentes formas de representar el texto de esta manera, todas de ellas consisten en mapear la información a un espacio vectorial, numérico, aunque difieren en la manera de modelar los datos.\n",
    "\n",
    "Por una parte, nos encontramos estrategias para representar documentos completos en el espacio vectorial. Estas estrategias se basan en construir una matriz de términos y documentos, que representan el contenido del texto en vectores de manera que puedan ser utilizados como fuente de datos de entrada para tareas de clasificación, topic modelling o búsqueda de información.\n",
    "\n",
    "\n",
    "Por otra parte, existen estrategias para representar los documentos a nivel de palabra. Es decir, que cada token del vocabulario tenga asociada un vector específico. Estas estrategias, comúnmente denominadas como embeddings, permiten capturar la semántica de los términos y realizar de forma muy competente tareas más complejas como la extracción y linkeo de entidades, aunque también pueden ser utilizadas para otro tipo de tareas.\n",
    "\n",
    "\n",
    "\n"
   ]
  },
  {
   "cell_type": "markdown",
   "metadata": {
    "id": "OW1pFXcKTOMB"
   },
   "source": [
    "\n",
    "## 1. Representación numérica de documentos\n",
    "\n",
    "En este notebook vamos a aprender a representar numéricamente documentos a través de los métodos de representación Bag Of Words (BoW) y TF-IDF.\n",
    "\n",
    "\n",
    "Para este ejercicio trabajaremos con un corpus muy sencillo, para visualizar bien los resultados:"
   ]
  },
  {
   "cell_type": "code",
   "execution_count": null,
   "metadata": {
    "id": "9EkfSTy3pxsb"
   },
   "outputs": [],
   "source": [
    "corpus = [\"yo quiero agua\",\n",
    "          \"yo quiero cocacola\",\n",
    "          \"yo quiero agua y un agua\",\n",
    "          \"yo no quiero vino\",\n",
    "          \"yo quiero un entrecot\"]"
   ]
  },
  {
   "cell_type": "markdown",
   "metadata": {
    "id": "V7yGud8qqP8N"
   },
   "source": [
    "Vamos a tokenizar cada una de las frases, para trabajar comodamente más adelante:"
   ]
  },
  {
   "cell_type": "code",
   "execution_count": null,
   "metadata": {
    "id": "fp3fAT8ppwl6"
   },
   "outputs": [],
   "source": [
    "corpus_tok = [i.split() for i in corpus]  #Corpus conocido y sencillo, podemos dividir palabras con split()\n",
    "corpus_tok"
   ]
  },
  {
   "cell_type": "markdown",
   "metadata": {
    "id": "FhnCPAKiqFLH"
   },
   "source": [
    "### Bag of Words\n",
    "Como hemos visto anterioremente, Bag Of Words es uno de los modelos de representación de texto más intuitivos. Para implementarlo, se construye un vocabulario de tamaño N con los tokens únicos del corpus de trabajo, para despues representar cada documento con un vector del mismo tamaño en el que cada elemento será el nº de veces que aparece el token en cuestión en el documento.\n",
    "\n"
   ]
  },
  {
   "cell_type": "markdown",
   "metadata": {
    "id": "2eQnwDb5qjA9"
   },
   "source": [
    "En primer lugar, construimos el vocabulario que se utilizará para representar nuestro corpus:"
   ]
  },
  {
   "cell_type": "code",
   "execution_count": null,
   "metadata": {
    "id": "CAsGf7eOqI-C"
   },
   "outputs": [],
   "source": [
    "# El vocabulario de nuestro corpus son los tokens únicos utilizados en nuestro conjunto de documentos\n",
    "import itertools\n",
    "import numpy as np\n",
    "\n",
    "all_tokens = itertools.chain(*corpus_tok)\n",
    "vocab = sorted(set(all_tokens))\n",
    "\n",
    "print(\"Nuestro vocabulario contiene {} tokens. Que son: {}\".format(len(vocab),vocab))"
   ]
  },
  {
   "cell_type": "markdown",
   "metadata": {
    "id": "ox-OKbnNraUS"
   },
   "source": [
    "Cada uno de los documentos del corpus estará representado por un vector de 9 elementos. El elemento 0 representará la presencia del token agua en el documento, el elemento 1 representará la presencia de \"cocacola\" en el documento... etc\n",
    "\n",
    "A continuación, vamos a construir esos vectores:"
   ]
  },
  {
   "cell_type": "code",
   "execution_count": null,
   "metadata": {
    "id": "0J0ven0arZpl"
   },
   "outputs": [],
   "source": [
    "import collections\n",
    "# Creamos un vector de salida\n",
    "doc_vectors = list()\n",
    "# Iteramos en cada uno de los documentos del corpus\n",
    "for doc in corpus_tok:\n",
    "  # Contamos las ocurrencias de cada uno de los tokens. Counter devuelve un diccionario\n",
    "  counter_doc = collections.Counter(doc)\n",
    "  # Creamos el vector que representará al documento\n",
    "  doc_vec = list()\n",
    "  # Iteramos por los términos del voabulario\n",
    "  for word in vocab:\n",
    "    # Si el término está en el diccionario de conteo, introducimos el valor en\n",
    "    # esa posición del vector. Si no está, introducimos un 0\n",
    "    if word in counter_doc:\n",
    "        doc_vec.append(counter_doc[word])\n",
    "    else:\n",
    "        doc_vec.append(0)\n",
    "  # Añadimos al vector de salida el vector del documento\n",
    "  doc_vectors.append(doc_vec)"
   ]
  },
  {
   "cell_type": "code",
   "execution_count": null,
   "metadata": {
    "id": "Lg7a8t2As-61"
   },
   "outputs": [],
   "source": [
    "for frase, vector in zip(corpus, doc_vectors):\n",
    "  print(\"La frase '{}' está representada por el vector {}\".format(frase, vector))"
   ]
  },
  {
   "cell_type": "markdown",
   "metadata": {
    "id": "Xi8aGcOouXTU"
   },
   "source": [
    "En Bag Of Words:\n",
    "\n",
    "- Los términos que aparecen varias veces en el documento tienen un número mayor, lo que se puede traducir en que esos términos (caracteristicas) tienen un mayor peso en el documento.\n",
    "- Si un término ocurre muchas veces en todos los documentos, tendrá gran importancia en cada uno de ellos, a pesar de que no será útil para clasificar o agrupar textos.\n",
    "\n",
    "\n",
    "El método de representación TF-IDF intenta precisamente  compensar este efecto mediante la aplicación de una penalización a palabras comunes en muchos documentos."
   ]
  },
  {
   "cell_type": "markdown",
   "metadata": {
    "id": "fdk6YyUjvbHW"
   },
   "source": [
    "### TF-IDF  (intuición)\n"
   ]
  },
  {
   "cell_type": "markdown",
   "metadata": {
    "id": "ct4pM7F6RfZ-"
   },
   "source": [
    "Para realizar los cáculos de forma más eficiente generaremos un diccionario que asocie a cada una de las palabras de nuestro corpus un índice numérico.\n"
   ]
  },
  {
   "cell_type": "markdown",
   "metadata": {
    "id": "PR2pB-QDzfzs"
   },
   "source": [
    "Para calcular TF-IDF realizaremos los siguientes pasos:\n",
    "\n",
    "1. Calcular el Term Frequency (TF). Que se calcula como:\n",
    "  $$TF(w) = n_{w-in-d} / N_d$$\n",
    "\n",
    "Anteriormente hemos calculado para cada documento el número de veces que aparecía cada token del vocabulario. Para calcular el TF bastaría con dividir cada uno de los elementos del vector con la suma total de tokens de cada documento.\n"
   ]
  },
  {
   "cell_type": "markdown",
   "metadata": {
    "id": "q832rwMH0klF"
   },
   "source": [
    "2. Calcular el componente Inverse-Document Frequency (IDF). Que se calcula como:\n",
    "$$ IDF(w) = ln(N/n_w)$$\n",
    "\n",
    "donde n_w  es el número de documentos que contiene el token w y N es el número total de documentos."
   ]
  },
  {
   "cell_type": "markdown",
   "metadata": {
    "id": "7xZDRIuTUZAu"
   },
   "source": [
    "En primer lugar generamos una función que permita calcular el número de vees que un token aparece en un documento d enuestro corpus."
   ]
  },
  {
   "cell_type": "markdown",
   "metadata": {
    "id": "HVrOHtSZUtJt"
   },
   "source": [
    "Despues, uniríamos ambas expresiones para calcular el TF-IDF de una frase (las siguientes celdas son de pseudocódigo):"
   ]
  },
  {
   "cell_type": "markdown",
   "metadata": {
    "id": "mCCiH-AyTpns"
   },
   "source": [
    "\n",
    "\n",
    "```python\n",
    "\n",
    "def tf_idf_calc(doc, N_corpus):\n",
    "  # Generamos vector salida\n",
    "  tf_idf_vec = np.zeros((len(vocab),))\n",
    "  for word in doc:\n",
    "    # Calculamoes el valor tf para el token en cuestion\n",
    "    tf = TF_calc(doc, word)\n",
    "    # Calculamos el valor idf para el token en cuestion\n",
    "    idf = idf_calc(doc, N_corpus)\n",
    "\n",
    "    tf_idf = tf * idf\n",
    "    tf_idf_vec[index_dict[word]] = tf_idf\n",
    "  return tf_idf_vec\n",
    "```\n",
    "\n"
   ]
  },
  {
   "cell_type": "markdown",
   "metadata": {
    "id": "PKV7tHzHU_5S"
   },
   "source": [
    "Y lo aplicaríamos a todo el corpus:"
   ]
  },
  {
   "cell_type": "markdown",
   "metadata": {
    "id": "Z_02B0l4UCAX"
   },
   "source": [
    "\n",
    "\n",
    "\n",
    "```python\n",
    "#TF-IDF Encoded text corpus\n",
    "tf_idf_result = []\n",
    "for sent in corpus_tok:\n",
    "    vec = tf_idf_calc(sent,len(corpus_tok))\n",
    "    tf_idf_result.append(vec)\n",
    "```\n",
    "\n"
   ]
  },
  {
   "cell_type": "markdown",
   "metadata": {
    "id": "IvFyVzubOmJM"
   },
   "source": [
    "### Cálculo con scikit-learn\n",
    "\n",
    "\n"
   ]
  },
  {
   "cell_type": "markdown",
   "metadata": {
    "id": "Hfx5yjcoYOPA"
   },
   "source": [
    "Aunque hemos mostrado una manera de aplicar el BoW y Tf-IDF a un corpus de documentos. Existen varias modificaciones que pueden mejorar los resultados (modificaciones en el cálculo de la componente IDF, por ejemplo). Además, las librerías de ML están preapradas para transformar documentos de forma más inmedianta, eficiente e incorporando funciones que pueden ser de utilidad\n",
    "\n",
    "\n",
    "En scikit-learn podemos utilizar distintas funciones para obtener el vocabulario de un corpus de documentos. Ambas están presentes dentro del módulo feature_extraction.text y son [`CountVectorizer`](https://scikit-learn.org/stable/modules/generated/sklearn.feature_extraction.text.CountVectorizer.html) y  [`TfidfVectorizer`](https://scikit-learn.org/stable/modules/generated/sklearn.feature_extraction.text.TfidfVectorizer.html#sklearn.feature_extraction.text.TfidfVectorizer).\n",
    "Vamos a crear un objeto con cada una de esas clases para introducir nuestro corpus y extraer el vocabulario."
   ]
  },
  {
   "cell_type": "markdown",
   "metadata": {
    "id": "TJl8IO50AKBp"
   },
   "source": [
    "\n",
    "**Tanto las funciones CountVectorizer como TfidfVectorizer cuentan con muchos parámetros personalizables. Algunos de los más relevantes son:**\n",
    "\n",
    "\n",
    "*   *strip_accents*: Elimina los acentos en codificación ascii o unicode. Por defecto es None. Es preferible hacer una gestión de acentos previas.\n",
    "*   *lowercase*: Transforma todos los caracteres a minúsculas antes de hacer la tokenización.\n",
    "*   *tokenizer*: Utiliza un tokenizador específico. Se puede utilizar una de NLTK o de Spacy(computacionalmente menos eficiente).\n",
    "*   *stop_words*: Si se pone el valor \"english\" eliminara la lista de stop_words definida en scikit-learn. Se puede utilizar la lista de stopwords de otras librerías o definir unas propias.\n",
    "*   *ngram_range*: Cálculo de n-gramas en el proceso. Mediante la tubla (min_n, max_n) se pueden incorporar n-gramas al cálculo de la matriz tfidf.\n",
    "*   *max_df*: Valor por defecto 1.  Ignora los tokens (o n-gramas) que aparecen en más del X % de documentos cuando es menor de 1. Si max_df es mayor que uno se ignorarán los términos que aparecen en más de X documentos.\n",
    "*   *min_df*: Valor por defecto 1. Ignora los tokens que aparecen  en menos del X % de los documentos. Siendo X el valor de X. (0.01 = 1%, por ejemplo)\n",
    "*   *max_features*: Máximas características que devuelve la función TfidfVectorizer. Valor mayor que 1. Representa las caracaterísticas más importantes (las más repetidas o comunes) Esto es muy interesante para no sobreentrenar el sistema.\n",
    "*   *norm*: Valores \"l1\" y \"l2\", por defecto \"l2\". Normaliza los valores entre 0 y 1.\n",
    "*   *use_idf*: Habilita el uso del inverse-document frequency en la función. Por defecto es True.\n",
    "*   *smooth_idf*: Suaviza los pesos de IDF sumando una unidad a cada frecuencia. Es muy importante para evitar divisiones por cero.\n",
    "\n"
   ]
  },
  {
   "cell_type": "code",
   "execution_count": null,
   "metadata": {
    "id": "PiDKf5zHT-Rm"
   },
   "outputs": [],
   "source": [
    "from sklearn.feature_extraction.text import CountVectorizer,TfidfVectorizer\n",
    "from sklearn.feature_extraction import text\n",
    "\n",
    "# Creamos los objetos\n",
    "count_vectorizer = CountVectorizer()\n",
    "tfidf_vectorizer = TfidfVectorizer(norm=None, smooth_idf=False) # Re-escribimos los valores por defecto para tener el tf-idf básico\n",
    "\n",
    "# Hacemos Fit con nuestro corpus\n",
    "count_data = count_vectorizer.fit(corpus)\n",
    "tfidf_data = tfidf_vectorizer.fit(corpus)\n"
   ]
  },
  {
   "cell_type": "code",
   "execution_count": null,
   "metadata": {
    "id": "4tUVaA_-UItk"
   },
   "outputs": [],
   "source": [
    "# Obtenemos los vocabularios de dos formas:\n",
    "print(\"COUNT VECTORIZER\")\n",
    "print(\"Obtenemos un dictionario que mapea las palabras con su posición en el vector del vocabulario\")\n",
    "print(count_data.vocabulary_)\n",
    "print(\"Obtenemos el vocabulario en si mismo como una lista\")\n",
    "print(count_data.get_feature_names_out())\n",
    "print(\"Numero de características:\")\n",
    "print(len(count_data.get_feature_names_out()))"
   ]
  },
  {
   "cell_type": "code",
   "execution_count": null,
   "metadata": {
    "id": "o1Xi6tt1DH-0"
   },
   "outputs": [],
   "source": [
    "# Obviamente, dado que hemos utilizado el mismo corpus, obtenemos el mismo resultado con el tfidf_vectorizer.\n",
    "print(\"\\n\\n TF-IDF VECTORIZER\")\n",
    "print(\"Obtenemos un dictionario que mapea las palabras con su posición en el vector del vocabulario\")\n",
    "print(tfidf_data.vocabulary_)\n",
    "print(\"Obtenemos el vocabulario en si mismo como una lista\")\n",
    "print(tfidf_data.get_feature_names_out())\n",
    "print(\"Numero de características:\")\n",
    "print(len(tfidf_data.get_feature_names_out()))"
   ]
  },
  {
   "cell_type": "markdown",
   "metadata": {
    "id": "bQabDt3aDJ4-"
   },
   "source": [
    "Si imprimimos el objeto tfidf_data podemos ver la configuración de los parámetros de TfidfVectorizer:"
   ]
  },
  {
   "cell_type": "code",
   "execution_count": null,
   "metadata": {
    "id": "UhHyIi8JUiLn"
   },
   "outputs": [],
   "source": [
    "tfidf_data"
   ]
  },
  {
   "cell_type": "markdown",
   "metadata": {
    "id": "lBUeudl0Ol8L"
   },
   "source": [
    "A continuación se muestra el resultado de transformar nuestro corpus con lso métodos de scikit-learn. El `CountVectorizer` mostrará el conteo de veces que una palabra del vocabulario está presente dentro del documento, el `TfidfVectorizer` mostrará el resultado con la métrica TF-IDF mostrada en los apuntes."
   ]
  },
  {
   "cell_type": "code",
   "execution_count": null,
   "metadata": {
    "id": "y7BGfa8UAEvE"
   },
   "outputs": [],
   "source": [
    "# Resultado del CountVectorizer\n",
    "count_data_result = count_data.transform(corpus).toarray()\n",
    "print(count_data_result)"
   ]
  },
  {
   "cell_type": "code",
   "execution_count": null,
   "metadata": {
    "id": "fnvyxz32DdUG"
   },
   "outputs": [],
   "source": [
    "# Resultado del TfidfVectorizer\n",
    "tfidf_data_result = tfidf_data.transform(corpus).toarray()\n",
    "print(tfidf_data_result)"
   ]
  },
  {
   "cell_type": "markdown",
   "metadata": {
    "id": "_xm5fMDoY-nR"
   },
   "source": [
    "Vamos a mostrar los resultados con seaborn para que se vean mejor. Importante mencionar que esto se puede hacer cuando el vocabulario es muy reducido, si no podría ocasionar problemas en la memoria."
   ]
  },
  {
   "cell_type": "code",
   "execution_count": null,
   "metadata": {
    "id": "Cck6bfUBZBrb"
   },
   "outputs": [],
   "source": [
    "import matplotlib.pyplot as plt\n",
    "import seaborn as sns\n",
    "plt.figure(figsize=(16, 6))\n",
    "# Figura CountVectorizer\n",
    "sns.heatmap(count_data_result, annot=True,cbar=False,\n",
    "            xticklabels=count_data.get_feature_names_out(),\n",
    "            yticklabels = [\"Frase 1\", \"Frase 2\", \"Frase 3\",\"Frase 4\", \"Frase 5\"])\n",
    "\n"
   ]
  },
  {
   "cell_type": "code",
   "execution_count": null,
   "metadata": {
    "id": "X4viXEKmD1FT"
   },
   "outputs": [],
   "source": [
    "plt.figure(figsize=(16, 6))\n",
    "sns.heatmap(tfidf_data_result, annot=True,cbar=False,\n",
    "            xticklabels=tfidf_data.get_feature_names_out(),\n",
    "            yticklabels = [\"Frase 1\", \"Frase 2\", \"Frase 3\",\"Frase 4\", \"Frase 5\"])"
   ]
  },
  {
   "cell_type": "markdown",
   "metadata": {
    "id": "JFJMRxoQNK4J"
   },
   "source": [
    "### Uso de preprocesadores externos a scikit-learn\n",
    "\n",
    "\n"
   ]
  },
  {
   "cell_type": "markdown",
   "metadata": {
    "id": "Vov1rGLIDjr9"
   },
   "source": [
    "En primer lugar, dado que vamos a utilizar spacy, instalaremos la librería y el modelo:"
   ]
  },
  {
   "cell_type": "code",
   "execution_count": null,
   "metadata": {
    "id": "ZshEoLThWJDt"
   },
   "outputs": [],
   "source": [
    "!pip install spacy\n",
    "!python -m spacy download es_core_news_sm\n",
    "!python -m spacy download en_core_web_sm"
   ]
  },
  {
   "cell_type": "markdown",
   "metadata": {
    "id": "aNiPnKMIDqVA"
   },
   "source": [
    "Importamos las librerías y creamos el objeto \"nlp\" para procesar los textos\n",
    "\n",
    "\n"
   ]
  },
  {
   "cell_type": "code",
   "execution_count": null,
   "metadata": {
    "id": "FQLM1Ja1Wtak"
   },
   "outputs": [],
   "source": [
    "import spacy\n",
    "import es_core_news_sm\n",
    "nlp = es_core_news_sm.load()"
   ]
  },
  {
   "cell_type": "markdown",
   "metadata": {
    "id": "2YKq_qpdDxHA"
   },
   "source": [
    "Guardamos las stop words de Spacy en una variable llamada \"stop_words\". También cogemos los tokens considerados símbolos de punctuación en la variable \"punctuations\":"
   ]
  },
  {
   "cell_type": "code",
   "execution_count": null,
   "metadata": {
    "id": "x_Rnj35hXCH_"
   },
   "outputs": [],
   "source": [
    "import string\n",
    "spacy_stopwords = spacy.lang.es.stop_words.STOP_WORDS\n",
    "stop_words = spacy_stopwords\n",
    "punctuations=string.punctuation"
   ]
  },
  {
   "cell_type": "markdown",
   "metadata": {
    "id": "0NFUlkdsEBUu"
   },
   "source": [
    "Generamos una función \"spacy_tokenizer\" que:"
   ]
  },
  {
   "cell_type": "code",
   "execution_count": null,
   "metadata": {
    "id": "k6pGl_YBO7uZ"
   },
   "outputs": [],
   "source": [
    "def spacy_tokenizer(sentence):\n",
    "    # Pasamos la frase por el objeto nlp para procesarla\n",
    "    mytokens = nlp(sentence)\n",
    "\n",
    "    # Lematizamos los tokens y los convertimos  a minusculas\n",
    "    mytokens = [ word.lemma_.lower().strip() if word.lemma_ != \"-PRON-\" else word.lower_ for word in mytokens ]\n",
    "\n",
    "    # Quitamos las stopwords y los signos de puntuacion\n",
    "    mytokens = [ word for word in mytokens if word not in stop_words and word not in punctuations ]\n",
    "\n",
    "    # devolver una lsita de tokens\n",
    "    return mytokens"
   ]
  },
  {
   "cell_type": "markdown",
   "metadata": {
    "id": "zzZbGtGaD-Vt"
   },
   "source": [
    "Utilizamos esa función como tokenizador en TfidfVectorizer:\n"
   ]
  },
  {
   "cell_type": "code",
   "execution_count": null,
   "metadata": {
    "id": "niPHblSRO7jM"
   },
   "outputs": [],
   "source": [
    "tfidf_vectorizer = TfidfVectorizer(norm=None, smooth_idf=False, tokenizer = spacy_tokenizer) # Re-escribimos los valores por defecto para tener el tf-idf básico\n",
    "tfidf_data = tfidf_vectorizer.fit(corpus)"
   ]
  },
  {
   "cell_type": "code",
   "execution_count": null,
   "metadata": {
    "id": "BjKhD6FJEY7G"
   },
   "outputs": [],
   "source": [
    "print(\"\\n\\n TF-IDF VECTORIZER\")\n",
    "print(\"Obtenemos un dictionario que mapea las palabras con su posición en el vector del vocabulario\")\n",
    "print(tfidf_data.vocabulary_)\n",
    "print(\"Obtenemos el vocabulario en si mismo como una lista\")\n",
    "print(tfidf_data.get_feature_names_out())\n",
    "print(\"Numero de características:\")\n",
    "print(len(tfidf_data.get_feature_names_out()))"
   ]
  },
  {
   "cell_type": "markdown",
   "metadata": {
    "id": "70q1LsT6BnQ_"
   },
   "source": [
    "**Ejercicio**:\n",
    "\n",
    "Queremos transformar nuestro dataset de noticias con las siguientes especificaciones:\n",
    " - Transformar los primeros 3000 documentos\n",
    " - Se utilice idf y el valor de norm por defecto.\n",
    " - Se utilice la función de preprocesado de spacy utilizada anteriormente\n",
    " - Se consideren unigramas, bigramas, trigramas\n",
    " - El vectorizador no debe considerar los elementos que aparezcan en menos del 5% de documentos."
   ]
  },
  {
   "cell_type": "code",
   "execution_count": null,
   "metadata": {
    "colab": {
     "base_uri": "https://localhost:8080/"
    },
    "id": "EdgVDoaZBmdI",
    "outputId": "b526eb49-1d62-4ae2-9046-715fea8c2e43"
   },
   "outputs": [
    {
     "name": "stdout",
     "output_type": "stream",
     "text": [
      "--2023-05-06 11:36:45--  https://github.com/luisgasco/ntic_master_datos/raw/main/datasets/news_summary.csv\n",
      "Resolving github.com (github.com)... 140.82.121.3\n",
      "Connecting to github.com (github.com)|140.82.121.3|:443... connected.\n",
      "HTTP request sent, awaiting response... 302 Found\n",
      "Location: https://raw.githubusercontent.com/luisgasco/ntic_master_datos/main/datasets/news_summary.csv [following]\n",
      "--2023-05-06 11:36:45--  https://raw.githubusercontent.com/luisgasco/ntic_master_datos/main/datasets/news_summary.csv\n",
      "Resolving raw.githubusercontent.com (raw.githubusercontent.com)... 185.199.108.133, 185.199.109.133, 185.199.110.133, ...\n",
      "Connecting to raw.githubusercontent.com (raw.githubusercontent.com)|185.199.108.133|:443... connected.\n",
      "HTTP request sent, awaiting response... 200 OK\n",
      "Length: 11896415 (11M) [text/plain]\n",
      "Saving to: ‘news_summary.csv’\n",
      "\n",
      "news_summary.csv    100%[===================>]  11.34M  --.-KB/s    in 0.05s   \n",
      "\n",
      "2023-05-06 11:36:46 (228 MB/s) - ‘news_summary.csv’ saved [11896415/11896415]\n",
      "\n"
     ]
    }
   ],
   "source": [
    "# Dataset de noticias\n",
    "!wget \"https://github.com/luisgasco/ntic_master_datos/raw/main/datasets/news_summary.csv\""
   ]
  },
  {
   "cell_type": "code",
   "execution_count": null,
   "metadata": {
    "id": "e0AlbRlGCzBp"
   },
   "outputs": [],
   "source": [
    "import pandas as pd\n",
    "news_summary = pd.read_csv('../content/news_summary.csv', encoding='latin-1')\n",
    "news_subset = news_summary[\"text\"].to_list()[0:3000]"
   ]
  },
  {
   "cell_type": "code",
   "execution_count": null,
   "metadata": {
    "id": "6usk35QdQRni"
   },
   "outputs": [],
   "source": [
    "import en_core_web_sm\n",
    "nlp = en_core_web_sm.load()\n",
    "spacy_stopwords = spacy.lang.en.stop_words.STOP_WORDS\n",
    "stop_words = spacy_stopwords\n",
    "punctuations=string.punctuation"
   ]
  },
  {
   "cell_type": "code",
   "execution_count": null,
   "metadata": {
    "id": "LZbmmDHR3RlB"
   },
   "outputs": [],
   "source": [
    "def spacy_tokenizer(sentence):\n",
    "    # Pasamos la frase por el objeto nlp para procesarla\n",
    "    mytokens = nlp(sentence)\n",
    "\n",
    "    # Lematizamos los tokens y los convertimos  a minusculas\n",
    "    mytokens = [ word.lemma_.lower().strip() if word.lemma_ != \"-PRON-\" else word.lower_ for word in mytokens ]\n",
    "\n",
    "    # Quitamos las stopwords y los signos de puntuacion\n",
    "    mytokens = [ word for word in mytokens if word not in stop_words and word not in punctuations ]\n",
    "\n",
    "    # Quitamos números:\n",
    "    mytokens = ['' if word.isdigit() else word for word in mytokens  ]\n",
    "    # devolver una lsita de tokens\n",
    "    return mytokens"
   ]
  },
  {
   "cell_type": "code",
   "execution_count": null,
   "metadata": {
    "colab": {
     "base_uri": "https://localhost:8080/"
    },
    "id": "Wa7l5c_51DpI",
    "outputId": "4b4c450b-5097-4e5e-eb11-7f14def59bd4"
   },
   "outputs": [
    {
     "name": "stderr",
     "output_type": "stream",
     "text": [
      "/usr/local/lib/python3.10/dist-packages/sklearn/feature_extraction/text.py:528: UserWarning: The parameter 'token_pattern' will not be used since 'tokenizer' is not None'\n",
      "  warnings.warn(\n"
     ]
    }
   ],
   "source": [
    "tfidf_vect = TfidfVectorizer(lowercase = False, stop_words = None,\n",
    "                             ngram_range = (1,3), use_idf = True, smooth_idf = True,\n",
    "                             norm = \"l2\", min_df=0.05, tokenizer=spacy_tokenizer)\n",
    "tfidf_data = tfidf_vect.fit(news_subset)"
   ]
  },
  {
   "cell_type": "code",
   "execution_count": null,
   "metadata": {
    "id": "YLN1sHqMbIdp"
   },
   "outputs": [],
   "source": [
    "tfidf_data_t = tfidf_data.transform(news_subset)"
   ]
  },
  {
   "cell_type": "code",
   "execution_count": null,
   "metadata": {
    "colab": {
     "base_uri": "https://localhost:8080/"
    },
    "id": "D6V9RL6H3KKS",
    "outputId": "2c6ccd86-d1a9-4be1-d1cd-b70677895bae"
   },
   "outputs": [
    {
     "data": {
      "text/plain": [
       "<3000x56 sparse matrix of type '<class 'numpy.float64'>'\n",
       "\twith 14828 stored elements in Compressed Sparse Row format>"
      ]
     },
     "execution_count": 34,
     "metadata": {},
     "output_type": "execute_result"
    }
   ],
   "source": [
    "tfidf_data_t"
   ]
  },
  {
   "cell_type": "code",
   "execution_count": null,
   "metadata": {
    "colab": {
     "base_uri": "https://localhost:8080/"
    },
    "id": "DYkkGStl2dRk",
    "outputId": "bcddae89-1ba3-4ca6-d5e4-b894e7d8a7ad"
   },
   "outputs": [
    {
     "data": {
      "text/plain": [
       "array(['', ' ', ' year', ' year old', '...', 'accord', 'accuse', 'actor',\n",
       "       'add', 'allegedly', 'arrest', 'ask', 'case', 'chief', 'claim',\n",
       "       'come', 'country', 'court', 'crore', 'day', 'delhi', 'early',\n",
       "       'far', 'film', 'find', 'follow', 'friday', 'government', 'high',\n",
       "       'include', 'india', 'indian', 'lakh', 'like', 'man', 'minister',\n",
       "       'monday', 'month', 'mumbai', 'new', 'notably', 'official', 'old',\n",
       "       'party', 'people', 'police', 'president', 'report', 'reportedly',\n",
       "       'state', 'time', 'tuesday', 'use', 'woman', 'year', 'year old'],\n",
       "      dtype=object)"
      ]
     },
     "execution_count": 33,
     "metadata": {},
     "output_type": "execute_result"
    }
   ],
   "source": [
    "tfidf_data.get_feature_names_out()"
   ]
  },
  {
   "cell_type": "markdown",
   "metadata": {
    "id": "WCrHf9PfL4rE",
    "tags": []
   },
   "source": [
    "### [EXTRA] - Diferencias entre BoW y TF-IDF\n"
   ]
  },
  {
   "cell_type": "markdown",
   "metadata": {
    "id": "FOE0JENtaEAc"
   },
   "source": [
    "Hasta el momento hemos visto diferente maneras de realizar la representación de documentos utilizando el método BoW y TF-IDF.\n",
    "Sin embargo, ¿Qué implica realmente utilizar un método u otro?\n",
    "\n",
    "La clave de TF-IDF es su penalización de palabras comunes en todos los documentos. Para ver su efecto, en este apartado vamos a:\n",
    "1. Descargar un conjunto de documentos de wikipedia\n",
    "2. Preprocesarlos\n",
    "3. Mostrar los 10 términos más importantes para BoW y Tf-IDF, y ver las diferencias"
   ]
  },
  {
   "cell_type": "markdown",
   "metadata": {
    "id": "hsmWpxPhbxuI"
   },
   "source": [
    "En primer lugar importanmos y descargamos las librerías que utilizaremos\n"
   ]
  },
  {
   "cell_type": "code",
   "execution_count": null,
   "metadata": {
    "colab": {
     "base_uri": "https://localhost:8080/"
    },
    "id": "Mr63VVHsMZCw",
    "outputId": "fd2beba1-e2e5-42c3-8265-f017f173c958"
   },
   "outputs": [
    {
     "name": "stdout",
     "output_type": "stream",
     "text": [
      "Looking in indexes: https://pypi.org/simple, https://us-python.pkg.dev/colab-wheels/public/simple/\n",
      "Collecting wikipedia\n",
      "  Downloading wikipedia-1.4.0.tar.gz (27 kB)\n",
      "  Preparing metadata (setup.py) ... \u001b[?25l\u001b[?25hdone\n",
      "Requirement already satisfied: beautifulsoup4 in /usr/local/lib/python3.10/dist-packages (from wikipedia) (4.11.2)\n",
      "Requirement already satisfied: requests<3.0.0,>=2.0.0 in /usr/local/lib/python3.10/dist-packages (from wikipedia) (2.27.1)\n",
      "Requirement already satisfied: idna<4,>=2.5 in /usr/local/lib/python3.10/dist-packages (from requests<3.0.0,>=2.0.0->wikipedia) (3.4)\n",
      "Requirement already satisfied: charset-normalizer~=2.0.0 in /usr/local/lib/python3.10/dist-packages (from requests<3.0.0,>=2.0.0->wikipedia) (2.0.12)\n",
      "Requirement already satisfied: urllib3<1.27,>=1.21.1 in /usr/local/lib/python3.10/dist-packages (from requests<3.0.0,>=2.0.0->wikipedia) (1.26.15)\n",
      "Requirement already satisfied: certifi>=2017.4.17 in /usr/local/lib/python3.10/dist-packages (from requests<3.0.0,>=2.0.0->wikipedia) (2022.12.7)\n",
      "Requirement already satisfied: soupsieve>1.2 in /usr/local/lib/python3.10/dist-packages (from beautifulsoup4->wikipedia) (2.4.1)\n",
      "Building wheels for collected packages: wikipedia\n",
      "  Building wheel for wikipedia (setup.py) ... \u001b[?25l\u001b[?25hdone\n",
      "  Created wheel for wikipedia: filename=wikipedia-1.4.0-py3-none-any.whl size=11696 sha256=0e0d226ce4f975c59c01a2896b7f3454e51aaabf94e5c6d76899e1b5f919ac76\n",
      "  Stored in directory: /root/.cache/pip/wheels/5e/b6/c5/93f3dec388ae76edc830cb42901bb0232504dfc0df02fc50de\n",
      "Successfully built wikipedia\n",
      "Installing collected packages: wikipedia\n",
      "Successfully installed wikipedia-1.4.0\n"
     ]
    }
   ],
   "source": [
    "!pip install wikipedia\n",
    "import wikipedia\n",
    "import spacy\n",
    "import collections\n",
    "import math\n",
    "from sklearn.feature_extraction.text import CountVectorizer,TfidfVectorizer\n",
    "from sklearn.feature_extraction import text\n",
    "import string\n",
    "import numpy as np\n",
    "import re\n",
    "\n",
    "nlp = spacy.load('en_core_web_sm')\n",
    "spacy_stopwords = spacy.lang.en.stop_words.STOP_WORDS\n",
    "stop_words = spacy_stopwords\n",
    "punctuations=string.punctuation\n",
    "RE_WHITESPACE = re.compile(r\"\\s+\")\n"
   ]
  },
  {
   "cell_type": "markdown",
   "metadata": {
    "id": "HhaSP7W9cC0m"
   },
   "source": [
    "Definimos una función de procesado similar a la anteriormente definida. En este caso eliminarmos los números (no los sustitumos por un caracter vacío). Además, eliminamos posibles espacios extras despues del proceso de tokenización"
   ]
  },
  {
   "cell_type": "code",
   "execution_count": null,
   "metadata": {
    "id": "FctYfGP7MA99"
   },
   "outputs": [],
   "source": [
    "def spacy_tokenizer(sentence):\n",
    "    # Pasamos la frase por el objeto nlp para procesarla\n",
    "    mytokens = nlp(sentence)\n",
    "\n",
    "    mytokens = [ word.text.lower()   if word.pos_ == 'PRON' or word.lemma_ == '-PRON-' else word.lemma_.lower() for word in mytokens]\n",
    "\n",
    "    # Lematizamos los tokens y los convertimos  a minusculas\n",
    " #   mytokens = [ word.lemma_.lower().strip() if word.lemma_ != \"-PRON-\" else word.lower_ for word in mytokens ]\n",
    "\n",
    "    # Quitamos las stopwords y los signos de puntuacion\n",
    "    mytokens = [ word for word in mytokens if word not in stop_words and word not in punctuations ]\n",
    "\n",
    "    # Quitamos números:\n",
    "    mytokens = [word  for word in mytokens if not word.isdigit()]\n",
    "    # Remove extra spaces\n",
    "    mytokens = [token.strip() for token in mytokens]\n",
    "    # devolver una lsita de tokens\n",
    "    return mytokens\n"
   ]
  },
  {
   "cell_type": "markdown",
   "metadata": {
    "id": "9MJ44YYJcKb7"
   },
   "source": [
    "Vamos a descargar el texto de descripción de varios guitarristas históricos. Para ello definiremos una lista de strings con sus nombres y los obtendremos utilizando la función \"page\" de la librería wikipedia.\n"
   ]
  },
  {
   "cell_type": "code",
   "execution_count": null,
   "metadata": {
    "id": "Zv4V4SbkaLfu"
   },
   "outputs": [],
   "source": [
    "pages =  [\n",
    "  \"Brian May\",\"jimmy page\",\"eddie van halen\",\"david gilmour\",\n",
    "  \"Jeff Beck\",\"mark knopfler\",\"Billy Gibbons\",\"Carlos Santana\",\n",
    "  \"Stevie Ray Vaughan\",\"BB king\",\"Buddy Guy\",\"Albert King\",\"Rory Gallagher\",\n",
    "  \"Joe Satriani\", \"jimi hendrix\",\"George Harrison\"\n",
    "    ]\n",
    "documentes = [RE_WHITESPACE.sub(\" \",wikipedia.page(page, auto_suggest=False).content).strip() for page in pages]"
   ]
  },
  {
   "cell_type": "markdown",
   "metadata": {
    "id": "JIoXIw21cekC"
   },
   "source": [
    "Calculamos y entrenamos vectorizadores TFIDF y BoW (CountVectorizer) para el corpus descargado y preprocesado:"
   ]
  },
  {
   "cell_type": "code",
   "execution_count": null,
   "metadata": {
    "colab": {
     "base_uri": "https://localhost:8080/"
    },
    "id": "kKH3O6NwMris",
    "outputId": "8c15d55a-a828-42a1-8959-d5df157f8566"
   },
   "outputs": [
    {
     "name": "stderr",
     "output_type": "stream",
     "text": [
      "/usr/local/lib/python3.10/dist-packages/sklearn/feature_extraction/text.py:528: UserWarning: The parameter 'token_pattern' will not be used since 'tokenizer' is not None'\n",
      "  warnings.warn(\n"
     ]
    }
   ],
   "source": [
    "tfidf_vect = TfidfVectorizer(lowercase = False, stop_words = None, use_idf = True, smooth_idf = False,\n",
    "                             norm = \"l2\", tokenizer=spacy_tokenizer)\n",
    "count_vect = CountVectorizer(lowercase = False, stop_words = None, tokenizer=spacy_tokenizer)\n",
    "\n",
    "tfidf_data = tfidf_vect.fit(documentes)\n",
    "count_data = count_vect.fit(documentes)"
   ]
  },
  {
   "cell_type": "markdown",
   "metadata": {
    "id": "qSNTuC2GcxzL"
   },
   "source": [
    "Generamos funciones para obtener las palabras más importantes del vectorizador:\n"
   ]
  },
  {
   "cell_type": "code",
   "execution_count": null,
   "metadata": {
    "id": "armdlrKJMWoG"
   },
   "outputs": [],
   "source": [
    "tfidf_feature_names = np.array(tfidf_data.get_feature_names_out())\n",
    "count_feature_names = np.array(count_data.get_feature_names_out())\n",
    "\n",
    "def get_top_vect_words(response, top_n=2,feature_name_array=tfidf_feature_names):\n",
    "  # De la respuesta del vectorizador, cogemos los datos en bruto del array, los ordenamos\n",
    "  # de mayor a menor y cogemos los índices de los top_n terminos. Que se seleccionarán del\n",
    "  # los nombres de las caracteristicas (tokens) del vectorizador.\n",
    "    sorted_nzs = np.argsort(response.data)[:-(top_n+1):-1]\n",
    "    return feature_name_array[response.indices[sorted_nzs]]\n"
   ]
  },
  {
   "cell_type": "markdown",
   "metadata": {
    "id": "FaBwKqfpdTBW"
   },
   "source": [
    "Generamos está función para mostrar los 10 términos más importantes de un documento vectorizado con TF-IDF y BoW para ver sus diferencias."
   ]
  },
  {
   "cell_type": "code",
   "execution_count": null,
   "metadata": {
    "id": "X1fO7JoYc7-e"
   },
   "outputs": [],
   "source": [
    "def show_doc_results(doc,top_n):\n",
    "  responses_tfidf = tfidf_vect.transform([doc])\n",
    "  responses_count = count_vect.transform([doc])\n",
    "  most_frequent = list(get_top_vect_words(responses_count,top_n,count_feature_names))\n",
    "  tfidf = list(get_top_vect_words(responses_tfidf,top_n,tfidf_feature_names))\n",
    "  print(\"Tokens más frecuentes: {}\".format(most_frequent))\n",
    "  print(\"Tokens con mayor TF-IDF: {}\".format(tfidf))"
   ]
  },
  {
   "cell_type": "code",
   "execution_count": null,
   "metadata": {
    "colab": {
     "base_uri": "https://localhost:8080/"
    },
    "id": "Tf7C8FC6gH-N",
    "outputId": "f4f9400f-5dd3-4373-a48f-53cd21705271"
   },
   "outputs": [
    {
     "name": "stdout",
     "output_type": "stream",
     "text": [
      "Brian May\n",
      "Tokens más frecuentes: ['queen', 'guitar', 'album', 'use', 'band', 'rock', 'song', 'work', 'perform', 'tour']\n",
      "Tokens con mayor TF-IDF: ['queen', 'guitar', 'badger', 'mercury', 'animal', 'lambert', 'album', 'use', 'band', 'imperial']\n",
      "jimmy page\n",
      "Tokens más frecuentes: ['page', 'zeppelin', 'guitar', 'play', 'led', 'album', 'use', 'record', 'session', 'band']\n",
      "Tokens con mayor TF-IDF: ['page', 'zeppelin', 'led', 'guitar', 'play', 'plant', 'album', 'yardbirds', 'use', 'record']\n",
      "eddie van halen\n",
      "Tokens más frecuentes: ['van', 'halen', 'guitar', 'eddie', 'band', 'later', 'play', 'use', 'album', 'solo']\n",
      "Tokens con mayor TF-IDF: ['halen', 'van', 'guitar', 'eddie', 'evh', 'wolfgang', 'bertinelli', 'gene', 'valerie', 'pasadena']\n",
      "david gilmour\n",
      "Tokens más frecuentes: ['gilmour', 'guitar', '–', 'pink', 'vocal', 'floyd', 'album', 'david', 'release', 'use']\n",
      "Tokens con mayor TF-IDF: ['gilmour', 'pink', 'floyd', '–', 'guitar', 'vocal', 'barrett', 'steel', 'strat', 'album']\n",
      "Jeff Beck\n",
      "Tokens más frecuentes: ['beck', 'album', '–', 'rock', 'guitar', 'record', 'jeff', 'release', 'instrumental', 'best']\n",
      "Tokens con mayor TF-IDF: ['beck', '–', 'album', 'bogert', 'appice', 'rock', 'instrumental', 'jeff', 'best', 'guitar']\n",
      "mark knopfler\n",
      "Tokens más frecuentes: ['knopfler', 'album', 'straits', 'dire', 'release', 'tour', 'music', 'band', 'mark', 'solo']\n",
      "Tokens con mayor TF-IDF: ['knopfler', 'dire', 'straits', 'album', 'newcastle', 'illsley', 'release', 'country', 'fletcher', 'mark']\n",
      "Billy Gibbons\n",
      "Tokens más frecuentes: ['gibbon', 'guitar', 'gibbons', 'album', 'play', 'zz', 'song', 'angela', 'hodgins', 'string']\n",
      "Tokens con mayor TF-IDF: ['gibbon', 'gibbons', 'zz', 'hodgins', 'guitar', 'angela', 'sidewalks', 'album', 'moving', 'bfg']\n",
      "Carlos Santana\n",
      "Tokens más frecuentes: ['santana', 'album', 'band', 'guitar', 'carlos', 'record', 'year', 'use', 'release', 'rock']\n",
      "Tokens con mayor TF-IDF: ['santana', 'carlos', 'album', 'band', 'prs', 'latin', 'guitar', 'supernatural', 'rolie', 'chinmoy']\n",
      "Stevie Ray Vaughan\n",
      "Tokens más frecuentes: ['vaughan', 'guitar', 'play', 'album', 'double', 'trouble', 'stevie', 'band', 'include', 'texas']\n",
      "Tokens con mayor TF-IDF: ['vaughan', 'trouble', 'stevie', 'guitar', 'texas', 'double', 'play', 'lenny', 'shannon', 'album']\n",
      "BB king\n",
      "Tokens más frecuentes: ['king', 'blues', 'b.b.', 'music', 'play', 'mississippi', 'guitar', 'later', 'hall', 'award']\n",
      "Tokens con mayor TF-IDF: ['king', 'mississippi', 'b.b.', 'blues', 'memphis', 'indianola', 'music', 'beale', 'play', 'guitar']\n",
      "Buddy Guy\n",
      "Tokens más frecuentes: ['guy', 'guitar', 'blue', 'buddy', 'polka', 'dot', 'play', 'chess', 'record', 'clapton']\n",
      "Tokens con mayor TF-IDF: ['guy', 'polka', 'dot', 'buddy', 'chess', 'guitar', 'blue', 'chicago', 'louisiana', 'lie']\n",
      "Albert King\n",
      "Tokens más frecuentes: ['king', 'album', 'albert', 'blues', 'guitar', 'release', 'record', 'blue', 'play', 'know']\n",
      "Tokens con mayor TF-IDF: ['king', 'blues', 'stax', 'albert', 'album', 'c', 'e', 'guitar', 'louis', 'indianola']\n",
      "Rory Gallagher\n",
      "Tokens más frecuentes: ['gallagher', 'rory', 'play', 'guitar', 'album', 'band', 'guitarist', 'blue', 'year', 'live']\n",
      "Tokens con mayor TF-IDF: ['gallagher', 'rory', 'taste', 'cork', 'dónal', 'mcavoy', 'ireland', 'play', 'guitar', 'ballyshannon']\n",
      "Joe Satriani\n",
      "Tokens más frecuentes: ['satriani', 'album', 'guitar', 'release', 'use', 'song', 'feature', 'joe', 'guitarist', 'music']\n",
      "Tokens con mayor TF-IDF: ['satriani', 'chickenfoot', 'album', 'guitar', 'release', 'js', 'use', 'joe', 'peavey', 'g3']\n",
      "jimi hendrix\n",
      "Tokens más frecuentes: ['hendrix', 'guitar', 'experience', 'play', 'band', 'use', 'rock', 'jimi', 'music', 'year']\n",
      "Tokens con mayor TF-IDF: ['hendrix', 'chandler', 'experience', 'redding', 'guitar', 'cox', 'mitchell', 'play', 'ladyland', 'band']\n",
      "George Harrison\n",
      "Tokens más frecuentes: ['harrison', 'album', 'song', 'guitar', 'music', 'beatle', 'george', 'release', 'include', 'lennon']\n",
      "Tokens con mayor TF-IDF: ['harrison', 'beatle', 'beatles', 'shankar', 'album', 'lennon', 'indian', 'song', 'mccartney', 'guitar']\n"
     ]
    }
   ],
   "source": [
    "for i in range(0, len(pages)):\n",
    "  print(pages[i])\n",
    "  show_doc_results(documentes[i],10)"
   ]
  },
  {
   "cell_type": "markdown",
   "metadata": {
    "id": "v_1diBNEdfn5"
   },
   "source": [
    "Observar diferencias de palabras muy comunes en documentos de guitarristas como \"guitar\", \"release\",\"play\" o \"album\". En BoW aparecen como términos muy importantes porque son comunes en este tipo de documentos. Sin embargo, al calcular el TF-IDF, como estos términos aparecen en muchos documentos su importancia se ve disminuida.\n"
   ]
  }
 ],
 "metadata": {
  "colab": {
   "collapsed_sections": [
    "FhnCPAKiqFLH",
    "fdk6YyUjvbHW",
    "IvFyVzubOmJM",
    "JFJMRxoQNK4J",
    "WCrHf9PfL4rE"
   ],
   "provenance": []
  },
  "kernelspec": {
   "display_name": "Python 3 (ipykernel)",
   "language": "python",
   "name": "python3"
  },
  "language_info": {
   "codemirror_mode": {
    "name": "ipython",
    "version": 3
   },
   "file_extension": ".py",
   "mimetype": "text/x-python",
   "name": "python",
   "nbconvert_exporter": "python",
   "pygments_lexer": "ipython3",
   "version": "3.11.7"
  }
 },
 "nbformat": 4,
 "nbformat_minor": 4
}

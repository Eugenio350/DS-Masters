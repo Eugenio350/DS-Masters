{
 "cells": [
  {
   "cell_type": "markdown",
   "id": "6877166a-efe3-47eb-903d-dc060f6fe7b8",
   "metadata": {},
   "source": [
    "# Técnicas Básicas de NLP en el Text Mining\n",
    "\n",
    "En el Text Mining y el NLP se utilizan librerías tradicionales de Data Mining, como scikit-learn o Tensorflow, pero también librerías específicas <br>\n",
    "para trabajar con texto.\n",
    "\n",
    "Existen multitud de librerías diseñadas para preprocesar textos, transformar textos en vectores u orientadas a poner modelos de TM en producción. <br>\n",
    "En este notebook introduciremos 2 de ellas, viendo algunas de sus funcionalides y como aplicar diferentes técnicas básicas de NLP utilizandolas."
   ]
  },
  {
   "cell_type": "code",
   "execution_count": 1,
   "id": "d720bfb1-5b87-4ef3-a6bc-bb77de4d268c",
   "metadata": {
    "tags": []
   },
   "outputs": [
    {
     "name": "stdout",
     "output_type": "stream",
     "text": [
      "Requirement already satisfied: nltk in c:\\users\\eugen\\anaconda3\\lib\\site-packages (3.8.1)\n",
      "Requirement already satisfied: click in c:\\users\\eugen\\anaconda3\\lib\\site-packages (from nltk) (8.1.7)\n",
      "Requirement already satisfied: joblib in c:\\users\\eugen\\anaconda3\\lib\\site-packages (from nltk) (1.1.0)\n",
      "Requirement already satisfied: regex>=2021.8.3 in c:\\users\\eugen\\anaconda3\\lib\\site-packages (from nltk) (2023.10.3)\n",
      "Requirement already satisfied: tqdm in c:\\users\\eugen\\anaconda3\\lib\\site-packages (from nltk) (4.65.0)\n",
      "Requirement already satisfied: colorama in c:\\users\\eugen\\anaconda3\\lib\\site-packages (from click->nltk) (0.4.6)\n"
     ]
    },
    {
     "name": "stderr",
     "output_type": "stream",
     "text": [
      "[nltk_data] Downloading package punkt to\n",
      "[nltk_data]     C:\\Users\\eugen\\AppData\\Roaming\\nltk_data...\n",
      "[nltk_data]   Unzipping tokenizers\\punkt.zip.\n",
      "[nltk_data] Downloading package wordnet to\n",
      "[nltk_data]     C:\\Users\\eugen\\AppData\\Roaming\\nltk_data...\n",
      "[nltk_data] Downloading package averaged_perceptron_tagger to\n",
      "[nltk_data]     C:\\Users\\eugen\\AppData\\Roaming\\nltk_data...\n",
      "[nltk_data]   Unzipping taggers\\averaged_perceptron_tagger.zip.\n",
      "[nltk_data] Downloading package tagsets to\n",
      "[nltk_data]     C:\\Users\\eugen\\AppData\\Roaming\\nltk_data...\n",
      "[nltk_data]   Unzipping help\\tagsets.zip.\n",
      "[nltk_data] Downloading package maxent_ne_chunker to\n",
      "[nltk_data]     C:\\Users\\eugen\\AppData\\Roaming\\nltk_data...\n",
      "[nltk_data]   Unzipping chunkers\\maxent_ne_chunker.zip.\n",
      "[nltk_data] Downloading package words to\n",
      "[nltk_data]     C:\\Users\\eugen\\AppData\\Roaming\\nltk_data...\n",
      "[nltk_data]   Unzipping corpora\\words.zip.\n",
      "[nltk_data] Downloading package stopwords to\n",
      "[nltk_data]     C:\\Users\\eugen\\AppData\\Roaming\\nltk_data...\n",
      "[nltk_data]   Unzipping corpora\\stopwords.zip.\n",
      "[nltk_data] Downloading package omw-1.4 to\n",
      "[nltk_data]     C:\\Users\\eugen\\AppData\\Roaming\\nltk_data...\n"
     ]
    },
    {
     "data": {
      "text/plain": [
       "True"
      ]
     },
     "execution_count": 1,
     "metadata": {},
     "output_type": "execute_result"
    }
   ],
   "source": [
    "!pip install nltk\n",
    "import nltk\n",
    "# Complementos de la libreria necesarios para su funcionamiento\n",
    "# Todas las opciones aqui https//www.nltk.org/nltk_data/\n",
    "nltk.download('punkt')\n",
    "nltk.download('wordnet')\n",
    "nltk.download('averaged_perceptron_tagger')\n",
    "nltk.download('tagsets')\n",
    "nltk.download('maxent_ne_chunker')\n",
    "nltk.download('words')\n",
    "nltk.download('stopwords')\n",
    "nltk.download('omw-1.4')"
   ]
  },
  {
   "cell_type": "markdown",
   "id": "7b5c68d0-d84b-4a81-aa1f-169aa1c811f2",
   "metadata": {},
   "source": [
    "- [**Spacy**] (gttps://spacy.io/): A diferencia de NLTK, que surgió y ha <br>\n",
    "sido diseñada para ser utilizada en entorno de investigación, Spacy se <br>\n",
    "centra en proporcionar herramientas para poder incorporar sistemas de Text <br>\n",
    "Mining en producción por facilidad. De hecho, su fácil interconexión con otras <br>\n",
    "librerías, junto con la incorporación de modelo pre-entrenados, la han convertido <br>\n",
    "en una de las librerías más usadas. \n",
    "\n",
    "    Descargamos la librería y los modelos pre-entretados *en_core_web_sm* y *es_core_web_sm*, modelos de DNN entrenados con noticias, blogs y comentarios en inglés y español respectivamente.\n"
   ]
  },
  {
   "cell_type": "code",
   "execution_count": 2,
   "id": "890a016f-963b-4e8c-84b4-f69e0007ef1f",
   "metadata": {
    "collapsed": true,
    "jupyter": {
     "outputs_hidden": true
    },
    "tags": []
   },
   "outputs": [
    {
     "name": "stdout",
     "output_type": "stream",
     "text": [
      "Collecting textacy\n",
      "  Downloading textacy-0.13.0-py3-none-any.whl.metadata (5.3 kB)\n",
      "Requirement already satisfied: cachetools>=4.0.0 in c:\\users\\eugen\\anaconda3\\lib\\site-packages (from textacy) (4.2.2)\n",
      "Collecting catalogue~=2.0 (from textacy)\n",
      "  Downloading catalogue-2.0.10-py3-none-any.whl.metadata (14 kB)\n",
      "Requirement already satisfied: cytoolz>=0.10.1 in c:\\users\\eugen\\anaconda3\\lib\\site-packages (from textacy) (0.12.2)\n",
      "Collecting floret~=0.10.0 (from textacy)\n",
      "  Downloading floret-0.10.5-cp311-cp311-win_amd64.whl.metadata (3.2 kB)\n",
      "Requirement already satisfied: jellyfish>=0.8.0 in c:\\users\\eugen\\anaconda3\\lib\\site-packages (from textacy) (1.0.1)\n",
      "Requirement already satisfied: joblib>=0.13.0 in c:\\users\\eugen\\anaconda3\\lib\\site-packages (from textacy) (1.1.0)\n",
      "Requirement already satisfied: networkx>=2.7 in c:\\users\\eugen\\anaconda3\\lib\\site-packages (from textacy) (3.1)\n",
      "Requirement already satisfied: numpy>=1.17.0 in c:\\users\\eugen\\anaconda3\\lib\\site-packages (from textacy) (1.26.4)\n",
      "Collecting pyphen>=0.10.0 (from textacy)\n",
      "  Downloading pyphen-0.14.0-py3-none-any.whl.metadata (3.3 kB)\n",
      "Requirement already satisfied: requests>=2.10.0 in c:\\users\\eugen\\anaconda3\\lib\\site-packages (from textacy) (2.31.0)\n",
      "Requirement already satisfied: scipy>=1.8.0 in c:\\users\\eugen\\anaconda3\\lib\\site-packages (from textacy) (1.11.4)\n",
      "Requirement already satisfied: scikit-learn>=1.0 in c:\\users\\eugen\\anaconda3\\lib\\site-packages (from textacy) (1.4.1.post1)\n",
      "Collecting spacy~=3.0 (from textacy)\n",
      "  Downloading spacy-3.7.4-cp311-cp311-win_amd64.whl.metadata (27 kB)\n",
      "Requirement already satisfied: tqdm>=4.19.6 in c:\\users\\eugen\\anaconda3\\lib\\site-packages (from textacy) (4.65.0)\n",
      "Requirement already satisfied: toolz>=0.8.0 in c:\\users\\eugen\\anaconda3\\lib\\site-packages (from cytoolz>=0.10.1->textacy) (0.12.0)\n",
      "Requirement already satisfied: charset-normalizer<4,>=2 in c:\\users\\eugen\\anaconda3\\lib\\site-packages (from requests>=2.10.0->textacy) (2.0.4)\n",
      "Requirement already satisfied: idna<4,>=2.5 in c:\\users\\eugen\\anaconda3\\lib\\site-packages (from requests>=2.10.0->textacy) (3.4)\n",
      "Requirement already satisfied: urllib3<3,>=1.21.1 in c:\\users\\eugen\\anaconda3\\lib\\site-packages (from requests>=2.10.0->textacy) (2.0.7)\n",
      "Requirement already satisfied: certifi>=2017.4.17 in c:\\users\\eugen\\anaconda3\\lib\\site-packages (from requests>=2.10.0->textacy) (2024.2.2)\n",
      "Collecting joblib>=0.13.0 (from textacy)\n",
      "  Downloading joblib-1.4.0-py3-none-any.whl.metadata (5.4 kB)\n",
      "Requirement already satisfied: threadpoolctl>=2.0.0 in c:\\users\\eugen\\anaconda3\\lib\\site-packages (from scikit-learn>=1.0->textacy) (2.2.0)\n",
      "Collecting spacy-legacy<3.1.0,>=3.0.11 (from spacy~=3.0->textacy)\n",
      "  Downloading spacy_legacy-3.0.12-py2.py3-none-any.whl.metadata (2.8 kB)\n",
      "Collecting spacy-loggers<2.0.0,>=1.0.0 (from spacy~=3.0->textacy)\n",
      "  Downloading spacy_loggers-1.0.5-py3-none-any.whl.metadata (23 kB)\n",
      "Collecting murmurhash<1.1.0,>=0.28.0 (from spacy~=3.0->textacy)\n",
      "  Downloading murmurhash-1.0.10-cp311-cp311-win_amd64.whl.metadata (2.0 kB)\n",
      "Collecting cymem<2.1.0,>=2.0.2 (from spacy~=3.0->textacy)\n",
      "  Downloading cymem-2.0.8-cp311-cp311-win_amd64.whl.metadata (8.6 kB)\n",
      "Collecting preshed<3.1.0,>=3.0.2 (from spacy~=3.0->textacy)\n",
      "  Downloading preshed-3.0.9-cp311-cp311-win_amd64.whl.metadata (2.2 kB)\n",
      "Collecting thinc<8.3.0,>=8.2.2 (from spacy~=3.0->textacy)\n",
      "  Downloading thinc-8.2.3-cp311-cp311-win_amd64.whl.metadata (15 kB)\n",
      "Collecting wasabi<1.2.0,>=0.9.1 (from spacy~=3.0->textacy)\n",
      "  Downloading wasabi-1.1.2-py3-none-any.whl.metadata (28 kB)\n",
      "Collecting srsly<3.0.0,>=2.4.3 (from spacy~=3.0->textacy)\n",
      "  Downloading srsly-2.4.8-cp311-cp311-win_amd64.whl.metadata (20 kB)\n",
      "Collecting weasel<0.4.0,>=0.1.0 (from spacy~=3.0->textacy)\n",
      "  Downloading weasel-0.3.4-py3-none-any.whl.metadata (4.7 kB)\n",
      "Collecting typer<0.10.0,>=0.3.0 (from spacy~=3.0->textacy)\n",
      "  Downloading typer-0.9.4-py3-none-any.whl.metadata (14 kB)\n",
      "Requirement already satisfied: smart-open<7.0.0,>=5.2.1 in c:\\users\\eugen\\anaconda3\\lib\\site-packages (from spacy~=3.0->textacy) (5.2.1)\n",
      "Requirement already satisfied: pydantic!=1.8,!=1.8.1,<3.0.0,>=1.7.4 in c:\\users\\eugen\\anaconda3\\lib\\site-packages (from spacy~=3.0->textacy) (1.10.12)\n",
      "Requirement already satisfied: jinja2 in c:\\users\\eugen\\anaconda3\\lib\\site-packages (from spacy~=3.0->textacy) (3.1.3)\n",
      "Requirement already satisfied: setuptools in c:\\users\\eugen\\anaconda3\\lib\\site-packages (from spacy~=3.0->textacy) (68.2.2)\n",
      "Requirement already satisfied: packaging>=20.0 in c:\\users\\eugen\\anaconda3\\lib\\site-packages (from spacy~=3.0->textacy) (23.1)\n",
      "Collecting langcodes<4.0.0,>=3.2.0 (from spacy~=3.0->textacy)\n",
      "  Downloading langcodes-3.3.0-py3-none-any.whl.metadata (29 kB)\n",
      "Requirement already satisfied: colorama in c:\\users\\eugen\\anaconda3\\lib\\site-packages (from tqdm>=4.19.6->textacy) (0.4.6)\n",
      "Requirement already satisfied: typing-extensions>=4.2.0 in c:\\users\\eugen\\anaconda3\\lib\\site-packages (from pydantic!=1.8,!=1.8.1,<3.0.0,>=1.7.4->spacy~=3.0->textacy) (4.9.0)\n",
      "Collecting blis<0.8.0,>=0.7.8 (from thinc<8.3.0,>=8.2.2->spacy~=3.0->textacy)\n",
      "  Downloading blis-0.7.11-cp311-cp311-win_amd64.whl.metadata (7.6 kB)\n",
      "Collecting confection<1.0.0,>=0.0.1 (from thinc<8.3.0,>=8.2.2->spacy~=3.0->textacy)\n",
      "  Downloading confection-0.1.4-py3-none-any.whl.metadata (19 kB)\n",
      "Requirement already satisfied: click<9.0.0,>=7.1.1 in c:\\users\\eugen\\anaconda3\\lib\\site-packages (from typer<0.10.0,>=0.3.0->spacy~=3.0->textacy) (8.1.7)\n",
      "Collecting cloudpathlib<0.17.0,>=0.7.0 (from weasel<0.4.0,>=0.1.0->spacy~=3.0->textacy)\n",
      "  Downloading cloudpathlib-0.16.0-py3-none-any.whl.metadata (14 kB)\n",
      "Requirement already satisfied: MarkupSafe>=2.0 in c:\\users\\eugen\\anaconda3\\lib\\site-packages (from jinja2->spacy~=3.0->textacy) (2.1.3)\n",
      "Downloading textacy-0.13.0-py3-none-any.whl (210 kB)\n",
      "   ---------------------------------------- 0.0/210.7 kB ? eta -:--:--\n",
      "   ------------- -------------------------- 71.7/210.7 kB 1.3 MB/s eta 0:00:01\n",
      "   --------------------------- ------------ 143.4/210.7 kB 1.7 MB/s eta 0:00:01\n",
      "   ---------------------------------------- 210.7/210.7 kB 1.6 MB/s eta 0:00:00\n",
      "Downloading catalogue-2.0.10-py3-none-any.whl (17 kB)\n",
      "Downloading floret-0.10.5-cp311-cp311-win_amd64.whl (242 kB)\n",
      "   ---------------------------------------- 0.0/242.6 kB ? eta -:--:--\n",
      "   --------------- ------------------------ 92.2/242.6 kB 2.6 MB/s eta 0:00:01\n",
      "   ---------------------------- ----------- 174.1/242.6 kB 2.1 MB/s eta 0:00:01\n",
      "   ---------------------------------------- 242.6/242.6 kB 1.9 MB/s eta 0:00:00\n",
      "Downloading pyphen-0.14.0-py3-none-any.whl (2.0 MB)\n",
      "   ---------------------------------------- 0.0/2.0 MB ? eta -:--:--\n",
      "   - -------------------------------------- 0.1/2.0 MB 2.0 MB/s eta 0:00:01\n",
      "   --- ------------------------------------ 0.2/2.0 MB 2.2 MB/s eta 0:00:01\n",
      "   ----- ---------------------------------- 0.3/2.0 MB 2.2 MB/s eta 0:00:01\n",
      "   ------- -------------------------------- 0.4/2.0 MB 2.2 MB/s eta 0:00:01\n",
      "   ---------- ----------------------------- 0.5/2.0 MB 2.3 MB/s eta 0:00:01\n",
      "   ------------- -------------------------- 0.6/2.0 MB 2.4 MB/s eta 0:00:01\n",
      "   ---------------- ----------------------- 0.8/2.0 MB 2.5 MB/s eta 0:00:01\n",
      "   ------------------- -------------------- 0.9/2.0 MB 2.6 MB/s eta 0:00:01\n",
      "   --------------------- ------------------ 1.1/2.0 MB 2.6 MB/s eta 0:00:01\n",
      "   ------------------------- -------------- 1.2/2.0 MB 2.7 MB/s eta 0:00:01\n",
      "   --------------------------- ------------ 1.4/2.0 MB 2.8 MB/s eta 0:00:01\n",
      "   ----------------------------- ---------- 1.5/2.0 MB 2.7 MB/s eta 0:00:01\n",
      "   ----------------------------- ---------- 1.5/2.0 MB 2.7 MB/s eta 0:00:01\n",
      "   --------------------------------- ------ 1.6/2.0 MB 2.6 MB/s eta 0:00:01\n",
      "   ----------------------------------- ---- 1.8/2.0 MB 2.6 MB/s eta 0:00:01\n",
      "   -------------------------------------- - 1.9/2.0 MB 2.6 MB/s eta 0:00:01\n",
      "   ---------------------------------------- 2.0/2.0 MB 2.5 MB/s eta 0:00:00\n",
      "Downloading joblib-1.4.0-py3-none-any.whl (301 kB)\n",
      "   ---------------------------------------- 0.0/301.2 kB ? eta -:--:--\n",
      "   ------------------- -------------------- 143.4/301.2 kB 2.8 MB/s eta 0:00:01\n",
      "   -------------------------------------- - 286.7/301.2 kB 2.9 MB/s eta 0:00:01\n",
      "   ---------------------------------------- 301.2/301.2 kB 2.6 MB/s eta 0:00:00\n",
      "Downloading spacy-3.7.4-cp311-cp311-win_amd64.whl (12.1 MB)\n",
      "   ---------------------------------------- 0.0/12.1 MB ? eta -:--:--\n",
      "   ---------------------------------------- 0.1/12.1 MB 6.4 MB/s eta 0:00:02\n",
      "    --------------------------------------- 0.3/12.1 MB 3.2 MB/s eta 0:00:04\n",
      "   - -------------------------------------- 0.4/12.1 MB 3.1 MB/s eta 0:00:04\n",
      "   - -------------------------------------- 0.6/12.1 MB 3.2 MB/s eta 0:00:04\n",
      "   -- ------------------------------------- 0.7/12.1 MB 3.2 MB/s eta 0:00:04\n",
      "   -- ------------------------------------- 0.8/12.1 MB 3.4 MB/s eta 0:00:04\n",
      "   --- ------------------------------------ 1.0/12.1 MB 3.1 MB/s eta 0:00:04\n",
      "   --- ------------------------------------ 1.1/12.1 MB 3.1 MB/s eta 0:00:04\n",
      "   ---- ----------------------------------- 1.3/12.1 MB 3.2 MB/s eta 0:00:04\n",
      "   ---- ----------------------------------- 1.5/12.1 MB 3.2 MB/s eta 0:00:04\n",
      "   ----- ---------------------------------- 1.6/12.1 MB 3.2 MB/s eta 0:00:04\n",
      "   ----- ---------------------------------- 1.8/12.1 MB 3.2 MB/s eta 0:00:04\n",
      "   ------ --------------------------------- 1.9/12.1 MB 3.3 MB/s eta 0:00:04\n",
      "   ------ --------------------------------- 2.1/12.1 MB 3.3 MB/s eta 0:00:04\n",
      "   ------- -------------------------------- 2.2/12.1 MB 3.3 MB/s eta 0:00:03\n",
      "   ------- -------------------------------- 2.4/12.1 MB 3.3 MB/s eta 0:00:03\n",
      "   -------- ------------------------------- 2.6/12.1 MB 3.3 MB/s eta 0:00:03\n",
      "   --------- ------------------------------ 2.7/12.1 MB 3.4 MB/s eta 0:00:03\n",
      "   --------- ------------------------------ 2.9/12.1 MB 3.4 MB/s eta 0:00:03\n",
      "   ---------- ----------------------------- 3.1/12.1 MB 3.4 MB/s eta 0:00:03\n",
      "   ---------- ----------------------------- 3.2/12.1 MB 3.4 MB/s eta 0:00:03\n",
      "   ----------- ---------------------------- 3.4/12.1 MB 3.4 MB/s eta 0:00:03\n",
      "   ----------- ---------------------------- 3.5/12.1 MB 3.3 MB/s eta 0:00:03\n",
      "   ------------ --------------------------- 3.7/12.1 MB 3.3 MB/s eta 0:00:03\n",
      "   ------------ --------------------------- 3.8/12.1 MB 3.3 MB/s eta 0:00:03\n",
      "   ------------- -------------------------- 4.0/12.1 MB 3.4 MB/s eta 0:00:03\n",
      "   ------------- -------------------------- 4.2/12.1 MB 3.4 MB/s eta 0:00:03\n",
      "   -------------- ------------------------- 4.3/12.1 MB 3.4 MB/s eta 0:00:03\n",
      "   -------------- ------------------------- 4.5/12.1 MB 3.4 MB/s eta 0:00:03\n",
      "   --------------- ------------------------ 4.7/12.1 MB 3.4 MB/s eta 0:00:03\n",
      "   ---------------- ----------------------- 4.8/12.1 MB 3.4 MB/s eta 0:00:03\n",
      "   ---------------- ----------------------- 5.0/12.1 MB 3.4 MB/s eta 0:00:03\n",
      "   ----------------- ---------------------- 5.2/12.1 MB 3.4 MB/s eta 0:00:03\n",
      "   ----------------- ---------------------- 5.4/12.1 MB 3.4 MB/s eta 0:00:02\n",
      "   ------------------ --------------------- 5.6/12.1 MB 3.4 MB/s eta 0:00:02\n",
      "   ------------------ --------------------- 5.7/12.1 MB 3.5 MB/s eta 0:00:02\n",
      "   ------------------- -------------------- 5.9/12.1 MB 3.5 MB/s eta 0:00:02\n",
      "   -------------------- ------------------- 6.1/12.1 MB 3.5 MB/s eta 0:00:02\n",
      "   -------------------- ------------------- 6.2/12.1 MB 3.5 MB/s eta 0:00:02\n",
      "   --------------------- ------------------ 6.5/12.1 MB 3.5 MB/s eta 0:00:02\n",
      "   --------------------- ------------------ 6.6/12.1 MB 3.5 MB/s eta 0:00:02\n",
      "   ---------------------- ----------------- 6.8/12.1 MB 3.5 MB/s eta 0:00:02\n",
      "   ----------------------- ---------------- 7.0/12.1 MB 3.5 MB/s eta 0:00:02\n",
      "   ----------------------- ---------------- 7.1/12.1 MB 3.5 MB/s eta 0:00:02\n",
      "   ------------------------ --------------- 7.3/12.1 MB 3.5 MB/s eta 0:00:02\n",
      "   ------------------------ --------------- 7.5/12.1 MB 3.5 MB/s eta 0:00:02\n",
      "   ------------------------- -------------- 7.7/12.1 MB 3.5 MB/s eta 0:00:02\n",
      "   -------------------------- ------------- 7.9/12.1 MB 3.5 MB/s eta 0:00:02\n",
      "   -------------------------- ------------- 8.1/12.1 MB 3.6 MB/s eta 0:00:02\n",
      "   --------------------------- ------------ 8.3/12.1 MB 3.6 MB/s eta 0:00:02\n",
      "   --------------------------- ------------ 8.4/12.1 MB 3.6 MB/s eta 0:00:02\n",
      "   ---------------------------- ----------- 8.6/12.1 MB 3.6 MB/s eta 0:00:01\n",
      "   ----------------------------- ---------- 8.8/12.1 MB 3.6 MB/s eta 0:00:01\n",
      "   ----------------------------- ---------- 9.0/12.1 MB 3.6 MB/s eta 0:00:01\n",
      "   ------------------------------ --------- 9.2/12.1 MB 3.6 MB/s eta 0:00:01\n",
      "   ------------------------------- -------- 9.4/12.1 MB 3.6 MB/s eta 0:00:01\n",
      "   ------------------------------- -------- 9.6/12.1 MB 3.6 MB/s eta 0:00:01\n",
      "   -------------------------------- ------- 9.8/12.1 MB 3.6 MB/s eta 0:00:01\n",
      "   --------------------------------- ------ 10.0/12.1 MB 3.6 MB/s eta 0:00:01\n",
      "   --------------------------------- ------ 10.1/12.1 MB 3.6 MB/s eta 0:00:01\n",
      "   ---------------------------------- ----- 10.4/12.1 MB 3.7 MB/s eta 0:00:01\n",
      "   ---------------------------------- ----- 10.6/12.1 MB 3.7 MB/s eta 0:00:01\n",
      "   ----------------------------------- ---- 10.8/12.1 MB 3.7 MB/s eta 0:00:01\n",
      "   ------------------------------------ --- 11.0/12.1 MB 3.7 MB/s eta 0:00:01\n",
      "   ------------------------------------ --- 11.2/12.1 MB 3.8 MB/s eta 0:00:01\n",
      "   ------------------------------------- -- 11.4/12.1 MB 3.8 MB/s eta 0:00:01\n",
      "   -------------------------------------- - 11.6/12.1 MB 3.8 MB/s eta 0:00:01\n",
      "   ---------------------------------------  11.8/12.1 MB 3.8 MB/s eta 0:00:01\n",
      "   ---------------------------------------  12.0/12.1 MB 3.8 MB/s eta 0:00:01\n",
      "   ---------------------------------------  12.1/12.1 MB 3.9 MB/s eta 0:00:01\n",
      "   ---------------------------------------  12.1/12.1 MB 3.9 MB/s eta 0:00:01\n",
      "   ---------------------------------------- 12.1/12.1 MB 3.7 MB/s eta 0:00:00\n",
      "Downloading cymem-2.0.8-cp311-cp311-win_amd64.whl (39 kB)\n",
      "Downloading langcodes-3.3.0-py3-none-any.whl (181 kB)\n",
      "   ---------------------------------------- 0.0/181.6 kB ? eta -:--:--\n",
      "   -------------------------------------- - 174.1/181.6 kB 5.3 MB/s eta 0:00:01\n",
      "   ---------------------------------------- 181.6/181.6 kB 3.6 MB/s eta 0:00:00\n",
      "Downloading murmurhash-1.0.10-cp311-cp311-win_amd64.whl (25 kB)\n",
      "Downloading preshed-3.0.9-cp311-cp311-win_amd64.whl (122 kB)\n",
      "   ---------------------------------------- 0.0/122.3 kB ? eta -:--:--\n",
      "   ---------------------------------------- 122.3/122.3 kB 3.6 MB/s eta 0:00:00\n",
      "Downloading spacy_legacy-3.0.12-py2.py3-none-any.whl (29 kB)\n",
      "Downloading spacy_loggers-1.0.5-py3-none-any.whl (22 kB)\n",
      "Downloading srsly-2.4.8-cp311-cp311-win_amd64.whl (479 kB)\n",
      "   ---------------------------------------- 0.0/479.7 kB ? eta -:--:--\n",
      "   ------------------ --------------------- 225.3/479.7 kB 6.9 MB/s eta 0:00:01\n",
      "   ----------------------------------- ---- 430.1/479.7 kB 5.4 MB/s eta 0:00:01\n",
      "   ---------------------------------------- 479.7/479.7 kB 4.3 MB/s eta 0:00:00\n",
      "Downloading thinc-8.2.3-cp311-cp311-win_amd64.whl (1.5 MB)\n",
      "   ---------------------------------------- 0.0/1.5 MB ? eta -:--:--\n",
      "   ------ --------------------------------- 0.2/1.5 MB 6.7 MB/s eta 0:00:01\n",
      "   ------------ --------------------------- 0.5/1.5 MB 5.6 MB/s eta 0:00:01\n",
      "   ----------------- ---------------------- 0.7/1.5 MB 5.2 MB/s eta 0:00:01\n",
      "   ----------------------- ---------------- 0.9/1.5 MB 5.0 MB/s eta 0:00:01\n",
      "   ----------------------------- ---------- 1.1/1.5 MB 4.9 MB/s eta 0:00:01\n",
      "   ---------------------------------- ----- 1.3/1.5 MB 4.7 MB/s eta 0:00:01\n",
      "   ---------------------------------------  1.5/1.5 MB 4.7 MB/s eta 0:00:01\n",
      "   ---------------------------------------- 1.5/1.5 MB 4.5 MB/s eta 0:00:00\n",
      "Downloading typer-0.9.4-py3-none-any.whl (45 kB)\n",
      "   ---------------------------------------- 0.0/46.0 kB ? eta -:--:--\n",
      "   ---------------------------------------- 46.0/46.0 kB 2.2 MB/s eta 0:00:00\n",
      "Downloading wasabi-1.1.2-py3-none-any.whl (27 kB)\n",
      "Downloading weasel-0.3.4-py3-none-any.whl (50 kB)\n",
      "   ---------------------------------------- 0.0/50.1 kB ? eta -:--:--\n",
      "   ---------------------------------------- 50.1/50.1 kB 2.7 MB/s eta 0:00:00\n",
      "Downloading blis-0.7.11-cp311-cp311-win_amd64.whl (6.6 MB)\n",
      "   ---------------------------------------- 0.0/6.6 MB ? eta -:--:--\n",
      "   - -------------------------------------- 0.2/6.6 MB 4.1 MB/s eta 0:00:02\n",
      "   -- ------------------------------------- 0.4/6.6 MB 4.4 MB/s eta 0:00:02\n",
      "   --- ------------------------------------ 0.6/6.6 MB 4.3 MB/s eta 0:00:02\n",
      "   ----- ---------------------------------- 0.8/6.6 MB 4.5 MB/s eta 0:00:02\n",
      "   ------ --------------------------------- 1.1/6.6 MB 4.5 MB/s eta 0:00:02\n",
      "   ------- -------------------------------- 1.3/6.6 MB 4.6 MB/s eta 0:00:02\n",
      "   --------- ------------------------------ 1.5/6.6 MB 4.5 MB/s eta 0:00:02\n",
      "   ---------- ----------------------------- 1.7/6.6 MB 4.6 MB/s eta 0:00:02\n",
      "   ----------- ---------------------------- 2.0/6.6 MB 4.6 MB/s eta 0:00:02\n",
      "   ------------- -------------------------- 2.2/6.6 MB 4.7 MB/s eta 0:00:01\n",
      "   -------------- ------------------------- 2.4/6.6 MB 4.6 MB/s eta 0:00:01\n",
      "   --------------- ------------------------ 2.6/6.6 MB 4.7 MB/s eta 0:00:01\n",
      "   ----------------- ---------------------- 2.9/6.6 MB 4.7 MB/s eta 0:00:01\n",
      "   ------------------ --------------------- 3.1/6.6 MB 4.7 MB/s eta 0:00:01\n",
      "   -------------------- ------------------- 3.3/6.6 MB 4.7 MB/s eta 0:00:01\n",
      "   --------------------- ------------------ 3.6/6.6 MB 4.7 MB/s eta 0:00:01\n",
      "   ---------------------- ----------------- 3.8/6.6 MB 4.7 MB/s eta 0:00:01\n",
      "   ------------------------ --------------- 4.0/6.6 MB 4.8 MB/s eta 0:00:01\n",
      "   ------------------------- -------------- 4.3/6.6 MB 4.8 MB/s eta 0:00:01\n",
      "   --------------------------- ------------ 4.5/6.6 MB 4.8 MB/s eta 0:00:01\n",
      "   ---------------------------- ----------- 4.7/6.6 MB 4.8 MB/s eta 0:00:01\n",
      "   ------------------------------ --------- 5.0/6.6 MB 4.8 MB/s eta 0:00:01\n",
      "   ------------------------------- -------- 5.2/6.6 MB 4.8 MB/s eta 0:00:01\n",
      "   --------------------------------- ------ 5.4/6.6 MB 4.8 MB/s eta 0:00:01\n",
      "   ---------------------------------- ----- 5.7/6.6 MB 4.8 MB/s eta 0:00:01\n",
      "   ----------------------------------- ---- 5.9/6.6 MB 4.9 MB/s eta 0:00:01\n",
      "   ------------------------------------- -- 6.2/6.6 MB 4.9 MB/s eta 0:00:01\n",
      "   -------------------------------------- - 6.4/6.6 MB 4.9 MB/s eta 0:00:01\n",
      "   ---------------------------------------  6.6/6.6 MB 4.9 MB/s eta 0:00:01\n",
      "   ---------------------------------------- 6.6/6.6 MB 4.8 MB/s eta 0:00:00\n",
      "Downloading cloudpathlib-0.16.0-py3-none-any.whl (45 kB)\n",
      "   ---------------------------------------- 0.0/45.0 kB ? eta -:--:--\n",
      "   ---------------------------------------- 45.0/45.0 kB 2.3 MB/s eta 0:00:00\n",
      "Downloading confection-0.1.4-py3-none-any.whl (35 kB)\n",
      "Installing collected packages: cymem, wasabi, spacy-loggers, spacy-legacy, pyphen, murmurhash, langcodes, joblib, floret, cloudpathlib, catalogue, blis, typer, srsly, preshed, confection, weasel, thinc, spacy, textacy\n",
      "  Attempting uninstall: joblib\n",
      "    Found existing installation: joblib 1.1.0\n",
      "    Uninstalling joblib-1.1.0:\n",
      "      Successfully uninstalled joblib-1.1.0\n",
      "Successfully installed blis-0.7.11 catalogue-2.0.10 cloudpathlib-0.16.0 confection-0.1.4 cymem-2.0.8 floret-0.10.5 joblib-1.4.0 langcodes-3.3.0 murmurhash-1.0.10 preshed-3.0.9 pyphen-0.14.0 spacy-3.7.4 spacy-legacy-3.0.12 spacy-loggers-1.0.5 srsly-2.4.8 textacy-0.13.0 thinc-8.2.3 typer-0.9.4 wasabi-1.1.2 weasel-0.3.4\n"
     ]
    },
    {
     "name": "stderr",
     "output_type": "stream",
     "text": [
      "ERROR: pip's dependency resolver does not currently take into account all the packages that are installed. This behaviour is the source of the following dependency conflicts.\n",
      "pandas-profiling 3.2.0 requires joblib~=1.1.0, but you have joblib 1.4.0 which is incompatible.\n"
     ]
    },
    {
     "name": "stdout",
     "output_type": "stream",
     "text": [
      "Requirement already satisfied: spacy in c:\\users\\eugen\\anaconda3\\lib\\site-packages (3.7.4)\n",
      "Requirement already satisfied: spacy-legacy<3.1.0,>=3.0.11 in c:\\users\\eugen\\anaconda3\\lib\\site-packages (from spacy) (3.0.12)\n",
      "Requirement already satisfied: spacy-loggers<2.0.0,>=1.0.0 in c:\\users\\eugen\\anaconda3\\lib\\site-packages (from spacy) (1.0.5)\n",
      "Requirement already satisfied: murmurhash<1.1.0,>=0.28.0 in c:\\users\\eugen\\anaconda3\\lib\\site-packages (from spacy) (1.0.10)\n",
      "Requirement already satisfied: cymem<2.1.0,>=2.0.2 in c:\\users\\eugen\\anaconda3\\lib\\site-packages (from spacy) (2.0.8)\n",
      "Requirement already satisfied: preshed<3.1.0,>=3.0.2 in c:\\users\\eugen\\anaconda3\\lib\\site-packages (from spacy) (3.0.9)\n",
      "Requirement already satisfied: thinc<8.3.0,>=8.2.2 in c:\\users\\eugen\\anaconda3\\lib\\site-packages (from spacy) (8.2.3)\n",
      "Requirement already satisfied: wasabi<1.2.0,>=0.9.1 in c:\\users\\eugen\\anaconda3\\lib\\site-packages (from spacy) (1.1.2)\n",
      "Requirement already satisfied: srsly<3.0.0,>=2.4.3 in c:\\users\\eugen\\anaconda3\\lib\\site-packages (from spacy) (2.4.8)\n",
      "Requirement already satisfied: catalogue<2.1.0,>=2.0.6 in c:\\users\\eugen\\anaconda3\\lib\\site-packages (from spacy) (2.0.10)\n",
      "Requirement already satisfied: weasel<0.4.0,>=0.1.0 in c:\\users\\eugen\\anaconda3\\lib\\site-packages (from spacy) (0.3.4)\n",
      "Requirement already satisfied: typer<0.10.0,>=0.3.0 in c:\\users\\eugen\\anaconda3\\lib\\site-packages (from spacy) (0.9.4)\n",
      "Requirement already satisfied: smart-open<7.0.0,>=5.2.1 in c:\\users\\eugen\\anaconda3\\lib\\site-packages (from spacy) (5.2.1)\n",
      "Requirement already satisfied: tqdm<5.0.0,>=4.38.0 in c:\\users\\eugen\\anaconda3\\lib\\site-packages (from spacy) (4.65.0)\n",
      "Requirement already satisfied: requests<3.0.0,>=2.13.0 in c:\\users\\eugen\\anaconda3\\lib\\site-packages (from spacy) (2.31.0)\n",
      "Requirement already satisfied: pydantic!=1.8,!=1.8.1,<3.0.0,>=1.7.4 in c:\\users\\eugen\\anaconda3\\lib\\site-packages (from spacy) (1.10.12)\n",
      "Requirement already satisfied: jinja2 in c:\\users\\eugen\\anaconda3\\lib\\site-packages (from spacy) (3.1.3)\n",
      "Requirement already satisfied: setuptools in c:\\users\\eugen\\anaconda3\\lib\\site-packages (from spacy) (68.2.2)\n",
      "Requirement already satisfied: packaging>=20.0 in c:\\users\\eugen\\anaconda3\\lib\\site-packages (from spacy) (23.1)\n",
      "Requirement already satisfied: langcodes<4.0.0,>=3.2.0 in c:\\users\\eugen\\anaconda3\\lib\\site-packages (from spacy) (3.3.0)\n",
      "Requirement already satisfied: numpy>=1.19.0 in c:\\users\\eugen\\anaconda3\\lib\\site-packages (from spacy) (1.26.4)\n",
      "Requirement already satisfied: typing-extensions>=4.2.0 in c:\\users\\eugen\\anaconda3\\lib\\site-packages (from pydantic!=1.8,!=1.8.1,<3.0.0,>=1.7.4->spacy) (4.9.0)\n",
      "Requirement already satisfied: charset-normalizer<4,>=2 in c:\\users\\eugen\\anaconda3\\lib\\site-packages (from requests<3.0.0,>=2.13.0->spacy) (2.0.4)\n",
      "Requirement already satisfied: idna<4,>=2.5 in c:\\users\\eugen\\anaconda3\\lib\\site-packages (from requests<3.0.0,>=2.13.0->spacy) (3.4)\n",
      "Requirement already satisfied: urllib3<3,>=1.21.1 in c:\\users\\eugen\\anaconda3\\lib\\site-packages (from requests<3.0.0,>=2.13.0->spacy) (2.0.7)\n",
      "Requirement already satisfied: certifi>=2017.4.17 in c:\\users\\eugen\\anaconda3\\lib\\site-packages (from requests<3.0.0,>=2.13.0->spacy) (2024.2.2)\n",
      "Requirement already satisfied: blis<0.8.0,>=0.7.8 in c:\\users\\eugen\\anaconda3\\lib\\site-packages (from thinc<8.3.0,>=8.2.2->spacy) (0.7.11)\n",
      "Requirement already satisfied: confection<1.0.0,>=0.0.1 in c:\\users\\eugen\\anaconda3\\lib\\site-packages (from thinc<8.3.0,>=8.2.2->spacy) (0.1.4)\n",
      "Requirement already satisfied: colorama in c:\\users\\eugen\\anaconda3\\lib\\site-packages (from tqdm<5.0.0,>=4.38.0->spacy) (0.4.6)\n",
      "Requirement already satisfied: click<9.0.0,>=7.1.1 in c:\\users\\eugen\\anaconda3\\lib\\site-packages (from typer<0.10.0,>=0.3.0->spacy) (8.1.7)\n",
      "Requirement already satisfied: cloudpathlib<0.17.0,>=0.7.0 in c:\\users\\eugen\\anaconda3\\lib\\site-packages (from weasel<0.4.0,>=0.1.0->spacy) (0.16.0)\n",
      "Requirement already satisfied: MarkupSafe>=2.0 in c:\\users\\eugen\\anaconda3\\lib\\site-packages (from jinja2->spacy) (2.1.3)\n",
      "Collecting en-core-web-sm==3.7.1\n",
      "  Downloading https://github.com/explosion/spacy-models/releases/download/en_core_web_sm-3.7.1/en_core_web_sm-3.7.1-py3-none-any.whl (12.8 MB)\n",
      "     ---------------------------------------- 0.0/12.8 MB ? eta -:--:--\n",
      "     --------------------------------------- 0.0/12.8 MB 682.7 kB/s eta 0:00:19\n",
      "     --------------------------------------- 0.1/12.8 MB 656.4 kB/s eta 0:00:20\n",
      "      --------------------------------------- 0.2/12.8 MB 1.5 MB/s eta 0:00:09\n",
      "     - -------------------------------------- 0.5/12.8 MB 2.6 MB/s eta 0:00:05\n",
      "     --- ------------------------------------ 1.0/12.8 MB 4.5 MB/s eta 0:00:03\n",
      "     ---- ----------------------------------- 1.5/12.8 MB 5.8 MB/s eta 0:00:02\n",
      "     ------- -------------------------------- 2.5/12.8 MB 7.9 MB/s eta 0:00:02\n",
      "     ---------- ----------------------------- 3.3/12.8 MB 9.3 MB/s eta 0:00:02\n",
      "     ------------ --------------------------- 4.2/12.8 MB 10.2 MB/s eta 0:00:01\n",
      "     --------------- ------------------------ 5.0/12.8 MB 11.1 MB/s eta 0:00:01\n",
      "     ------------------- -------------------- 6.1/12.8 MB 12.2 MB/s eta 0:00:01\n",
      "     ----------------------- ---------------- 7.5/12.8 MB 13.7 MB/s eta 0:00:01\n",
      "     -------------------------- ------------- 8.6/12.8 MB 14.5 MB/s eta 0:00:01\n",
      "     ------------------------------ -------- 10.1/12.8 MB 15.7 MB/s eta 0:00:01\n",
      "     ---------------------------------- ---- 11.4/12.8 MB 23.4 MB/s eta 0:00:01\n",
      "     --------------------------------------  12.7/12.8 MB 24.2 MB/s eta 0:00:01\n",
      "     --------------------------------------  12.8/12.8 MB 24.2 MB/s eta 0:00:01\n",
      "     --------------------------------------  12.8/12.8 MB 24.2 MB/s eta 0:00:01\n",
      "     --------------------------------------- 12.8/12.8 MB 19.8 MB/s eta 0:00:00\n",
      "Requirement already satisfied: spacy<3.8.0,>=3.7.2 in c:\\users\\eugen\\anaconda3\\lib\\site-packages (from en-core-web-sm==3.7.1) (3.7.4)\n",
      "Requirement already satisfied: spacy-legacy<3.1.0,>=3.0.11 in c:\\users\\eugen\\anaconda3\\lib\\site-packages (from spacy<3.8.0,>=3.7.2->en-core-web-sm==3.7.1) (3.0.12)\n",
      "Requirement already satisfied: spacy-loggers<2.0.0,>=1.0.0 in c:\\users\\eugen\\anaconda3\\lib\\site-packages (from spacy<3.8.0,>=3.7.2->en-core-web-sm==3.7.1) (1.0.5)\n",
      "Requirement already satisfied: murmurhash<1.1.0,>=0.28.0 in c:\\users\\eugen\\anaconda3\\lib\\site-packages (from spacy<3.8.0,>=3.7.2->en-core-web-sm==3.7.1) (1.0.10)\n",
      "Requirement already satisfied: cymem<2.1.0,>=2.0.2 in c:\\users\\eugen\\anaconda3\\lib\\site-packages (from spacy<3.8.0,>=3.7.2->en-core-web-sm==3.7.1) (2.0.8)\n",
      "Requirement already satisfied: preshed<3.1.0,>=3.0.2 in c:\\users\\eugen\\anaconda3\\lib\\site-packages (from spacy<3.8.0,>=3.7.2->en-core-web-sm==3.7.1) (3.0.9)\n",
      "Requirement already satisfied: thinc<8.3.0,>=8.2.2 in c:\\users\\eugen\\anaconda3\\lib\\site-packages (from spacy<3.8.0,>=3.7.2->en-core-web-sm==3.7.1) (8.2.3)\n",
      "Requirement already satisfied: wasabi<1.2.0,>=0.9.1 in c:\\users\\eugen\\anaconda3\\lib\\site-packages (from spacy<3.8.0,>=3.7.2->en-core-web-sm==3.7.1) (1.1.2)\n",
      "Requirement already satisfied: srsly<3.0.0,>=2.4.3 in c:\\users\\eugen\\anaconda3\\lib\\site-packages (from spacy<3.8.0,>=3.7.2->en-core-web-sm==3.7.1) (2.4.8)\n",
      "Requirement already satisfied: catalogue<2.1.0,>=2.0.6 in c:\\users\\eugen\\anaconda3\\lib\\site-packages (from spacy<3.8.0,>=3.7.2->en-core-web-sm==3.7.1) (2.0.10)\n",
      "Requirement already satisfied: weasel<0.4.0,>=0.1.0 in c:\\users\\eugen\\anaconda3\\lib\\site-packages (from spacy<3.8.0,>=3.7.2->en-core-web-sm==3.7.1) (0.3.4)\n",
      "Requirement already satisfied: typer<0.10.0,>=0.3.0 in c:\\users\\eugen\\anaconda3\\lib\\site-packages (from spacy<3.8.0,>=3.7.2->en-core-web-sm==3.7.1) (0.9.4)\n",
      "Requirement already satisfied: smart-open<7.0.0,>=5.2.1 in c:\\users\\eugen\\anaconda3\\lib\\site-packages (from spacy<3.8.0,>=3.7.2->en-core-web-sm==3.7.1) (5.2.1)\n",
      "Requirement already satisfied: tqdm<5.0.0,>=4.38.0 in c:\\users\\eugen\\anaconda3\\lib\\site-packages (from spacy<3.8.0,>=3.7.2->en-core-web-sm==3.7.1) (4.65.0)\n",
      "Requirement already satisfied: requests<3.0.0,>=2.13.0 in c:\\users\\eugen\\anaconda3\\lib\\site-packages (from spacy<3.8.0,>=3.7.2->en-core-web-sm==3.7.1) (2.31.0)\n",
      "Requirement already satisfied: pydantic!=1.8,!=1.8.1,<3.0.0,>=1.7.4 in c:\\users\\eugen\\anaconda3\\lib\\site-packages (from spacy<3.8.0,>=3.7.2->en-core-web-sm==3.7.1) (1.10.12)\n",
      "Requirement already satisfied: jinja2 in c:\\users\\eugen\\anaconda3\\lib\\site-packages (from spacy<3.8.0,>=3.7.2->en-core-web-sm==3.7.1) (3.1.3)\n",
      "Requirement already satisfied: setuptools in c:\\users\\eugen\\anaconda3\\lib\\site-packages (from spacy<3.8.0,>=3.7.2->en-core-web-sm==3.7.1) (68.2.2)\n",
      "Requirement already satisfied: packaging>=20.0 in c:\\users\\eugen\\anaconda3\\lib\\site-packages (from spacy<3.8.0,>=3.7.2->en-core-web-sm==3.7.1) (23.1)\n",
      "Requirement already satisfied: langcodes<4.0.0,>=3.2.0 in c:\\users\\eugen\\anaconda3\\lib\\site-packages (from spacy<3.8.0,>=3.7.2->en-core-web-sm==3.7.1) (3.3.0)\n",
      "Requirement already satisfied: numpy>=1.19.0 in c:\\users\\eugen\\anaconda3\\lib\\site-packages (from spacy<3.8.0,>=3.7.2->en-core-web-sm==3.7.1) (1.26.4)\n",
      "Requirement already satisfied: typing-extensions>=4.2.0 in c:\\users\\eugen\\anaconda3\\lib\\site-packages (from pydantic!=1.8,!=1.8.1,<3.0.0,>=1.7.4->spacy<3.8.0,>=3.7.2->en-core-web-sm==3.7.1) (4.9.0)\n",
      "Requirement already satisfied: charset-normalizer<4,>=2 in c:\\users\\eugen\\anaconda3\\lib\\site-packages (from requests<3.0.0,>=2.13.0->spacy<3.8.0,>=3.7.2->en-core-web-sm==3.7.1) (2.0.4)\n",
      "Requirement already satisfied: idna<4,>=2.5 in c:\\users\\eugen\\anaconda3\\lib\\site-packages (from requests<3.0.0,>=2.13.0->spacy<3.8.0,>=3.7.2->en-core-web-sm==3.7.1) (3.4)\n",
      "Requirement already satisfied: urllib3<3,>=1.21.1 in c:\\users\\eugen\\anaconda3\\lib\\site-packages (from requests<3.0.0,>=2.13.0->spacy<3.8.0,>=3.7.2->en-core-web-sm==3.7.1) (2.0.7)\n",
      "Requirement already satisfied: certifi>=2017.4.17 in c:\\users\\eugen\\anaconda3\\lib\\site-packages (from requests<3.0.0,>=2.13.0->spacy<3.8.0,>=3.7.2->en-core-web-sm==3.7.1) (2024.2.2)\n",
      "Requirement already satisfied: blis<0.8.0,>=0.7.8 in c:\\users\\eugen\\anaconda3\\lib\\site-packages (from thinc<8.3.0,>=8.2.2->spacy<3.8.0,>=3.7.2->en-core-web-sm==3.7.1) (0.7.11)\n",
      "Requirement already satisfied: confection<1.0.0,>=0.0.1 in c:\\users\\eugen\\anaconda3\\lib\\site-packages (from thinc<8.3.0,>=8.2.2->spacy<3.8.0,>=3.7.2->en-core-web-sm==3.7.1) (0.1.4)\n",
      "Requirement already satisfied: colorama in c:\\users\\eugen\\anaconda3\\lib\\site-packages (from tqdm<5.0.0,>=4.38.0->spacy<3.8.0,>=3.7.2->en-core-web-sm==3.7.1) (0.4.6)\n",
      "Requirement already satisfied: click<9.0.0,>=7.1.1 in c:\\users\\eugen\\anaconda3\\lib\\site-packages (from typer<0.10.0,>=0.3.0->spacy<3.8.0,>=3.7.2->en-core-web-sm==3.7.1) (8.1.7)\n",
      "Requirement already satisfied: cloudpathlib<0.17.0,>=0.7.0 in c:\\users\\eugen\\anaconda3\\lib\\site-packages (from weasel<0.4.0,>=0.1.0->spacy<3.8.0,>=3.7.2->en-core-web-sm==3.7.1) (0.16.0)\n",
      "Requirement already satisfied: MarkupSafe>=2.0 in c:\\users\\eugen\\anaconda3\\lib\\site-packages (from jinja2->spacy<3.8.0,>=3.7.2->en-core-web-sm==3.7.1) (2.1.3)\n",
      "Installing collected packages: en-core-web-sm\n",
      "Successfully installed en-core-web-sm-3.7.1\n",
      "\u001b[38;5;2m✔ Download and installation successful\u001b[0m\n",
      "You can now load the package via spacy.load('en_core_web_sm')\n",
      "Collecting es-core-news-sm==3.7.0\n",
      "  Downloading https://github.com/explosion/spacy-models/releases/download/es_core_news_sm-3.7.0/es_core_news_sm-3.7.0-py3-none-any.whl (12.9 MB)\n",
      "     ---------------------------------------- 0.0/12.9 MB ? eta -:--:--\n",
      "     --------------------------------------- 0.0/12.9 MB 330.3 kB/s eta 0:00:39\n",
      "     --------------------------------------- 0.0/12.9 MB 393.8 kB/s eta 0:00:33\n",
      "     --------------------------------------- 0.1/12.9 MB 901.1 kB/s eta 0:00:15\n",
      "      --------------------------------------- 0.2/12.9 MB 1.4 MB/s eta 0:00:10\n",
      "     - -------------------------------------- 0.6/12.9 MB 2.7 MB/s eta 0:00:05\n",
      "     --- ------------------------------------ 1.2/12.9 MB 4.4 MB/s eta 0:00:03\n",
      "     ------ --------------------------------- 2.0/12.9 MB 6.3 MB/s eta 0:00:02\n",
      "     -------- ------------------------------- 2.8/12.9 MB 7.8 MB/s eta 0:00:02\n",
      "     ----------- ---------------------------- 3.7/12.9 MB 9.1 MB/s eta 0:00:02\n",
      "     -------------- ------------------------- 4.6/12.9 MB 10.0 MB/s eta 0:00:01\n",
      "     ----------------- ---------------------- 5.5/12.9 MB 11.0 MB/s eta 0:00:01\n",
      "     ------------------- -------------------- 6.4/12.9 MB 11.7 MB/s eta 0:00:01\n",
      "     ------------------------ --------------- 8.0/12.9 MB 13.5 MB/s eta 0:00:01\n",
      "     ---------------------------- ----------- 9.1/12.9 MB 14.2 MB/s eta 0:00:01\n",
      "     ------------------------------- ------- 10.4/12.9 MB 18.7 MB/s eta 0:00:01\n",
      "     ----------------------------------- --- 11.8/12.9 MB 23.4 MB/s eta 0:00:01\n",
      "     --------------------------------------  12.9/12.9 MB 24.3 MB/s eta 0:00:01\n",
      "     --------------------------------------  12.9/12.9 MB 24.3 MB/s eta 0:00:01\n",
      "     --------------------------------------- 12.9/12.9 MB 20.4 MB/s eta 0:00:00\n",
      "Requirement already satisfied: spacy<3.8.0,>=3.7.0 in c:\\users\\eugen\\anaconda3\\lib\\site-packages (from es-core-news-sm==3.7.0) (3.7.4)\n",
      "Requirement already satisfied: spacy-legacy<3.1.0,>=3.0.11 in c:\\users\\eugen\\anaconda3\\lib\\site-packages (from spacy<3.8.0,>=3.7.0->es-core-news-sm==3.7.0) (3.0.12)\n",
      "Requirement already satisfied: spacy-loggers<2.0.0,>=1.0.0 in c:\\users\\eugen\\anaconda3\\lib\\site-packages (from spacy<3.8.0,>=3.7.0->es-core-news-sm==3.7.0) (1.0.5)\n",
      "Requirement already satisfied: murmurhash<1.1.0,>=0.28.0 in c:\\users\\eugen\\anaconda3\\lib\\site-packages (from spacy<3.8.0,>=3.7.0->es-core-news-sm==3.7.0) (1.0.10)\n",
      "Requirement already satisfied: cymem<2.1.0,>=2.0.2 in c:\\users\\eugen\\anaconda3\\lib\\site-packages (from spacy<3.8.0,>=3.7.0->es-core-news-sm==3.7.0) (2.0.8)\n",
      "Requirement already satisfied: preshed<3.1.0,>=3.0.2 in c:\\users\\eugen\\anaconda3\\lib\\site-packages (from spacy<3.8.0,>=3.7.0->es-core-news-sm==3.7.0) (3.0.9)\n",
      "Requirement already satisfied: thinc<8.3.0,>=8.2.2 in c:\\users\\eugen\\anaconda3\\lib\\site-packages (from spacy<3.8.0,>=3.7.0->es-core-news-sm==3.7.0) (8.2.3)\n",
      "Requirement already satisfied: wasabi<1.2.0,>=0.9.1 in c:\\users\\eugen\\anaconda3\\lib\\site-packages (from spacy<3.8.0,>=3.7.0->es-core-news-sm==3.7.0) (1.1.2)\n",
      "Requirement already satisfied: srsly<3.0.0,>=2.4.3 in c:\\users\\eugen\\anaconda3\\lib\\site-packages (from spacy<3.8.0,>=3.7.0->es-core-news-sm==3.7.0) (2.4.8)\n",
      "Requirement already satisfied: catalogue<2.1.0,>=2.0.6 in c:\\users\\eugen\\anaconda3\\lib\\site-packages (from spacy<3.8.0,>=3.7.0->es-core-news-sm==3.7.0) (2.0.10)\n",
      "Requirement already satisfied: weasel<0.4.0,>=0.1.0 in c:\\users\\eugen\\anaconda3\\lib\\site-packages (from spacy<3.8.0,>=3.7.0->es-core-news-sm==3.7.0) (0.3.4)\n",
      "Requirement already satisfied: typer<0.10.0,>=0.3.0 in c:\\users\\eugen\\anaconda3\\lib\\site-packages (from spacy<3.8.0,>=3.7.0->es-core-news-sm==3.7.0) (0.9.4)\n",
      "Requirement already satisfied: smart-open<7.0.0,>=5.2.1 in c:\\users\\eugen\\anaconda3\\lib\\site-packages (from spacy<3.8.0,>=3.7.0->es-core-news-sm==3.7.0) (5.2.1)\n",
      "Requirement already satisfied: tqdm<5.0.0,>=4.38.0 in c:\\users\\eugen\\anaconda3\\lib\\site-packages (from spacy<3.8.0,>=3.7.0->es-core-news-sm==3.7.0) (4.65.0)\n",
      "Requirement already satisfied: requests<3.0.0,>=2.13.0 in c:\\users\\eugen\\anaconda3\\lib\\site-packages (from spacy<3.8.0,>=3.7.0->es-core-news-sm==3.7.0) (2.31.0)\n",
      "Requirement already satisfied: pydantic!=1.8,!=1.8.1,<3.0.0,>=1.7.4 in c:\\users\\eugen\\anaconda3\\lib\\site-packages (from spacy<3.8.0,>=3.7.0->es-core-news-sm==3.7.0) (1.10.12)\n",
      "Requirement already satisfied: jinja2 in c:\\users\\eugen\\anaconda3\\lib\\site-packages (from spacy<3.8.0,>=3.7.0->es-core-news-sm==3.7.0) (3.1.3)\n",
      "Requirement already satisfied: setuptools in c:\\users\\eugen\\anaconda3\\lib\\site-packages (from spacy<3.8.0,>=3.7.0->es-core-news-sm==3.7.0) (68.2.2)\n",
      "Requirement already satisfied: packaging>=20.0 in c:\\users\\eugen\\anaconda3\\lib\\site-packages (from spacy<3.8.0,>=3.7.0->es-core-news-sm==3.7.0) (23.1)\n",
      "Requirement already satisfied: langcodes<4.0.0,>=3.2.0 in c:\\users\\eugen\\anaconda3\\lib\\site-packages (from spacy<3.8.0,>=3.7.0->es-core-news-sm==3.7.0) (3.3.0)\n",
      "Requirement already satisfied: numpy>=1.19.0 in c:\\users\\eugen\\anaconda3\\lib\\site-packages (from spacy<3.8.0,>=3.7.0->es-core-news-sm==3.7.0) (1.26.4)\n",
      "Requirement already satisfied: typing-extensions>=4.2.0 in c:\\users\\eugen\\anaconda3\\lib\\site-packages (from pydantic!=1.8,!=1.8.1,<3.0.0,>=1.7.4->spacy<3.8.0,>=3.7.0->es-core-news-sm==3.7.0) (4.9.0)\n",
      "Requirement already satisfied: charset-normalizer<4,>=2 in c:\\users\\eugen\\anaconda3\\lib\\site-packages (from requests<3.0.0,>=2.13.0->spacy<3.8.0,>=3.7.0->es-core-news-sm==3.7.0) (2.0.4)\n",
      "Requirement already satisfied: idna<4,>=2.5 in c:\\users\\eugen\\anaconda3\\lib\\site-packages (from requests<3.0.0,>=2.13.0->spacy<3.8.0,>=3.7.0->es-core-news-sm==3.7.0) (3.4)\n",
      "Requirement already satisfied: urllib3<3,>=1.21.1 in c:\\users\\eugen\\anaconda3\\lib\\site-packages (from requests<3.0.0,>=2.13.0->spacy<3.8.0,>=3.7.0->es-core-news-sm==3.7.0) (2.0.7)\n",
      "Requirement already satisfied: certifi>=2017.4.17 in c:\\users\\eugen\\anaconda3\\lib\\site-packages (from requests<3.0.0,>=2.13.0->spacy<3.8.0,>=3.7.0->es-core-news-sm==3.7.0) (2024.2.2)\n",
      "Requirement already satisfied: blis<0.8.0,>=0.7.8 in c:\\users\\eugen\\anaconda3\\lib\\site-packages (from thinc<8.3.0,>=8.2.2->spacy<3.8.0,>=3.7.0->es-core-news-sm==3.7.0) (0.7.11)\n",
      "Requirement already satisfied: confection<1.0.0,>=0.0.1 in c:\\users\\eugen\\anaconda3\\lib\\site-packages (from thinc<8.3.0,>=8.2.2->spacy<3.8.0,>=3.7.0->es-core-news-sm==3.7.0) (0.1.4)\n",
      "Requirement already satisfied: colorama in c:\\users\\eugen\\anaconda3\\lib\\site-packages (from tqdm<5.0.0,>=4.38.0->spacy<3.8.0,>=3.7.0->es-core-news-sm==3.7.0) (0.4.6)\n",
      "Requirement already satisfied: click<9.0.0,>=7.1.1 in c:\\users\\eugen\\anaconda3\\lib\\site-packages (from typer<0.10.0,>=0.3.0->spacy<3.8.0,>=3.7.0->es-core-news-sm==3.7.0) (8.1.7)\n",
      "Requirement already satisfied: cloudpathlib<0.17.0,>=0.7.0 in c:\\users\\eugen\\anaconda3\\lib\\site-packages (from weasel<0.4.0,>=0.1.0->spacy<3.8.0,>=3.7.0->es-core-news-sm==3.7.0) (0.16.0)\n",
      "Requirement already satisfied: MarkupSafe>=2.0 in c:\\users\\eugen\\anaconda3\\lib\\site-packages (from jinja2->spacy<3.8.0,>=3.7.0->es-core-news-sm==3.7.0) (2.1.3)\n",
      "Installing collected packages: es-core-news-sm\n",
      "Successfully installed es-core-news-sm-3.7.0\n",
      "\u001b[38;5;2m✔ Download and installation successful\u001b[0m\n",
      "You can now load the package via spacy.load('es_core_news_sm')\n"
     ]
    },
    {
     "name": "stderr",
     "output_type": "stream",
     "text": [
      "\"wget\" no se reconoce como un comando interno o externo,\n",
      "programa o archivo por lotes ejecutable.\n"
     ]
    }
   ],
   "source": [
    "# Instalamos textacy\n",
    "!pip install textacy\n",
    "# Instalamos spacy y uno de sus modelos\n",
    "!pip install spacy\n",
    "# Descargamos modelos pre-entrenados de spac\n",
    "!python -m spacy download en_core_web_sm\n",
    "!python -m spacy download es_core_news_sm\n",
    "\n",
    "# Repositorio\n",
    "!wget \"https://github.com/luisgasco/ntic_master_datos/raw/main/datasets/news_summary.csv\""
   ]
  },
  {
   "cell_type": "markdown",
   "id": "1305905a-70b4-4f5a-840e-f4890c3f8e0a",
   "metadata": {},
   "source": [
    "## Corpus y corpora"
   ]
  },
  {
   "cell_type": "markdown",
   "id": "1a106f5a-90a0-491a-8733-341b83520d42",
   "metadata": {},
   "source": [
    "Todo proceso de análisis textual comienza con un dataset de documentos textuales, que generalmente se llama **corpus** o *corpora* cuando tratamos con varios datasets. El corpus generalmente está compuesto de texto bruto con algunos metadatos asociados, aunque esto no tiene por qué ser así.\n",
    "\n",
    "En este Notebook vamos a trabajar con un corpus de noticias distribuido en la plataforma Kaggle llamado [*News summary*](https://www.kaggle.com/sunnysai12345/news-summary). Este corpus está distribuido en formato *csv*, sin embargo es normal encontrar corpus con el formato *tsv*, o disponer de corpus almacenados en base de datos como MongoDB.\n",
    "\n",
    "En primer lugar lo leeremos de la ruta donde se ha descargado `/content/news_summary.csv`:"
   ]
  },
  {
   "cell_type": "code",
   "execution_count": 1,
   "id": "ef3cca06-1ae1-42a6-b79f-cd77e8ccbdbd",
   "metadata": {
    "tags": []
   },
   "outputs": [],
   "source": [
    "import pandas as pd\n",
    "news_summary = pd.read_csv(\"news_summary.csv\", encoding=\"latin-1\")"
   ]
  },
  {
   "cell_type": "markdown",
   "id": "34fdb8be-592e-45f5-913d-99eb3d13b2f3",
   "metadata": {},
   "source": [
    "El dataset está compuesto por un conjunto de filas, que llamamos documentos. Cada documento tiene un conjunto de metadatos como el autor <br>\n",
    ", la fecha, el titular de la noticia y la web de la noticia y el texto asociado a esta. <br>\n",
    "<br>\n",
    "Cada uno de los textos puede separarse parráfos, frases y palabras según el tipo de documento y el tipo de análisis que se le vaya aplicar. <br>\n",
    "<br>\n",
    "En este caso, al ser un ejercicio, únicamente vamos a trabajar con el texto de los documentos, correspondiente al campo \"text\", así que <br>\n",
    "extraeremos y transformaremos esta columna en una lista para trabajar más comodos:"
   ]
  },
  {
   "cell_type": "code",
   "execution_count": 8,
   "id": "0af80d86-fb8e-4b44-bee8-6e39a5b0559e",
   "metadata": {
    "tags": []
   },
   "outputs": [
    {
     "name": "stdout",
     "output_type": "stream",
     "text": [
      "<class 'list'>\n"
     ]
    }
   ],
   "source": [
    "# Transformar la columna \"text\" a una lista\n",
    "texto_noticias = news_summary[\"text\"].to_list() #\n",
    "print(type(texto_noticias))"
   ]
  },
  {
   "cell_type": "markdown",
   "id": "6f113acb-cd51-49fb-9130-69038e40179d",
   "metadata": {},
   "source": [
    "Vamos a mirar el número de noticias que contiene nuestro corpus:"
   ]
  },
  {
   "cell_type": "code",
   "execution_count": 9,
   "id": "3a149c4b-9fa3-4b54-a34f-db42c9f00704",
   "metadata": {
    "tags": []
   },
   "outputs": [
    {
     "name": "stdout",
     "output_type": "stream",
     "text": [
      "El corpus news_sumamry contiene un total de 4514 documentos\n"
     ]
    }
   ],
   "source": [
    "print(\"El corpus news_sumamry contiene un total de {} documentos\".format(len(texto_noticias)))"
   ]
  },
  {
   "cell_type": "markdown",
   "id": "53935a45-bf23-4a28-853d-8f098a2a24b2",
   "metadata": {},
   "source": [
    "## Tokenización"
   ]
  },
  {
   "cell_type": "markdown",
   "id": "90183783-fe45-4e62-9e9d-f4a38d926055",
   "metadata": {},
   "source": [
    "El texto bruto está compuesto por una secuencia de caracteres. Antes de su análisis los textos son divididos en fragmentos más pequeños <br>\n",
    "conocidos como tokens. Un token puede ser tanto una palabra, como un símbolo de puntuación, un número o un emoticono, en el caso de <br>\n",
    "estar analizando datos de redes sociales. <br>\n",
    "<br>\n",
    "El proceso de división del texto en tokens se llama tokenización. Aquí se muestra el proceso tanto para la librería Spacy como para la <br>\n",
    "librería NLTK para un único texto del corpus."
   ]
  },
  {
   "cell_type": "markdown",
   "id": "54767cb9-9a02-4e6e-8800-29699c6cb69a",
   "metadata": {},
   "source": [
    "***NLTK***\n",
    "\n",
    "El tokenizador estándar de NLTK se llama word_tokenize. Podemos ver más información dentro de la web de documentación de NLTK (dentro del módulo word_tokenize [texto del enlace](https://www.nltk.org/api/nltk.tokenize.html))\n",
    "\n",
    "\n",
    "También podemos utilizar la línea de código `?libreria.modulo.funcion` para que nos aparezca la ayuda de la función en la parte derecha de la pantalla."
   ]
  },
  {
   "cell_type": "code",
   "execution_count": 10,
   "id": "9fb2c783-215a-4484-b80c-bcb1b6789017",
   "metadata": {
    "tags": []
   },
   "outputs": [
    {
     "data": {
      "text/plain": [
       "\u001b[1;31mSignature:\u001b[0m \u001b[0mnltk\u001b[0m\u001b[1;33m.\u001b[0m\u001b[0mtokenize\u001b[0m\u001b[1;33m.\u001b[0m\u001b[0mword_tokenize\u001b[0m\u001b[1;33m(\u001b[0m\u001b[0mtext\u001b[0m\u001b[1;33m,\u001b[0m \u001b[0mlanguage\u001b[0m\u001b[1;33m=\u001b[0m\u001b[1;34m'english'\u001b[0m\u001b[1;33m,\u001b[0m \u001b[0mpreserve_line\u001b[0m\u001b[1;33m=\u001b[0m\u001b[1;32mFalse\u001b[0m\u001b[1;33m)\u001b[0m\u001b[1;33m\u001b[0m\u001b[1;33m\u001b[0m\u001b[0m\n",
       "\u001b[1;31mDocstring:\u001b[0m\n",
       "Return a tokenized copy of *text*,\n",
       "using NLTK's recommended word tokenizer\n",
       "(currently an improved :class:`.TreebankWordTokenizer`\n",
       "along with :class:`.PunktSentenceTokenizer`\n",
       "for the specified language).\n",
       "\n",
       ":param text: text to split into words\n",
       ":type text: str\n",
       ":param language: the model name in the Punkt corpus\n",
       ":type language: str\n",
       ":param preserve_line: A flag to decide whether to sentence tokenize the text or not.\n",
       ":type preserve_line: bool\n",
       "\u001b[1;31mFile:\u001b[0m      c:\\users\\eugen\\anaconda3\\lib\\site-packages\\nltk\\tokenize\\__init__.py\n",
       "\u001b[1;31mType:\u001b[0m      function"
      ]
     },
     "metadata": {},
     "output_type": "display_data"
    }
   ],
   "source": [
    "?nltk.tokenize.word_tokenize"
   ]
  },
  {
   "cell_type": "code",
   "execution_count": 11,
   "id": "efa126db-82c9-4d9b-b319-4eeca8999ad9",
   "metadata": {
    "tags": []
   },
   "outputs": [],
   "source": [
    "from nltk.tokenize import word_tokenize\n",
    "from nltk.tokenize import sent_tokenize\n",
    "# Cogemos un subset de las noticias para acelerar el proceso:\n",
    "subset_noticias = texto_noticias[0:100]"
   ]
  },
  {
   "cell_type": "code",
   "execution_count": 17,
   "id": "d296f277-2f23-4f6b-b50a-8542d2bfa926",
   "metadata": {
    "tags": []
   },
   "outputs": [
    {
     "data": {
      "text/plain": [
       "\"Hotels in Maharashtra will train their staff to spot signs of sex trafficking, including frequent requests for bed linen changes and 'Do not disturb' signs left on room doors for days. A mobile phone app called Rescue Me, which will allow staff to alert police of suspicious behaviour, will be developed. The initiative has been backed by the Maharashtra government.\""
      ]
     },
     "execution_count": 17,
     "metadata": {},
     "output_type": "execute_result"
    }
   ],
   "source": [
    "subset_noticias[4]"
   ]
  },
  {
   "cell_type": "code",
   "execution_count": 16,
   "id": "a09476ba-228d-4032-8f71-40e726607253",
   "metadata": {
    "tags": []
   },
   "outputs": [
    {
     "name": "stdout",
     "output_type": "stream",
     "text": [
      "La oración número 0 es: \n",
      " Hotels in Maharashtra will train their staff to spot signs of sex trafficking, including frequent requests for bed linen changes and 'Do not disturb' signs left on room doors for days.\n",
      "La oración número 1 es: \n",
      " A mobile phone app called Rescue Me, which will allow staff to alert police of suspicious behaviour, will be developed.\n",
      "La oración número 2 es: \n",
      " The initiative has been backed by the Maharashtra government.\n"
     ]
    }
   ],
   "source": [
    "# Segmentar las fraces de las noticia 5 (indice 4)\n",
    "sentences = sent_tokenize(subset_noticias[4])\n",
    "for num, sentence in enumerate(sentences):\n",
    "    print(f'La oración número {num} es: \\n {sentence}')"
   ]
  },
  {
   "cell_type": "markdown",
   "id": "4ffa94dd-50f7-4f93-8820-0cc50d5410fb",
   "metadata": {},
   "source": [
    "Podemos segmentar todos los tokens de un documento de forma global."
   ]
  },
  {
   "cell_type": "code",
   "execution_count": 27,
   "id": "46e8e476-754c-420b-b6b0-2e578924347c",
   "metadata": {
    "tags": []
   },
   "outputs": [
    {
     "name": "stdout",
     "output_type": "stream",
     "text": [
      "El token 0 es Hotels\n",
      "El token 1 es in\n",
      "El token 2 es Maharashtra\n",
      "El token 3 es will\n",
      "El token 4 es train\n"
     ]
    }
   ],
   "source": [
    "# Segmentar los tokens de la noticia 5 (indice 4)\n",
    "token = word_tokenize(subset_noticias[4]) # Segmentar con word_tokenize\n",
    "i = 0\n",
    "for num, token in enumerate(token):\n",
    "    i += 1\n",
    "    if i < 6:\n",
    "        print(f'El token {num} es {token}')\n",
    "    else:\n",
    "        break"
   ]
  },
  {
   "cell_type": "markdown",
   "id": "0ff34bf0-6f39-47f0-af31-449801124b4b",
   "metadata": {},
   "source": [
    "En Spacy el funcionamiento es algo distinto:\n",
    "En primer lugar es necesario cargar un objeto spacy pre-entrenado proporcionado por los creadores de la librería (o por cualquier otro usuario que lo haya compartido).\n",
    "\n",
    "![Picture1.png](data:image/png;base64,iVBORw0KGgoAAAANSUhEUgAABBAAAACzCAYAAAFHpd81AAAAAXNSR0IArs4c6QAAAARnQU1BAACxjwv8YQUAAAAJcEhZcwAADsMAAA7DAcdvqGQAAE2mSURBVHhe7Z0JfBTHne+9x3u7+zZv3yZ7OE9vl7y37G6wNw7gOLZz4Xgdk7VjHCeWHRs7NjgYbOwYB3xFDrYhYAg2MWAbG4tDIFucQhwShw5AHBKWxI0Qui90AjICxA31+l9d3dMzqpZmNN0zffy+n8/vMz3/qumZ6qqu+td/qruvYz7jayvL2V+llvYqv+G7hlDReiUs+Q00BBP5Ddsbgqyrpff5rWfFO8amHGiX5gnXRp/XoP2G5hmaXavbjJWd0O8pffvng/sHpWmE7iuS30rfa4RsxnL39ls1Qt/bga0N4fplZWLLORgruyf5DQwNJvIbvmsIbsY4BFoNGoKLqDtzSWxZz3Xz5s1jXV1dUYn20RNFb/6uzwqlPvOHMVf54r+V2u3UF2WfiBL3Tn1pS9SKSUNo3p7PLuwt6ZOkNCv2PqgsWekAJXY7VZV6vdQelsJEVrGRKiYNgZBVcrgKpTl/RPeDZrPi0Yj4dxowTj2NyCo2UvXYEBL6jQh6X2fYNiqchkDIKjkcNW3bKvZgQHLgwlHcKlRiD0sGQp3Fixcv8ldZxUaqsBvCT+bu6bEhlJaW6qL39fX1/EcaOfD7t3jFJvTrr6tdf/8dPa1AvA4cOEBvDEb0hmc4YAkjZ4j99OfvnxuTqG+XGPKFahDPk8sGjZmlf372vernEgaPC8orq1DtO9TPDuiWHq2MvYLxGAcda0nFBquUv+7tZg8oZkMDoVWqdsBJr87LF9uJetrMperryNm53Fa/ZJHYg0p7e3u3SqGGMEypQPocvZ8wNtAQetLtSp7OFU/qeen1ucHyzzWs+U43G+VvE68J/YIbTjhKmJKmvJLk6Y3ZPxWlNkdWsZEqZg1hU+IDekOIVFIkBy0cndjxa6ndTp07kiK1h6UwkFVspHK8s0gNKJR4jPNxUQhmASVZxUYq3hDWrFkTlXprCE7pDfqqixUrpXY71VHwiihsALOGsPydDd31rsRmJiVvwBMBvgYNAXDQEADH1oYQiwUVfuHURXv/Go95jxAaJqV/1EJt9F5mO9BxXrxTIZvxANF26OfoM7J9yWzGf/es3BdBNuNvjaTcsQBDA+D4riHQcNWb/IivGoJsSZqZ/IbvGwL9RyCz+42YNQTqco2RMXKCQrths6XcMltvS8Xpu0I/F1rZGVPFn19PLO6WZtxXtL81NCIYmkf2W2X7shMMDSbyG7Y1hFi25nDJqTknrXSZnIbd00hf9QjAHDQEwLlOtr4gUvWEbIl6uJIhW/odjuKxJL3y069K7eEoXOZOSJOuL4hEqVPW2tcQllR9Ibb6viilI2ez2EOAeCxKqVzyFandTlUt7y9K3DOObwihUyZZRYcjKZIDF47i0Yii+s4wcGxDOHPmjNgK5uTmDdKKDkehXDpdLT9wNipujagXemoIWYoS+/WXphkVRkOo568tmb8OsQdLtsRaBlUqBXAq33+UFRQoXe7sRDZQea/ZjSIbLWun1x0vjBV7UMnMzAw6YNpnaPu5MXfp2/Q6aHDwEvPKJX8feJ89Tv/s6pH9Wd6LA1i9Ytdsxs+ZiX+HyDsqJbdbOsmqXkF2nHtrCPU5H/Lt5C3d0zXZOjSEUrZoAa/UC3vzeQPYozQErQFwe07gugTdJiTFcLDyXgxU3ISQhhBaORWLvxx4zxvCAJ6PGsLqMQPY6j2RNQRait5b3mPr75TaSfRZWg4vS+PqBd/4CNtGjRB7CBCPbvr03nekdjvV1bJdlNgcVzUEt69ijpvCwLKGIFueHql6Q1bB4Uh2TcOx9f8pP2gO1PH80VJ7WAoTagiy5endbGZS8vKGIPYHfA4aAuDY1hCc+O8jMAc9AuDEpCHQf+l2LTsnQvNYuUTeyn1FU267QY8AOGgIHua+zfXS1Vd9VVrZabFn4FXQIXgY2UkdrYC3QYfgYWQntCb6z3PuSPXSHtrWXv/wiPxyH03A26BD8DCyE7onJYxcJrUbBXrG7eF0dAgeRnZCRyvQO8ZIsttAh+Bh0us69QuqrdB3s6rFnoFXcWWHEOv/5ADwC9c1NTUxpyhcQtfIA+A0QhfL9ERTVZtjZMnt+a1Qb3d27428J4ZLl8LbKdkyexmXazfJl6rbpOZN90vtdqp80V9L7XYqHhc4Na79vqjVnolk0LLimhQrxC9n8EqHQERzIVVfFW6n0Lzpp90al526XLNBardTJ3dG/gSjaNWy+WdSu5069fkbolatAR2CRFZ0CISTO4V4jGiQjbIIT3QI2oMgtQdAdiiiO10k9LsxyB6ueusQKD09PZ1v9+aOyTqFxpD3tAjH+F6mcPJo2jLicfHt3aFnEmr01Cl0bnxZao9WnSVvS+126mJlhtRupy7Xbpba7dTls42iZiOH2jQ9ubWvHQK/+wmX+jDPSvG+VNG09ep2obCFI0s6BDpphn+/P9+esr2DdZUt4NsPTpis5w1HvXUIVVVVYiu8+Vlwp5DGOwTtBKdXTcb36nYiv2OLZldf1afQGvNpDyQ1ir6zsrJSKiofqaWlhXUUviZtXLOVfdOr9j20vXp/CWtLSVTTs5V82apbbsxjdpseTaf3TJfatX2p35sr9pnI7xhD9guFU7ltdVGh/n30e7Tv7UkNa26X2kOl7ivN8OBUdd99eYBqQ8atUrudatn8c9HigjHeSVBGcnKy2Oq7h6Adr6HPL9Pf36KItm9SXkcMuSEof2/y5JSBKPzNC91OVruV8/gj4tt7QdKoelLwSRLYDle1K/9DaucSHYLVisfUKG7faQKCilHKqg6hbvFC6QlrpyqXfia+vRckjcpO+erElNjtVE+dQaSgQ5DIig5BdrLarctne18kdfLgTGmjslPoDOyTlZ0B4agOQfwmVxHqjnW1NPP5e6wVDvQ4AGpAkHfkZVxZut4CNgDEm0hiCE7C290dAHFgXcNp117xiA4BAKDj+g6B7lKq3d10e6v6nAhj76zZCM1utGkXoRhtofsjtO1wbcY7rmo24wUvms1tv9UtxzDWv5UuD/cC8BAAADroEDzMb/e0drvJSV/1TEH4l6cD94IOwaP856Za6S3QohF1DMDboEPwKHTyyk7qaIQOwfugQ/Ao6BBAX0CH4FEi6RB2S2wyoUPwPugQPErPHUIxe29XB3tkcSt/zzuE3Kksv+EKu+/j8pC8AaFD8D6u7hAGZFSIrcD/wMYlo5rNeJdmY6PW7Eab9nmjbWh2LX812rTtcG3aPgjNZvdvlZ3Uqor5a2iHQNvPre4QebpL+x7tlX5TLI+hzBbJcY3Fb3U78BA8CjVS2UltKtEh9CQvNXw7MC6Qciuu7BCuX1YmtoAZEXcIYQgdgveBh+BR0CHEj5eKW8SW+3Bdh4BGGR7oEEBfgIfgYegEtlLA+6BDAMBi3Nx5uq5DMP6lBACwFngIAFiM8X4JbsMxT38OF8xlgdPRFkCFi+wpzPEQcV1NTY30tuixVGdnJ/8xfaXozd/FReFQn/nDmIru8ly75lZpml2i75TZ7VQ8vpNkB7Jbosdau9bs47/FEx3CoQ/flz4zwU7VLpovvr1n+G27Jff2t1OVqf8gtdsp/ph0id1ONW+8T2q3U83bnhA1a06kXqzsBI21XNshGNeuG6HnJMhOXDsV7rMZOounSBuXXYr195HqV98stdupytR/lNrtVFveL0WtWofsBI21POUhEOdPnpCetHYrHCrT/knauOxUPDwTX32nhchO0FjLtR1CT+6Yk72Eqs8SpI3LS7pUnSm126muw59I7XbqYsUqUatyIv1rXHaCxlqe8xA0ZCet3TrXpkZoe+JURYq0cdkpeAn2yUovQXaCxlpRdggFEltAI/r1l9rNZGWH4GQvIR4N93LtZqkdskAmxCKoOFw5x7TtpLT6oLS+yJIO4UfixB8oXotPV/BXqzuExsZG/enQ4Rzs2oXJQSfs8IH9g96TRs7O7WYLUs4Mud1Ehz/6UHx7L8gallDCyBlSezSCl2CfovESqD0vXLiQb8tO0N5k7BASlG0Sbd+kvC4epW4n3n6Xnqc3WdIh0I8w2gfefCN/7UuHUFpa2qPoAIb7yPitT48MOlnpdzaKVxLZqEPQtul15tJCVvCamp7Q7x69Q9A/U5DGXytD9qNp7xuvi2/vzuHDh/Xfbtpws8ep+8x7mb/Ozitk9SmJge8S6SRWrf6WeuVzui10fwa1bH5Qatc+e8GwrdoHsFEp6vEJ2PqzQWOUDkv8DuN+ZDpVPFlqN6pNL98A/p62Z2cXstUjey+TTJ0lb0vtdqqzKo3Xq5G6ujppGzbqk08+4W2isFCpZ8kJ2puCOwRqMw/z7eTH+gelhStrpgwVa9nEOdPZwOdT2ZShaieQ0G8ES3m8PysPyt+zevMQjB1BOB5CS8HOoJOVGteFvWm8U7iwdJxu+yC9hK14VG18JOoQ9PyiQ3hGeBdanoR+aiMmm1Gnt29jlZWVptI6tJ5GMvIQLhTOUL9ninrSc7v4buO2KvW3GPchk9l36vtUvveOwcbvGKenc5uxM1K2tc/3pIrF/0tqN4o6BHql/WqdgLYdmjccVSz5itRupyror88QzP4aN5Kfny+2+u4haMeL27YsYUmTJrMRM6mDqWcjxk9mQ1/PCfpMT/JsUJHIGf5w0MlKB03mIdBU58LeQm57cGKatEPQP7NJPVHX5oh0Jc2onuIIxg7twtGl0oZFov1+fK+o6CdmmHsIe9TfkrVf/YxsX5racodL7SRtf5qHMOjeIcIe0iFo2999NKwOoWLxl6X2UBk7BNas1sNDM9L61CGUL/qS1N6TRomyrQ7jOMpU/dk/iVqNDtkJGmt5tkMofO3lbier3do/+Q3x7T0T6TxX6xySVuSzvBcH8O1hM1dJ85qpcZ16ksvUl5MgHLVvfUpqt1Mnd/5GardTJw5MFzUbDFYqRqlIOoTeDvbh6VOlJ62dKp78pvj2XpA0KjsVaQdkhXz1nRYhO0FjLU96CPjLMVjnShdI7XYqHouT4qFr1y6Lmo0e2Qkaa3nSQziZvVF60tqp44p643z759JGZafgHdin3rwDTBmilBUegpO9g3hchOMHxcMb4UFhi5GdoLGW3iGsWbOGOUHRIjth7VY4NGbfL21YdgregX3qzTsgIvUQlr+zoe96V2LrST3kJ3ovncOQHWwaqeOhcKAGBHlHXsf7JQQAhI3rOoQfZ9eJLQCcSaRTBicBDwEAoIMOAQCLgYcQQ57e1eSJx24D4ETgIQBgIW4frFzbIbjZLQPeZUnVF2LLnbjeQ9A6hrozl/groT1Ki3prrcc2Pl5Ly2u0Heg4z1+NNm07XJu2D0KzyX6Xm36rccQz7ge/NdjmlQHKM1MGYwPRHqVFDUFrDMbHa2l5jTatMRht2na4NmPD1Wyy3+Wm36r9JsK4H/zWYJtXQAwBAKCDDgEAoIMOAQAXQjGLhOVH2fQ9J1la2WlH6Ucb6hD0B8ADwEEAwGXQ4FvResXxgpMAgLuBgwCAy4CDAACIBXAQAHAZ1joIxfzhHKTd0vS+Cw4CAO4GDgIALqPvDgI5A1PZ75++jSV8LzEoLchByJ3KEqbuZE/ceSP71iNvBOWLRHAQAHA3cBAcBnWqoR3rlAPtYdnoOhszW+g1OGY22q8RM1vow43NbCQjsbDR7wjH5ubjKhuQexc5CE/x7Yyp/dkji1v1tG4OwshlfHv34qf07UhFv1PDiceQZCQWNlk7lNlk7VBm89JxTa12910DvAgchDhCJ9fXV1eIdwCEB3WssgG5d0kcBHIGxF8MpIm5Sj6yDR7M3/8muThkH+ErdAAAoCfoBgXvl50U74ATgIMQQ0YXNLHbMqvFOwD6Rt8dhDBliCBEIzgIIBroPoTUhox3RgKxBQ4CAC7DdgfBIsFBAMDdwEGIAcb7gAIQLXAQgN+gtoT2FHvgIMQAWvDzUnGLeAdAdHx09KTjnQT6fQ9tbRC/GADgRuAgAOBiKDpFK9OdJADsgB6PhmhsbIGDEANoNhV62RAAAADgZOAgAAAAAKAbcBAAAAA4HkRiY8918+bNY1CwrIZuiETX9AIAAHAecyekQQalTlnLjwt3EGpqalhXV5fv1dnZaYuDEC6bEh9gR2f/0fOicl65cEGUOjpO7Ps9K0u+jh3fNtrT8kMZSX4oZ8vmn/uqPt0ADYr1pS2Qol1r9sFBkMkuByGS0BgNnic3bWAX9pZ4WlTO4/v3iVJHx7m2QrUjai7xtPxQRhLK6S1Z5STQFTJ2XcUAByEgOAgmincEQYMGz7pFC6QDq5e0+eGfs8plaaLU0eMXJ+HckUXSNC+JynmxYqU0zUvyk5Nw7epFcaY6DzgIAcFBMJFTHASCnIRD034vHVi9pN3jX2BFb00UpY4evzgJJ7Y/J03zkqicp4relKZ5SVROvzh9Z5tyxZkaOXYuUoSDEBAcBBM54S8GI59PTGK7XhgrHVi9pCN/nMGyH0kUpY4ePzgJ9emDWUPGrdI0L4nqsjXnYWmal0TlPLHjeWmal1S55O/Z8ZI3xJnqHOAgBBRzB8H4ONkgvVsgzW+mMcpn6iR2q+SkCIJG5fKlbNNDP5MOrF5S86rlPGpiFX6YlR3f9jQrm/+n0jQvqSr1ela38hvSNC+pIuVvWMOa26VpXlL96m+z+qz/FGeqM4ilgzA8dBxUdMuoJdK88VAcIwgFysEYEXh/nN73ZxPnTGc/uLk/G5dewe07pw1hA19dy7fLl45gA59PZeWZ09mPlLxTlLzl2uctVrQOAn1W9vloQ2MnDh7gg6dsYPWSzhXtttxJ8PqsrOvgXF9ETJqy/osdnf9n0jQvqXHdHb4oZ/uWEezowr8QZ2p4UB8a7a28ly9fzvvoixeD10PE2kHICrXnfKiMhS+r21uW8HExadJkdovyOubjvSJfPbtJeT9i/GQ2YsgN7KaHPgx83kI5xEFo5QdhjjLga6IDt6xa5D22lqdnaO8VjVDexyKCsGLFij5LcxI0paen8wMdLVcvX+7FSUjjx6tRmhYQ5Rk5O1ea5hT11Umg400dgJG6dd9VZmXfkXZSPWm2cpwSRs6QpjlN147t9oWTcGb/LF+U8/TeGb4o59kD76vlDJO6ujppnxupkpOTu/XTc1/+TDpY2iGpg1C6l/fN9aWlyuvDQWnJj/VnH+Son9trsNslx0QQBioFNkYDht98G9t5mrY7+MEKzRMrB6Gv5OXl6Q2OGrMdmDsJRgehkG+vyFHTCl77jvL+Hr7NHYSXxvHXggI1fc9blD6Ob1/ImsrT1M9R+Os7qn3TDN1+IcewzaV+X8LdL/P3ryrbI/+oXqq5dZxiv38q3+Z5xiWLz/QsKmdqamrE0o6/pszMTNZe9Bo7uuC/SzspM5k5CKPIPiWNb1N5JqTl8+2ssYpdeU/bQ5XXoTNW8e1DM+jYqvYk5XXUgg18e2eSkj9xKt/mxyUpmW9Ho4gGlWy1DVwQ7/lvnqn+Zk0lU6hMiXx79UjavktPG6TkHzRcqW/xnqt8rl5W1qy2iXraDvmuaHTtWIFlg2dbSqLh96bw7TZl+9BM9Xzg9iL1fKDt0GNgp6417vKFk6DXZxhYsUiR+nmtb/j888+FNf4RhETFNm29uk3trdKQRlEDcgzIUdDykO4Xdu29VcIiRRNF4yBcumR+fa5Vq29p0Dyza4d0QO3dQUjk22R/8O21rHE2dY7q4L8naYCyrToQRqkOgvq5IKfAsL3nrSF8e9O2wOeeUd4PHJ+iv9dE+cKJXlA524qLRKnDZ+nSpfrJ396uHu/zx/f0qaM1Ogj0u7WBPRoH4TnlddDEFL5tFN9/Sm43eySiMl5t3CFNk0oM2p3iveYgqIOgOjiWvKXWP20b7aGa/SORdmgW32c3R0B8V5Ctj7Jy0Ax2ENTzhzsI09TzITR/T8fAavnBOSCF6xzYDRYpBgQHwUROXKSoYR458JaonBdPd4pSh4/MQesoFSFMScdkteo/uksZPNTB1KgLa8YaBiF71KcyWjhox0q+GjQldq/JKc4BAQchIDgIJrLLQYg2guAn58AqmrYMZ7UrBkg7Ji/JD4PJxcrVvijnucPzfVHOrkMf9ck5sPOZNnAQAoKDYCKnRRDOtbf5wjk4X/y5pc5BZdr/Ya3Z3WfzXtKl6vW+GEzoKhQ/lLN54zBflLN961N9cg7sBg5CQHAQTOQkB6F5x3ZfOAfNK62//8Gp4kndOiYvqbNkqi8GE7oZVMXiL0vTvKSqT7/KalfeKE3zkqg+q5Z+TZypkWPVWi4ZcBACgoNgIqf8xVD6yccs9/FHpAOql3Rk5gzLnYNLVUrDlnROXlFLdqIymPyHNM1LKl/0JdaQ4f2bBlGb9cudIpvyfiHOVOcBByEgOAgmckIEYeeLv2a7J4hLDj2swhefZ1t+NUKUOnr8MKOuWfovymCidLKSNC+J6rJtyxPSNC+JytlZPFma5iVROU8eek+cqc4EDkJAQQ5CSUkJg4JlNT/OrgtrcQ3Npg/PmCYdUL0kKufeP7wtSh09fnAO1MHk99I0L4mXs0S9P4SXReWkxZeyNC+JykmPY7cCO/9iKN58CAoR4bzVIgAAAACIO3AQAAAAOB47IwhADhyEGICGDQAAwG3AQQAAAABAN+AgxIAPyk6yry4/Kt4BAACIhKd3NfFILIgtcBAAAAAA0A04CDHm1MUrXAAAAHqGogYk9JnxAQ5CjKGGfqDjvHgHAADACPpH5wAHIc7QE8pC/1ujKx5CbfmtZ01t9GrEzBZ6JYWZjX6TETMbyYjVNtmxCfd4hWvDcVWJ5rjiGKrYdQyNeP240m8LLQeIH3AQAAAAANANOAgAAAAA6AYcBAAAAAB0Aw4CAC7k5IUr7L7cOv1/XKfou1nVLCWMB5MBAJwPHAQAXMacIyf4YPyLvGMsrey0o/RqoboAjwQAcDdwEABwGTT4VrRecbToNy6tOSV+MQDAjcBBAMBFbG46w/qvqpAOyk7S1JIT7PsbasSvBgC4ETgIALgIuk78B5m10kHZSaK/G/A3AwDuBg4CAC4CDgIAIFbAQQDARcBBAADECjgIALgIqx2Eif36swTSyGXS9L4KDgIA7gcOAgAuwpYIQu5UOAgAgG7AQQDARUTjIFC0YFnpTvYN5fU3K+sCaSEOAkUUdme9z1/n7u4K5ItAcBAAcD9wEABwEdE6CAmDn1K26/jgr6dJHIS7X8pgFU3lwfkiEBwEANwPHAQHoT3K1SmPXpU9vlZmo0GrrzatzEY0m+zxtTIb7deImc0Lx/XHSr5oHIS5B9Xt3hyE3ZLtSBTqINB2aFmisUVzDCNth0bQNlWsOK6hx+tAx3mxBZwCHIQ4sa5B7UBPXbwiLIETx6udRbQdiJmN9mvEzOaF4xorByFfed2bS38z3BjIF4HgIKg2P7XNSI+r8XhptiV4joejgIMQR+iEeL/spHgHQO9QJ2ylg0CvRmm2bw1WdO9jbK/4bKTCXwwgUuAcOA84CAC4iGgchHBFDkJf/lYwCg4CiJYBGRVwGuIMHIQYQh2m8S8FACIFDgLwC9R+bs2sFu9APICDECO0NQd1Zy4JCwCREwsHwQrBQQDA/cBBAMBFwEEAAMQKOAgAuAg4CMCPULsHsQcOAgAuAg4C8Bv0tyy1JSxYjD1wEGyGLmOkxo3FicAKDn1xnv2vz45IB2UnaXxBG3tse6P41QBEB26iFB/gINgMLU58qbhFvAMgesjhfHZHi3RgdoIWl3YiegCAB4CDAIALoQHYyWo4i6t1AHA7cBAAcDF0i1onCQA72N7axQViCxwEAAAAjkaLTIHYAgfBZtCwAQAAuBE4CDZDl6XhGl4AAABuAw4CAAAAALoBBwEAAICjwSLF+AAHAQAAgKPBWq74cF1TUxODAjp+/Lg4NNaAhg0AANFh52W0TVVtUIg0rps3bx6DArLaQRiaXcsFAADAeVQfbGBzJ6RBBmlwB6GrqwtSZIeDEC5Fb/7ON7KK5vynWH3mDz2v8sV/yyVL84rq1n3P82Uk1ay80Rfl1OQGyEGYn7SS1Ze2QIrgIJgo3g7CzufGsKOz/+h5bf7Fg6LU0VOWfB07vm20p1X16f9mdemDpGleEtVly+afSdO8JD+0WVLtyv9g7SXWTQjsAg5CsOAgmCieDgKxKfEBdmbXDnZhb4mnReU8e8yaJ/11Vn3GO1zWXOJp+aGMJD+U82pDvr/q0wLsXMsFByFYcBBMZIeDEEnDrlq1gg+eskHVS2pJV8tpFdQJnStdKO2gvKIT25/1xaBSnfbPrHb516VpXtLR+X/G6tMHS9O8pOaNwyz5q8HORYpwEIIFB8FEdjgIkS5SpIGzedVy6cDqJVE5G3OzRamj43JXsy8GTyrj5drN0jQvicp5tWG7NM1L8kObJfFyOhg4CMGCg2AiOxyESPniaJkvogjninZbHkWgWbasg/KKKErih0GleeN9vihn3apBvijnyR0vsKML/ps4U50HHIRgwUEwkRMcBIIGzvL3Z0kHVi9p26gR7OAHs0Wpo8cPnS2VsbNkqjTNS6Jynj34oTTNS6Jy+iUqdLGzQpypzgIOQrDgIJjIKQ4C4YcoAsnKKEL9+iGsfvW3pR2Ul+QHR6jr0Ee+KOcXu1/3RTnPHnhfLWcfwSLF2AkOgonscBD62rC3jfkVK0l6VTqoekn73vod2/78M6LU0eOHzrYy9R/55YCyNC+J6vLE9uekaV4SlbOz5G1pmpdECzNPlS8QZ2pk2PlUXDgIwYKDYCInOQiEr6II166JUkfH8b2TfOEk+KGMJD+U83JNli/Kee1YgVpOhwEHIVhwEExkh4MQDYc+mM22jvyldFD1kmrmf2LpXw3UCXn9f11ayFf12T9J07yk8oV/yY6tv1Oa5iVRm23Z/HNpmpdUs+xfWXP+CHGmOgM4CMGKqYNQt2IES+jXXypZflPVr2QJo1PlaRbJaQ4CQQPn2YKd0oHVS6Jyniw9LEodHV3NW3wxI/NDGUkop7fEy+kgYuog5CdLx8JCWd44KW4RhHeUA7GsWp7Wq6pTHe0g1NfXiy1rObYl1xd/NXTkbLY8iuD1/3VPff6GLwaVulXfYFWfXi9N85JqlvVn1Wn9pGleUlPWUFa9/F/FmRoe0fxVq1FeXi62gom9g/B6kK1y/XTFdkOQLZ5yjIPwzrD+7NZhY9icSRRlGCTsHdyjahF5aLtceZ0zRckzdASbM2et/nmrFY2D0NjYyD9fV1cnLCpWNGwaOJtX+uPmSXQ3SUu4dsUXgyeV8dyRRdI0L4nKea1xlzTNS/JDmyXxckaAVYsUqY8uKioS71Ti7SCQ7lfGufR96vaY2/uzW37+DEt69qdK3oF6nqw37mEJA7/Npk16mY+L+cJutZzhIOyZFRQR6Mh5nQ2cslXfThg2iy0b3Z+NWVGh5nF4BIGgz2vSHAUrHISuluZeowjtnymN5tEZ0jRdS8fxhiVNi0AjlX0kvJYmTYtWfY0itLd37zwqP0tgLZsflHZQvenxwf1Zm8TuNF2szPDFoHIi3x+3mm7fMtIX5fxi928jdhKs4NNPP9X76M8//5zbnOAgJD/Wn01Kb2GlC59hN41frdsrU5V+fdQSZbtS+dz3dXt9zofs/tFkD+zDKjnCQch6tT8b/up0NmeOpl8rB2CEnveVm5VB6ObA+1g5CEuXLmUrVqzokz777DO98WmqrQ3/Nss9QQMnPQlRNqiSZtKgHSMHwU4VjHuOFU9+U5Q6fA4fPsyPd6ij0LfONo0fJzc4CCQq44kdz0vTvCQqZ9ehj6VpXhKV0y9RoXOtu8SZ2juyPrcvCu2jN2fmxN9BeER1EMhRSN5iTCtV8t+jfu6xZIPdPjnCQch4vj97p6B7Hk0DacBTpNti5CCQV1mqVEpftGHDhqCGl5qaKg6zNZhGEcTAzyWchNu094oG/uTloHy0Tcf3vtdS+Hbl7MTA5/sNUfMqovf33T1AT1uSpdr1CILxe7nG8fSZdwdsA58QTosx70A1n5n6GkUwHnvNUWja8iirXvp/pR2UmfTfqYichGGG93R8tHyDDDZ6nZ2t2gP51WM3KiWX22ffq9n7s0FjZqj7yTYcl8Hj9H1HqkgdIfq+ofeqv5s0bIrSKSj2rDGB+iapTlIu3x40WLWx5vygPHpZqlXHSlO94bsGDVb3WyJsfdHFyvSIy9mT6PcMMxyD6esLub0+Jfh8UPOHHoPu+7NKF8pXWFpOp+pixSq1nGEi63Mj1b59+4L6CdLRvdWO+YtB7iA87D8HoWPL6yzh8QWB9LIF7MEnZ/Ht3Ek3sp/M3cNaMn8dyOOivxjS09OFxVp2J73Cil4ZLx1UjRGEreOpM04UaYW8Q+ODuxiknxmo5L07MEiTrUBsP6hsv7GwULd/kK7ajX8rhP7FsHWc2vnv2a283zGXb6tp6ndX0rb47k7xmZ50ZOYMtmzi69zBikSLFi3S60ATOQqRd7YmEYT9M7idtjtXPKlvawMmdxC2JRns6jHkDkK5elxUu3pc+AAqHIQLIn9fVbfyJtaw5jvSNJnoOxMmJKvvQ36zMc/q/bStDo5pRSItT/0PNK9QdXw0JSm2UQs28O2dScr+E9VbQvPvShLfFaWoLq2KltDvmpCWz7en028cqTo6ZNccmYeU7UlryHEIOQY2y8pyOlm8nPuniR7OHCv+qiW0fmHhwoXs4sWL3Bb3vxg2vafY1L8PpH8xcMeAHIXgvxjschgcs0jxlWHKDPOuEWzONPp7QV2M2HV8q7I9RM8znD5TQdsViv1Gxy5SpMgDha9CsaphEzSzPrl5g3RQNToIoX830LEdOTs3ZMavRQrUji9IYvCn7RU56j5MHYRN6qD5zGzxu7pFFcQ+hJ3n6UVUzt3pq1hlZWVEysjI0DsA0qpVq9iV821ROwiTfvHNoPKQrWQKbSfqnyE7OQhtYvZptHMHwRgpEOKDr7Br+fsqKuOFipXSNJnoO7XIhrG8JTOMs+dgB8E4+59wpyHS8N1HuU1/r0s9PrQd+K7oFHldmot+F3fqlO3Z9Hu5gyA5H3h0pfsxsFNWltPJ4uUMg0ifiiuD+nijY6DhtMscgxcp3sAqhT1nivLesEhRs1utuDkITlc0DoIZVjkItevXmv/FoKi3CELoIE2vM5cGIgXa3wdG6Z9Tts0cBMqTMPBJ/TMX8mZxW7dIQZgOQtu6jKj/YsjMzBQWdQ3Cmf2zpJ2TuQwOgnEA3xNFBOGQely6RQoscBBO7vxNxAMKfWfCWHFc9N8cPAjStpmDoKtOPVaU9pzyOmhiSrc8lG6Fg1Cz9F/4jXZkaX0R/a7uDoJq7x4piJ2DUJ32z6x2xY3SNC+pIeM2VptxszhT7efSpUtiK5iYOgguEBwEE9nhIFhFT84BadNopYOjTk44CdoaDtLAB5PUfIZBunPhWGV7AN8ueC3wPyzZtMGd3vfkIBS8pn0mIErnf2Fottse5bZwHQQqZ2dNjSh1+GRnZ3f7a+dM3Zo+zsQC/7G3Na8KlEWsNdD+W9fXIAy+i79qg01gDYIaedAGx+fE/9dcYtZthYPQlzLSdw79mfq7SQ/NoFmycV2Fkq5o+kbKHzo4btDzcA0WkRThQGnK4s6FdQ5C3+rSXPS7ZA5CyZTg80F16mLnIFhdTqkMf5cZo2HG42C3eDkdAByEYMFBMJFTHYR97/6B5Y9+SjqgeklH57zX5+iBDOqArtRvlXZOVos6W3W23d2uDUJ26FjmXax2+delaT2JfpdVYf9Y6OiCP2fNG4dJ07yksuQ/Ya25wnn0sI7O/3PWuut5cabGFzgIwYKDYCKnOgi9RQ+8Iiudg/bPX2WVS74i7ZyskTGyoM40VXvwCn9S989ap77ONul3ucVBoBskxWRWHWddrtnoi3Jeql6nljMCrFzLFQochGDBQTCRHQ5CtA17y6+eZHsm/lY6oHpJu8ePYzvGWTej8ENHSw5Qa/ZD0jQvieqyo+AVaZqXROU8vWe6NM1LonJ2Vn0mztTwsGKRohlwEIIFB8FETnMQrl29iuhBH6hb9z3WuC5wvwJPqqnIF07Q2f1zfFHOk7siX2jqRn3x+US1nA4CDkKw4CCYyA4HIRpo0Kz4cI50QPWSNj/0M3bogzmi1NHjh46WythZot5nwMuicvrlroKXazdJ07wkKuel0/ZEAvoKHIRgwUEwkZMchI6yI76IHtjxFMcT28dKOyev6Nzh+bycsjQviRYl+qGcdasGssolfy9N85KaNtzDjs7/M3GmOgc4CMGCg2AiJzkINGi2pK+UDqpeEpWzMXuzKHV0XO5q9sWAwmdh1ZnSNC+Jynmtabc0zUvyQ5sl8XL2kWjXcvUEHIRgwUEwkR0OQl8adk3Gal9ED2rmz7M8etB1aJ60c/KKTuz4NatM/QdpmpdU9dk/WXpTJKfq6MK/ZMfW/1Ca5iVVffpVvjaor8BBiJ3gIJjIKQ4CDZpnC3ZKB1Uvicp5pl59LHa0nK4VD36RdE5ekq9mmxK71+SHcl5t2K6W06HAQQgWHAQT2eEgRErJ1Mls+5hR0gHVS9r7xuuWRw+8Ho5uXPs9ZbZ5pzTNSyqb/yeseeNPpGleErVZvzyQqW33BHGmOg84CMGCg2AiJzgIfvhrgWSlc9Ba8AKrW/kNaefkJflqtilJ85LO7p/li3Ke2fdHtZwOBg5CsLo5CGvWrIEUxdtByHnsF3xmLRtQvaStI3/JCl6xbkbhh462fOFf8fUHsjQvieqS7gkgS/OSqJxdhz6WpnlJVM7TNSvFmdp3YrEGYfk7G6LTuxKbE9XL7wxyEEpKShgUkNUOwo+z67h64+rly76IHpzZtcPS6EFN+kDWmvOItHPyiq4dK/SFE9RZ8rYvyknPzyib/6fSNC+pLe+Xan1agN0OQvHmQ5BBGs6O/XiAcBs2DZp+0ZHkeaLU0UMdEARBztTls43iTAVuBA4CAAAAALoBBwEAAAAA3YCDAAAAwNHYuQYBmAMHwWbCXaQIAABADhyE+AAHwWbQsAEAALgROAgAAAAA6AYcBAAAAAB0Aw4CAAAAR4O/auMDHIQY8PC2Brau4bR4BwAAIBLIOXhoa4N4B2IFHIQYQI37q8uPincAAACA84GDEAPqzlwSWwAAAIA7gIMAAADAkaRWfyG2QDyAgxBjRhc0iS0AAABm0Lot+nv2+mVlwgJiDRyEGDI0u5Y3+JeKW4QFAACAGbdmVostEA/gIMQYchIAAAB059TFK2ILOAE4CHGGIgq3hXjJ21u7uIxYbTvQcT4sGy2wDMdGJ7aZLfSkN7OFLuY0s9HvNBKJjWTEapsfjivJiNU2HEMVq21OP670W6g/nHKgXVhAvIGDEGfohAgNo5GNZMRqm/Z3hxGZjU7WcGz5rWdNbfRqxMwW2jGY2UKjMJHYSEastvnhuJKMWG3DMVSx2uaG4/r0LqzRchJwEBwInUihJ5PVNvLWw7GRhx+OjWYHZrbQmYOZzTibIMxs9DuNRGIjGbHa5ofjSjJitQ3HUMVqmxuOK3AWcBAAAAAA0A04CAAAAADoBhwEAAAAAHQDDgIAAAAAugEHAQAAAADdgIMAAAAAxICi4+fY11dX8Es8ociFR34DAAAA8QcBBAAAAMBGdh8/p0+CR2xrYnk151lF6xUoAr23r4MNSK/kxzD0/loAAAAAiB0IIAAAAAA2UXX6Ip/0/s1nR1heLQIH0Wp8QRs/nrgpNwAAABAfEEAAAAAAbOK90hN8wnv7+hrphBiKTItKO/nx/LulZeIIAwAAACCWIIAAAAAA2IT2mOwfZNZKJ8RQZEorO82PJwkAAAAAsQcBBAAAAMAmEECwVgggAAAAAPEFAQQAAADAJhBAsFYIIAAAAADxBQEEAAAAwCacHUAoZhP79WcJRo1cxnZL8zpDCCAAAAAA8QUBBAAAAMAmXLMCIXcqAggAAAAA6BUEEAAAAACbiE8AQVtZcCP7xmDD6gKuRPZeseQzPQUQtLTByv6C9kW2p9j8gyH5bRQCCAAAAEB8QQABAAAAsIn4BhDuYK9u6tLtGVPVSf8ji1sNeYXCCSA89AnLMdjzFz6m2n+zge012O0UAggAAABAfEEAAfiW9Q2nuXNvRn7rWd1RJQ3NrhUp3dEmCZHkI5kR+t1mhOaj92b0JV9Px4fKGWm+WB5DHGu0VyPxOoY/FvuLTwDhKTbXsDog6gBCSFrWO3eo9tfz2GGD3U71FEBAO4zfuWwGjjWOoRGnH8NTF6/oeQZkVLD3y06KFACAEQQQgO8IHUiWVH0hUoKhgYTyajrQcV6kdKfuzKWI85HMCP1uM0Lz0Xsz+pKPfq8ZVE7te8PNF8tjiGON9mokXsfw5eIW3s84MoCgBQZMNDFXfLaHfN94ZplyDALfYbd6CiCgHcbvXDYDxxrH0IjTjyEFDLT+5fplZT0eQwD8DAIIwJfQAGIWOAAAAKvQ/klz/E0Ue1JPqxNiLFzCAACINxT8WNdwWrwDwH8ggAA8CUWNRxc0IXoMAIgrCCBYKwQQAADx5LbMar0PIuHPKOBHEEAAnsO4BI309K4mkQIAALHFEwEEBwkBBABAvKGgwa2Z1fiTCvgWBBCAJ6FO/aGtDT1eEwcAAHaDAIK1QgABAAAAiC8IIAAAAAA2gQCCtUIAAQAAAIgvCCAAAAAANoEAgrVCAAEA4DTokgatXyL19MQKALwAAgjA9dDdcKnDpmf20iPT0HEDAJzCmvpO3j/9e3qFdEIMRabpe9R73Ny8rkocYQAAiD90TwTqm+jxjxQ4BsDLIIAAXM9L4jnrJOrAAQDAKZy7cpX92+oK3j9hFUJ02lh9Tu/r4aADAAAA8QEBBAAAAMBmHtveqE9+79pQx94uOcFya85JJ8pQQHTJwviCNv3YkU5ewJ3PAQAAgHiBAAIAAAAQI451XeKrpm5ZXxU0KYbk+odlZTz4sqCiQxxBAAAAAMQTBBAAAAAAAAAAIAqMwU9cZgW8DAIIwPX8OLtOF90JFwAAAAAAgFiCAALwCwggANeDDhsAAAAAAAAA7AcBBAAAAAAAAAAAAPQKAggAAAAAAAAAAADoFQQQAAAAAAAAACAKcEkt8AsIIADXg5soAgAAAACAeIIAAvAL182bN49BUE86fvy4aC7OBB02AAAAAAAAkVN9sIHNnZAGQaZKnbJWtBYVPYBQU1PDurq6IIirs7PTNQEEAAAAAAAAQORoAYT5SStZfWkLBOnatWYfAghQ+PJrAOH43j1sU+IDkAdVuzZD1LIzuHb1EitLvg6CIAiCoAhVseTvxGgKogUBBMhMCCBAEcnPKxDONh3TJ52VH3/ILuwtgVyuvCce4/V5ZEGyqGXnUJ7yJe4MteY+ylhzCeRSXaxM1x3bM/vfk+aB3KP2rU/p9Xnu8HxpHsg9asi4Ta/Pa8d2SfNA7tGp4sl6fV7uahKjafxx6yW1CCBAZkIAAYpIbgogUCetKb/1rLBGx9VLl/QgQuk706WTUshd2vX8s7w+9/7hbVHLzqEm/ZvcEWpcd4fUWYLcoWvHCnSntqPgZWkeyD3qLJmq12fnnmnSPJB71JY7XK/PixUrpXkg9+jsgTl6fZ5rKxSjaXxBAAHymhBAgCKSmwIIdnbYOY8/ok4633xdOimF3KWSpFd5fRa8PF7UsHM4lv0Ad4Rqlv2r1FmC3KPyRf+D1yVNWGTpkHt0sWKVPkk5uUvpNyR5IPfI+M/1mf2zpXkg9+h8WSo7uuAveH2erl4hRlMQKQggQGZCAAGKSLiJYoBdE8bxSefu8eOkk1LIXTo0fSqvz7yRT4gadg5tu8dzR4gmoDJnCXKPapb9G6/LY+t/KE2H3KNrjTv1SWdbntJvSPJA7tG5Iyl6fXYUviLNA7lHl2s3s6rU63l9njz4rhhNQSQggACZCQEEKCIhgBAMLXunSWf+6Kekk1LIXaqc+z6vT9LFzlOilp1BR+n7unNLS+JlDhPkDjWu+yGvx5rl/y5Nh9ylo/P/nNdn04Z7pOmQe3SlLkfvZ9vyHpfmgdyl2hUDeH22FrwgRlMQLgggQGZCAAGKSAggdKcsZSGfcOY8+jA7s2uHdGIKuUcNny7WgwidVZWilp3Bmfr1unNLS6hlzhLkDrXlPsbrsXzRl6TpkLtUsfjLvD7rV98iTYfcpbLkP+H1eWz9f0rTIXepYc3tan1mPyBG09hi5yW1doIAAmQmBBCgiOT3myiaUb8hS590ntiUJZ2YQu5R+/q1en227i4QtewMLpw8yB0h0tkD70udJcgdohsqanWJVSXuV82y/rwuq9O+Jk2H3KUKERSqXfF1aTrkLtEKIV6fGTeL0TR2IIAAeU0IIEARCTdRNKetuEifdDatWCadmELu0ekd2/T6rF0f3EHGm6sXO/WJ5xe7fyt1liB36My+P+p1iVUl7lfD2u/xuqT7lVxt3CHNA7lHtStu4PVZkfI/pemQu6Q9caMi9R/EaAp6AgEEyEwIIEARCZcw9Mzp2lp90lmz4BPpxBRyl3If+wWvz7KF80UtOwftrv7tW56UOkuQO3ThaBqvRxJWlbhfQY8FrEyX5oHco6YN/6XXJ1YKuV8ndjyv1+eVCx1iNAUyEECAzOTpAELdihEsoV//yPRugXRflql+K5vz7kpWJ0tzgRBA6J1LZ8/qQYSyWTOlk1LIXdrx7NO8PvfNmC5q2TnUrPoGd4SaMu+WOkuQO3RFGRs0pxarStyvU0Vv6vXZdfAjaR7IPTqx49d6fWKlkPvVWfK2Xp8XTuwXoykIxbMBhPxkNlw2BxS6acg9bPizk1lyeqn885AfVyAUsHd4AxnBllXL0m1UdSobQd89OhUBBB+QI/653j/5TemkFHKXil6dwOuz4JUJooadQ2P2/dwRql35H1JnCXKPyhf+Ja/L9i0jpOmQe3T+6Gf6JOVU0VvSPJB7dPbAB3p9YqWQ+3XuyCK9Ps/U2XuZ4o+z63QtqfpCWJ2P9wMIr7MsSXplUSnL+XAcu3+gCCg8u4yVSvL5WQggyPKcrme5837NRgwbxBtOws23sQdfnMwy9rcG5evYPpn9iKePYBnd9nWIpTxO33MjG7Oigu18V22EwZrMdgZ9xvmKZwAhIyODpaens7q6OmHpme2tXbrqzlwS1tiy8zcv8Eln0cvjpZNSyF06+PZkXp9bnnpS1LBzaC1Q/yGrWPy3UmcJco+0m/E1ZQ2VpkPu0ZX6PH2ScmL7WGkeyD26WJmh1ydWCrlfl2s36/XZcXiOGE2tJ9b35DKjqqqKLVy4kBUVFbGLFy8Kqzl+DSAYVTjzp+qcbdSS7kGEokK2dNozLHHIDWqegd9m9496nS3OqgzOZ1Bp1hI2adRd7BYxF7xl6MPshWmZbO9BeX6nCgGEoLR6lvH8jUqaMulPOcQ6jGnHNrEpw+hzd7M5ewz245vYxJvJPoRN2d6h2irESoOble+oMOTFCoSoSU5O1r+f1FNAwSkd9p5pU/ikk5bByyalEWlHGkt+bRZrlKWFq6XjeKdFGjk7V54nVsqZwUaK35LwWpo8j8NU8eEcXp+kK+fPi1p2BicPvqs7QzG/Vrc8jS2aMou1ydKgiNW49ge8HutWfkOaDrlLZfP/lNdnS3aiNB1yk4r1fhYrhbwhCrxTfbbtdt4KQ6uhIILRj6aAwueffy4NKCCAQMphk3je77Np64Vtn2IbSrYb2Ig5e4Pzb1nCXvghpd3FJq2p1+2VaS+zm2g/Q5XvLDLkLy1lS8d/n/vBie+F7MvBQgDBkFY8dwivwBFLK4LsulrXslfoszdPZ8VBaa0s61UKPPRnw5/8ORuovA58PpWVB+VRhACCJdBKBO03hCqSFQqx5Mj8eXzCmfvLR6WT0t6VxmZS2yE9OsM7AQSXquHTxXoQ4UxDg6hl+7h69SpLTU1lWVlZrL2952DY6ZoVunMbm2t109hsrW2OnIEAgoVqzX6I12Plkq9I0yF3qSLlb3h9Nq77gTQdcpfKF/01r0+sFPKGqpf+P16fx3IfEqOpdwkNIhhlDCgggEAqZcmPqT7OpHR6X8/Sx6vvX0oNBAiClcmS+P6fYUspWLBvNXuJ3g8M5/vcIQQQdHs9WzZabRC9S756Qf/8sOmsuCM0XZHHAghO18qVK9nJkydFk44/NWtW65POs4W7pBNTqQwT/iCFBBLa18xiM0fexYaIa7Zuu/un7NXfp7DGYsO+SNIAQiEreE0NoJHuey2NdRo+07j4Lfbqg9/iwbGEgd9iD44cx9auydfTNRW8pn4+oV8iW7Epl22d+Ci77zbVdtsDT7IlK0I+I1uBYFZeXeNYgXEfO1axta8Zvieccv8xhW16/i412Pf9n7Il60LyhqH29Wv1+mxX3tsNBRFC23hmZqY0oHC+/XPuCJFsvVY326SuDIGEzh2z2Oyxd7E7Bmvp32TDRo5lq3fkd9+forb1SWzCvd/keW+/91H28cZcVp+SqO97dnZw/s4dM9ik4d9ig5S0QXfewyalrGUXDL9rVEpuUH5WvoplTXmUDfuumn77vT9lSbNTWFujIQ/JuI8FKSzv1bvEd/yUpRWG5LVRJ3e8oNelbatKgo7XBlafPk6vA/2Yhn6mMZftnP0kGyXyqXnvYhNmhB7LXLZ6pJpO527etrfYKH7slXbwVrLYby4rke1ryixWUW3cl5DL6tCo6qVf43VZu/zr0vR4qs14nm3MZxUpY9njdw7g7wfdmchmp2+Qf279WyxJnIMJg7/FHho7jmV1O7/DaQfuU3XaP/P6rFt5kzQdcpca1nxHPT/X3CpGU+ugP7dCx3Cna/78+eyjqSk+DyBowYB72Ac59F4LKDzOkvND82oKCTqkv863Ex5LZnul+d0nBBAMacXvqasIRqyoD7L3qmNr2Sv8MgZln/u1SxpCLnUgYQVC1FBElKKj2m8wyqmrD4y07NqhTzpPZm+UTkzl6mEFQtZU0REqk+EnprI928heyBrnj2X3afZxyYGAQEgAoVN5r+d7YgarlO57AHtm+io+Ub6wey1b8YTqVCYMHMu27g7kDwQQlH09mMQK+G/JDwpOPDhdmYxo+w/nEoYCpex3B/YbCG4Usq3jxO+4eyzblKfmb18cKM/wdzYE9hMUmEhkS7IK1fzbugdCwtXpHdv0+mzYvFHUsn1oKxFk7Z9kDChcPteqTzztvVbXbAVCYMIwaMwMVi8md50rxqoTDbJPSxN5FR2ZxSZo+7l3LMs7RPZCVp/6JBuq2RUFAgir2Mc/EvbBiSxNTFg6s5PY44b8gQBCIduZJNqLvn8l//pxbJjI+/gnhglSUHBE2X9RoZr/iDzwYac6S6bpdWnLqpKgsg5hSWkiYHAkhc2+N2D/WDmftfxqHQ7hE01uq1vFFv1Cy5vIssTxDZ449mdDlcliJ7WFOqXvoeDAnhlslJ6Wwjr5Z5R6/yQwmU1aoR1z99ahUQ0Zt/G6rFj8ZWl6vGQMICTc+zTLEserfkGifs4mJBkm+0VTxbk2gD330Sq17urWstVjRB0NHst21mn776UdaPt0oeozvs3rs3LJ30nTIXepZfODan1+ej0fS63AaTdR3LFjh9SHCL2cASsQWljOJPXygptezmSV3NaHFQhFy9gL9H7gZJYjzZ/Ppg39Nrv/gcksyyX3QkAAISgtcOPD4XMLWIsx7XQFW8bvj9Cf/WTuHt3ekfO6+q9s0KqDwGqE4SmH9LxdXVvZFMo7dFbIJRDuUTwDCNShad9N6i1g4ISbKMrYnfQqn3AWvRLJjRXNAgir2Ad3CPv9U4Mn/4o6F45V0xS9Ok9MlE3+4Q8KMnDlshWPds8XqpF/DEzSg1Yg5Bj2ZRYo6CWA0Ph+onp+cd2jTPoN6SblCJZhtYIxcGL4zdHqyMwZvD6XTXw9qH3GWxRMaNj1OneEji7471JHyRqFcQlDdS6ryE5mq2eP1f/Z5poSCCAcmiYmHf1+ylbvCf58/QJxEyNFWgChLTUw2Zm+MTg/2xioaz2AEDSZNNM4VqLtw5B/1AL5P6+xVN2qm3hd0j9ksvSoZCxr6IqN5hQ2XaQljAm9x0Uh69yziu1Mm8qmv3iPYZVJIlu9X8sT/M+zfnw11Sn71z+n6Zts2NixLC1tVfCqApfXoSZaSUJ1STqx/TlpnngoaAVC0Eof2TkeHBAwU+C499IOXKyg+tzxvDQP5B5dO7YrUJ/7pwnPLTqcck8uwhg8oBUGZvc/IPz7FIa9LOu9wFMYhr6eI4IHQr3dA4GnfZ8lrQjjHggH97LkkXQTxht6CEg4TwggyPKEPoWh343sBw+NYe+s3WMIKnSwne/ezdMHTtoUfMNFoeK5It1wP4SOQ6ls4uPafkewjPrun3Oy4hVAOH/+PFu7dm1EKwyc1GFrbBvzKz7ZjPzRjnYFEIawmfNnsTdEJ5kwcpa6yoDLGEAIuWzARNYFEDYEBS+6rYwgGQMC4dzLIdL8YWjPxCRen9uff1bUsL188cUX+vkXqtDLGZq2Ps4doOq0flInyTqZBBCME8PBtLR9BsvbtoF1FgX+cY5XAKH7JFmiSPPbqMrUf+R12bL5Z9L0qNXjRLt7AKH+k3v0/LePpIl+Gqs4VMh2ThH5IgkgGNRZmKIGmX4mlsNr0tqVi+tQk/Eu/qcc9mjHvgcQwgkIeDOAQCuCtPrsLJ4izQO5RxcqAvcQ6qxMFaOpd9i9e3fYT2AgvB9AkOuWofewMeM/ZEs3mT9Ngasony1+/Sl2v+EpDInPvseW5vTwFIY1yYanMNzAvjvsKTYtrVSa18nyYQABikZOuIliuOS3ntUV9xUI167xiSap7I/vSCejPcsQQLj/LXZYsXUWqEvwL6QnGS5BiPwSBnX/q9gH2mUCDxgCEUH7VibxdLlCcT7bql+SELwqwIoAgvGSCh7gWCrK2U35bNNobdKp5FusBkg6s2awZ0RAZOD4lF7K3Xft+vWzvD6L3vydqGR7CQ0emN3/gKjPvIM7QLS0VuYkWSvD5CLxLVah2C5UFzKW93LgUoUXlYknX668lmVNCFzOYgwgmF7CYFw+rajXSxgMy9lJgYljPst7MdBeZq9X818omsGeE4GOQRNTAsuzHTH5DNzt/Xj+M5J0i2Qoa9By9PJVLE1bjq6c62lFlD+XZY3R8t7DPs4Tx50uHenDCoTOtEdFmvheseLAWC8JL84Vlza4sQ4D6jr4kV6fZw9+IM0TT0UWQFC0LUk/1/hlSnS5QmM+2zklMD6obYbkvQDC6b3v6PXZdThZmsc12i8P7JZIg4Im7cHlOrN/VqA+m7eJ0dTfeDaAAEUtBBCgiOSmAIJTOK8cJy14UP3Jx9LJaFjalsI+eEzcyLDfN9l9j03lgQQtvT0rmSWPvifoJopvvJNmWFEgZDqRNqw4uCOJ7TF8JugmioqjP+TBJ1ny4u6TcCsCCMb7KJhp5lLDvkNuophw2xD24muz2OEdhjwkCwMIeU8M5/V58P1ZopbthYIH4TyBgahapt5JunnjMKmTZIuOpLCPR2n/Gn+TDRs1lQcSyL7oxXvY7Zpd3FwtcFNE4wRDFd3A7zl+47YB7I7hY9nqwkLDxOY7gevwhTrzprKkXwTfdNE4cQxcPy8UcgO+hO8OUW/WV27IQ4rz5PNSdabuzNr+T3VQWTewzo2BG1nym+dp90TQVcgq0rR6ojz3qDcxrFMmFt0m8uFMHPP5/oJWHij1MurFt9hO/V4KBrmkDo06ufM3en1eKF8uzRNvRRxAEAq6iSI/b59ki9aHHm9vBRDat/5Kr89L1euleVwlnwcQOgpeDtTn6WoxmgIEECAzIYAARSQEECLji6NlevCgcemn0sko5B7R0zO0+qxI+1TUsnPQnjV/fNvTUifJ0TKsWEj40Ti2U5sMGm/k96MkdkjLf2gWe07Lrzi3adplD8abuPV7kuWFTipdoHOlC3RntuvQx9I8lsph/9R7TS2bH9Dr80p9njQP5B4dW38nr8ujC/9CeV/cLR1yl9pyh+vn57Wr9qxWpctoNdGqWLeAAAJkJgQQoIiEAEL4GJ+4QI/8k01IIffoxMZMvT4bNm8StewMgp648PlEqZPkClVvYHn0OD/jP9Gmj4Uj5bJDKePYhMQhYpUD6Zts2EjZP6DuUGfJ23pdXqxaI81juRBAsE0N4g79FYv/VpoOuUs1y/+d12d12j9L0yF3qXGderlf5WcJYjS1ByfekyscEECAzIQAAhSR3BRAiGeHXbt2jT7ZPLU1TzohhdwjWj2i1Wd7SbGoZWdw/njgOnknXlcNha+TO8fxeixf+Jfs2jH1EXqQe1Wd9jVenzXL+kvTIXepYvGXeX3Wr/6WNB1yl2qXf53XZ+2aW8VoCkJBAAEyEwIIUETCTRR7p2zhfD7RzH3sF+x8SZF0Qgq5R5VzP9CDB6frakUtO4PTtau5A0Siu4HLnCTIHWrNeYTXo/1PzYBioYqUv+H12ZChTE4k6ZC7dHT+n/P6bNpwjzQdcpe08/NYzs/FaApkIIAAmQkBBCgi4RKGntn7h2l8orl99K+kk1HIXTo0bYoePLh05oyoZWfQcXg2d4DKF/4Vu9q4U+okQe5Q47of8rqsX32LNB1yl47O/zMx2bxXmg65R1cbd/C6JLVveVKaB3KPrtRm6/XZWvCCGE2BGQggQGZCAAGKSAggmLPrpd/wiebu8S9IJ6OQu1T82su8PvNGPC5q2Dm07X6JO0DVS78mdZIg96hWXFPdjMmm62WcbLbl/VKaB3KP6GkZWn3SXfpleSD36NyRRXp9njwwQ4ymsQE3UYS8JgQQoIiEAIKcvCcf45PNvW8kSSejkLu0Y+xoXp+7xo8TNewcjuUmcgeoPuPbUicJco8qUv4nr8v2LSOk6ZB7RJcQ6ZOTnS9K80DuET06VavPM/tmSvNA7lFnyRS9PjurlorRNHbE855c0YAAAmQmBBCgiISbKAZz7coVPtEkHf7D29LJKOQu0b0rqD5Lpk4Wtewcateod3Rv3vgTqZMEuUPXmnbrzmxHwSvSPJB7RBNMfXJS/HtpHsg9ast9VK/P80c/k+aB3KMTO57X6/Nc604xmoJwQAABMhMCCFBEclMAwe4lY+faWvXgQcWHc6STUcg96ty2JRAM+niuqGXnUJH6j9wBat86UuokQe7Qpaq1ujN7Zt+70jyQe3Q8f4xen10HP5LmgdyjhjW387osX/TX7EpdnjQP5B61ZD+on5+XztSJ0RSECwIIkJkQQIAiEi5hUOkoPaxPNutSFkgnpJB71LZmtV6fVSuXi1p2DpoD1FH4qtRJgtyhrsOf6HV5vmyJNA/kHjVt+C+9Pi9UrJDmgdwj/bGbS/+fNB1ylxrXfo/X59GFf8XYtatiNAWRgAACZCYEEKCIhAACY035W/XJZvOq5dIJKeQe1S9ZpNfnsbxcUcvO4PLZY/oEBdfhuluniifxeixP+RK7XLtZmgdyj+pWfZPXZ+WSr7Ar9VuleSD3iM5Lqs+GjNuk6ZC7VLPsX3h9Vi//NzGaxpftrV26YvlY8WhBAAEyU68BBAgykx8DCFUrV+iTzRMbs6QTUsg9Kn9/VqA+9+8TtewMzrUVcAeIdL4sVeokQe7Q8fxneD2SUytLh9ylqk//t1qfy/9dmg65S2XJf8Lrs3njMGk65CI1FbHyRf+D12d95p1iNI0/sbgnlx1oAQQIMlO3AIJ4BcC1WN1hH577AZ9o5j7+KGvNSIdcrgNTJ+nBgzONDaKWnQHdJZocILpLf9eheZCLpS2jpWurZemQu6RNThrWfEeaDrlHZ/bP4nVJat/6K2keyF3S6rN56y/FaAoAiCUIIADXY+VNFIsnvaFPNiFv6fK5LlHLzuDE/mm6EwRBEARBUPhqL/qtGE0BALEGAQQAAAAAAAAAAAD0CgIIAAAAAAAAABAFbr2JIgCRggACAAAAAAAAAESB1ffkAsCpIIAAXA86bAAAAAAAEE/oPlyasAIBeBkEEIDrGZpdq2tJ1RfCCgAAAAAAAADAShBAAAAAAAAAAAAAQK8ggAAAAAAAAAAAfYQuWdBuoAiA10EAAQAAAAAAAAD6CN2DS7sf1/XLyoQVAG+CAALwBNRZax3307uahBUAAAAAAAD7OXXxCr8X17qG08ICgDdBAAF4ArrjrRY8oG0AAAAAAAAAANaCAAIAAAAAAAAAAAB6BQEEAAAAAAAAAAiT98tO8pWvAzIqsPIV+A4EEIBnoTvi3pZZzTt4eqVr0wAAAAAAAOgr5E/eKvxLEgIIwG8ggAA8i7GDp1cEEAAAAAAAAACg7yCAAHzP+obTCC4AAAAAAAC+gnV0QRP76vKj/BIFAEAwCCAAX0NPbdCWoJHMMD7ft6d82tMgIs3X0/K3vuSj32vG0OzaiPPRthnGYxNuPpIZOIY41kaccKxJZuAY4hgawTH03zE0A8fa3cfw66sr9HwPbW0QVgAAgQAC8D0Uaaab4ZDM8NKgCMfCG8cQxzoYO481yQwcQxxDIziG/juGZuBYu/sYAgDMQQABAAAAAAAAAAAAvYIAAgAAAAAAAAAAAHoFAQQAAAAAAAAAAAD0CgIIAAAAAAAAAAAA6BUEEAAAAAAAAAAAANALjP1/XAwlW4Ttm3QAAAAASUVORK5CYII=)\n",
    "Los modelos incorporados con Spacy se pueden encontrar en su[ web](https://spacy.io/usage/facts-figures#benchmarks). Estos objetos permiten procesar documentos completos y extraer información de ellos como los tokens, PoS, o lemmas.\n",
    "\n",
    "En primer lugar cargamos el modelo:"
   ]
  },
  {
   "cell_type": "code",
   "execution_count": 28,
   "id": "057634e2-8dcb-4529-8380-3d90d9c806f5",
   "metadata": {
    "tags": []
   },
   "outputs": [],
   "source": [
    "import spacy\n",
    "# Cargamos el modelo preentrenado con textos en ingles (\"en_core_web_sm\")\n",
    "nlp = spacy.load(\"en_core_web_sm\") #"
   ]
  },
  {
   "cell_type": "code",
   "execution_count": 29,
   "id": "6adfb2d2-a473-4b4c-bfd4-45c6c6f20827",
   "metadata": {
    "tags": []
   },
   "outputs": [
    {
     "data": {
      "text/plain": [
       "<spacy.lang.en.English at 0x26221cbdad0>"
      ]
     },
     "execution_count": 29,
     "metadata": {},
     "output_type": "execute_result"
    }
   ],
   "source": [
    "nlp"
   ]
  },
  {
   "cell_type": "markdown",
   "id": "a4f2f230-adac-4f10-b2f5-3cf0d80c3e71",
   "metadata": {},
   "source": [
    "A continuación, agarramos el mismo subset de noticas y aplicamos el objeto nlp "
   ]
  },
  {
   "cell_type": "code",
   "execution_count": 30,
   "id": "255f2b47-d6c0-4be7-8f07-512b08e348cf",
   "metadata": {
    "tags": []
   },
   "outputs": [
    {
     "name": "stdout",
     "output_type": "stream",
     "text": [
      "<class 'spacy.tokens.doc.Doc'>\n"
     ]
    }
   ],
   "source": [
    "# Subset de noticas\n",
    "subset_noticas = texto_noticias[0:100]\n",
    "# Obtener una lista de objetos de tip ospacy\n",
    "documento = nlp(subset_noticias[4]) # procesamos documento con nlp\n",
    "print(type(documento))"
   ]
  },
  {
   "cell_type": "code",
   "execution_count": 31,
   "id": "da093845-ad32-4c3c-bfa7-e347f0ec31d9",
   "metadata": {
    "tags": []
   },
   "outputs": [
    {
     "data": {
      "text/plain": [
       "Hotels in Maharashtra will train their staff to spot signs of sex trafficking, including frequent requests for bed linen changes and 'Do not disturb' signs left on room doors for days. A mobile phone app called Rescue Me, which will allow staff to alert police of suspicious behaviour, will be developed. The initiative has been backed by the Maharashtra government."
      ]
     },
     "execution_count": 31,
     "metadata": {},
     "output_type": "execute_result"
    }
   ],
   "source": [
    "documento"
   ]
  },
  {
   "cell_type": "code",
   "execution_count": 33,
   "id": "40c6a30e-7e2b-4ad5-a868-4a8775f64b6d",
   "metadata": {
    "tags": []
   },
   "outputs": [],
   "source": [
    "# Para multiples documentos\n",
    "lista_documentos = [nlp(noticia) for noticia in subset_noticias]"
   ]
  },
  {
   "cell_type": "markdown",
   "id": "7f106fd8-cfda-4a28-b711-8af0e66dd99e",
   "metadata": {},
   "source": [
    "Podemos segmentar el documento en frases"
   ]
  },
  {
   "cell_type": "code",
   "execution_count": 36,
   "id": "1f3ac931-a8ef-4049-912d-7f9dd8c32418",
   "metadata": {
    "tags": []
   },
   "outputs": [
    {
     "name": "stdout",
     "output_type": "stream",
     "text": [
      "La oracion número 0 es: \n",
      " Hotels in Maharashtra will train their staff to spot signs of sex trafficking, including frequent requests for bed linen changes and 'Do not disturb' signs left on room doors for days.\n",
      "La oracion número 1 es: \n",
      " A mobile phone app called Rescue Me, which will allow staff to alert police of suspicious behaviour, will be developed.\n",
      "La oracion número 2 es: \n",
      " The initiative has been backed by the Maharashtra government.\n"
     ]
    }
   ],
   "source": [
    "# Segmentar el texto  en oraciones\n",
    "for num, sentence in enumerate(lista_documentos[4].sents):\n",
    "    print(f\"La oracion número {num} es: \\n {sentence}\")"
   ]
  },
  {
   "cell_type": "code",
   "execution_count": 38,
   "id": "d09a13f1-b175-4ba5-aba6-7a5628a937c0",
   "metadata": {
    "tags": []
   },
   "outputs": [
    {
     "name": "stdout",
     "output_type": "stream",
     "text": [
      "La oracion 0 tiene 35 tokens\n",
      "[Hotels, in, Maharashtra, will, train, their, staff, to, spot, signs, of, sex, trafficking, ,, including, frequent, requests, for, bed, linen, changes, and, ', Do, not, disturb, ', signs, left, on, room, doors, for, days, .]\n",
      "La oracion 1 tiene 23 tokens\n",
      "[A, mobile, phone, app, called, Rescue, Me, ,, which, will, allow, staff, to, alert, police, of, suspicious, behaviour, ,, will, be, developed, .]\n",
      "La oracion 2 tiene 10 tokens\n",
      "[The, initiative, has, been, backed, by, the, Maharashtra, government, .]\n"
     ]
    }
   ],
   "source": [
    "# Ademas podemos dividir cada frase en tokens para la noticia 4\n",
    "for num, sentence in enumerate(lista_documentos[4].sents):\n",
    "    print(f'La oracion {num} tiene {len(sentence)} tokens')\n",
    "    tokens = [word for word in sentence]\n",
    "    print(tokens)"
   ]
  },
  {
   "cell_type": "markdown",
   "id": "d1241a6d-dbb5-4167-bd2e-45b83096980d",
   "metadata": {},
   "source": [
    "## Tokenización"
   ]
  },
  {
   "cell_type": "markdown",
   "id": "6358ae61-49f2-476f-804d-aa34caa60d87",
   "metadata": {
    "tags": []
   },
   "source": [
    "### Unigramas, Bigramas y N-gramas\n",
    "En ocasiones, la información proporcionada por un token no es suficiente. <br> \n",
    "Existen palabras que tienen relación con los términos previos y/o posteriores <br>\n",
    "Desde un punto de vista __naive__, la manera de conseguir el contexto de cada <br>\n",
    "palabra es mediante los n-gramas. <br>\n",
    "<br>\n",
    "Los n-gramas son secuencias de n tokens consecutivos provenientes de un texto <br>\n",
    "La combinación de n-gramas puede proporcionar información sobre la temática de <br>\n",
    "un texto. Generalmente se generan unigramas, que son iguales que los tokens del texto. <br> \n",
    "Los Bigramas, que son combinaciones pareadas de tokens y los trigramas que son triadas de tokens."
   ]
  },
  {
   "cell_type": "markdown",
   "id": "aa493b0d-7605-4408-b126-d2dcf66c8060",
   "metadata": {},
   "source": [
    "### __NLTK__"
   ]
  },
  {
   "cell_type": "markdown",
   "id": "610294a8-dd82-4d6d-9c98-de40a48df560",
   "metadata": {},
   "source": [
    "En NLTK los ngrams se consiguen a través de un método dentro del módulo util de <br>\n",
    "la librería."
   ]
  },
  {
   "cell_type": "code",
   "execution_count": 43,
   "id": "c1811855-445f-409f-8545-77175803c4c1",
   "metadata": {
    "tags": []
   },
   "outputs": [
    {
     "data": {
      "text/plain": [
       "\u001b[1;31mSignature:\u001b[0m \u001b[0mngrams\u001b[0m\u001b[1;33m(\u001b[0m\u001b[0msequence\u001b[0m\u001b[1;33m,\u001b[0m \u001b[0mn\u001b[0m\u001b[1;33m,\u001b[0m \u001b[1;33m**\u001b[0m\u001b[0mkwargs\u001b[0m\u001b[1;33m)\u001b[0m\u001b[1;33m\u001b[0m\u001b[1;33m\u001b[0m\u001b[0m\n",
       "\u001b[1;31mDocstring:\u001b[0m\n",
       "Return the ngrams generated from a sequence of items, as an iterator.\n",
       "For example:\n",
       "\n",
       "    >>> from nltk.util import ngrams\n",
       "    >>> list(ngrams([1,2,3,4,5], 3))\n",
       "    [(1, 2, 3), (2, 3, 4), (3, 4, 5)]\n",
       "\n",
       "Wrap with list for a list version of this function.  Set pad_left\n",
       "or pad_right to true in order to get additional ngrams:\n",
       "\n",
       "    >>> list(ngrams([1,2,3,4,5], 2, pad_right=True))\n",
       "    [(1, 2), (2, 3), (3, 4), (4, 5), (5, None)]\n",
       "    >>> list(ngrams([1,2,3,4,5], 2, pad_right=True, right_pad_symbol='</s>'))\n",
       "    [(1, 2), (2, 3), (3, 4), (4, 5), (5, '</s>')]\n",
       "    >>> list(ngrams([1,2,3,4,5], 2, pad_left=True, left_pad_symbol='<s>'))\n",
       "    [('<s>', 1), (1, 2), (2, 3), (3, 4), (4, 5)]\n",
       "    >>> list(ngrams([1,2,3,4,5], 2, pad_left=True, pad_right=True, left_pad_symbol='<s>', right_pad_symbol='</s>'))\n",
       "    [('<s>', 1), (1, 2), (2, 3), (3, 4), (4, 5), (5, '</s>')]\n",
       "\n",
       "\n",
       ":param sequence: the source data to be converted into ngrams\n",
       ":type sequence: sequence or iter\n",
       ":param n: the degree of the ngrams\n",
       ":type n: int\n",
       ":param pad_left: whether the ngrams should be left-padded\n",
       ":type pad_left: bool\n",
       ":param pad_right: whether the ngrams should be right-padded\n",
       ":type pad_right: bool\n",
       ":param left_pad_symbol: the symbol to use for left padding (default is None)\n",
       ":type left_pad_symbol: any\n",
       ":param right_pad_symbol: the symbol to use for right padding (default is None)\n",
       ":type right_pad_symbol: any\n",
       ":rtype: sequence or iter\n",
       "\u001b[1;31mFile:\u001b[0m      c:\\users\\eugen\\anaconda3\\lib\\site-packages\\nltk\\util.py\n",
       "\u001b[1;31mType:\u001b[0m      function"
      ]
     },
     "metadata": {},
     "output_type": "display_data"
    }
   ],
   "source": [
    "from nltk.util import ngrams\n",
    "?ngrams"
   ]
  },
  {
   "cell_type": "markdown",
   "id": "e5445b56-2dcd-42fb-9d2b-09dcc37ac8c1",
   "metadata": {},
   "source": [
    "Vamos a generar una función para crear n-grams de distinto tamaño."
   ]
  },
  {
   "cell_type": "code",
   "execution_count": 44,
   "id": "b005d067-9670-4c5c-9270-322c410f93b4",
   "metadata": {
    "tags": []
   },
   "outputs": [],
   "source": [
    "from nltk.tokenize import word_tokenize\n",
    "from nltk.tokenize import sent_tokenize\n",
    "from nltk.util import ngrams\n",
    "# Funcion para extraer n-grams de una frase.\n",
    "def extraer_ngramas(datos, numero):\n",
    "    # Uso Utilizar la función ngrams para generar ngrams de textos\n",
    "    n_grams = ngrams(word_tokenize(datos), numero)\n",
    "    # Transformo el resultado en una lista\n",
    "    return [ ' '.join(grams) for grams in n_grams]"
   ]
  },
  {
   "cell_type": "markdown",
   "id": "1cbcd29a-f91a-4fe3-a8bb-7bff05fff253",
   "metadata": {},
   "source": [
    "Ahora vamos a generar un conjunto de bigramas, trigramas y 4-gramas de la noticia 4:"
   ]
  },
  {
   "cell_type": "code",
   "execution_count": 45,
   "id": "5648c1d1-d900-417a-93f9-c17d22eace21",
   "metadata": {
    "tags": []
   },
   "outputs": [
    {
     "name": "stdout",
     "output_type": "stream",
     "text": [
      "Unigramas:  ['Hotels', 'in', 'Maharashtra', 'will', 'train', 'their', 'staff', 'to', 'spot', 'signs', 'of', 'sex', 'trafficking', ',', 'including', 'frequent', 'requests', 'for', 'bed', 'linen', 'changes', 'and', \"'Do\", 'not', 'disturb', \"'\", 'signs', 'left', 'on', 'room', 'doors', 'for', 'days', '.', 'A', 'mobile', 'phone', 'app', 'called', 'Rescue', 'Me', ',', 'which', 'will', 'allow', 'staff', 'to', 'alert', 'police', 'of', 'suspicious', 'behaviour', ',', 'will', 'be', 'developed', '.', 'The', 'initiative', 'has', 'been', 'backed', 'by', 'the', 'Maharashtra', 'government', '.']\n"
     ]
    }
   ],
   "source": [
    "subset_noticias = texto_noticias[0:100]\n",
    "\n",
    "print(\"Unigramas: \", extraer_ngramas(subset_noticias[4], 1))"
   ]
  },
  {
   "cell_type": "code",
   "execution_count": 46,
   "id": "15e835b0-f471-4be5-9029-c6072fc1461f",
   "metadata": {
    "tags": []
   },
   "outputs": [
    {
     "name": "stdout",
     "output_type": "stream",
     "text": [
      "Bigramas:  ['Hotels in', 'in Maharashtra', 'Maharashtra will', 'will train', 'train their', 'their staff', 'staff to', 'to spot', 'spot signs', 'signs of', 'of sex', 'sex trafficking', 'trafficking ,', ', including', 'including frequent', 'frequent requests', 'requests for', 'for bed', 'bed linen', 'linen changes', 'changes and', \"and 'Do\", \"'Do not\", 'not disturb', \"disturb '\", \"' signs\", 'signs left', 'left on', 'on room', 'room doors', 'doors for', 'for days', 'days .', '. A', 'A mobile', 'mobile phone', 'phone app', 'app called', 'called Rescue', 'Rescue Me', 'Me ,', ', which', 'which will', 'will allow', 'allow staff', 'staff to', 'to alert', 'alert police', 'police of', 'of suspicious', 'suspicious behaviour', 'behaviour ,', ', will', 'will be', 'be developed', 'developed .', '. The', 'The initiative', 'initiative has', 'has been', 'been backed', 'backed by', 'by the', 'the Maharashtra', 'Maharashtra government', 'government .']\n",
      "Trigramas:  ['Hotels in Maharashtra', 'in Maharashtra will', 'Maharashtra will train', 'will train their', 'train their staff', 'their staff to', 'staff to spot', 'to spot signs', 'spot signs of', 'signs of sex', 'of sex trafficking', 'sex trafficking ,', 'trafficking , including', ', including frequent', 'including frequent requests', 'frequent requests for', 'requests for bed', 'for bed linen', 'bed linen changes', 'linen changes and', \"changes and 'Do\", \"and 'Do not\", \"'Do not disturb\", \"not disturb '\", \"disturb ' signs\", \"' signs left\", 'signs left on', 'left on room', 'on room doors', 'room doors for', 'doors for days', 'for days .', 'days . A', '. A mobile', 'A mobile phone', 'mobile phone app', 'phone app called', 'app called Rescue', 'called Rescue Me', 'Rescue Me ,', 'Me , which', ', which will', 'which will allow', 'will allow staff', 'allow staff to', 'staff to alert', 'to alert police', 'alert police of', 'police of suspicious', 'of suspicious behaviour', 'suspicious behaviour ,', 'behaviour , will', ', will be', 'will be developed', 'be developed .', 'developed . The', '. The initiative', 'The initiative has', 'initiative has been', 'has been backed', 'been backed by', 'backed by the', 'by the Maharashtra', 'the Maharashtra government', 'Maharashtra government .']\n",
      "Cuatrigramas:  ['Hotels in Maharashtra will', 'in Maharashtra will train', 'Maharashtra will train their', 'will train their staff', 'train their staff to', 'their staff to spot', 'staff to spot signs', 'to spot signs of', 'spot signs of sex', 'signs of sex trafficking', 'of sex trafficking ,', 'sex trafficking , including', 'trafficking , including frequent', ', including frequent requests', 'including frequent requests for', 'frequent requests for bed', 'requests for bed linen', 'for bed linen changes', 'bed linen changes and', \"linen changes and 'Do\", \"changes and 'Do not\", \"and 'Do not disturb\", \"'Do not disturb '\", \"not disturb ' signs\", \"disturb ' signs left\", \"' signs left on\", 'signs left on room', 'left on room doors', 'on room doors for', 'room doors for days', 'doors for days .', 'for days . A', 'days . A mobile', '. A mobile phone', 'A mobile phone app', 'mobile phone app called', 'phone app called Rescue', 'app called Rescue Me', 'called Rescue Me ,', 'Rescue Me , which', 'Me , which will', ', which will allow', 'which will allow staff', 'will allow staff to', 'allow staff to alert', 'staff to alert police', 'to alert police of', 'alert police of suspicious', 'police of suspicious behaviour', 'of suspicious behaviour ,', 'suspicious behaviour , will', 'behaviour , will be', ', will be developed', 'will be developed .', 'be developed . The', 'developed . The initiative', '. The initiative has', 'The initiative has been', 'initiative has been backed', 'has been backed by', 'been backed by the', 'backed by the Maharashtra', 'by the Maharashtra government', 'the Maharashtra government .']\n"
     ]
    }
   ],
   "source": [
    "print(\"Bigramas: \", extraer_ngramas(subset_noticias[4], 2))\n",
    "print(\"Trigramas: \", extraer_ngramas(subset_noticias[4], 3))\n",
    "print(\"Cuatrigramas: \", extraer_ngramas(subset_noticias[4], 4))"
   ]
  },
  {
   "cell_type": "markdown",
   "id": "5e8e4bd5-2a96-4735-accd-39a2e31142d3",
   "metadata": {},
   "source": [
    "### __Spacy__"
   ]
  },
  {
   "cell_type": "markdown",
   "id": "2bdbc012-ebcc-4771-b5ae-db655c3e124c",
   "metadata": {},
   "source": [
    "No tiene actualmente integrado esta funcionalidad, así que utilizaremos una librería auxiliar que funciona con sus clases <br>\n",
    "llamada textacy.<br>\n"
   ]
  },
  {
   "cell_type": "code",
   "execution_count": 48,
   "id": "9df9395a-abf1-43aa-bda2-9880300d36e0",
   "metadata": {
    "tags": []
   },
   "outputs": [],
   "source": [
    "import spacy\n",
    "import textacy\n",
    "# Cargamos el modelo preentrenado con textos en ingles ('en_core_web_sm')\n",
    "nlp = spacy.load(\"en_core_web_sm\")\n",
    "subset_noticias = texto_noticias[0:100]\n",
    "nlp_text = [nlp(texto_to_process) for texto_to_process in subset_noticias]"
   ]
  },
  {
   "cell_type": "code",
   "execution_count": 51,
   "id": "1b83c1bc-91df-4c56-b116-0615a3212ff4",
   "metadata": {
    "tags": []
   },
   "outputs": [
    {
     "name": "stdout",
     "output_type": "stream",
     "text": [
      "Bigramas:  [Hotels in, in Maharashtra, Maharashtra will, will train, train their, their staff, staff to, to spot, spot signs, signs of, of sex, sex trafficking, trafficking,, , including, including frequent, frequent requests, requests for, for bed, bed linen, linen changes, changes and, and ', 'Do, Do not, not disturb, disturb', ' signs, signs left, left on, on room, room doors, doors for, for days, days., . A, A mobile, mobile phone, phone app, app called, called Rescue, Rescue Me, Me,, , which, which will, will allow, allow staff, staff to, to alert, alert police, police of, of suspicious, suspicious behaviour, behaviour,, , will, will be, be developed, developed., . The, The initiative, initiative has, has been, been backed, backed by, by the, the Maharashtra, Maharashtra government, government.]\n"
     ]
    }
   ],
   "source": [
    "# Calculamos los bigramas trigramas y 4 gramas de la notica 4\n",
    "print(\"Bigramas: \", list(textacy.extract.ngrams(nlp_text[4], 2, min_freq=1, filter_stops = False, filter_punct = False)))\n"
   ]
  },
  {
   "cell_type": "code",
   "execution_count": 55,
   "id": "b03d14ee-314f-44ca-8b84-8f24ac7d6e26",
   "metadata": {
    "tags": []
   },
   "outputs": [
    {
     "name": "stdout",
     "output_type": "stream",
     "text": [
      "Trigramas:  [Hotels in Maharashtra, in Maharashtra will, Maharashtra will train, will train their, train their staff, their staff to, staff to spot, to spot signs, spot signs of, signs of sex, of sex trafficking, sex trafficking,, trafficking, including, , including frequent, including frequent requests, frequent requests for, requests for bed, for bed linen, bed linen changes, linen changes and, changes and ', and 'Do, 'Do not, Do not disturb, not disturb', disturb' signs, ' signs left, signs left on, left on room, on room doors, room doors for, doors for days, for days., days. A, . A mobile, A mobile phone, mobile phone app, phone app called, app called Rescue, called Rescue Me, Rescue Me,, Me, which, , which will, which will allow, will allow staff, allow staff to, staff to alert, to alert police, alert police of, police of suspicious, of suspicious behaviour, suspicious behaviour,, behaviour, will, , will be, will be developed, be developed., developed. The, . The initiative, The initiative has, initiative has been, has been backed, been backed by, backed by the, by the Maharashtra, the Maharashtra government, Maharashtra government.]\n",
      "\n",
      "\n",
      "4trigramas:  [Hotels in Maharashtra will, in Maharashtra will train, Maharashtra will train their, will train their staff, train their staff to, their staff to spot, staff to spot signs, to spot signs of, spot signs of sex, signs of sex trafficking, of sex trafficking,, sex trafficking, including, trafficking, including frequent, , including frequent requests, including frequent requests for, frequent requests for bed, requests for bed linen, for bed linen changes, bed linen changes and, linen changes and ', changes and 'Do, and 'Do not, 'Do not disturb, Do not disturb', not disturb' signs, disturb' signs left, ' signs left on, signs left on room, left on room doors, on room doors for, room doors for days, doors for days., for days. A, days. A mobile, . A mobile phone, A mobile phone app, mobile phone app called, phone app called Rescue, app called Rescue Me, called Rescue Me,, Rescue Me, which, Me, which will, , which will allow, which will allow staff, will allow staff to, allow staff to alert, staff to alert police, to alert police of, alert police of suspicious, police of suspicious behaviour, of suspicious behaviour,, suspicious behaviour, will, behaviour, will be, , will be developed, will be developed., be developed. The, developed. The initiative, . The initiative has, The initiative has been, initiative has been backed, has been backed by, been backed by the, backed by the Maharashtra, by the Maharashtra government, the Maharashtra government.]\n"
     ]
    }
   ],
   "source": [
    "print(\"Trigramas: \", list(textacy.extract.ngrams(nlp_text[4], 3, min_freq=1, filter_stops = False, filter_punct = False)))\n",
    "print('\\n')\n",
    "print(\"4trigramas: \", list(textacy.extract.ngrams(nlp_text[4], 4, min_freq=1, filter_stops = False, filter_punct = False)))"
   ]
  },
  {
   "cell_type": "markdown",
   "id": "7f4a916d-bc2d-448b-81ba-6730a655d2e6",
   "metadata": {},
   "source": [
    "## Visualización"
   ]
  },
  {
   "cell_type": "markdown",
   "id": "614b808a-b0b1-4a21-bc5f-c169766704ba",
   "metadata": {},
   "source": [
    "Vamos a calcular los tokens y bigramas de todo el corpus de documentos y vamos a generar una visualización."
   ]
  },
  {
   "cell_type": "code",
   "execution_count": 56,
   "id": "7177544d-6870-447c-a8af-426e05c1f699",
   "metadata": {
    "tags": []
   },
   "outputs": [],
   "source": [
    "def frecuencia_tokens(lista):\n",
    "    # Creamos diccionario vacio\n",
    "    frecuencia = {}\n",
    "    for item in lista:\n",
    "        if (item in frecuencia):\n",
    "            frecuencia[item] += 1\n",
    "        else:\n",
    "            frecuencia[item] = 1\n",
    "    return frecuencia"
   ]
  },
  {
   "cell_type": "markdown",
   "id": "196ca592-f855-43e2-a7fe-bab5b3278870",
   "metadata": {},
   "source": [
    "Primero extraemos los tokens de todos los textos y los introducimos en una lista común."
   ]
  },
  {
   "cell_type": "code",
   "execution_count": 57,
   "id": "aa2badaa-69ba-490d-af33-ec34ddc54261",
   "metadata": {
    "tags": []
   },
   "outputs": [],
   "source": [
    "lista_tokens = list()\n",
    "for i in subset_noticias:\n",
    "    tokens_document = word_tokenize(i)\n",
    "    # Añadimos esos tokens como nuevos elementos\n",
    "    lista_tokens.extend(tokens_document)"
   ]
  },
  {
   "cell_type": "code",
   "execution_count": 58,
   "id": "690aee05-efa7-4b10-a9c0-878c48f36a3d",
   "metadata": {
    "tags": []
   },
   "outputs": [
    {
     "name": "stdout",
     "output_type": "stream",
     "text": [
      "CPU times: total: 0 ns\n",
      "Wall time: 1 ms\n"
     ]
    },
    {
     "data": {
      "text/plain": [
       "2"
      ]
     },
     "execution_count": 58,
     "metadata": {},
     "output_type": "execute_result"
    }
   ],
   "source": [
    "%%time\n",
    "# Calculemos la frecuencia\n",
    "dict_freq = frecuencia_tokens(lista_tokens)\n",
    "dict_freq[\"Road\"]"
   ]
  },
  {
   "cell_type": "markdown",
   "id": "45ed94bd-b0fc-4686-9774-74991c1506b6",
   "metadata": {},
   "source": [
    "También podemos utilizar un counter (más eficiente)."
   ]
  },
  {
   "cell_type": "code",
   "execution_count": null,
   "id": "62d9a6b3-4f47-49fa-98d8-4c6b1bbbe031",
   "metadata": {},
   "outputs": [],
   "source": [
    "from collections import Counter"
   ]
  },
  {
   "cell_type": "code",
   "execution_count": 68,
   "id": "0b416374-bb39-426d-8d8b-4c6648761d5f",
   "metadata": {
    "tags": []
   },
   "outputs": [
    {
     "name": "stdout",
     "output_type": "stream",
     "text": [
      "CPU times: total: 0 ns\n",
      "Wall time: 0 ns\n"
     ]
    },
    {
     "data": {
      "text/plain": [
       "2"
      ]
     },
     "execution_count": 68,
     "metadata": {},
     "output_type": "execute_result"
    }
   ],
   "source": [
    "%%time\n",
    "dict_freq2 = Counter(lista_tokens)\n",
    "dict_freq2[\"Road\"]"
   ]
  },
  {
   "cell_type": "markdown",
   "id": "bd336912-912c-4d41-b0fd-15d0210a3ca1",
   "metadata": {},
   "source": [
    "Ordenamos el diccionario para tomar sólo valores mayores a 20."
   ]
  },
  {
   "cell_type": "code",
   "execution_count": 69,
   "id": "7acefa5c-2ca2-429b-9df9-bdb2d34a9d11",
   "metadata": {
    "tags": []
   },
   "outputs": [],
   "source": [
    "# Ordenamos el diccionario por frecuencia\n",
    "dict_freq_order = sorted(dict_freq.items(), key=lambda x: x[1], reverse=True)\n",
    "token_names = list()\n",
    "token_freqs = list()\n",
    "for i in dict_freq_order:\n",
    "    if i[1] > 30:\n",
    "        token_names.append(i[0])\n",
    "        token_freqs.append(i[1])"
   ]
  },
  {
   "cell_type": "code",
   "execution_count": 71,
   "id": "f9ae9c2a-e2e0-409b-91f8-c02d8731b35a",
   "metadata": {
    "tags": []
   },
   "outputs": [
    {
     "name": "stderr",
     "output_type": "stream",
     "text": [
      "C:\\Users\\eugen\\anaconda3\\Lib\\site-packages\\seaborn\\_oldcore.py:1765: FutureWarning: unique with argument that is not not a Series, Index, ExtensionArray, or np.ndarray is deprecated and will raise in a future version.\n",
      "  order = pd.unique(vector)\n"
     ]
    },
    {
     "data": {
      "text/plain": [
       "(array([ 0,  1,  2,  3,  4,  5,  6,  7,  8,  9, 10, 11, 12, 13, 14, 15, 16,\n",
       "        17, 18, 19, 20, 21, 22, 23, 24]),\n",
       " [Text(0, 0, '.'),\n",
       "  Text(1, 0, 'the'),\n",
       "  Text(2, 0, ','),\n",
       "  Text(3, 0, 'a'),\n",
       "  Text(4, 0, 'of'),\n",
       "  Text(5, 0, 'to'),\n",
       "  Text(6, 0, 'and'),\n",
       "  Text(7, 0, 'in'),\n",
       "  Text(8, 0, 'The'),\n",
       "  Text(9, 0, 'on'),\n",
       "  Text(10, 0, 'for'),\n",
       "  Text(11, 0, 'said'),\n",
       "  Text(12, 0, 'that'),\n",
       "  Text(13, 0, 'has'),\n",
       "  Text(14, 0, '``'),\n",
       "  Text(15, 0, \"''\"),\n",
       "  Text(16, 0, 'is'),\n",
       "  Text(17, 0, 'was'),\n",
       "  Text(18, 0, \"'s\"),\n",
       "  Text(19, 0, 'by'),\n",
       "  Text(20, 0, 'he'),\n",
       "  Text(21, 0, 'it'),\n",
       "  Text(22, 0, 'with'),\n",
       "  Text(23, 0, 'as'),\n",
       "  Text(24, 0, 'be')])"
      ]
     },
     "execution_count": 71,
     "metadata": {},
     "output_type": "execute_result"
    },
    {
     "data": {
      "image/png": "[encoded data removed]",
      "text/plain": [
       "<Figure size 1000x500 with 1 Axes>"
      ]
     },
     "metadata": {},
     "output_type": "display_data"
    }
   ],
   "source": [
    "import seaborn as sns\n",
    "import matplotlib.pyplot as plt\n",
    "plt.rcParams['figure.figsize'] = [10, 5]\n",
    "sns_g = sns.barplot(x=token_names, y=token_freqs)\n",
    "plt.grid()\n",
    "plt.xticks(rotation=45)"
   ]
  },
  {
   "cell_type": "markdown",
   "id": "5671f069-803b-4c10-af28-5f8dbbade740",
   "metadata": {},
   "source": [
    "Se podrian quitar simbolos de puntacion y stopwords con:"
   ]
  },
  {
   "cell_type": "code",
   "execution_count": 72,
   "id": "b042a18b-c7f0-48e5-bc01-972d32cdbf64",
   "metadata": {
    "tags": []
   },
   "outputs": [],
   "source": [
    "import string\n",
    "from nltk.corpus import stopwords\n",
    "punctuations = string.punctuation\n",
    "stop_words = stopwords.words('english')"
   ]
  },
  {
   "cell_type": "code",
   "execution_count": 74,
   "id": "b975c0c8-90b8-4c20-b791-dc01c4126166",
   "metadata": {
    "tags": []
   },
   "outputs": [
    {
     "data": {
      "text/plain": [
       "['i', 'me', 'my', 'myself', 'we']"
      ]
     },
     "execution_count": 74,
     "metadata": {},
     "output_type": "execute_result"
    }
   ],
   "source": [
    "stop_words[:5]"
   ]
  },
  {
   "cell_type": "markdown",
   "id": "cfb010d2-82a3-4484-9223-4c1e70b9fb5c",
   "metadata": {},
   "source": [
    "## Lematización y Stemming\n",
    "Los lemas son las formas canónicas del léxico de un idioma. <br> Por ejemplo, en el caso del español, los verbos presentan una flexión verbal, conocida comúnmente como conjugación, <br> utilizada para adaptar el verbo a diferentes <br> situaciones de contexto (número, género y tiempo verbal) y presentandolo distinta forma escrita. <br>\n",
    "En algunas ocasiones, es útil utilizar el lema de los verbos <br> y otras palabras para reducir la dimensionalidad en los modelo predictivos. <br>\n",
    "\n",
    "Un caso específico y simple de la lematización es el stemming <br> que consiste en utilizar reglas sintácticas para quitar la finalización de las palabras y reducirlas así <br> a una forma común llamada stem. Hay muchos stemmers populares como el de Porter o el de Snowball. <br> Es importante mencionar que no siempre que se hace stemming de una palabra <br> esta resulta en una palabra real, si no una palabra sin su última(s) letras. <br>\n",
    "<br>\n",
    "A continuación se muestras estos procesos tanto para NLTK como para Spacy."
   ]
  },
  {
   "cell_type": "markdown",
   "id": "a9709212-f8f2-4968-96c3-67fe905c6c0f",
   "metadata": {},
   "source": [
    "## NLTK"
   ]
  },
  {
   "cell_type": "markdown",
   "id": "427fadcc-d002-4788-82d4-70285c856751",
   "metadata": {},
   "source": [
    "### Stemming\n",
    "En NLTK hay varias implementaciones de algoritmos de Stemming. Aquí mostraremos los dos más utilizados: <br>\n",
    "- Algoritmo de Porter Stemming: Algoritmo que solo funciona en inglés y que funciona correctamente <br> con la mayoría de las palabras en ese idioma. Sirve para quitar, sustituir los sufijos de las palabras.\n",
    "<br>\n",
    "<br>\n",
    "- Algoritmo de SnowballStemmer: Algoritmo de Stemming que soporta 13 lenguas en NLTK, incluyendo español. Es una versión <br> mejorada del algoritmo de Porter Stemming."
   ]
  },
  {
   "cell_type": "code",
   "execution_count": 77,
   "id": "c312c1c7-23a9-468c-a3c8-3d689650cd8a",
   "metadata": {
    "tags": []
   },
   "outputs": [],
   "source": [
    "from nltk import word_tokenize\n",
    "from nltk.stem import PorterStemmer, SnowballStemmer\n",
    "# En Ingles\n",
    "list_of_english_words = [\"Speaking\", \"speaks\", \"Speaker\",\n",
    "                         \"dogs\", \"buses\", \"pieces\", \"compute\", \n",
    "                         \"computer\", \"computing\"]\n",
    "SStemmer = PorterStemmer()"
   ]
  },
  {
   "cell_type": "code",
   "execution_count": 78,
   "id": "67c1623d-7092-437c-9c98-94187ebad10f",
   "metadata": {
    "tags": []
   },
   "outputs": [
    {
     "name": "stdout",
     "output_type": "stream",
     "text": [
      "Terminos en ingles:\n",
      "Palabra original: Speaking, Porter Stemmer: speak, Snowball speak\n",
      "Palabra original: speaks, Porter Stemmer: speak, Snowball speak\n",
      "Palabra original: Speaker, Porter Stemmer: speaker, Snowball speaker\n",
      "Palabra original: dogs, Porter Stemmer: dog, Snowball dog\n",
      "Palabra original: buses, Porter Stemmer: buse, Snowball buse\n",
      "Palabra original: pieces, Porter Stemmer: piec, Snowball piec\n",
      "Palabra original: compute, Porter Stemmer: comput, Snowball comput\n",
      "Palabra original: computer, Porter Stemmer: comput, Snowball comput\n",
      "Palabra original: computing, Porter Stemmer: comput, Snowball comput\n"
     ]
    }
   ],
   "source": [
    "from nltk import word_tokenize\n",
    "from nltk.stem import PorterStemmer, SnowballStemmer\n",
    "list_of_english_words = [\"Speaking\", \"speaks\", \"Speaker\",\n",
    "                         \"dogs\", \"buses\", \"pieces\", \"compute\", \n",
    "                         \"computer\", \"computing\"]\n",
    "SStemer = PorterStemmer()\n",
    "PStemmer = SnowballStemmer(\"english\")\n",
    "print(\"Terminos en ingles:\")\n",
    "for word in list_of_english_words:\n",
    "    print(\"Palabra original: {}, Porter Stemmer: {}, Snowball {}\".format(word, PStemmer.stem(word), SStemmer.stem(word)))\n",
    "\n",
    "# Cargamos los Stemer\n",
    "\n"
   ]
  },
  {
   "cell_type": "code",
   "execution_count": 81,
   "id": "05937f49-7f21-47b4-a537-dfdeb6609ae7",
   "metadata": {
    "tags": []
   },
   "outputs": [
    {
     "name": "stdout",
     "output_type": "stream",
     "text": [
      "Terminos en español:\n",
      "Palabra Original Hablando Snowball habl\n",
      "Palabra Original Habla Snowball habl\n",
      "Palabra Original Hablador Snowball hablador\n",
      "Palabra Original Hablará Snowball habl\n",
      "Palabra Original ha hablado Snowball ha habl\n"
     ]
    }
   ],
   "source": [
    "lista_de_palabras = [\"Hablando\", \"Habla\", \"Hablador\", \"Hablará\", \"ha hablado\"]\n",
    "SStemmer_spanish = SnowballStemmer(\"spanish\")\n",
    "print(\"Terminos en español:\")\n",
    "for word in lista_de_palabras:\n",
    "    print(f\"Palabra Original {word} Snowball {SStemmer_spanish.stem(word)}\")"
   ]
  },
  {
   "cell_type": "markdown",
   "id": "2d12bf0f-bf68-4bc3-9b3a-aa3c0a1ff68f",
   "metadata": {},
   "source": [
    "## Lemmatización\n",
    "### Spacy\n",
    "<br>\n",
    "<br>\n",
    "Debido al funcionamiento de Spacy, que funciona con modelos pre-entrenados, <br>\n",
    "no existen funciones para hacer stemming y si para lematizar. Este proceso lo hace a partir de los conocimientos <br> adquiridos en el proceso de entrenamiento del modelo pre-entrenado."
   ]
  },
  {
   "cell_type": "code",
   "execution_count": 83,
   "id": "66e80ae2-4582-43ce-84db-e2441db736b8",
   "metadata": {
    "tags": []
   },
   "outputs": [
    {
     "name": "stdout",
     "output_type": "stream",
     "text": [
      "I ---> I\n",
      "bought ---> buy\n",
      "five ---> five\n",
      "tickets ---> ticket\n",
      "on ---> on\n",
      "the ---> the\n",
      "internet ---> internet\n",
      ", ---> ,\n",
      "after ---> after\n",
      "a ---> a\n",
      "long ---> long\n",
      "wait ---> wait\n",
      "5 ---> 5\n",
      "buses ---> bus\n",
      "passed ---> pass\n",
      "by ---> by\n",
      ", ---> ,\n",
      "but ---> but\n",
      "none ---> none\n",
      "of ---> of\n",
      "them ---> they\n",
      "was ---> be\n",
      "the ---> the\n",
      "correct ---> correct\n",
      "one ---> one\n"
     ]
    }
   ],
   "source": [
    "import spacy\n",
    "# Cargamos el modelos preentrenado con textos en inglés\n",
    "nlp = spacy.load(\"en_core_web_sm\")\n",
    "english_sentence = \"I bought five tickets on the internet, after a long wait 5 buses passed by, but none of them was the correct one\"\n",
    "word_sp = nlp(english_sentence)\n",
    "# Accedemos al atributo de lematización de cada token\n",
    "for word in word_sp:\n",
    "    print(word.text, \"--->\", word.lemma_)"
   ]
  },
  {
   "cell_type": "markdown",
   "id": "e1fc1bac-c246-4703-b6c5-505f1d22327d",
   "metadata": {},
   "source": [
    "### Part-Of-Speech-Tagging"
   ]
  },
  {
   "cell_type": "markdown",
   "id": "09d20c25-138e-4ca8-af75-5956cb07b4ab",
   "metadata": {},
   "source": [
    "El Part-Of-Speech Tagging o la asignación de cateogrías grammaticales a una frase es el proceso en el que a una lista de palabras es etiquetada <br> en su categoría gramatical, es decir que identifica si la palabra es un nombre, un adjetivo, un verbo o un adverbio etc... \n",
    "<br>\n",
    "<br>\n",
    "La asignación de etiquetas grammaticales es interesante cuando se quiere hacer análisis gramatical de una oración, para saber si una palabra <br> tiene una acepación u otra, o incluso para extraer caracteristicas artificiales cuando se quiere hacer una clasificación textual o similar."
   ]
  },
  {
   "cell_type": "code",
   "execution_count": 86,
   "id": "4366b177-54a3-4c36-b036-6da158bef71b",
   "metadata": {
    "tags": []
   },
   "outputs": [
    {
     "data": {
      "text/plain": [
       "[('Hotels', 'NNS'),\n",
       " ('in', 'IN'),\n",
       " ('Maharashtra', 'NNP'),\n",
       " ('will', 'MD'),\n",
       " ('train', 'VB'),\n",
       " ('their', 'PRP$'),\n",
       " ('staff', 'NN'),\n",
       " ('to', 'TO'),\n",
       " ('spot', 'VB'),\n",
       " ('signs', 'NNS'),\n",
       " ('of', 'IN'),\n",
       " ('sex', 'NN'),\n",
       " ('trafficking', 'NN'),\n",
       " (',', ','),\n",
       " ('including', 'VBG'),\n",
       " ('frequent', 'JJ'),\n",
       " ('requests', 'NNS'),\n",
       " ('for', 'IN'),\n",
       " ('bed', 'NN'),\n",
       " ('linen', 'NN'),\n",
       " ('changes', 'NNS'),\n",
       " ('and', 'CC'),\n",
       " (\"'Do\", 'MD'),\n",
       " ('not', 'RB'),\n",
       " ('disturb', 'VB'),\n",
       " (\"'\", \"''\"),\n",
       " ('signs', 'NNS'),\n",
       " ('left', 'VBD'),\n",
       " ('on', 'IN'),\n",
       " ('room', 'NN'),\n",
       " ('doors', 'NNS'),\n",
       " ('for', 'IN'),\n",
       " ('days', 'NNS'),\n",
       " ('.', '.'),\n",
       " ('A', 'DT'),\n",
       " ('mobile', 'JJ'),\n",
       " ('phone', 'NN'),\n",
       " ('app', 'NN'),\n",
       " ('called', 'VBN'),\n",
       " ('Rescue', 'NNP'),\n",
       " ('Me', 'NNP'),\n",
       " (',', ','),\n",
       " ('which', 'WDT'),\n",
       " ('will', 'MD'),\n",
       " ('allow', 'VB'),\n",
       " ('staff', 'NN'),\n",
       " ('to', 'TO'),\n",
       " ('alert', 'VB'),\n",
       " ('police', 'NN'),\n",
       " ('of', 'IN'),\n",
       " ('suspicious', 'JJ'),\n",
       " ('behaviour', 'NN'),\n",
       " (',', ','),\n",
       " ('will', 'MD'),\n",
       " ('be', 'VB'),\n",
       " ('developed', 'VBN'),\n",
       " ('.', '.'),\n",
       " ('The', 'DT'),\n",
       " ('initiative', 'NN'),\n",
       " ('has', 'VBZ'),\n",
       " ('been', 'VBN'),\n",
       " ('backed', 'VBN'),\n",
       " ('by', 'IN'),\n",
       " ('the', 'DT'),\n",
       " ('Maharashtra', 'NNP'),\n",
       " ('government', 'NN'),\n",
       " ('.', '.')]"
      ]
     },
     "execution_count": 86,
     "metadata": {},
     "output_type": "execute_result"
    }
   ],
   "source": [
    "#nltk.help.upenn_tagset()\n",
    "from nltk import pos_tag\n",
    "from nltk.tokenize import word_tokenize\n",
    "\n",
    "subset_noticias = texto_noticias[0:100]\n",
    "# Segmentamos los tokens\n",
    "tokens = word_tokenize(subset_noticias[4])\n",
    "# Utilizamos la funcion pos_tag() para obtener etiquetas\n",
    "pos_tag(tokens)"
   ]
  },
  {
   "cell_type": "code",
   "execution_count": 87,
   "id": "33b3147a-ca6a-4eb9-b262-513494b07349",
   "metadata": {
    "tags": []
   },
   "outputs": [
    {
     "name": "stdout",
     "output_type": "stream",
     "text": [
      "The word Hotels is a NOUN\n",
      "The word in is a ADP\n",
      "The word Maharashtra is a PROPN\n",
      "The word will is a AUX\n",
      "The word train is a VERB\n",
      "The word their is a PRON\n",
      "The word staff is a NOUN\n",
      "The word to is a PART\n",
      "The word spot is a VERB\n",
      "The word signs is a NOUN\n",
      "The word of is a ADP\n",
      "The word sex is a NOUN\n",
      "The word trafficking is a NOUN\n",
      "The word , is a PUNCT\n",
      "The word including is a VERB\n",
      "The word frequent is a ADJ\n",
      "The word requests is a NOUN\n",
      "The word for is a ADP\n",
      "The word bed is a NOUN\n",
      "The word linen is a NOUN\n",
      "The word changes is a NOUN\n",
      "The word and is a CCONJ\n",
      "The word ' is a PUNCT\n",
      "The word Do is a AUX\n",
      "The word not is a PART\n",
      "The word disturb is a VERB\n",
      "The word ' is a PUNCT\n",
      "The word signs is a NOUN\n",
      "The word left is a VERB\n",
      "The word on is a ADP\n",
      "The word room is a NOUN\n",
      "The word doors is a NOUN\n",
      "The word for is a ADP\n",
      "The word days is a NOUN\n",
      "The word . is a PUNCT\n",
      "The word A is a DET\n",
      "The word mobile is a ADJ\n",
      "The word phone is a NOUN\n",
      "The word app is a NOUN\n",
      "The word called is a VERB\n",
      "The word Rescue is a PROPN\n",
      "The word Me is a PRON\n",
      "The word , is a PUNCT\n",
      "The word which is a PRON\n",
      "The word will is a AUX\n",
      "The word allow is a VERB\n",
      "The word staff is a NOUN\n",
      "The word to is a PART\n",
      "The word alert is a VERB\n",
      "The word police is a NOUN\n",
      "The word of is a ADP\n",
      "The word suspicious is a ADJ\n",
      "The word behaviour is a NOUN\n",
      "The word , is a PUNCT\n",
      "The word will is a AUX\n",
      "The word be is a AUX\n",
      "The word developed is a VERB\n",
      "The word . is a PUNCT\n",
      "The word The is a DET\n",
      "The word initiative is a NOUN\n",
      "The word has is a AUX\n",
      "The word been is a AUX\n",
      "The word backed is a VERB\n",
      "The word by is a ADP\n",
      "The word the is a DET\n",
      "The word Maharashtra is a PROPN\n",
      "The word government is a NOUN\n",
      "The word . is a PUNCT\n"
     ]
    }
   ],
   "source": [
    "# Segmentamos tokens\n",
    "tokens = nlp(subset_noticias[4])\n",
    "for w in tokens:\n",
    "    print(\"The word {} is a {}\".format(w.text, w.pos_))"
   ]
  },
  {
   "cell_type": "markdown",
   "id": "0dd6fa76-f7a4-4ae6-a4fb-c6bacd4a179f",
   "metadata": {},
   "source": [
    "## Name-Entity Recognition\n",
    "La extracción de entidades de un documento es una labor esencial en la análitica de textos. <br>\n",
    "En alguna ocasiones puede ser interesante si se nombra a una persona, a una ciudad, un país o incluso a un medicamento, en el caso de los textos clínicos.\n",
    "<br>\n",
    "<br>\n",
    "Existen sistemas NER (Named-entity recognition) especifícos para cada campo de aplicación. Las librerías de NLTK y Spacy disponen de <br>\n",
    "modelos para detectar entidades de ámbito general, aunque existen modelos mucho más especificos para reconocer entididas muy especificas como por ejemplo síntomas en textos clínicos (mención a BSC). \n",
    "<br>\n",
    "<br>\n",
    "En NLTK antes de detectar es necesario la obtención de la tokenización y la POS tag antes de identificar entidades ya que utiliza las etiquetas <br> POS  y reglas internas para encontrar que elementos son personas u otro tipo de entidad. <br> \n",
    "<br>\n",
    "Cuando los textos son extraidos de internet, hay que quitar los espacios extras que puede haber en una frase, para que se extraiga mejor las categorías gramaticales de éstos y poder así reconocer <br> mejor las organizaciones o personas en el texto. En este caso están bastante limpios así que no hace falta hacerlo.\n",
    "<br>\n",
    "<br> \n",
    "Importamos la función ne_chunk, que necesita un conjunto de tokens etiquetados PoS previamente. Así que antes hay que preprocesar el <br>\n",
    "documento lo haremos con la función preprocesar()."
   ]
  },
  {
   "cell_type": "code",
   "execution_count": 88,
   "id": "d5e06091-82d3-4f33-9f1a-bd97d9f89415",
   "metadata": {
    "tags": []
   },
   "outputs": [
    {
     "data": {
      "text/plain": [
       "\u001b[1;31mSignature:\u001b[0m \u001b[0mne_chunk\u001b[0m\u001b[1;33m(\u001b[0m\u001b[0mtagged_tokens\u001b[0m\u001b[1;33m,\u001b[0m \u001b[0mbinary\u001b[0m\u001b[1;33m=\u001b[0m\u001b[1;32mFalse\u001b[0m\u001b[1;33m)\u001b[0m\u001b[1;33m\u001b[0m\u001b[1;33m\u001b[0m\u001b[0m\n",
       "\u001b[1;31mDocstring:\u001b[0m\n",
       "Use NLTK's currently recommended named entity chunker to\n",
       "chunk the given list of tagged tokens.\n",
       "\u001b[1;31mFile:\u001b[0m      c:\\users\\eugen\\anaconda3\\lib\\site-packages\\nltk\\chunk\\__init__.py\n",
       "\u001b[1;31mType:\u001b[0m      function"
      ]
     },
     "metadata": {},
     "output_type": "display_data"
    }
   ],
   "source": [
    "from nltk.chunk import ne_chunk\n",
    "?ne_chunk"
   ]
  },
  {
   "cell_type": "code",
   "execution_count": 90,
   "id": "cd20c785-6dd2-4ffb-81ba-54090f712160",
   "metadata": {
    "tags": []
   },
   "outputs": [
    {
     "data": {
      "text/plain": [
       "[('Hotels', 'NNS'),\n",
       " ('in', 'IN'),\n",
       " ('Maharashtra', 'NNP'),\n",
       " ('will', 'MD'),\n",
       " ('train', 'VB')]"
      ]
     },
     "execution_count": 90,
     "metadata": {},
     "output_type": "execute_result"
    }
   ],
   "source": [
    "from nltk.chunk import ne_chunk\n",
    "def preprocess(documento):\n",
    "    # Word Tokenizer\n",
    "    documento_tok = word_tokenize(documento) # Word tokenize\n",
    "    # Pos tag\n",
    "    documento_pos = pos_tag(documento_tok)\n",
    "    return documento_pos\n",
    "\n",
    "noticia  = preprocess(subset_noticias[4])\n",
    "noticia[0:5]"
   ]
  },
  {
   "cell_type": "code",
   "execution_count": 91,
   "id": "3b1c9b9d-7406-4c2a-a5f7-b9cc72beb7df",
   "metadata": {
    "tags": []
   },
   "outputs": [
    {
     "name": "stdout",
     "output_type": "stream",
     "text": [
      "(S\n",
      "  Hotels/NNS\n",
      "  in/IN\n",
      "  (GPE Maharashtra/NNP)\n",
      "  will/MD\n",
      "  train/VB\n",
      "  their/PRP$\n",
      "  staff/NN\n",
      "  to/TO\n",
      "  spot/VB\n",
      "  signs/NNS\n",
      "  of/IN\n",
      "  sex/NN\n",
      "  trafficking/NN\n",
      "  ,/,\n",
      "  including/VBG\n",
      "  frequent/JJ\n",
      "  requests/NNS\n",
      "  for/IN\n",
      "  bed/NN\n",
      "  linen/NN\n",
      "  changes/NNS\n",
      "  and/CC\n",
      "  'Do/MD\n",
      "  not/RB\n",
      "  disturb/VB\n",
      "  '/''\n",
      "  signs/NNS\n",
      "  left/VBD\n",
      "  on/IN\n",
      "  room/NN\n",
      "  doors/NNS\n",
      "  for/IN\n",
      "  days/NNS\n",
      "  ./.\n",
      "  A/DT\n",
      "  mobile/JJ\n",
      "  phone/NN\n",
      "  app/NN\n",
      "  called/VBN\n",
      "  (PERSON Rescue/NNP Me/NNP)\n",
      "  ,/,\n",
      "  which/WDT\n",
      "  will/MD\n",
      "  allow/VB\n",
      "  staff/NN\n",
      "  to/TO\n",
      "  alert/VB\n",
      "  police/NN\n",
      "  of/IN\n",
      "  suspicious/JJ\n",
      "  behaviour/NN\n",
      "  ,/,\n",
      "  will/MD\n",
      "  be/VB\n",
      "  developed/VBN\n",
      "  ./.\n",
      "  The/DT\n",
      "  initiative/NN\n",
      "  has/VBZ\n",
      "  been/VBN\n",
      "  backed/VBN\n",
      "  by/IN\n",
      "  the/DT\n",
      "  (GPE Maharashtra/NNP)\n",
      "  government/NN\n",
      "  ./.)\n"
     ]
    }
   ],
   "source": [
    "# Utilizamos esa salida para observar la presencia de entidades nombradas\n",
    "ne_tree = ne_chunk(noticia)\n",
    "print(ne_tree)"
   ]
  },
  {
   "cell_type": "markdown",
   "id": "6a938b8e-e154-4adb-8e36-9a0adbe07f8c",
   "metadata": {},
   "source": [
    "En spacy es mucho más sencillo. Cuando procesamos un documento con el modelo importado, automáticamente se le aplica a un conjunt ode instrucciones <br> internamente para detectar tokens, lemas... y también las entidades nombradas, a las que se puede acceder iterando sobre el atributo ents y <br> extrayendo la etiqueta."
   ]
  },
  {
   "cell_type": "code",
   "execution_count": 94,
   "id": "3f59ba32-2998-4b41-a483-6e94a1215bd3",
   "metadata": {
    "tags": []
   },
   "outputs": [
    {
     "name": "stdout",
     "output_type": "stream",
     "text": [
      "[('John', 'PERSON'), ('Chicken', 'GPE'), ('Alaska', 'GPE'), ('Cranberry Lemon University', 'ORG'), ('John', 'PERSON'), ('Starbucks', 'ORG')]\n"
     ]
    }
   ],
   "source": [
    "tokens = nlp(\"John was born in Chicken, Alaska and studies at Cranberry Lemon University. John likes to go to Starbucks.\")\n",
    "print([(X.text, X.label_) for X in tokens.ents])"
   ]
  },
  {
   "cell_type": "markdown",
   "id": "59bbfc2d-78e4-45a5-aa89-3fbcb28559b1",
   "metadata": {},
   "source": [
    "Además Spacy incorpora un módulo para visualizar estas entidades en un gráfico."
   ]
  },
  {
   "cell_type": "code",
   "execution_count": 95,
   "id": "d64cfad1-dbec-4678-a7a2-ad7e2cb19600",
   "metadata": {
    "tags": []
   },
   "outputs": [
    {
     "data": {
      "text/html": [
       "<span class=\"tex2jax_ignore\"><div class=\"entities\" style=\"line-height: 2.5; direction: ltr\">\n",
       "<mark class=\"entity\" style=\"background: #aa9cfc; padding: 0.45em 0.6em; margin: 0 0.25em; line-height: 1; border-radius: 0.35em;\">\n",
       "    John\n",
       "    <span style=\"font-size: 0.8em; font-weight: bold; line-height: 1; border-radius: 0.35em; vertical-align: middle; margin-left: 0.5rem\">PERSON</span>\n",
       "</mark>\n",
       " was born in \n",
       "<mark class=\"entity\" style=\"background: #feca74; padding: 0.45em 0.6em; margin: 0 0.25em; line-height: 1; border-radius: 0.35em;\">\n",
       "    Chicken\n",
       "    <span style=\"font-size: 0.8em; font-weight: bold; line-height: 1; border-radius: 0.35em; vertical-align: middle; margin-left: 0.5rem\">GPE</span>\n",
       "</mark>\n",
       ", \n",
       "<mark class=\"entity\" style=\"background: #feca74; padding: 0.45em 0.6em; margin: 0 0.25em; line-height: 1; border-radius: 0.35em;\">\n",
       "    Alaska\n",
       "    <span style=\"font-size: 0.8em; font-weight: bold; line-height: 1; border-radius: 0.35em; vertical-align: middle; margin-left: 0.5rem\">GPE</span>\n",
       "</mark>\n",
       " and studies at \n",
       "<mark class=\"entity\" style=\"background: #7aecec; padding: 0.45em 0.6em; margin: 0 0.25em; line-height: 1; border-radius: 0.35em;\">\n",
       "    Cranberry Lemon University\n",
       "    <span style=\"font-size: 0.8em; font-weight: bold; line-height: 1; border-radius: 0.35em; vertical-align: middle; margin-left: 0.5rem\">ORG</span>\n",
       "</mark>\n",
       ". \n",
       "<mark class=\"entity\" style=\"background: #aa9cfc; padding: 0.45em 0.6em; margin: 0 0.25em; line-height: 1; border-radius: 0.35em;\">\n",
       "    John\n",
       "    <span style=\"font-size: 0.8em; font-weight: bold; line-height: 1; border-radius: 0.35em; vertical-align: middle; margin-left: 0.5rem\">PERSON</span>\n",
       "</mark>\n",
       " likes to go to \n",
       "<mark class=\"entity\" style=\"background: #7aecec; padding: 0.45em 0.6em; margin: 0 0.25em; line-height: 1; border-radius: 0.35em;\">\n",
       "    Starbucks\n",
       "    <span style=\"font-size: 0.8em; font-weight: bold; line-height: 1; border-radius: 0.35em; vertical-align: middle; margin-left: 0.5rem\">ORG</span>\n",
       "</mark>\n",
       ".</div></span>"
      ],
      "text/plain": [
       "<IPython.core.display.HTML object>"
      ]
     },
     "metadata": {},
     "output_type": "display_data"
    }
   ],
   "source": [
    "from spacy import displacy\n",
    "displacy.render(tokens, jupyter=True, style='ent')"
   ]
  },
  {
   "cell_type": "markdown",
   "id": "37e655bc-1d5f-46c0-a435-09d137c92943",
   "metadata": {},
   "source": [
    "## Estructura de la frase"
   ]
  },
  {
   "cell_type": "code",
   "execution_count": 96,
   "id": "06d0cbb7-f0c6-483f-84b3-e436e3644783",
   "metadata": {
    "tags": []
   },
   "outputs": [
    {
     "data": {
      "text/html": [
       "<span class=\"tex2jax_ignore\"><svg xmlns=\"http://www.w3.org/2000/svg\" xmlns:xlink=\"http://www.w3.org/1999/xlink\" xml:lang=\"en\" id=\"9ab6994a084346abbbc354717b4fd15d-0\" class=\"displacy\" width=\"3200\" height=\"399.5\" direction=\"ltr\" style=\"max-width: none; height: 399.5px; color: #000000; background: #ffffff; font-family: Arial; direction: ltr\">\n",
       "<text class=\"displacy-token\" fill=\"currentColor\" text-anchor=\"middle\" y=\"309.5\">\n",
       "    <tspan class=\"displacy-word\" fill=\"currentColor\" x=\"50\">John</tspan>\n",
       "    <tspan class=\"displacy-tag\" dy=\"2em\" fill=\"currentColor\" x=\"50\">PROPN</tspan>\n",
       "</text>\n",
       "\n",
       "<text class=\"displacy-token\" fill=\"currentColor\" text-anchor=\"middle\" y=\"309.5\">\n",
       "    <tspan class=\"displacy-word\" fill=\"currentColor\" x=\"225\">was</tspan>\n",
       "    <tspan class=\"displacy-tag\" dy=\"2em\" fill=\"currentColor\" x=\"225\">AUX</tspan>\n",
       "</text>\n",
       "\n",
       "<text class=\"displacy-token\" fill=\"currentColor\" text-anchor=\"middle\" y=\"309.5\">\n",
       "    <tspan class=\"displacy-word\" fill=\"currentColor\" x=\"400\">born</tspan>\n",
       "    <tspan class=\"displacy-tag\" dy=\"2em\" fill=\"currentColor\" x=\"400\">VERB</tspan>\n",
       "</text>\n",
       "\n",
       "<text class=\"displacy-token\" fill=\"currentColor\" text-anchor=\"middle\" y=\"309.5\">\n",
       "    <tspan class=\"displacy-word\" fill=\"currentColor\" x=\"575\">in</tspan>\n",
       "    <tspan class=\"displacy-tag\" dy=\"2em\" fill=\"currentColor\" x=\"575\">ADP</tspan>\n",
       "</text>\n",
       "\n",
       "<text class=\"displacy-token\" fill=\"currentColor\" text-anchor=\"middle\" y=\"309.5\">\n",
       "    <tspan class=\"displacy-word\" fill=\"currentColor\" x=\"750\">Chicken,</tspan>\n",
       "    <tspan class=\"displacy-tag\" dy=\"2em\" fill=\"currentColor\" x=\"750\">PROPN</tspan>\n",
       "</text>\n",
       "\n",
       "<text class=\"displacy-token\" fill=\"currentColor\" text-anchor=\"middle\" y=\"309.5\">\n",
       "    <tspan class=\"displacy-word\" fill=\"currentColor\" x=\"925\">Alaska</tspan>\n",
       "    <tspan class=\"displacy-tag\" dy=\"2em\" fill=\"currentColor\" x=\"925\">PROPN</tspan>\n",
       "</text>\n",
       "\n",
       "<text class=\"displacy-token\" fill=\"currentColor\" text-anchor=\"middle\" y=\"309.5\">\n",
       "    <tspan class=\"displacy-word\" fill=\"currentColor\" x=\"1100\">and</tspan>\n",
       "    <tspan class=\"displacy-tag\" dy=\"2em\" fill=\"currentColor\" x=\"1100\">CCONJ</tspan>\n",
       "</text>\n",
       "\n",
       "<text class=\"displacy-token\" fill=\"currentColor\" text-anchor=\"middle\" y=\"309.5\">\n",
       "    <tspan class=\"displacy-word\" fill=\"currentColor\" x=\"1275\">studies</tspan>\n",
       "    <tspan class=\"displacy-tag\" dy=\"2em\" fill=\"currentColor\" x=\"1275\">NOUN</tspan>\n",
       "</text>\n",
       "\n",
       "<text class=\"displacy-token\" fill=\"currentColor\" text-anchor=\"middle\" y=\"309.5\">\n",
       "    <tspan class=\"displacy-word\" fill=\"currentColor\" x=\"1450\">at</tspan>\n",
       "    <tspan class=\"displacy-tag\" dy=\"2em\" fill=\"currentColor\" x=\"1450\">ADP</tspan>\n",
       "</text>\n",
       "\n",
       "<text class=\"displacy-token\" fill=\"currentColor\" text-anchor=\"middle\" y=\"309.5\">\n",
       "    <tspan class=\"displacy-word\" fill=\"currentColor\" x=\"1625\">Cranberry</tspan>\n",
       "    <tspan class=\"displacy-tag\" dy=\"2em\" fill=\"currentColor\" x=\"1625\">PROPN</tspan>\n",
       "</text>\n",
       "\n",
       "<text class=\"displacy-token\" fill=\"currentColor\" text-anchor=\"middle\" y=\"309.5\">\n",
       "    <tspan class=\"displacy-word\" fill=\"currentColor\" x=\"1800\">Lemon</tspan>\n",
       "    <tspan class=\"displacy-tag\" dy=\"2em\" fill=\"currentColor\" x=\"1800\">PROPN</tspan>\n",
       "</text>\n",
       "\n",
       "<text class=\"displacy-token\" fill=\"currentColor\" text-anchor=\"middle\" y=\"309.5\">\n",
       "    <tspan class=\"displacy-word\" fill=\"currentColor\" x=\"1975\">University.</tspan>\n",
       "    <tspan class=\"displacy-tag\" dy=\"2em\" fill=\"currentColor\" x=\"1975\">PROPN</tspan>\n",
       "</text>\n",
       "\n",
       "<text class=\"displacy-token\" fill=\"currentColor\" text-anchor=\"middle\" y=\"309.5\">\n",
       "    <tspan class=\"displacy-word\" fill=\"currentColor\" x=\"2150\">John</tspan>\n",
       "    <tspan class=\"displacy-tag\" dy=\"2em\" fill=\"currentColor\" x=\"2150\">PROPN</tspan>\n",
       "</text>\n",
       "\n",
       "<text class=\"displacy-token\" fill=\"currentColor\" text-anchor=\"middle\" y=\"309.5\">\n",
       "    <tspan class=\"displacy-word\" fill=\"currentColor\" x=\"2325\">likes</tspan>\n",
       "    <tspan class=\"displacy-tag\" dy=\"2em\" fill=\"currentColor\" x=\"2325\">VERB</tspan>\n",
       "</text>\n",
       "\n",
       "<text class=\"displacy-token\" fill=\"currentColor\" text-anchor=\"middle\" y=\"309.5\">\n",
       "    <tspan class=\"displacy-word\" fill=\"currentColor\" x=\"2500\">to</tspan>\n",
       "    <tspan class=\"displacy-tag\" dy=\"2em\" fill=\"currentColor\" x=\"2500\">PART</tspan>\n",
       "</text>\n",
       "\n",
       "<text class=\"displacy-token\" fill=\"currentColor\" text-anchor=\"middle\" y=\"309.5\">\n",
       "    <tspan class=\"displacy-word\" fill=\"currentColor\" x=\"2675\">go</tspan>\n",
       "    <tspan class=\"displacy-tag\" dy=\"2em\" fill=\"currentColor\" x=\"2675\">VERB</tspan>\n",
       "</text>\n",
       "\n",
       "<text class=\"displacy-token\" fill=\"currentColor\" text-anchor=\"middle\" y=\"309.5\">\n",
       "    <tspan class=\"displacy-word\" fill=\"currentColor\" x=\"2850\">to</tspan>\n",
       "    <tspan class=\"displacy-tag\" dy=\"2em\" fill=\"currentColor\" x=\"2850\">ADP</tspan>\n",
       "</text>\n",
       "\n",
       "<text class=\"displacy-token\" fill=\"currentColor\" text-anchor=\"middle\" y=\"309.5\">\n",
       "    <tspan class=\"displacy-word\" fill=\"currentColor\" x=\"3025\">Starbucks.</tspan>\n",
       "    <tspan class=\"displacy-tag\" dy=\"2em\" fill=\"currentColor\" x=\"3025\">PROPN</tspan>\n",
       "</text>\n",
       "\n",
       "<g class=\"displacy-arrow\">\n",
       "    <path class=\"displacy-arc\" id=\"arrow-9ab6994a084346abbbc354717b4fd15d-0-0\" stroke-width=\"2px\" d=\"M70,264.5 C70,89.5 395.0,89.5 395.0,264.5\" fill=\"none\" stroke=\"currentColor\"/>\n",
       "    <text dy=\"1.25em\" style=\"font-size: 0.8em; letter-spacing: 1px\">\n",
       "        <textPath xlink:href=\"#arrow-9ab6994a084346abbbc354717b4fd15d-0-0\" class=\"displacy-label\" startOffset=\"50%\" side=\"left\" fill=\"currentColor\" text-anchor=\"middle\">nsubjpass</textPath>\n",
       "    </text>\n",
       "    <path class=\"displacy-arrowhead\" d=\"M70,266.5 L62,254.5 78,254.5\" fill=\"currentColor\"/>\n",
       "</g>\n",
       "\n",
       "<g class=\"displacy-arrow\">\n",
       "    <path class=\"displacy-arc\" id=\"arrow-9ab6994a084346abbbc354717b4fd15d-0-1\" stroke-width=\"2px\" d=\"M245,264.5 C245,177.0 390.0,177.0 390.0,264.5\" fill=\"none\" stroke=\"currentColor\"/>\n",
       "    <text dy=\"1.25em\" style=\"font-size: 0.8em; letter-spacing: 1px\">\n",
       "        <textPath xlink:href=\"#arrow-9ab6994a084346abbbc354717b4fd15d-0-1\" class=\"displacy-label\" startOffset=\"50%\" side=\"left\" fill=\"currentColor\" text-anchor=\"middle\">auxpass</textPath>\n",
       "    </text>\n",
       "    <path class=\"displacy-arrowhead\" d=\"M245,266.5 L237,254.5 253,254.5\" fill=\"currentColor\"/>\n",
       "</g>\n",
       "\n",
       "<g class=\"displacy-arrow\">\n",
       "    <path class=\"displacy-arc\" id=\"arrow-9ab6994a084346abbbc354717b4fd15d-0-2\" stroke-width=\"2px\" d=\"M420,264.5 C420,177.0 565.0,177.0 565.0,264.5\" fill=\"none\" stroke=\"currentColor\"/>\n",
       "    <text dy=\"1.25em\" style=\"font-size: 0.8em; letter-spacing: 1px\">\n",
       "        <textPath xlink:href=\"#arrow-9ab6994a084346abbbc354717b4fd15d-0-2\" class=\"displacy-label\" startOffset=\"50%\" side=\"left\" fill=\"currentColor\" text-anchor=\"middle\">prep</textPath>\n",
       "    </text>\n",
       "    <path class=\"displacy-arrowhead\" d=\"M565.0,266.5 L573.0,254.5 557.0,254.5\" fill=\"currentColor\"/>\n",
       "</g>\n",
       "\n",
       "<g class=\"displacy-arrow\">\n",
       "    <path class=\"displacy-arc\" id=\"arrow-9ab6994a084346abbbc354717b4fd15d-0-3\" stroke-width=\"2px\" d=\"M595,264.5 C595,177.0 740.0,177.0 740.0,264.5\" fill=\"none\" stroke=\"currentColor\"/>\n",
       "    <text dy=\"1.25em\" style=\"font-size: 0.8em; letter-spacing: 1px\">\n",
       "        <textPath xlink:href=\"#arrow-9ab6994a084346abbbc354717b4fd15d-0-3\" class=\"displacy-label\" startOffset=\"50%\" side=\"left\" fill=\"currentColor\" text-anchor=\"middle\">pobj</textPath>\n",
       "    </text>\n",
       "    <path class=\"displacy-arrowhead\" d=\"M740.0,266.5 L748.0,254.5 732.0,254.5\" fill=\"currentColor\"/>\n",
       "</g>\n",
       "\n",
       "<g class=\"displacy-arrow\">\n",
       "    <path class=\"displacy-arc\" id=\"arrow-9ab6994a084346abbbc354717b4fd15d-0-4\" stroke-width=\"2px\" d=\"M770,264.5 C770,177.0 915.0,177.0 915.0,264.5\" fill=\"none\" stroke=\"currentColor\"/>\n",
       "    <text dy=\"1.25em\" style=\"font-size: 0.8em; letter-spacing: 1px\">\n",
       "        <textPath xlink:href=\"#arrow-9ab6994a084346abbbc354717b4fd15d-0-4\" class=\"displacy-label\" startOffset=\"50%\" side=\"left\" fill=\"currentColor\" text-anchor=\"middle\">conj</textPath>\n",
       "    </text>\n",
       "    <path class=\"displacy-arrowhead\" d=\"M915.0,266.5 L923.0,254.5 907.0,254.5\" fill=\"currentColor\"/>\n",
       "</g>\n",
       "\n",
       "<g class=\"displacy-arrow\">\n",
       "    <path class=\"displacy-arc\" id=\"arrow-9ab6994a084346abbbc354717b4fd15d-0-5\" stroke-width=\"2px\" d=\"M945,264.5 C945,177.0 1090.0,177.0 1090.0,264.5\" fill=\"none\" stroke=\"currentColor\"/>\n",
       "    <text dy=\"1.25em\" style=\"font-size: 0.8em; letter-spacing: 1px\">\n",
       "        <textPath xlink:href=\"#arrow-9ab6994a084346abbbc354717b4fd15d-0-5\" class=\"displacy-label\" startOffset=\"50%\" side=\"left\" fill=\"currentColor\" text-anchor=\"middle\">cc</textPath>\n",
       "    </text>\n",
       "    <path class=\"displacy-arrowhead\" d=\"M1090.0,266.5 L1098.0,254.5 1082.0,254.5\" fill=\"currentColor\"/>\n",
       "</g>\n",
       "\n",
       "<g class=\"displacy-arrow\">\n",
       "    <path class=\"displacy-arc\" id=\"arrow-9ab6994a084346abbbc354717b4fd15d-0-6\" stroke-width=\"2px\" d=\"M945,264.5 C945,89.5 1270.0,89.5 1270.0,264.5\" fill=\"none\" stroke=\"currentColor\"/>\n",
       "    <text dy=\"1.25em\" style=\"font-size: 0.8em; letter-spacing: 1px\">\n",
       "        <textPath xlink:href=\"#arrow-9ab6994a084346abbbc354717b4fd15d-0-6\" class=\"displacy-label\" startOffset=\"50%\" side=\"left\" fill=\"currentColor\" text-anchor=\"middle\">conj</textPath>\n",
       "    </text>\n",
       "    <path class=\"displacy-arrowhead\" d=\"M1270.0,266.5 L1278.0,254.5 1262.0,254.5\" fill=\"currentColor\"/>\n",
       "</g>\n",
       "\n",
       "<g class=\"displacy-arrow\">\n",
       "    <path class=\"displacy-arc\" id=\"arrow-9ab6994a084346abbbc354717b4fd15d-0-7\" stroke-width=\"2px\" d=\"M1295,264.5 C1295,177.0 1440.0,177.0 1440.0,264.5\" fill=\"none\" stroke=\"currentColor\"/>\n",
       "    <text dy=\"1.25em\" style=\"font-size: 0.8em; letter-spacing: 1px\">\n",
       "        <textPath xlink:href=\"#arrow-9ab6994a084346abbbc354717b4fd15d-0-7\" class=\"displacy-label\" startOffset=\"50%\" side=\"left\" fill=\"currentColor\" text-anchor=\"middle\">prep</textPath>\n",
       "    </text>\n",
       "    <path class=\"displacy-arrowhead\" d=\"M1440.0,266.5 L1448.0,254.5 1432.0,254.5\" fill=\"currentColor\"/>\n",
       "</g>\n",
       "\n",
       "<g class=\"displacy-arrow\">\n",
       "    <path class=\"displacy-arc\" id=\"arrow-9ab6994a084346abbbc354717b4fd15d-0-8\" stroke-width=\"2px\" d=\"M1645,264.5 C1645,89.5 1970.0,89.5 1970.0,264.5\" fill=\"none\" stroke=\"currentColor\"/>\n",
       "    <text dy=\"1.25em\" style=\"font-size: 0.8em; letter-spacing: 1px\">\n",
       "        <textPath xlink:href=\"#arrow-9ab6994a084346abbbc354717b4fd15d-0-8\" class=\"displacy-label\" startOffset=\"50%\" side=\"left\" fill=\"currentColor\" text-anchor=\"middle\">compound</textPath>\n",
       "    </text>\n",
       "    <path class=\"displacy-arrowhead\" d=\"M1645,266.5 L1637,254.5 1653,254.5\" fill=\"currentColor\"/>\n",
       "</g>\n",
       "\n",
       "<g class=\"displacy-arrow\">\n",
       "    <path class=\"displacy-arc\" id=\"arrow-9ab6994a084346abbbc354717b4fd15d-0-9\" stroke-width=\"2px\" d=\"M1820,264.5 C1820,177.0 1965.0,177.0 1965.0,264.5\" fill=\"none\" stroke=\"currentColor\"/>\n",
       "    <text dy=\"1.25em\" style=\"font-size: 0.8em; letter-spacing: 1px\">\n",
       "        <textPath xlink:href=\"#arrow-9ab6994a084346abbbc354717b4fd15d-0-9\" class=\"displacy-label\" startOffset=\"50%\" side=\"left\" fill=\"currentColor\" text-anchor=\"middle\">compound</textPath>\n",
       "    </text>\n",
       "    <path class=\"displacy-arrowhead\" d=\"M1820,266.5 L1812,254.5 1828,254.5\" fill=\"currentColor\"/>\n",
       "</g>\n",
       "\n",
       "<g class=\"displacy-arrow\">\n",
       "    <path class=\"displacy-arc\" id=\"arrow-9ab6994a084346abbbc354717b4fd15d-0-10\" stroke-width=\"2px\" d=\"M1470,264.5 C1470,2.0 1975.0,2.0 1975.0,264.5\" fill=\"none\" stroke=\"currentColor\"/>\n",
       "    <text dy=\"1.25em\" style=\"font-size: 0.8em; letter-spacing: 1px\">\n",
       "        <textPath xlink:href=\"#arrow-9ab6994a084346abbbc354717b4fd15d-0-10\" class=\"displacy-label\" startOffset=\"50%\" side=\"left\" fill=\"currentColor\" text-anchor=\"middle\">pobj</textPath>\n",
       "    </text>\n",
       "    <path class=\"displacy-arrowhead\" d=\"M1975.0,266.5 L1983.0,254.5 1967.0,254.5\" fill=\"currentColor\"/>\n",
       "</g>\n",
       "\n",
       "<g class=\"displacy-arrow\">\n",
       "    <path class=\"displacy-arc\" id=\"arrow-9ab6994a084346abbbc354717b4fd15d-0-11\" stroke-width=\"2px\" d=\"M2170,264.5 C2170,177.0 2315.0,177.0 2315.0,264.5\" fill=\"none\" stroke=\"currentColor\"/>\n",
       "    <text dy=\"1.25em\" style=\"font-size: 0.8em; letter-spacing: 1px\">\n",
       "        <textPath xlink:href=\"#arrow-9ab6994a084346abbbc354717b4fd15d-0-11\" class=\"displacy-label\" startOffset=\"50%\" side=\"left\" fill=\"currentColor\" text-anchor=\"middle\">nsubj</textPath>\n",
       "    </text>\n",
       "    <path class=\"displacy-arrowhead\" d=\"M2170,266.5 L2162,254.5 2178,254.5\" fill=\"currentColor\"/>\n",
       "</g>\n",
       "\n",
       "<g class=\"displacy-arrow\">\n",
       "    <path class=\"displacy-arc\" id=\"arrow-9ab6994a084346abbbc354717b4fd15d-0-12\" stroke-width=\"2px\" d=\"M2520,264.5 C2520,177.0 2665.0,177.0 2665.0,264.5\" fill=\"none\" stroke=\"currentColor\"/>\n",
       "    <text dy=\"1.25em\" style=\"font-size: 0.8em; letter-spacing: 1px\">\n",
       "        <textPath xlink:href=\"#arrow-9ab6994a084346abbbc354717b4fd15d-0-12\" class=\"displacy-label\" startOffset=\"50%\" side=\"left\" fill=\"currentColor\" text-anchor=\"middle\">aux</textPath>\n",
       "    </text>\n",
       "    <path class=\"displacy-arrowhead\" d=\"M2520,266.5 L2512,254.5 2528,254.5\" fill=\"currentColor\"/>\n",
       "</g>\n",
       "\n",
       "<g class=\"displacy-arrow\">\n",
       "    <path class=\"displacy-arc\" id=\"arrow-9ab6994a084346abbbc354717b4fd15d-0-13\" stroke-width=\"2px\" d=\"M2345,264.5 C2345,89.5 2670.0,89.5 2670.0,264.5\" fill=\"none\" stroke=\"currentColor\"/>\n",
       "    <text dy=\"1.25em\" style=\"font-size: 0.8em; letter-spacing: 1px\">\n",
       "        <textPath xlink:href=\"#arrow-9ab6994a084346abbbc354717b4fd15d-0-13\" class=\"displacy-label\" startOffset=\"50%\" side=\"left\" fill=\"currentColor\" text-anchor=\"middle\">xcomp</textPath>\n",
       "    </text>\n",
       "    <path class=\"displacy-arrowhead\" d=\"M2670.0,266.5 L2678.0,254.5 2662.0,254.5\" fill=\"currentColor\"/>\n",
       "</g>\n",
       "\n",
       "<g class=\"displacy-arrow\">\n",
       "    <path class=\"displacy-arc\" id=\"arrow-9ab6994a084346abbbc354717b4fd15d-0-14\" stroke-width=\"2px\" d=\"M2695,264.5 C2695,177.0 2840.0,177.0 2840.0,264.5\" fill=\"none\" stroke=\"currentColor\"/>\n",
       "    <text dy=\"1.25em\" style=\"font-size: 0.8em; letter-spacing: 1px\">\n",
       "        <textPath xlink:href=\"#arrow-9ab6994a084346abbbc354717b4fd15d-0-14\" class=\"displacy-label\" startOffset=\"50%\" side=\"left\" fill=\"currentColor\" text-anchor=\"middle\">prep</textPath>\n",
       "    </text>\n",
       "    <path class=\"displacy-arrowhead\" d=\"M2840.0,266.5 L2848.0,254.5 2832.0,254.5\" fill=\"currentColor\"/>\n",
       "</g>\n",
       "\n",
       "<g class=\"displacy-arrow\">\n",
       "    <path class=\"displacy-arc\" id=\"arrow-9ab6994a084346abbbc354717b4fd15d-0-15\" stroke-width=\"2px\" d=\"M2870,264.5 C2870,177.0 3015.0,177.0 3015.0,264.5\" fill=\"none\" stroke=\"currentColor\"/>\n",
       "    <text dy=\"1.25em\" style=\"font-size: 0.8em; letter-spacing: 1px\">\n",
       "        <textPath xlink:href=\"#arrow-9ab6994a084346abbbc354717b4fd15d-0-15\" class=\"displacy-label\" startOffset=\"50%\" side=\"left\" fill=\"currentColor\" text-anchor=\"middle\">pobj</textPath>\n",
       "    </text>\n",
       "    <path class=\"displacy-arrowhead\" d=\"M3015.0,266.5 L3023.0,254.5 3007.0,254.5\" fill=\"currentColor\"/>\n",
       "</g>\n",
       "</svg></span>"
      ],
      "text/plain": [
       "<IPython.core.display.HTML object>"
      ]
     },
     "metadata": {},
     "output_type": "display_data"
    }
   ],
   "source": [
    "from spacy import displacy\n",
    "tokens = nlp(\"John was born in Chicken, Alaska and studies at Cranberry Lemon University. John likes to go to Starbucks.\")\n",
    "displacy.render(tokens, style='dep', jupyter=True)"
   ]
  },
  {
   "cell_type": "markdown",
   "id": "607e9cc3-9b97-4b32-98c6-af1ee51a73a3",
   "metadata": {},
   "source": [
    "## Word Net\n",
    "WordNet 3.0 es un diccionario jerárquico desarrollado por la Universidad de Princeton, que categoríza las acepciones de todas las palabras <br> del inglés en relaciones semánticas con otras. <br>\n",
    "<br>\n",
    "Se puede acceder fácilmente a Wordnet utilizando NLTK mediante la función wordnet del módulo corpus.\n",
    "<br>\n",
    "Por ejemplo, busquemos la palabra \"bank\".\n"
   ]
  },
  {
   "cell_type": "code",
   "execution_count": 97,
   "id": "28a4a341-be83-4de3-9345-a29d02a30bd7",
   "metadata": {
    "tags": []
   },
   "outputs": [
    {
     "name": "stdout",
     "output_type": "stream",
     "text": [
      "[Synset('bank.n.01'), Synset('depository_financial_institution.n.01'), Synset('bank.n.03'), Synset('bank.n.04'), Synset('bank.n.05'), Synset('bank.n.06'), Synset('bank.n.07'), Synset('savings_bank.n.02'), Synset('bank.n.09'), Synset('bank.n.10'), Synset('bank.v.01'), Synset('bank.v.02'), Synset('bank.v.03'), Synset('bank.v.04'), Synset('bank.v.05'), Synset('deposit.v.02'), Synset('bank.v.07'), Synset('trust.v.01')]\n"
     ]
    }
   ],
   "source": [
    "from nltk.corpus import wordnet\n",
    "syn = wordnet.synsets(\"bank\")\n",
    "print(syn)"
   ]
  },
  {
   "cell_type": "code",
   "execution_count": 100,
   "id": "ca8e78a9-889a-4c9b-8fa0-c9d499933378",
   "metadata": {
    "tags": []
   },
   "outputs": [
    {
     "name": "stdout",
     "output_type": "stream",
     "text": [
      "bank.n.01 definition: sloping land (especially the slope beside a body of water)\n",
      "bank.n.02 definition: a financial institution that accepts deposits and channels the money into lending activities\n",
      "bank.n.03 definition: a long ridge or pile\n"
     ]
    }
   ],
   "source": [
    "print(\"bank.n.01 definition: \" + syn[0].definition())\n",
    "print(\"bank.n.02 definition: \" + syn[1].definition())\n",
    "print(\"bank.n.03 definition: \" + syn[2].definition())"
   ]
  }
 ],
 "metadata": {
  "kernelspec": {
   "display_name": "Python 3 (ipykernel)",
   "language": "python",
   "name": "python3"
  },
  "language_info": {
   "codemirror_mode": {
    "name": "ipython",
    "version": 3
   },
   "file_extension": ".py",
   "mimetype": "text/x-python",
   "name": "python",
   "nbconvert_exporter": "python",
   "pygments_lexer": "ipython3",
   "version": "3.11.7"
  }
 },
 "nbformat": 4,
 "nbformat_minor": 5
}

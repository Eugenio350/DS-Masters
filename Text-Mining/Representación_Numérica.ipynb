{
 "cells": [
  {
   "cell_type": "markdown",
   "id": "cc72afce-1f1a-4ad1-a157-0c47c98fc11f",
   "metadata": {},
   "source": [
    "Pasar de una representación textual a una representación <br>\n",
    "numérica en un espacio vectorial."
   ]
  },
  {
   "cell_type": "markdown",
   "id": "02efc0bd-0e80-4e5e-ba0e-81da50ff2ed8",
   "metadata": {
    "tags": []
   },
   "source": [
    "\n",
    "# Representación numérica de textos\n",
    "En la mayoría de técnicas comúnmente utilizadas en Text Mining y NLP es necesario representar los textos en forma de vectores numéricos para que puedan ser procesados por modelos estadísticos o modelos de aprendizaje automático. Existen diferentes formas de representar el texto de esta manera, todas de ellas consisten en mapear la información a un espacio vectorial, numérico, aunque difieren en la manera de modelar los datos.\n",
    "\n",
    "Por una parte, nos encontramos estrategias para representar documentos completos en el espacio vectorial. Estas estrategias se basan en construir una matriz de términos y documentos, que representan el contenido del texto en vectores de manera que puedan ser utilizados como fuente de datos de entrada para tareas de clasificación, topic modelling o búsqueda de información.\n",
    "\n",
    "\n",
    "Por otra parte, existen estrategias para representar los documentos a nivel de palabra. Es decir, que cada token del vocabulario tenga asociada un vector específico. Estas estrategias, comúnmente denominadas como embeddings, permiten capturar la semántica de los términos y realizar de forma muy competente tareas más complejas como la extracción y linkeo de entidades, aunque también pueden ser utilizadas para otro tipo de tareas.\n",
    "\n",
    "\n",
    "\n"
   ]
  },
  {
   "cell_type": "markdown",
   "id": "e8da3bfc-4f02-4d5e-82e2-b20ca8ce5011",
   "metadata": {
    "tags": []
   },
   "source": [
    "\n",
    "## 1. Representación numérica de documentos\n",
    "\n",
    "En este notebook vamos a aprender a representar numéricamente documentos a través de los métodos de representación Bag Of Words (BoW) y TF-IDF.\n",
    "\n",
    "\n",
    "Para este ejercicio trabajaremos con un corpus muy sencillo, para visualizar bien los resultados:"
   ]
  },
  {
   "cell_type": "code",
   "execution_count": 1,
   "id": "34073e88-17ce-455b-a875-1b834d5ab742",
   "metadata": {
    "tags": []
   },
   "outputs": [
    {
     "data": {
      "text/plain": [
       "[['yo', 'quiero', 'agua'],\n",
       " ['yo', 'quiero', 'cocacola'],\n",
       " ['yo', 'quiero', 'agua', 'y', 'un', 'agua'],\n",
       " ['yo', 'no', 'quiero', 'vino'],\n",
       " ['yo', 'quiero', 'un', 'entrecot']]"
      ]
     },
     "execution_count": 1,
     "metadata": {},
     "output_type": "execute_result"
    }
   ],
   "source": [
    "corpus = [\"yo quiero agua\",\n",
    "          \"yo quiero cocacola\",\n",
    "          \"yo quiero agua y un agua\",\n",
    "          \"yo no quiero vino\",\n",
    "          \"yo quiero un entrecot\"]\n",
    "# Tokenizar\n",
    "corpus_tok = [i.split() for i in corpus] # Corpus conocido y sencillo, dividir palabras con split()\n",
    "corpus_tok"
   ]
  },
  {
   "cell_type": "markdown",
   "id": "d3d18f68-b9b5-4220-bf87-2696475e1310",
   "metadata": {},
   "source": [
    "### Bag of Words\n",
    "Como hemos visto anterioremente, Bag Of Words es uno de los modelos de representación de texto más intuitivos. Para implementarlo, se construye un vocabulario de tamaño N con los tokens únicos del corpus de trabajo, para despues representar cada documento con un vector del mismo tamaño en el que cada elemento será el nº de veces que aparece el token en cuestión en el documento.\n",
    "\n",
    "En primer lugar, construimos el vocabulario que se utilizará para representar nuestro corpus:"
   ]
  },
  {
   "cell_type": "code",
   "execution_count": 2,
   "id": "e46a5493-d944-4ad6-959a-6a225a5e5d67",
   "metadata": {
    "tags": []
   },
   "outputs": [
    {
     "name": "stdout",
     "output_type": "stream",
     "text": [
      "Nuestro vocabulario contiene 9 tokens. Que son: ['agua', 'cocacola', 'entrecot', 'no', 'quiero', 'un', 'vino', 'y', 'yo']\n"
     ]
    }
   ],
   "source": [
    "# El vocabulario de nuestro corpus son los tokens únicos utilizados en nuestro conjunto de documentos\n",
    "import itertools\n",
    "import numpy as np\n",
    "\n",
    "all_tokens = itertools.chain(*corpus_tok)\n",
    "vocab = sorted(set(all_tokens))\n",
    "\n",
    "print(\"Nuestro vocabulario contiene {} tokens. Que son: {}\".format(len(vocab),vocab))"
   ]
  },
  {
   "cell_type": "markdown",
   "id": "bb63c8cf-ec32-4acb-8426-d3803cb7fe09",
   "metadata": {},
   "source": [
    "Cada uno de los documentos del corpus estará representado por un vector de 9 elementos. El elemento 0 representará la presencia del token agua en el documento, el elemento 1 representará la presencia de \"cocacola\" en el documento... etc\n",
    "\n",
    "A continuación, vamos a construir esos vectores:"
   ]
  },
  {
   "cell_type": "code",
   "execution_count": 4,
   "id": "bb6236e9-f87d-451d-9826-27c5bac172ce",
   "metadata": {
    "tags": []
   },
   "outputs": [
    {
     "data": {
      "text/plain": [
       "Counter({'agua': 2, 'yo': 1, 'quiero': 1})"
      ]
     },
     "execution_count": 4,
     "metadata": {},
     "output_type": "execute_result"
    }
   ],
   "source": [
    "import collections\n",
    "\n",
    "diccionario = collections.Counter(['yo', 'quiero', 'agua', 'agua'])\n",
    "diccionario"
   ]
  },
  {
   "cell_type": "code",
   "execution_count": 5,
   "id": "1c216f0d-2106-4b7b-bb66-63f26240e338",
   "metadata": {
    "tags": []
   },
   "outputs": [],
   "source": [
    "doc_vectors = list()\n",
    "# Iteramos en cada uno de los documentos del corpus\n",
    "for doc in corpus_tok:\n",
    "  # Contamos las ocurrencias de cada uno de los tokens. Counter devuelve un diccionario\n",
    "  counter_doc = collections.Counter(doc)\n",
    "  # Creamos el vector que representará al documento\n",
    "  doc_vec = list()\n",
    "  # Iteramos por los términos del voabulario\n",
    "  for word in vocab:\n",
    "    # Si el término está en el diccionario de conteo, introducimos el valor en\n",
    "    # esa posición del vector. Si no está, introducimos un 0\n",
    "    if word in counter_doc:\n",
    "        doc_vec.append(counter_doc[word])\n",
    "    else:\n",
    "        doc_vec.append(0)\n",
    "  # Añadimos al vector de salida el vector del documento\n",
    "  doc_vectors.append(doc_vec)"
   ]
  },
  {
   "cell_type": "code",
   "execution_count": 6,
   "id": "5307348a-0b08-4739-80e4-d677e93294a3",
   "metadata": {
    "tags": []
   },
   "outputs": [
    {
     "name": "stdout",
     "output_type": "stream",
     "text": [
      "La frase 'yo quiero agua' está representada por el vector [1, 0, 0, 0, 1, 0, 0, 0, 1]\n",
      "La frase 'yo quiero cocacola' está representada por el vector [0, 1, 0, 0, 1, 0, 0, 0, 1]\n",
      "La frase 'yo quiero agua y un agua' está representada por el vector [2, 0, 0, 0, 1, 1, 0, 1, 1]\n",
      "La frase 'yo no quiero vino' está representada por el vector [0, 0, 0, 1, 1, 0, 1, 0, 1]\n",
      "La frase 'yo quiero un entrecot' está representada por el vector [0, 0, 1, 0, 1, 1, 0, 0, 1]\n"
     ]
    }
   ],
   "source": [
    "for frase, vector in zip(corpus, doc_vectors):\n",
    "    print(\"La frase '{}' está representada por el vector {}\".format(frase, vector))"
   ]
  },
  {
   "cell_type": "markdown",
   "id": "b2a148af-ed48-4da8-ab04-30891163d5b4",
   "metadata": {},
   "source": [
    "En Bag Of Words:\n",
    "\n",
    "- Los términos que aparecen varias veces en el documento tienen un número mayor, lo que se puede traducir en que esos términos (caracteristicas) tienen un mayor peso en el documento.\n",
    "- Si un término ocurre muchas veces en todos los documentos, tendrá gran importancia en cada uno de ellos, a pesar de que no será útil para clasificar o agrupar textos.\n",
    "\n",
    "\n",
    "El método de representación TF-IDF intenta precisamente  compensar este efecto mediante la aplicación de una penalización a palabras comunes en muchos documentos."
   ]
  },
  {
   "cell_type": "markdown",
   "id": "6dbee4ba-ff3e-47db-8a95-f0f1a1515ffc",
   "metadata": {},
   "source": [
    "### TF-IDF  (intuición)\n",
    "Para realizar los cáculos de forma más eficiente generaremos un diccionario que asocie a cada una de las palabras de nuestro corpus un índice numérico.\n",
    "\n",
    "Para calcular TF-IDF realizaremos los siguientes pasos:\n",
    "\n",
    "1. Calcular el Term Frequency (TF). Que se calcula como:\n",
    "  $$TF(w) = n_{w-in-d} / N_d$$\n",
    "\n",
    "Anteriormente hemos calculado para cada documento el número de veces que aparecía cada token del vocabulario. Para calcular el TF bastaría con dividir cada uno de los elementos del vector con la suma total de tokens de cada documento.\n",
    "\n",
    "2. Calcular el componente Inverse-Document Frequency (IDF). Que se calcula como:\n",
    "$$ IDF(w) = ln(N/n_w)$$\n",
    "\n",
    "donde n_w  es el número de documentos que contiene el token w y N es el número total de documentos.\n",
    "\n",
    "En primer lugar generamos una función que permita calcular el número de vees que un token aparece en un documento d enuestro corpus.\n",
    "\n",
    "Despues, uniríamos ambas expresiones para calcular el TF-IDF de una frase (las siguientes celdas son de pseudocódigo):"
   ]
  },
  {
   "cell_type": "markdown",
   "id": "a83361d4-09dc-4d3f-b7a9-a50320c79a85",
   "metadata": {},
   "source": [
    "\n",
    "\n",
    "```python\n",
    "\n",
    "def tf_idf_calc(doc, N_corpus):\n",
    "  # Generamos vector salida\n",
    "  tf_idf_vec = np.zeros((len(vocab),))\n",
    "  for word in doc:\n",
    "    # Calculamoes el valor tf para el token en cuestion\n",
    "    tf = TF_calc(doc, word)\n",
    "    # Calculamos el valor idf para el token en cuestion\n",
    "    idf = idf_calc(doc, N_corpus)\n",
    "\n",
    "    tf_idf = tf * idf\n",
    "    tf_idf_vec[index_dict[word]] = tf_idf\n",
    "  return tf_idf_vec\n",
    "```\n",
    "Y lo aplicaríamos a todo el corpus:\n",
    "\n",
    "\n",
    "\n",
    "\n",
    "```python\n",
    "#TF-IDF Encoded text corpus\n",
    "tf_idf_result = []\n",
    "for sent in corpus_tok:\n",
    "    vec = tf_idf_calc(sent,len(corpus_tok))\n",
    "    tf_idf_result.append(vec)\n",
    "```\n",
    "\n"
   ]
  },
  {
   "cell_type": "markdown",
   "id": "be4ee9de-4a34-4be5-bbbc-7e5169ec64bb",
   "metadata": {},
   "source": [
    "### Cálculo con scikit-learn\n",
    "Aunque hemos mostrado una manera de aplicar el BoW y Tf-IDF a un corpus de documentos. Existen varias modificaciones que pueden mejorar los resultados (modificaciones en el cálculo de la componente IDF, por ejemplo). Además, las librerías de ML están preparadas para transformar documentos de forma más inmedianta, eficiente e incorporando funciones que pueden ser de utilidad\n",
    "\n",
    "\n",
    "En scikit-learn podemos utilizar distintas funciones para obtener el vocabulario de un corpus de documentos. Ambas están presentes dentro del módulo feature_extraction.text y son [`CountVectorizer`](https://scikit-learn.org/stable/modules/generated/sklearn.feature_extraction.text.CountVectorizer.html) y  [`TfidfVectorizer`](https://scikit-learn.org/stable/modules/generated/sklearn.feature_extraction.text.TfidfVectorizer.html#sklearn.feature_extraction.text.TfidfVectorizer).\n",
    "Vamos a crear un objeto con cada una de esas clases para introducir nuestro corpus y extraer el vocabulario.\n",
    "\n",
    "\n",
    "**Tanto las funciones CountVectorizer como TfidfVectorizer cuentan con muchos parámetros personalizables. Algunos de los más relevantes son:**\n",
    "\n",
    "\n",
    "*   *strip_accents*: Elimina los acentos en codificación ascii o unicode. Por defecto es None. Es preferible hacer una gestión de acentos previas.\n",
    "*   *lowercase*: Transforma todos los caracteres a minúsculas antes de hacer la tokenización.\n",
    "*   *tokenizer*: Utiliza un tokenizador específico. Se puede utilizar una de NLTK o de Spacy(computacionalmente menos eficiente).\n",
    "*   *stop_words*: Si se pone el valor \"english\" eliminara la lista de stop_words definida en scikit-learn. Se puede utilizar la lista de stopwords de otras librerías o definir unas propias.\n",
    "*   *ngram_range*: Cálculo de n-gramas en el proceso. Mediante la tubla (min_n, max_n) se pueden incorporar n-gramas al cálculo de la matriz tfidf.\n",
    "*   *max_df*: Valor por defecto 1.  Ignora los tokens (o n-gramas) que aparecen en más del X % de documentos cuando es menor de 1. Si max_df es mayor que uno se ignorarán los términos que aparecen en más de X documentos.\n",
    "*   *min_df*: Valor por defecto 1. Ignora los tokens que aparecen  en menos del X % de los documentos. Siendo X el valor de X. (0.01 = 1%, por ejemplo)\n",
    "*   *max_features*: Máximas características que devuelve la función TfidfVectorizer. Valor mayor que 1. Representa las caracaterísticas más importantes (las más repetidas o comunes) Esto es muy interesante para no sobreentrenar el sistema.\n",
    "*   *norm*: Valores \"l1\" y \"l2\", por defecto \"l2\". Normaliza los valores entre 0 y 1.\n",
    "*   *use_idf*: Habilita el uso del inverse-document frequency en la función. Por defecto es True.\n",
    "*   *smooth_idf*: Suaviza los pesos de IDF sumando una unidad a cada frecuencia. Es muy importante para evitar divisiones por cero.\n",
    "\n",
    "\n",
    "\n"
   ]
  },
  {
   "cell_type": "code",
   "execution_count": 7,
   "id": "7738fe48-ae5e-40e4-8470-7b1a5f175255",
   "metadata": {
    "tags": []
   },
   "outputs": [],
   "source": [
    "from sklearn.feature_extraction.text import CountVectorizer,TfidfVectorizer\n",
    "from sklearn.feature_extraction import text\n",
    "\n",
    "# Creamos los objetos\n",
    "count_vectorizer = CountVectorizer()\n",
    "tfidf_vectorizer = TfidfVectorizer(norm=None, smooth_idf=False) # Re-escribimos los valores por defecto para tener el tf-idf básico\n",
    "\n",
    "# Hacemos Fit con nuestro corpus\n",
    "count_data = count_vectorizer.fit(corpus)\n",
    "tfidf_data = tfidf_vectorizer.fit(corpus)\n"
   ]
  },
  {
   "cell_type": "code",
   "execution_count": 8,
   "id": "29d881d5-3b9a-4e46-a17f-26bca05a621a",
   "metadata": {
    "tags": []
   },
   "outputs": [
    {
     "name": "stdout",
     "output_type": "stream",
     "text": [
      "COUNT VECTORIZER\n",
      "Obtenemos un dictionario que mapea las palabras con su posición en el vector del vocabulario\n",
      "{'yo': 7, 'quiero': 4, 'agua': 0, 'cocacola': 1, 'un': 5, 'no': 3, 'vino': 6, 'entrecot': 2}\n",
      "Obtenemos el vocabulario en si mismo como una lista\n",
      "['agua' 'cocacola' 'entrecot' 'no' 'quiero' 'un' 'vino' 'yo']\n",
      "Numero de características:\n",
      "8\n"
     ]
    }
   ],
   "source": [
    "# Obtenemos los vocabularios de dos formas:\n",
    "print(\"COUNT VECTORIZER\")\n",
    "print(\"Obtenemos un dictionario que mapea las palabras con su posición en el vector del vocabulario\")\n",
    "print(count_data.vocabulary_)\n",
    "print(\"Obtenemos el vocabulario en si mismo como una lista\")\n",
    "print(count_data.get_feature_names_out())\n",
    "print(\"Numero de características:\")\n",
    "print(len(count_data.get_feature_names_out()))"
   ]
  },
  {
   "cell_type": "code",
   "execution_count": 9,
   "id": "ca56706d-d007-41bb-8aed-d476f01aec24",
   "metadata": {
    "tags": []
   },
   "outputs": [
    {
     "name": "stdout",
     "output_type": "stream",
     "text": [
      "\n",
      "\n",
      " TF-IDF VECTORIZER\n",
      "Obtenemos un dictionario que mapea las palabras con su posición en el vector del vocabulario\n",
      "{'yo': 7, 'quiero': 4, 'agua': 0, 'cocacola': 1, 'un': 5, 'no': 3, 'vino': 6, 'entrecot': 2}\n",
      "Obtenemos el vocabulario en si mismo como una lista\n",
      "['agua' 'cocacola' 'entrecot' 'no' 'quiero' 'un' 'vino' 'yo']\n",
      "Numero de características:\n",
      "8\n"
     ]
    }
   ],
   "source": [
    "# Obviamente, dado que hemos utilizado el mismo corpus, obtenemos el mismo resultado con el tfidf_vectorizer.\n",
    "print(\"\\n\\n TF-IDF VECTORIZER\")\n",
    "print(\"Obtenemos un dictionario que mapea las palabras con su posición en el vector del vocabulario\")\n",
    "print(tfidf_data.vocabulary_)\n",
    "print(\"Obtenemos el vocabulario en si mismo como una lista\")\n",
    "print(tfidf_data.get_feature_names_out())\n",
    "print(\"Numero de características:\")\n",
    "print(len(tfidf_data.get_feature_names_out()))"
   ]
  },
  {
   "cell_type": "markdown",
   "id": "286b7318-ac46-4e49-ac0e-c5f4dbbcb3c7",
   "metadata": {},
   "source": [
    "Si imprimimos el objeto tfidf_data podemos ver la configuración de los parámetros de TfidfVectorizer:"
   ]
  },
  {
   "cell_type": "code",
   "execution_count": 10,
   "id": "005f067e-8bd0-4d06-9ed8-5f8b022367b0",
   "metadata": {
    "tags": []
   },
   "outputs": [
    {
     "data": {
      "text/html": [
       "<style>#sk-container-id-1 {\n",
       "  /* Definition of color scheme common for light and dark mode */\n",
       "  --sklearn-color-text: black;\n",
       "  --sklearn-color-line: gray;\n",
       "  /* Definition of color scheme for unfitted estimators */\n",
       "  --sklearn-color-unfitted-level-0: #fff5e6;\n",
       "  --sklearn-color-unfitted-level-1: #f6e4d2;\n",
       "  --sklearn-color-unfitted-level-2: #ffe0b3;\n",
       "  --sklearn-color-unfitted-level-3: chocolate;\n",
       "  /* Definition of color scheme for fitted estimators */\n",
       "  --sklearn-color-fitted-level-0: #f0f8ff;\n",
       "  --sklearn-color-fitted-level-1: #d4ebff;\n",
       "  --sklearn-color-fitted-level-2: #b3dbfd;\n",
       "  --sklearn-color-fitted-level-3: cornflowerblue;\n",
       "\n",
       "  /* Specific color for light theme */\n",
       "  --sklearn-color-text-on-default-background: var(--sg-text-color, var(--theme-code-foreground, var(--jp-content-font-color1, black)));\n",
       "  --sklearn-color-background: var(--sg-background-color, var(--theme-background, var(--jp-layout-color0, white)));\n",
       "  --sklearn-color-border-box: var(--sg-text-color, var(--theme-code-foreground, var(--jp-content-font-color1, black)));\n",
       "  --sklearn-color-icon: #696969;\n",
       "\n",
       "  @media (prefers-color-scheme: dark) {\n",
       "    /* Redefinition of color scheme for dark theme */\n",
       "    --sklearn-color-text-on-default-background: var(--sg-text-color, var(--theme-code-foreground, var(--jp-content-font-color1, white)));\n",
       "    --sklearn-color-background: var(--sg-background-color, var(--theme-background, var(--jp-layout-color0, #111)));\n",
       "    --sklearn-color-border-box: var(--sg-text-color, var(--theme-code-foreground, var(--jp-content-font-color1, white)));\n",
       "    --sklearn-color-icon: #878787;\n",
       "  }\n",
       "}\n",
       "\n",
       "#sk-container-id-1 {\n",
       "  color: var(--sklearn-color-text);\n",
       "}\n",
       "\n",
       "#sk-container-id-1 pre {\n",
       "  padding: 0;\n",
       "}\n",
       "\n",
       "#sk-container-id-1 input.sk-hidden--visually {\n",
       "  border: 0;\n",
       "  clip: rect(1px 1px 1px 1px);\n",
       "  clip: rect(1px, 1px, 1px, 1px);\n",
       "  height: 1px;\n",
       "  margin: -1px;\n",
       "  overflow: hidden;\n",
       "  padding: 0;\n",
       "  position: absolute;\n",
       "  width: 1px;\n",
       "}\n",
       "\n",
       "#sk-container-id-1 div.sk-dashed-wrapped {\n",
       "  border: 1px dashed var(--sklearn-color-line);\n",
       "  margin: 0 0.4em 0.5em 0.4em;\n",
       "  box-sizing: border-box;\n",
       "  padding-bottom: 0.4em;\n",
       "  background-color: var(--sklearn-color-background);\n",
       "}\n",
       "\n",
       "#sk-container-id-1 div.sk-container {\n",
       "  /* jupyter's `normalize.less` sets `[hidden] { display: none; }`\n",
       "     but bootstrap.min.css set `[hidden] { display: none !important; }`\n",
       "     so we also need the `!important` here to be able to override the\n",
       "     default hidden behavior on the sphinx rendered scikit-learn.org.\n",
       "     See: https://github.com/scikit-learn/scikit-learn/issues/21755 */\n",
       "  display: inline-block !important;\n",
       "  position: relative;\n",
       "}\n",
       "\n",
       "#sk-container-id-1 div.sk-text-repr-fallback {\n",
       "  display: none;\n",
       "}\n",
       "\n",
       "div.sk-parallel-item,\n",
       "div.sk-serial,\n",
       "div.sk-item {\n",
       "  /* draw centered vertical line to link estimators */\n",
       "  background-image: linear-gradient(var(--sklearn-color-text-on-default-background), var(--sklearn-color-text-on-default-background));\n",
       "  background-size: 2px 100%;\n",
       "  background-repeat: no-repeat;\n",
       "  background-position: center center;\n",
       "}\n",
       "\n",
       "/* Parallel-specific style estimator block */\n",
       "\n",
       "#sk-container-id-1 div.sk-parallel-item::after {\n",
       "  content: \"\";\n",
       "  width: 100%;\n",
       "  border-bottom: 2px solid var(--sklearn-color-text-on-default-background);\n",
       "  flex-grow: 1;\n",
       "}\n",
       "\n",
       "#sk-container-id-1 div.sk-parallel {\n",
       "  display: flex;\n",
       "  align-items: stretch;\n",
       "  justify-content: center;\n",
       "  background-color: var(--sklearn-color-background);\n",
       "  position: relative;\n",
       "}\n",
       "\n",
       "#sk-container-id-1 div.sk-parallel-item {\n",
       "  display: flex;\n",
       "  flex-direction: column;\n",
       "}\n",
       "\n",
       "#sk-container-id-1 div.sk-parallel-item:first-child::after {\n",
       "  align-self: flex-end;\n",
       "  width: 50%;\n",
       "}\n",
       "\n",
       "#sk-container-id-1 div.sk-parallel-item:last-child::after {\n",
       "  align-self: flex-start;\n",
       "  width: 50%;\n",
       "}\n",
       "\n",
       "#sk-container-id-1 div.sk-parallel-item:only-child::after {\n",
       "  width: 0;\n",
       "}\n",
       "\n",
       "/* Serial-specific style estimator block */\n",
       "\n",
       "#sk-container-id-1 div.sk-serial {\n",
       "  display: flex;\n",
       "  flex-direction: column;\n",
       "  align-items: center;\n",
       "  background-color: var(--sklearn-color-background);\n",
       "  padding-right: 1em;\n",
       "  padding-left: 1em;\n",
       "}\n",
       "\n",
       "\n",
       "/* Toggleable style: style used for estimator/Pipeline/ColumnTransformer box that is\n",
       "clickable and can be expanded/collapsed.\n",
       "- Pipeline and ColumnTransformer use this feature and define the default style\n",
       "- Estimators will overwrite some part of the style using the `sk-estimator` class\n",
       "*/\n",
       "\n",
       "/* Pipeline and ColumnTransformer style (default) */\n",
       "\n",
       "#sk-container-id-1 div.sk-toggleable {\n",
       "  /* Default theme specific background. It is overwritten whether we have a\n",
       "  specific estimator or a Pipeline/ColumnTransformer */\n",
       "  background-color: var(--sklearn-color-background);\n",
       "}\n",
       "\n",
       "/* Toggleable label */\n",
       "#sk-container-id-1 label.sk-toggleable__label {\n",
       "  cursor: pointer;\n",
       "  display: block;\n",
       "  width: 100%;\n",
       "  margin-bottom: 0;\n",
       "  padding: 0.5em;\n",
       "  box-sizing: border-box;\n",
       "  text-align: center;\n",
       "}\n",
       "\n",
       "#sk-container-id-1 label.sk-toggleable__label-arrow:before {\n",
       "  /* Arrow on the left of the label */\n",
       "  content: \"▸\";\n",
       "  float: left;\n",
       "  margin-right: 0.25em;\n",
       "  color: var(--sklearn-color-icon);\n",
       "}\n",
       "\n",
       "#sk-container-id-1 label.sk-toggleable__label-arrow:hover:before {\n",
       "  color: var(--sklearn-color-text);\n",
       "}\n",
       "\n",
       "/* Toggleable content - dropdown */\n",
       "\n",
       "#sk-container-id-1 div.sk-toggleable__content {\n",
       "  max-height: 0;\n",
       "  max-width: 0;\n",
       "  overflow: hidden;\n",
       "  text-align: left;\n",
       "  /* unfitted */\n",
       "  background-color: var(--sklearn-color-unfitted-level-0);\n",
       "}\n",
       "\n",
       "#sk-container-id-1 div.sk-toggleable__content.fitted {\n",
       "  /* fitted */\n",
       "  background-color: var(--sklearn-color-fitted-level-0);\n",
       "}\n",
       "\n",
       "#sk-container-id-1 div.sk-toggleable__content pre {\n",
       "  margin: 0.2em;\n",
       "  border-radius: 0.25em;\n",
       "  color: var(--sklearn-color-text);\n",
       "  /* unfitted */\n",
       "  background-color: var(--sklearn-color-unfitted-level-0);\n",
       "}\n",
       "\n",
       "#sk-container-id-1 div.sk-toggleable__content.fitted pre {\n",
       "  /* unfitted */\n",
       "  background-color: var(--sklearn-color-fitted-level-0);\n",
       "}\n",
       "\n",
       "#sk-container-id-1 input.sk-toggleable__control:checked~div.sk-toggleable__content {\n",
       "  /* Expand drop-down */\n",
       "  max-height: 200px;\n",
       "  max-width: 100%;\n",
       "  overflow: auto;\n",
       "}\n",
       "\n",
       "#sk-container-id-1 input.sk-toggleable__control:checked~label.sk-toggleable__label-arrow:before {\n",
       "  content: \"▾\";\n",
       "}\n",
       "\n",
       "/* Pipeline/ColumnTransformer-specific style */\n",
       "\n",
       "#sk-container-id-1 div.sk-label input.sk-toggleable__control:checked~label.sk-toggleable__label {\n",
       "  color: var(--sklearn-color-text);\n",
       "  background-color: var(--sklearn-color-unfitted-level-2);\n",
       "}\n",
       "\n",
       "#sk-container-id-1 div.sk-label.fitted input.sk-toggleable__control:checked~label.sk-toggleable__label {\n",
       "  background-color: var(--sklearn-color-fitted-level-2);\n",
       "}\n",
       "\n",
       "/* Estimator-specific style */\n",
       "\n",
       "/* Colorize estimator box */\n",
       "#sk-container-id-1 div.sk-estimator input.sk-toggleable__control:checked~label.sk-toggleable__label {\n",
       "  /* unfitted */\n",
       "  background-color: var(--sklearn-color-unfitted-level-2);\n",
       "}\n",
       "\n",
       "#sk-container-id-1 div.sk-estimator.fitted input.sk-toggleable__control:checked~label.sk-toggleable__label {\n",
       "  /* fitted */\n",
       "  background-color: var(--sklearn-color-fitted-level-2);\n",
       "}\n",
       "\n",
       "#sk-container-id-1 div.sk-label label.sk-toggleable__label,\n",
       "#sk-container-id-1 div.sk-label label {\n",
       "  /* The background is the default theme color */\n",
       "  color: var(--sklearn-color-text-on-default-background);\n",
       "}\n",
       "\n",
       "/* On hover, darken the color of the background */\n",
       "#sk-container-id-1 div.sk-label:hover label.sk-toggleable__label {\n",
       "  color: var(--sklearn-color-text);\n",
       "  background-color: var(--sklearn-color-unfitted-level-2);\n",
       "}\n",
       "\n",
       "/* Label box, darken color on hover, fitted */\n",
       "#sk-container-id-1 div.sk-label.fitted:hover label.sk-toggleable__label.fitted {\n",
       "  color: var(--sklearn-color-text);\n",
       "  background-color: var(--sklearn-color-fitted-level-2);\n",
       "}\n",
       "\n",
       "/* Estimator label */\n",
       "\n",
       "#sk-container-id-1 div.sk-label label {\n",
       "  font-family: monospace;\n",
       "  font-weight: bold;\n",
       "  display: inline-block;\n",
       "  line-height: 1.2em;\n",
       "}\n",
       "\n",
       "#sk-container-id-1 div.sk-label-container {\n",
       "  text-align: center;\n",
       "}\n",
       "\n",
       "/* Estimator-specific */\n",
       "#sk-container-id-1 div.sk-estimator {\n",
       "  font-family: monospace;\n",
       "  border: 1px dotted var(--sklearn-color-border-box);\n",
       "  border-radius: 0.25em;\n",
       "  box-sizing: border-box;\n",
       "  margin-bottom: 0.5em;\n",
       "  /* unfitted */\n",
       "  background-color: var(--sklearn-color-unfitted-level-0);\n",
       "}\n",
       "\n",
       "#sk-container-id-1 div.sk-estimator.fitted {\n",
       "  /* fitted */\n",
       "  background-color: var(--sklearn-color-fitted-level-0);\n",
       "}\n",
       "\n",
       "/* on hover */\n",
       "#sk-container-id-1 div.sk-estimator:hover {\n",
       "  /* unfitted */\n",
       "  background-color: var(--sklearn-color-unfitted-level-2);\n",
       "}\n",
       "\n",
       "#sk-container-id-1 div.sk-estimator.fitted:hover {\n",
       "  /* fitted */\n",
       "  background-color: var(--sklearn-color-fitted-level-2);\n",
       "}\n",
       "\n",
       "/* Specification for estimator info (e.g. \"i\" and \"?\") */\n",
       "\n",
       "/* Common style for \"i\" and \"?\" */\n",
       "\n",
       ".sk-estimator-doc-link,\n",
       "a:link.sk-estimator-doc-link,\n",
       "a:visited.sk-estimator-doc-link {\n",
       "  float: right;\n",
       "  font-size: smaller;\n",
       "  line-height: 1em;\n",
       "  font-family: monospace;\n",
       "  background-color: var(--sklearn-color-background);\n",
       "  border-radius: 1em;\n",
       "  height: 1em;\n",
       "  width: 1em;\n",
       "  text-decoration: none !important;\n",
       "  margin-left: 1ex;\n",
       "  /* unfitted */\n",
       "  border: var(--sklearn-color-unfitted-level-1) 1pt solid;\n",
       "  color: var(--sklearn-color-unfitted-level-1);\n",
       "}\n",
       "\n",
       ".sk-estimator-doc-link.fitted,\n",
       "a:link.sk-estimator-doc-link.fitted,\n",
       "a:visited.sk-estimator-doc-link.fitted {\n",
       "  /* fitted */\n",
       "  border: var(--sklearn-color-fitted-level-1) 1pt solid;\n",
       "  color: var(--sklearn-color-fitted-level-1);\n",
       "}\n",
       "\n",
       "/* On hover */\n",
       "div.sk-estimator:hover .sk-estimator-doc-link:hover,\n",
       ".sk-estimator-doc-link:hover,\n",
       "div.sk-label-container:hover .sk-estimator-doc-link:hover,\n",
       ".sk-estimator-doc-link:hover {\n",
       "  /* unfitted */\n",
       "  background-color: var(--sklearn-color-unfitted-level-3);\n",
       "  color: var(--sklearn-color-background);\n",
       "  text-decoration: none;\n",
       "}\n",
       "\n",
       "div.sk-estimator.fitted:hover .sk-estimator-doc-link.fitted:hover,\n",
       ".sk-estimator-doc-link.fitted:hover,\n",
       "div.sk-label-container:hover .sk-estimator-doc-link.fitted:hover,\n",
       ".sk-estimator-doc-link.fitted:hover {\n",
       "  /* fitted */\n",
       "  background-color: var(--sklearn-color-fitted-level-3);\n",
       "  color: var(--sklearn-color-background);\n",
       "  text-decoration: none;\n",
       "}\n",
       "\n",
       "/* Span, style for the box shown on hovering the info icon */\n",
       ".sk-estimator-doc-link span {\n",
       "  display: none;\n",
       "  z-index: 9999;\n",
       "  position: relative;\n",
       "  font-weight: normal;\n",
       "  right: .2ex;\n",
       "  padding: .5ex;\n",
       "  margin: .5ex;\n",
       "  width: min-content;\n",
       "  min-width: 20ex;\n",
       "  max-width: 50ex;\n",
       "  color: var(--sklearn-color-text);\n",
       "  box-shadow: 2pt 2pt 4pt #999;\n",
       "  /* unfitted */\n",
       "  background: var(--sklearn-color-unfitted-level-0);\n",
       "  border: .5pt solid var(--sklearn-color-unfitted-level-3);\n",
       "}\n",
       "\n",
       ".sk-estimator-doc-link.fitted span {\n",
       "  /* fitted */\n",
       "  background: var(--sklearn-color-fitted-level-0);\n",
       "  border: var(--sklearn-color-fitted-level-3);\n",
       "}\n",
       "\n",
       ".sk-estimator-doc-link:hover span {\n",
       "  display: block;\n",
       "}\n",
       "\n",
       "/* \"?\"-specific style due to the `<a>` HTML tag */\n",
       "\n",
       "#sk-container-id-1 a.estimator_doc_link {\n",
       "  float: right;\n",
       "  font-size: 1rem;\n",
       "  line-height: 1em;\n",
       "  font-family: monospace;\n",
       "  background-color: var(--sklearn-color-background);\n",
       "  border-radius: 1rem;\n",
       "  height: 1rem;\n",
       "  width: 1rem;\n",
       "  text-decoration: none;\n",
       "  /* unfitted */\n",
       "  color: var(--sklearn-color-unfitted-level-1);\n",
       "  border: var(--sklearn-color-unfitted-level-1) 1pt solid;\n",
       "}\n",
       "\n",
       "#sk-container-id-1 a.estimator_doc_link.fitted {\n",
       "  /* fitted */\n",
       "  border: var(--sklearn-color-fitted-level-1) 1pt solid;\n",
       "  color: var(--sklearn-color-fitted-level-1);\n",
       "}\n",
       "\n",
       "/* On hover */\n",
       "#sk-container-id-1 a.estimator_doc_link:hover {\n",
       "  /* unfitted */\n",
       "  background-color: var(--sklearn-color-unfitted-level-3);\n",
       "  color: var(--sklearn-color-background);\n",
       "  text-decoration: none;\n",
       "}\n",
       "\n",
       "#sk-container-id-1 a.estimator_doc_link.fitted:hover {\n",
       "  /* fitted */\n",
       "  background-color: var(--sklearn-color-fitted-level-3);\n",
       "}\n",
       "</style><div id=\"sk-container-id-1\" class=\"sk-top-container\"><div class=\"sk-text-repr-fallback\"><pre>TfidfVectorizer(norm=None, smooth_idf=False)</pre><b>In a Jupyter environment, please rerun this cell to show the HTML representation or trust the notebook. <br />On GitHub, the HTML representation is unable to render, please try loading this page with nbviewer.org.</b></div><div class=\"sk-container\" hidden><div class=\"sk-item\"><div class=\"sk-estimator fitted sk-toggleable\"><input class=\"sk-toggleable__control sk-hidden--visually\" id=\"sk-estimator-id-1\" type=\"checkbox\" checked><label for=\"sk-estimator-id-1\" class=\"sk-toggleable__label fitted sk-toggleable__label-arrow fitted\">&nbsp;&nbsp;TfidfVectorizer<a class=\"sk-estimator-doc-link fitted\" rel=\"noreferrer\" target=\"_blank\" href=\"https://scikit-learn.org/1.4/modules/generated/sklearn.feature_extraction.text.TfidfVectorizer.html\">?<span>Documentation for TfidfVectorizer</span></a><span class=\"sk-estimator-doc-link fitted\">i<span>Fitted</span></span></label><div class=\"sk-toggleable__content fitted\"><pre>TfidfVectorizer(norm=None, smooth_idf=False)</pre></div> </div></div></div></div>"
      ],
      "text/plain": [
       "TfidfVectorizer(norm=None, smooth_idf=False)"
      ]
     },
     "execution_count": 10,
     "metadata": {},
     "output_type": "execute_result"
    }
   ],
   "source": [
    "tfidf_data"
   ]
  },
  {
   "cell_type": "markdown",
   "id": "37df3978-a616-458b-9d09-dad57162fef7",
   "metadata": {},
   "source": [
    "A continuación se muestra el resultado de transformar nuestro corpus con lso métodos de scikit-learn. El `CountVectorizer` mostrará el conteo de veces que una palabra del vocabulario está presente dentro del documento, el `TfidfVectorizer` mostrará el resultado con la métrica TF-IDF mostrada en los apuntes."
   ]
  },
  {
   "cell_type": "code",
   "execution_count": 11,
   "id": "5a068263-3ddb-443f-ac8b-eedccb8550f5",
   "metadata": {
    "tags": []
   },
   "outputs": [
    {
     "name": "stdout",
     "output_type": "stream",
     "text": [
      "[[1 0 0 0 1 0 0 1]\n",
      " [0 1 0 0 1 0 0 1]\n",
      " [2 0 0 0 1 1 0 1]\n",
      " [0 0 0 1 1 0 1 1]\n",
      " [0 0 1 0 1 1 0 1]]\n"
     ]
    }
   ],
   "source": [
    "# Resultado del CountVectorizer\n",
    "count_data_result = count_data.transform(corpus).toarray()\n",
    "print(count_data_result)"
   ]
  },
  {
   "cell_type": "code",
   "execution_count": 12,
   "id": "40a92dda-7b01-4435-b790-4d6dd178fcdd",
   "metadata": {
    "tags": []
   },
   "outputs": [
    {
     "name": "stdout",
     "output_type": "stream",
     "text": [
      "[[1.91629073 0.         0.         0.         1.         0.\n",
      "  0.         1.        ]\n",
      " [0.         2.60943791 0.         0.         1.         0.\n",
      "  0.         1.        ]\n",
      " [3.83258146 0.         0.         0.         1.         1.91629073\n",
      "  0.         1.        ]\n",
      " [0.         0.         0.         2.60943791 1.         0.\n",
      "  2.60943791 1.        ]\n",
      " [0.         0.         2.60943791 0.         1.         1.91629073\n",
      "  0.         1.        ]]\n"
     ]
    }
   ],
   "source": [
    "# Resultado del TfidfVectorizer\n",
    "tfidf_data_result = tfidf_data.transform(corpus).toarray()\n",
    "print(tfidf_data_result)"
   ]
  },
  {
   "cell_type": "markdown",
   "id": "cf47b5c3-f5b5-4c60-96e7-840c18d8c511",
   "metadata": {},
   "source": [
    "Vamos a mostrar los resultados con seaborn para que se vean mejor. Importante mencionar que esto se puede hacer cuando el vocabulario es muy reducido, si no podría ocasionar problemas en la memoria."
   ]
  },
  {
   "cell_type": "code",
   "execution_count": 18,
   "id": "177f9aa7-61b4-4eff-a5c1-d30c41fa4d8a",
   "metadata": {
    "tags": []
   },
   "outputs": [
    {
     "data": {
      "text/plain": [
       "<Axes: >"
      ]
     },
     "execution_count": 18,
     "metadata": {},
     "output_type": "execute_result"
    },
    {
     "data": {
      "image/png": "[encoded data removed]",
      "text/plain": [
       "<Figure size 1600x600 with 2 Axes>"
      ]
     },
     "metadata": {},
     "output_type": "display_data"
    }
   ],
   "source": [
    "import matplotlib.pyplot as plt\n",
    "import seaborn as sns\n",
    "plt.figure(figsize=(16, 6))\n",
    "# Figura CountVectorizer\n",
    "sns.heatmap(count_data_result, annot=False,cbar=True,\n",
    "            xticklabels=count_data.get_feature_names_out(),\n",
    "            yticklabels = [\"Frase 1\", \"Frase 2\", \"Frase 3\",\"Frase 4\", \"Frase 5\"])\n",
    "\n"
   ]
  },
  {
   "cell_type": "code",
   "execution_count": 19,
   "id": "cce70e7e-8e9e-4a68-a663-fb25b8478332",
   "metadata": {
    "tags": []
   },
   "outputs": [
    {
     "data": {
      "text/plain": [
       "<Axes: >"
      ]
     },
     "execution_count": 19,
     "metadata": {},
     "output_type": "execute_result"
    },
    {
     "data": {
      "image/png": "[encoded data removed]",
      "text/plain": [
       "<Figure size 1600x600 with 2 Axes>"
      ]
     },
     "metadata": {},
     "output_type": "display_data"
    }
   ],
   "source": [
    "plt.figure(figsize=(16, 6))\n",
    "sns.heatmap(tfidf_data_result, annot=False,cbar=True,\n",
    "            xticklabels=tfidf_data.get_feature_names_out(),\n",
    "            yticklabels = [\"Frase 1\", \"Frase 2\", \"Frase 3\",\"Frase 4\", \"Frase 5\"])"
   ]
  },
  {
   "cell_type": "markdown",
   "id": "6db5052f-32cd-40cb-98f2-5f55b99597a1",
   "metadata": {},
   "source": [
    "### Uso de preprocesadores externos a scikit-learn\n",
    "En primer lugar, dado que vamos a utilizar spacy, instalaremos la librería y el modelo:\n",
    "Importamos las librerías y creamos el objeto \"nlp\" para procesar los textos"
   ]
  },
  {
   "cell_type": "code",
   "execution_count": 20,
   "id": "69a4f570-13de-4370-ba17-44c3064f4b77",
   "metadata": {
    "tags": []
   },
   "outputs": [],
   "source": [
    "import spacy\n",
    "import es_core_news_sm\n",
    "nlp = es_core_news_sm.load() # spacy.load(\"es_code_news_sm\") "
   ]
  },
  {
   "cell_type": "markdown",
   "id": "e3508617-eff8-4f07-ab16-49d335ce38a2",
   "metadata": {},
   "source": [
    "Guardamos las stop words de Spacy en una variable llamada \"stop_words\". También cogemos los tokens considerados símbolos de punctuación en la variable \"punctuations\":"
   ]
  },
  {
   "cell_type": "code",
   "execution_count": 21,
   "id": "c0a9679d-21ba-4cd1-97ca-f856d1dafe0b",
   "metadata": {
    "collapsed": true,
    "jupyter": {
     "outputs_hidden": true
    },
    "tags": []
   },
   "outputs": [
    {
     "data": {
      "text/plain": [
       "{'a',\n",
       " 'acuerdo',\n",
       " 'adelante',\n",
       " 'ademas',\n",
       " 'además',\n",
       " 'afirmó',\n",
       " 'agregó',\n",
       " 'ahi',\n",
       " 'ahora',\n",
       " 'ahí',\n",
       " 'al',\n",
       " 'algo',\n",
       " 'alguna',\n",
       " 'algunas',\n",
       " 'alguno',\n",
       " 'algunos',\n",
       " 'algún',\n",
       " 'alli',\n",
       " 'allí',\n",
       " 'alrededor',\n",
       " 'ambos',\n",
       " 'ante',\n",
       " 'anterior',\n",
       " 'antes',\n",
       " 'apenas',\n",
       " 'aproximadamente',\n",
       " 'aquel',\n",
       " 'aquella',\n",
       " 'aquellas',\n",
       " 'aquello',\n",
       " 'aquellos',\n",
       " 'aqui',\n",
       " 'aquél',\n",
       " 'aquélla',\n",
       " 'aquéllas',\n",
       " 'aquéllos',\n",
       " 'aquí',\n",
       " 'arriba',\n",
       " 'aseguró',\n",
       " 'asi',\n",
       " 'así',\n",
       " 'atras',\n",
       " 'aun',\n",
       " 'aunque',\n",
       " 'añadió',\n",
       " 'aún',\n",
       " 'bajo',\n",
       " 'bastante',\n",
       " 'bien',\n",
       " 'breve',\n",
       " 'buen',\n",
       " 'buena',\n",
       " 'buenas',\n",
       " 'bueno',\n",
       " 'buenos',\n",
       " 'cada',\n",
       " 'casi',\n",
       " 'cierta',\n",
       " 'ciertas',\n",
       " 'cierto',\n",
       " 'ciertos',\n",
       " 'cinco',\n",
       " 'claro',\n",
       " 'comentó',\n",
       " 'como',\n",
       " 'con',\n",
       " 'conmigo',\n",
       " 'conocer',\n",
       " 'conseguimos',\n",
       " 'conseguir',\n",
       " 'considera',\n",
       " 'consideró',\n",
       " 'consigo',\n",
       " 'consigue',\n",
       " 'consiguen',\n",
       " 'consigues',\n",
       " 'contigo',\n",
       " 'contra',\n",
       " 'creo',\n",
       " 'cual',\n",
       " 'cuales',\n",
       " 'cualquier',\n",
       " 'cuando',\n",
       " 'cuanta',\n",
       " 'cuantas',\n",
       " 'cuanto',\n",
       " 'cuantos',\n",
       " 'cuatro',\n",
       " 'cuenta',\n",
       " 'cuál',\n",
       " 'cuáles',\n",
       " 'cuándo',\n",
       " 'cuánta',\n",
       " 'cuántas',\n",
       " 'cuánto',\n",
       " 'cuántos',\n",
       " 'cómo',\n",
       " 'da',\n",
       " 'dado',\n",
       " 'dan',\n",
       " 'dar',\n",
       " 'de',\n",
       " 'debajo',\n",
       " 'debe',\n",
       " 'deben',\n",
       " 'debido',\n",
       " 'decir',\n",
       " 'dejó',\n",
       " 'del',\n",
       " 'delante',\n",
       " 'demasiado',\n",
       " 'demás',\n",
       " 'dentro',\n",
       " 'deprisa',\n",
       " 'desde',\n",
       " 'despacio',\n",
       " 'despues',\n",
       " 'después',\n",
       " 'detras',\n",
       " 'detrás',\n",
       " 'dia',\n",
       " 'dias',\n",
       " 'dice',\n",
       " 'dicen',\n",
       " 'dicho',\n",
       " 'dieron',\n",
       " 'diez',\n",
       " 'diferente',\n",
       " 'diferentes',\n",
       " 'dijeron',\n",
       " 'dijo',\n",
       " 'dio',\n",
       " 'doce',\n",
       " 'donde',\n",
       " 'dos',\n",
       " 'durante',\n",
       " 'día',\n",
       " 'días',\n",
       " 'dónde',\n",
       " 'e',\n",
       " 'el',\n",
       " 'ella',\n",
       " 'ellas',\n",
       " 'ello',\n",
       " 'ellos',\n",
       " 'embargo',\n",
       " 'en',\n",
       " 'encima',\n",
       " 'encuentra',\n",
       " 'enfrente',\n",
       " 'enseguida',\n",
       " 'entonces',\n",
       " 'entre',\n",
       " 'era',\n",
       " 'eramos',\n",
       " 'eran',\n",
       " 'eras',\n",
       " 'eres',\n",
       " 'es',\n",
       " 'esa',\n",
       " 'esas',\n",
       " 'ese',\n",
       " 'eso',\n",
       " 'esos',\n",
       " 'esta',\n",
       " 'estaba',\n",
       " 'estaban',\n",
       " 'estado',\n",
       " 'estados',\n",
       " 'estais',\n",
       " 'estamos',\n",
       " 'estan',\n",
       " 'estar',\n",
       " 'estará',\n",
       " 'estas',\n",
       " 'este',\n",
       " 'esto',\n",
       " 'estos',\n",
       " 'estoy',\n",
       " 'estuvo',\n",
       " 'está',\n",
       " 'están',\n",
       " 'excepto',\n",
       " 'existe',\n",
       " 'existen',\n",
       " 'explicó',\n",
       " 'expresó',\n",
       " 'fin',\n",
       " 'final',\n",
       " 'fue',\n",
       " 'fuera',\n",
       " 'fueron',\n",
       " 'fui',\n",
       " 'fuimos',\n",
       " 'gran',\n",
       " 'grande',\n",
       " 'grandes',\n",
       " 'ha',\n",
       " 'haber',\n",
       " 'habia',\n",
       " 'habla',\n",
       " 'hablan',\n",
       " 'habrá',\n",
       " 'había',\n",
       " 'habían',\n",
       " 'hace',\n",
       " 'haceis',\n",
       " 'hacemos',\n",
       " 'hacen',\n",
       " 'hacer',\n",
       " 'hacerlo',\n",
       " 'haces',\n",
       " 'hacia',\n",
       " 'haciendo',\n",
       " 'hago',\n",
       " 'han',\n",
       " 'hasta',\n",
       " 'hay',\n",
       " 'haya',\n",
       " 'he',\n",
       " 'hecho',\n",
       " 'hemos',\n",
       " 'hicieron',\n",
       " 'hizo',\n",
       " 'hoy',\n",
       " 'hubo',\n",
       " 'igual',\n",
       " 'incluso',\n",
       " 'indicó',\n",
       " 'informo',\n",
       " 'informó',\n",
       " 'ir',\n",
       " 'junto',\n",
       " 'la',\n",
       " 'lado',\n",
       " 'largo',\n",
       " 'las',\n",
       " 'le',\n",
       " 'les',\n",
       " 'llegó',\n",
       " 'lleva',\n",
       " 'llevar',\n",
       " 'lo',\n",
       " 'los',\n",
       " 'luego',\n",
       " 'mal',\n",
       " 'manera',\n",
       " 'manifestó',\n",
       " 'mas',\n",
       " 'mayor',\n",
       " 'me',\n",
       " 'mediante',\n",
       " 'medio',\n",
       " 'mejor',\n",
       " 'mencionó',\n",
       " 'menos',\n",
       " 'menudo',\n",
       " 'mi',\n",
       " 'mia',\n",
       " 'mias',\n",
       " 'mientras',\n",
       " 'mio',\n",
       " 'mios',\n",
       " 'mis',\n",
       " 'misma',\n",
       " 'mismas',\n",
       " 'mismo',\n",
       " 'mismos',\n",
       " 'modo',\n",
       " 'mucha',\n",
       " 'muchas',\n",
       " 'mucho',\n",
       " 'muchos',\n",
       " 'muy',\n",
       " 'más',\n",
       " 'mí',\n",
       " 'mía',\n",
       " 'mías',\n",
       " 'mío',\n",
       " 'míos',\n",
       " 'nada',\n",
       " 'nadie',\n",
       " 'ni',\n",
       " 'ninguna',\n",
       " 'ningunas',\n",
       " 'ninguno',\n",
       " 'ningunos',\n",
       " 'ningún',\n",
       " 'no',\n",
       " 'nos',\n",
       " 'nosotras',\n",
       " 'nosotros',\n",
       " 'nuestra',\n",
       " 'nuestras',\n",
       " 'nuestro',\n",
       " 'nuestros',\n",
       " 'nueva',\n",
       " 'nuevas',\n",
       " 'nueve',\n",
       " 'nuevo',\n",
       " 'nuevos',\n",
       " 'nunca',\n",
       " 'o',\n",
       " 'ocho',\n",
       " 'once',\n",
       " 'os',\n",
       " 'otra',\n",
       " 'otras',\n",
       " 'otro',\n",
       " 'otros',\n",
       " 'para',\n",
       " 'parece',\n",
       " 'parte',\n",
       " 'partir',\n",
       " 'pasada',\n",
       " 'pasado',\n",
       " 'paìs',\n",
       " 'peor',\n",
       " 'pero',\n",
       " 'pesar',\n",
       " 'poca',\n",
       " 'pocas',\n",
       " 'poco',\n",
       " 'pocos',\n",
       " 'podeis',\n",
       " 'podemos',\n",
       " 'poder',\n",
       " 'podria',\n",
       " 'podriais',\n",
       " 'podriamos',\n",
       " 'podrian',\n",
       " 'podrias',\n",
       " 'podrá',\n",
       " 'podrán',\n",
       " 'podría',\n",
       " 'podrían',\n",
       " 'poner',\n",
       " 'por',\n",
       " 'porque',\n",
       " 'posible',\n",
       " 'primer',\n",
       " 'primera',\n",
       " 'primero',\n",
       " 'primeros',\n",
       " 'pronto',\n",
       " 'propia',\n",
       " 'propias',\n",
       " 'propio',\n",
       " 'propios',\n",
       " 'proximo',\n",
       " 'próximo',\n",
       " 'próximos',\n",
       " 'pudo',\n",
       " 'pueda',\n",
       " 'puede',\n",
       " 'pueden',\n",
       " 'puedo',\n",
       " 'pues',\n",
       " 'qeu',\n",
       " 'que',\n",
       " 'quedó',\n",
       " 'queremos',\n",
       " 'quien',\n",
       " 'quienes',\n",
       " 'quiere',\n",
       " 'quiza',\n",
       " 'quizas',\n",
       " 'quizá',\n",
       " 'quizás',\n",
       " 'quién',\n",
       " 'quiénes',\n",
       " 'qué',\n",
       " 'realizado',\n",
       " 'realizar',\n",
       " 'realizó',\n",
       " 'repente',\n",
       " 'respecto',\n",
       " 'sabe',\n",
       " 'sabeis',\n",
       " 'sabemos',\n",
       " 'saben',\n",
       " 'saber',\n",
       " 'sabes',\n",
       " 'salvo',\n",
       " 'se',\n",
       " 'sea',\n",
       " 'sean',\n",
       " 'segun',\n",
       " 'segunda',\n",
       " 'segundo',\n",
       " 'según',\n",
       " 'seis',\n",
       " 'ser',\n",
       " 'sera',\n",
       " 'será',\n",
       " 'serán',\n",
       " 'sería',\n",
       " 'señaló',\n",
       " 'si',\n",
       " 'sido',\n",
       " 'siempre',\n",
       " 'siendo',\n",
       " 'siete',\n",
       " 'sigue',\n",
       " 'siguiente',\n",
       " 'sin',\n",
       " 'sino',\n",
       " 'sobre',\n",
       " 'sois',\n",
       " 'sola',\n",
       " 'solamente',\n",
       " 'solas',\n",
       " 'solo',\n",
       " 'solos',\n",
       " 'somos',\n",
       " 'son',\n",
       " 'soy',\n",
       " 'su',\n",
       " 'supuesto',\n",
       " 'sus',\n",
       " 'suya',\n",
       " 'suyas',\n",
       " 'suyo',\n",
       " 'suyos',\n",
       " 'sé',\n",
       " 'sí',\n",
       " 'sólo',\n",
       " 'tal',\n",
       " 'tambien',\n",
       " 'también',\n",
       " 'tampoco',\n",
       " 'tan',\n",
       " 'tanto',\n",
       " 'tarde',\n",
       " 'te',\n",
       " 'temprano',\n",
       " 'tendrá',\n",
       " 'tendrán',\n",
       " 'teneis',\n",
       " 'tenemos',\n",
       " 'tener',\n",
       " 'tenga',\n",
       " 'tengo',\n",
       " 'tenido',\n",
       " 'tenía',\n",
       " 'tercera',\n",
       " 'tercero',\n",
       " 'ti',\n",
       " 'tiene',\n",
       " 'tienen',\n",
       " 'toda',\n",
       " 'todas',\n",
       " 'todavia',\n",
       " 'todavía',\n",
       " 'todo',\n",
       " 'todos',\n",
       " 'total',\n",
       " 'tras',\n",
       " 'trata',\n",
       " 'través',\n",
       " 'tres',\n",
       " 'tu',\n",
       " 'tus',\n",
       " 'tuvo',\n",
       " 'tuya',\n",
       " 'tuyas',\n",
       " 'tuyo',\n",
       " 'tuyos',\n",
       " 'tú',\n",
       " 'u',\n",
       " 'ultimo',\n",
       " 'un',\n",
       " 'una',\n",
       " 'unas',\n",
       " 'uno',\n",
       " 'unos',\n",
       " 'usa',\n",
       " 'usais',\n",
       " 'usamos',\n",
       " 'usan',\n",
       " 'usar',\n",
       " 'usas',\n",
       " 'uso',\n",
       " 'usted',\n",
       " 'ustedes',\n",
       " 'va',\n",
       " 'vais',\n",
       " 'vamos',\n",
       " 'van',\n",
       " 'varias',\n",
       " 'varios',\n",
       " 'vaya',\n",
       " 'veces',\n",
       " 'ver',\n",
       " 'verdad',\n",
       " 'verdadera',\n",
       " 'verdadero',\n",
       " 'vez',\n",
       " 'vosotras',\n",
       " 'vosotros',\n",
       " 'voy',\n",
       " 'vuestra',\n",
       " 'vuestras',\n",
       " 'vuestro',\n",
       " 'vuestros',\n",
       " 'y',\n",
       " 'ya',\n",
       " 'yo',\n",
       " 'él',\n",
       " 'ésa',\n",
       " 'ésas',\n",
       " 'ése',\n",
       " 'ésos',\n",
       " 'ésta',\n",
       " 'éstas',\n",
       " 'éste',\n",
       " 'éstos',\n",
       " 'última',\n",
       " 'últimas',\n",
       " 'último',\n",
       " 'últimos'}"
      ]
     },
     "execution_count": 21,
     "metadata": {},
     "output_type": "execute_result"
    }
   ],
   "source": [
    "import string\n",
    "spacy_stopwords = spacy.lang.es.stop_words.STOP_WORDS\n",
    "stop_words = spacy_stopwords\n",
    "punctuations = string.punctuation\n",
    "spacy_stopwords"
   ]
  },
  {
   "cell_type": "markdown",
   "id": "8935b111-503e-44c4-b84e-0d54cf80c0c3",
   "metadata": {},
   "source": [
    "Generamos una función \"spacy_tokenizer\" que:"
   ]
  },
  {
   "cell_type": "code",
   "execution_count": 27,
   "id": "554de090-58ab-4a61-83bc-71e83966ca4f",
   "metadata": {
    "tags": []
   },
   "outputs": [
    {
     "data": {
      "text/plain": [
       "['hola', 'como', 'este', '?']"
      ]
     },
     "execution_count": 27,
     "metadata": {},
     "output_type": "execute_result"
    }
   ],
   "source": [
    "def spacy_tokenizer(sentence):\n",
    "    # Pasamos la frase por el objeto nlp para procesarla\n",
    "    mytokens = nlp(sentence)\n",
    "\n",
    "    # Lematizamos los tokens y los convertimos  a minusculas\n",
    "    mytokens = [ word.lemma_.lower().strip() if word.lemma_ != \"-PRON-\" else word.lower_ for word in mytokens ]\n",
    "\n",
    "    # Quitamos las stopwords y los signos de puntuacion\n",
    "    mytokens = [ word for word in mytokens if word not in stop_words and word not in punctuations ]\n",
    "\n",
    "    # devolver una lsita de tokens\n",
    "    return mytokens\n",
    "\n",
    "mytoken = nlp(\"Hola como estas?\")\n",
    "outlist = list()\n",
    "for word in mytoken:\n",
    "    if word.lemma_!= \"-PRON-\":\n",
    "        outlist.append(word.lemma_.lower().strip())\n",
    "    else:\n",
    "        outlist.append(word.lower_)\n",
    "        \n",
    "outlist  # estas deberia ser este"
   ]
  },
  {
   "cell_type": "markdown",
   "id": "731fbba7-8622-4023-acce-957dada57fc7",
   "metadata": {},
   "source": [
    "Utilizamos esa función como tokenizado en TfidVectorizer"
   ]
  },
  {
   "cell_type": "code",
   "execution_count": 28,
   "id": "134e544b-42fc-495b-8c3a-1f3c8d1e4c0f",
   "metadata": {
    "tags": []
   },
   "outputs": [
    {
     "name": "stdout",
     "output_type": "stream",
     "text": [
      "\n",
      "\n",
      " TF-IDF VECTORIZER\n",
      "Obtenemos un dictionario que mapea las palabras con su posición en el vector del vocabulario\n",
      "{'querer': 3, 'agua': 0, 'cocacola': 1, 'vino': 4, 'entrecot': 2}\n",
      "Obtenemos el vocabulario en si mismo como una lista\n",
      "['agua' 'cocacola' 'entrecot' 'querer' 'vino']\n",
      "Numero de características:\n",
      "5\n"
     ]
    },
    {
     "name": "stderr",
     "output_type": "stream",
     "text": [
      "C:\\Users\\eugen\\anaconda3\\Lib\\site-packages\\sklearn\\feature_extraction\\text.py:525: UserWarning: The parameter 'token_pattern' will not be used since 'tokenizer' is not None'\n",
      "  warnings.warn(\n"
     ]
    }
   ],
   "source": [
    "tfidf_vectorizer = TfidfVectorizer(norm=None, smooth_idf=False, tokenizer = spacy_tokenizer) # Re-escribimos los valores por defecto para tener el tf-idf básico\n",
    "tfidf_data = tfidf_vectorizer.fit(corpus)\n",
    "print(\"\\n\\n TF-IDF VECTORIZER\")\n",
    "print(\"Obtenemos un dictionario que mapea las palabras con su posición en el vector del vocabulario\")\n",
    "print(tfidf_data.vocabulary_)\n",
    "print(\"Obtenemos el vocabulario en si mismo como una lista\")\n",
    "print(tfidf_data.get_feature_names_out())\n",
    "print(\"Numero de características:\")\n",
    "print(len(tfidf_data.get_feature_names_out()))"
   ]
  },
  {
   "cell_type": "markdown",
   "id": "64095842-2bd0-4926-b957-20a18f5d6ef6",
   "metadata": {},
   "source": [
    "**Ejercicio**:\n",
    "\n",
    "Queremos transformar nuestro dataset de noticias con las siguientes especificaciones:\n",
    " - Transformar los primeros 3000 documentos\n",
    " - Se utilice idf y el valor de norm por defecto.\n",
    " - Se utilice la función de preprocesado de spacy utilizada anteriormente\n",
    " - Se consideren unigramas, bigramas, trigramas\n",
    " - El vectorizador no debe considerar los elementos que aparezcan en menos del 5% de documentos."
   ]
  },
  {
   "cell_type": "code",
   "execution_count": 29,
   "id": "23393564-9e08-49e6-a997-8448f6fb29de",
   "metadata": {
    "tags": []
   },
   "outputs": [
    {
     "name": "stderr",
     "output_type": "stream",
     "text": [
      "\"wget\" no se reconoce como un comando interno o externo,\n",
      "programa o archivo por lotes ejecutable.\n"
     ]
    }
   ],
   "source": [
    "# Dataset de noticias\n",
    "!wget \"https://github.com/luisgasco/ntic_master_datos/raw/main/datasets/news_summary.csv\""
   ]
  },
  {
   "cell_type": "code",
   "execution_count": 31,
   "id": "6a8d3d43-11d0-4f11-8a27-5ec545378e6f",
   "metadata": {
    "tags": []
   },
   "outputs": [],
   "source": [
    "import pandas as pd\n",
    "news_summary = pd.read_csv('news_summary.csv', encoding='latin-1')\n",
    "news_subset = news_summary[\"text\"].to_list()[0:3000]"
   ]
  },
  {
   "cell_type": "code",
   "execution_count": 32,
   "id": "8468beea-3367-4509-b81b-3fff41878ad7",
   "metadata": {
    "tags": []
   },
   "outputs": [],
   "source": [
    "import en_core_web_sm\n",
    "nlp = en_core_web_sm.load()\n",
    "spacy_stopwords = spacy.lang.en.stop_words.STOP_WORDS\n",
    "stop_words = spacy_stopwords\n",
    "punctuations=string.punctuation"
   ]
  },
  {
   "cell_type": "code",
   "execution_count": 33,
   "id": "501ac0c7-f75d-4bff-9304-0c2d4bed7a56",
   "metadata": {
    "tags": []
   },
   "outputs": [],
   "source": [
    "def spacy_tokenizer(sentence):\n",
    "    # Pasamos la frase por el objeto nlp para procesarla\n",
    "    mytokens = nlp(sentence)\n",
    "\n",
    "    # Lematizamos los tokens y los convertimos  a minusculas\n",
    "    mytokens = [ word.lemma_.lower().strip() if word.lemma_ != \"-PRON-\" else word.lower_ for word in mytokens ]\n",
    "\n",
    "    # Quitamos las stopwords y los signos de puntuacion\n",
    "    mytokens = [ word for word in mytokens if word not in stop_words and word not in punctuations ]\n",
    "\n",
    "    # Quitamos números:\n",
    "    mytokens = ['' if word.isdigit() else word for word in mytokens  ]\n",
    "    # devolver una lsita de tokens\n",
    "    return mytokens"
   ]
  },
  {
   "cell_type": "code",
   "execution_count": 34,
   "id": "d9f4bf67-26c3-4c8a-84e3-b4c39d4fc9e1",
   "metadata": {
    "tags": []
   },
   "outputs": [
    {
     "name": "stderr",
     "output_type": "stream",
     "text": [
      "C:\\Users\\eugen\\anaconda3\\Lib\\site-packages\\sklearn\\feature_extraction\\text.py:525: UserWarning: The parameter 'token_pattern' will not be used since 'tokenizer' is not None'\n",
      "  warnings.warn(\n"
     ]
    }
   ],
   "source": [
    "tfidf_vect = TfidfVectorizer(lowercase = False, stop_words = None,\n",
    "                             ngram_range = (1,3), use_idf = True, smooth_idf = True,\n",
    "                             norm = \"l2\", min_df=0.05, tokenizer=spacy_tokenizer)\n",
    "tfidf_data = tfidf_vect.fit(news_subset)"
   ]
  },
  {
   "cell_type": "code",
   "execution_count": 35,
   "id": "3bc7aa2a-deee-4468-a06a-abc7d8f8f008",
   "metadata": {
    "tags": []
   },
   "outputs": [],
   "source": [
    "tfidf_data_t = tfidf_data.transform(news_subset)"
   ]
  },
  {
   "cell_type": "code",
   "execution_count": 39,
   "id": "b328f37f-15ed-448f-b162-22265ff7eb28",
   "metadata": {
    "tags": []
   },
   "outputs": [
    {
     "data": {
      "text/plain": [
       "array(['', ' ', ' year', ' year old', '...', 'accord', 'accuse', 'actor',\n",
       "       'add', 'allegedly', 'arrest', 'ask', 'case', 'chief', 'claim',\n",
       "       'come', 'country', 'court', 'crore', 'day', 'delhi', 'early',\n",
       "       'far', 'film', 'find', 'follow', 'friday', 'government', 'high',\n",
       "       'include', 'india', 'indian', 'lakh', 'like', 'man', 'minister',\n",
       "       'monday', 'month', 'mumbai', 'new', 'notably', 'official', 'old',\n",
       "       'party', 'people', 'police', 'president', 'report', 'reportedly',\n",
       "       'state', 'time', 'tuesday', 'use', 'woman', 'year', 'year old'],\n",
       "      dtype=object)"
      ]
     },
     "execution_count": 39,
     "metadata": {},
     "output_type": "execute_result"
    }
   ],
   "source": [
    "tfidf_data.get_feature_names_out()"
   ]
  },
  {
   "cell_type": "markdown",
   "id": "294054e9-1f6d-48a6-be91-372dfc3fca9a",
   "metadata": {},
   "source": [
    "### [EXTRA] - Diferencias entre BoW y TF-IDF\n"
   ]
  },
  {
   "cell_type": "markdown",
   "id": "0b472ca7-4c2a-4bd4-9109-69f65983377e",
   "metadata": {},
   "source": [
    "Hasta el momento hemos visto diferente maneras de realizar la representación de documentos utilizando el método BoW y TF-IDF.\n",
    "Sin embargo, ¿Qué implica realmente utilizar un método u otro?\n",
    "\n",
    "La clave de TF-IDF es su penalización de palabras comunes en todos los documentos. Para ver su efecto, en este apartado vamos a:\n",
    "1. Descargar un conjunto de documentos de wikipedia\n",
    "2. Preprocesarlos\n",
    "3. Mostrar los 10 términos más importantes para BoW y Tf-IDF, y ver las diferencias"
   ]
  },
  {
   "cell_type": "markdown",
   "id": "416f82f0-0b21-4730-b68c-a9e67d345226",
   "metadata": {},
   "source": [
    "En primer lugar importanmos y descargamos las librerías que utilizaremos\n"
   ]
  },
  {
   "cell_type": "code",
   "execution_count": 40,
   "id": "de3ccb38-625e-4b9e-9acf-8d19786451af",
   "metadata": {
    "tags": []
   },
   "outputs": [
    {
     "name": "stdout",
     "output_type": "stream",
     "text": [
      "Collecting wikipedia\n",
      "  Downloading wikipedia-1.4.0.tar.gz (27 kB)\n",
      "  Preparing metadata (setup.py): started\n",
      "  Preparing metadata (setup.py): finished with status 'done'\n",
      "Requirement already satisfied: beautifulsoup4 in c:\\users\\eugen\\anaconda3\\lib\\site-packages (from wikipedia) (4.12.2)\n",
      "Requirement already satisfied: requests<3.0.0,>=2.0.0 in c:\\users\\eugen\\anaconda3\\lib\\site-packages (from wikipedia) (2.31.0)\n",
      "Requirement already satisfied: charset-normalizer<4,>=2 in c:\\users\\eugen\\anaconda3\\lib\\site-packages (from requests<3.0.0,>=2.0.0->wikipedia) (2.0.4)\n",
      "Requirement already satisfied: idna<4,>=2.5 in c:\\users\\eugen\\anaconda3\\lib\\site-packages (from requests<3.0.0,>=2.0.0->wikipedia) (3.4)\n",
      "Requirement already satisfied: urllib3<3,>=1.21.1 in c:\\users\\eugen\\anaconda3\\lib\\site-packages (from requests<3.0.0,>=2.0.0->wikipedia) (2.0.7)\n",
      "Requirement already satisfied: certifi>=2017.4.17 in c:\\users\\eugen\\anaconda3\\lib\\site-packages (from requests<3.0.0,>=2.0.0->wikipedia) (2024.2.2)\n",
      "Requirement already satisfied: soupsieve>1.2 in c:\\users\\eugen\\anaconda3\\lib\\site-packages (from beautifulsoup4->wikipedia) (2.5)\n",
      "Building wheels for collected packages: wikipedia\n",
      "  Building wheel for wikipedia (setup.py): started\n",
      "  Building wheel for wikipedia (setup.py): finished with status 'done'\n",
      "  Created wheel for wikipedia: filename=wikipedia-1.4.0-py3-none-any.whl size=11704 sha256=fda94b1bc42d4fee8a70e8886bc56000c52823d6ad7568851744c6f271305a44\n",
      "  Stored in directory: c:\\users\\eugen\\appdata\\local\\pip\\cache\\wheels\\8f\\ab\\cb\\45ccc40522d3a1c41e1d2ad53b8f33a62f394011ec38cd71c6\n",
      "Successfully built wikipedia\n",
      "Installing collected packages: wikipedia\n",
      "Successfully installed wikipedia-1.4.0\n"
     ]
    }
   ],
   "source": [
    "!pip install wikipedia\n",
    "import wikipedia\n",
    "import spacy\n",
    "import collections\n",
    "import math\n",
    "from sklearn.feature_extraction.text import CountVectorizer,TfidfVectorizer\n",
    "from sklearn.feature_extraction import text\n",
    "import string\n",
    "import numpy as np\n",
    "import re\n",
    "\n",
    "nlp = spacy.load('en_core_web_sm')\n",
    "spacy_stopwords = spacy.lang.en.stop_words.STOP_WORDS\n",
    "stop_words = spacy_stopwords\n",
    "punctuations=string.punctuation\n",
    "RE_WHITESPACE = re.compile(r\"\\s+\")\n"
   ]
  },
  {
   "cell_type": "markdown",
   "id": "2aa1e6a4-517d-4e01-95ab-c579969ba5b9",
   "metadata": {},
   "source": [
    "Definimos una función de procesado similar a la anteriormente definida. En este caso eliminarmos los números (no los sustitumos por un caracter vacío). Además, eliminamos posibles espacios extras despues del proceso de tokenización"
   ]
  },
  {
   "cell_type": "code",
   "execution_count": 41,
   "id": "08d6e3f4-7b56-412c-b38b-904d9fad72cd",
   "metadata": {
    "tags": []
   },
   "outputs": [],
   "source": [
    "def spacy_tokenizer(sentence):\n",
    "    # Pasamos la frase por el objeto nlp para procesarla\n",
    "    mytokens = nlp(sentence)\n",
    "\n",
    "    mytokens = [ word.text.lower()   if word.pos_ == 'PRON' or word.lemma_ == '-PRON-' else word.lemma_.lower() for word in mytokens]\n",
    "\n",
    "    # Lematizamos los tokens y los convertimos  a minusculas\n",
    " #   mytokens = [ word.lemma_.lower().strip() if word.lemma_ != \"-PRON-\" else word.lower_ for word in mytokens ]\n",
    "\n",
    "    # Quitamos las stopwords y los signos de puntuacion\n",
    "    mytokens = [ word for word in mytokens if word not in stop_words and word not in punctuations ]\n",
    "\n",
    "    # Quitamos números:\n",
    "    mytokens = [word  for word in mytokens if not word.isdigit()]\n",
    "    # Remove extra spaces\n",
    "    mytokens = [token.strip() for token in mytokens]\n",
    "    # devolver una lsita de tokens\n",
    "    return mytokens\n"
   ]
  },
  {
   "cell_type": "markdown",
   "id": "84ea70dc-b464-43ee-ad89-7947a7a12d9b",
   "metadata": {},
   "source": [
    "Vamos a descargar el texto de descripción de varios guitarristas históricos. Para ello definiremos una lista de strings con sus nombres y los obtendremos utilizando la función \"page\" de la librería wikipedia.\n"
   ]
  },
  {
   "cell_type": "code",
   "execution_count": 42,
   "id": "4233ab70-7433-46c9-aa38-ef952d8522a7",
   "metadata": {
    "tags": []
   },
   "outputs": [],
   "source": [
    "pages =  [\n",
    "  \"Brian May\",\"jimmy page\",\"eddie van halen\",\"david gilmour\",\n",
    "  \"Jeff Beck\",\"mark knopfler\",\"Billy Gibbons\",\"Carlos Santana\",\n",
    "  \"Stevie Ray Vaughan\",\"BB king\",\"Buddy Guy\",\"Albert King\",\"Rory Gallagher\",\n",
    "  \"Joe Satriani\", \"jimi hendrix\",\"George Harrison\"\n",
    "    ]\n",
    "documentes = [RE_WHITESPACE.sub(\" \",wikipedia.page(page, auto_suggest=False).content).strip() for page in pages]"
   ]
  },
  {
   "cell_type": "markdown",
   "id": "052dfe49-bdc1-4789-ba6e-1889690d68ec",
   "metadata": {},
   "source": [
    "Calculamos y entrenamos vectorizadores TFIDF y BoW (CountVectorizer) para el corpus descargado y preprocesado:"
   ]
  },
  {
   "cell_type": "code",
   "execution_count": 43,
   "id": "015105c7-17d5-410b-929f-c7aac04aa016",
   "metadata": {
    "tags": []
   },
   "outputs": [
    {
     "name": "stderr",
     "output_type": "stream",
     "text": [
      "C:\\Users\\eugen\\anaconda3\\Lib\\site-packages\\sklearn\\feature_extraction\\text.py:525: UserWarning: The parameter 'token_pattern' will not be used since 'tokenizer' is not None'\n",
      "  warnings.warn(\n"
     ]
    }
   ],
   "source": [
    "tfidf_vect = TfidfVectorizer(lowercase = False, stop_words = None, use_idf = True, smooth_idf = False,\n",
    "                             norm = \"l2\", tokenizer=spacy_tokenizer)\n",
    "count_vect = CountVectorizer(lowercase = False, stop_words = None, tokenizer=spacy_tokenizer)\n",
    "\n",
    "tfidf_data = tfidf_vect.fit(documentes)\n",
    "count_data = count_vect.fit(documentes)"
   ]
  },
  {
   "cell_type": "markdown",
   "id": "1a335cec-12b7-4d89-9e33-d07a3815ef5b",
   "metadata": {},
   "source": [
    "Generamos funciones para obtener las palabras más importantes del vectorizador:\n"
   ]
  },
  {
   "cell_type": "code",
   "execution_count": 44,
   "id": "b57dc99c-31f9-4b1c-a588-7c70e8234e32",
   "metadata": {
    "tags": []
   },
   "outputs": [],
   "source": [
    "tfidf_feature_names = np.array(tfidf_data.get_feature_names_out())\n",
    "count_feature_names = np.array(count_data.get_feature_names_out())\n",
    "\n",
    "def get_top_vect_words(response, top_n=2,feature_name_array=tfidf_feature_names):\n",
    "  # De la respuesta del vectorizador, cogemos los datos en bruto del array, los ordenamos\n",
    "  # de mayor a menor y cogemos los índices de los top_n terminos. Que se seleccionarán del\n",
    "  # los nombres de las caracteristicas (tokens) del vectorizador.\n",
    "    sorted_nzs = np.argsort(response.data)[:-(top_n+1):-1]\n",
    "    return feature_name_array[response.indices[sorted_nzs]]\n"
   ]
  },
  {
   "cell_type": "markdown",
   "id": "c536a1d6-b499-4a3d-a096-61c55d8301cd",
   "metadata": {},
   "source": [
    "Generamos está función para mostrar los 10 términos más importantes de un documento vectorizado con TF-IDF y BoW para ver sus diferencias."
   ]
  },
  {
   "cell_type": "code",
   "execution_count": 46,
   "id": "28d5daf5-c9a1-4477-bbb5-1319a7963807",
   "metadata": {
    "tags": []
   },
   "outputs": [
    {
     "name": "stdout",
     "output_type": "stream",
     "text": [
      "Brian May\n",
      "Tokens más frecuentes: ['queen', 'guitar', 'album', 'use', 'song', 'band', 'rock', 'work', 'perform', 'tour']\n",
      "Tokens con mayor TF-IDF: ['queen', 'guitar', 'badger', 'mercury', 'animal', 'lambert', 'album', 'use', 'song', 'band']\n",
      "jimmy page\n",
      "Tokens más frecuentes: ['page', 'zeppelin', 'guitar', 'play', 'led', 'album', 'use', 'record', 'session', 'band']\n",
      "Tokens con mayor TF-IDF: ['page', 'zeppelin', 'led', 'guitar', 'play', 'plant', 'album', 'yardbirds', 'use', 'session']\n",
      "eddie van halen\n",
      "Tokens más frecuentes: ['van', 'halen', 'guitar', 'eddie', 'band', 'later', 'album', 'play', 'use', 'solo']\n",
      "Tokens con mayor TF-IDF: ['halen', 'van', 'eddie', 'guitar', 'evh', 'wolfgang', 'bertinelli', 'gene', 'pasadena', 'valerie']\n",
      "david gilmour\n",
      "Tokens más frecuentes: ['gilmour', 'guitar', 'floyd', 'pink', 'album', 'release', 'use', 'studio', 'play', 'include']\n",
      "Tokens con mayor TF-IDF: ['gilmour', 'pink', 'floyd', 'guitar', 'barrett', 'album', 'strat', 'samson', 'mason', 'water']\n",
      "Jeff Beck\n",
      "Tokens más frecuentes: ['beck', 'album', '–', 'rock', 'guitar', 'jeff', 'release', 'record', 'instrumental', 'best']\n",
      "Tokens con mayor TF-IDF: ['beck', 'album', '–', 'bogert', 'appice', 'rock', 'jeff', 'instrumental', 'yardbirds', 'guitar']\n",
      "mark knopfler\n",
      "Tokens más frecuentes: ['knopfler', 'album', 'straits', 'dire', 'release', 'band', 'tour', 'music', 'time', 'mark']\n",
      "Tokens con mayor TF-IDF: ['knopfler', 'straits', 'dire', 'album', 'illsley', 'newcastle', 'release', 'fletcher', 'country', 'band']\n",
      "Billy Gibbons\n",
      "Tokens más frecuentes: ['gibbon', 'guitar', 'gibbons', 'album', 'play', 'zz', 'song', 'string', 'angela', 'hodgins']\n",
      "Tokens con mayor TF-IDF: ['gibbon', 'gibbons', 'zz', 'hodgins', 'guitar', 'angela', 'sidewalks', 'album', 'moving', 'bfg']\n",
      "Carlos Santana\n",
      "Tokens más frecuentes: ['santana', 'album', 'band', 'guitar', 'record', 'carlos', 'year', 'rock', 'use', 'release']\n",
      "Tokens con mayor TF-IDF: ['santana', 'carlos', 'album', 'band', 'prs', 'latin', 'guitar', 'supernatural', 'chinmoy', 'areas']\n",
      "Stevie Ray Vaughan\n",
      "Tokens más frecuentes: ['vaughan', 'guitar', 'play', 'album', 'double', 'trouble', 'stevie', 'band', 'include', 'texas']\n",
      "Tokens con mayor TF-IDF: ['vaughan', 'trouble', 'double', 'stevie', 'guitar', 'texas', 'play', 'lenny', 'shannon', 'album']\n",
      "BB king\n",
      "Tokens más frecuentes: ['king', 'blues', 'music', 'play', 'b.b.', 'guitar', 'mississippi', 'later', 'hall', 'award']\n",
      "Tokens con mayor TF-IDF: ['king', 'blues', 'mississippi', 'b.b.', 'memphis', 'indianola', 'b.', 'music', 'beale', 'play']\n",
      "Buddy Guy\n",
      "Tokens más frecuentes: ['guy', 'guitar', 'blue', 'buddy', 'dot', 'polka', 'play', 'chess', 'record', 'guitarist']\n",
      "Tokens con mayor TF-IDF: ['guy', 'polka', 'dot', 'buddy', 'chess', 'guitar', 'blue', 'chicago', 'lie', 'louisiana']\n",
      "Albert King\n",
      "Tokens más frecuentes: ['king', 'album', 'albert', 'blues', 'guitar', 'release', 'record', 'blue', 'play', 'know']\n",
      "Tokens con mayor TF-IDF: ['king', 'blues', 'albert', 'stax', 'album', 'c', 'guitar', 'e', 'louis', 'indianola']\n",
      "Rory Gallagher\n",
      "Tokens más frecuentes: ['gallagher', 'play', 'rory', 'guitar', 'album', 'band', 'blue', 'year', 'guitarist', 'use']\n",
      "Tokens con mayor TF-IDF: ['gallagher', 'rory', 'taste', 'dónal', 'cork', 'ireland', 'mcavoy', 'play', 'irish', 'guitar']\n",
      "Joe Satriani\n",
      "Tokens más frecuentes: ['satriani', 'album', 'release', 'guitar', 'use', 'song', 'guitarist', 'joe', 'feature', 'tour']\n",
      "Tokens con mayor TF-IDF: ['satriani', 'chickenfoot', 'album', 'release', 'guitar', 'use', 'js', 'g3', 'peavey', 'joe']\n",
      "jimi hendrix\n",
      "Tokens más frecuentes: ['hendrix', 'guitar', 'experience', 'play', 'band', 'rock', 'use', 'jimi', 'time', 'music']\n",
      "Tokens con mayor TF-IDF: ['hendrix', 'chandler', 'experience', 'redding', 'guitar', 'cox', 'play', 'mitchell', 'ladyland', 'jimi']\n",
      "George Harrison\n",
      "Tokens más frecuentes: ['harrison', 'album', 'song', 'guitar', 'music', 'beatle', 'george', 'release', 'include', 'lennon']\n",
      "Tokens con mayor TF-IDF: ['harrison', 'beatle', 'beatles', 'shankar', 'lennon', 'album', 'indian', 'song', 'mccartney', 'starr']\n"
     ]
    }
   ],
   "source": [
    "def show_doc_results(doc,top_n):\n",
    "    responses_tfidf = tfidf_vect.transform([doc])\n",
    "    responses_count = count_vect.transform([doc])\n",
    "    most_frequent = list(get_top_vect_words(responses_count,top_n,count_feature_names))\n",
    "    tfidf = list(get_top_vect_words(responses_tfidf,top_n,tfidf_feature_names))\n",
    "    print(\"Tokens más frecuentes: {}\".format(most_frequent))\n",
    "    print(\"Tokens con mayor TF-IDF: {}\".format(tfidf))\n",
    "    \n",
    "for i in range(0, len(pages)):\n",
    "    print(pages[i])\n",
    "    show_doc_results(documentes[i],10)"
   ]
  },
  {
   "cell_type": "markdown",
   "id": "3c55d158-334c-4958-84d2-979924c55215",
   "metadata": {},
   "source": [
    "Observar diferencias de palabras muy comunes en documentos de guitarristas como \"guitar\", \"release\",\"play\" o \"album\". En BoW aparecen como términos muy importantes porque son comunes en este tipo de documentos. Sin embargo, al calcular el TF-IDF, como estos términos aparecen en muchos documentos su importancia se ve disminuida.\n"
   ]
  }
 ],
 "metadata": {
  "kernelspec": {
   "display_name": "Python 3 (ipykernel)",
   "language": "python",
   "name": "python3"
  },
  "language_info": {
   "codemirror_mode": {
    "name": "ipython",
    "version": 3
   },
   "file_extension": ".py",
   "mimetype": "text/x-python",
   "name": "python",
   "nbconvert_exporter": "python",
   "pygments_lexer": "ipython3",
   "version": "3.11.7"
  }
 },
 "nbformat": 4,
 "nbformat_minor": 5
}

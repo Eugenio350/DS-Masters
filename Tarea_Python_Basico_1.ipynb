{
 "cells": [
  {
   "cell_type": "markdown",
   "id": "d61bb92a",
   "metadata": {},
   "source": [
    "# TAREA CURSO PYTHON"
   ]
  },
  {
   "cell_type": "markdown",
   "id": "58f74543",
   "metadata": {},
   "source": [
    "### Escriba una unica solución para cada ejercicio planteado, guarde el fichero y súbalo a la plataforma.\n",
    "### Si la solución cumple lo que el enunciado pide se considera superada, optar a la máxima nota supondrá además utilizar en cada caso la solución más eficiente y el uso de funciones cuando sea posible."
   ]
  },
  {
   "cell_type": "markdown",
   "id": "7ef92ba6",
   "metadata": {},
   "source": [
    "# EJERCICIO 1"
   ]
  },
  {
   "cell_type": "markdown",
   "id": "6be07813",
   "metadata": {},
   "source": [
    "### Cree una lista de 100 números aleatorios entre 1 y 100. Muéstrela tal como se ha generado, despues muestrela ordenada de menor a mayor."
   ]
  },
  {
   "cell_type": "code",
   "execution_count": 186,
   "id": "87e96c8b",
   "metadata": {
    "tags": []
   },
   "outputs": [],
   "source": [
    "import random\n",
    "import openpyxl\n",
    "from openpyxl import load_workbook"
   ]
  },
  {
   "cell_type": "code",
   "execution_count": 249,
   "id": "1ab5bf8d-f8ce-44b5-8b80-427725f92d97",
   "metadata": {
    "tags": []
   },
   "outputs": [
    {
     "name": "stdout",
     "output_type": "stream",
     "text": [
      "La longitud de la lista es : 100\n",
      "Lista antes de ser ordenada, primeras 10 observaciones\n",
      "[47, 80, 43, 4, 94, 47, 58, 27, 96, 10]\n",
      "Lista despues de ser ordenada, primeras 10 observaciones\n",
      "[1, 2, 3, 4, 4, 6, 6, 6, 6, 7]\n"
     ]
    }
   ],
   "source": [
    "def ejercicio1():\n",
    "    lista_de_numeros = []\n",
    "    for i in range(1, 101):\n",
    "        numero_aleatorio = random.randint(0, 100)\n",
    "        lista_de_numeros.append(numero_aleatorio)\n",
    "\n",
    "    print(\"La longitud de la lista es : \" + str(len(lista_de_numeros)))\n",
    "    print(\"Lista antes de ser ordenada, primeras 10 observaciones\")\n",
    "    print(lista_de_numeros[0:10])\n",
    "    lista_de_numeros_ordenada = sorted(lista_de_numeros, reverse=False)\n",
    "    print(\"Lista despues de ser ordenada, primeras 10 observaciones\")\n",
    "    print(lista_de_numeros_ordenada[0:10])\n",
    "\n",
    "ejercicio1()"
   ]
  },
  {
   "cell_type": "markdown",
   "id": "abcae49f",
   "metadata": {},
   "source": [
    "# EJERCICIO 2"
   ]
  },
  {
   "cell_type": "markdown",
   "id": "d0df5666",
   "metadata": {},
   "source": [
    "### Realizamos un programa que gestione la lista anterior (desordenada) con las siguientes opciones:\n",
    "### 1.\tAñadir número a la lista\n",
    "### 2.\tEliminar numero según su posición\n",
    "### 3.\tVisualizar número según su posición\n",
    "### 4.\tOrdernar los números (se puede utilizar la función realizada en el ejercicio anterior)\n",
    "### 5.  Visualizar lista\n",
    "### 6.\tAñadir la lista al final del fichero c:\\EjerciciosPython\\Tarea.xlsx\n",
    "### 7.\tSalir\n"
   ]
  },
  {
   "cell_type": "code",
   "execution_count": 252,
   "id": "fcb76d2d-ccce-4a65-b994-0700967d6e90",
   "metadata": {
    "collapsed": true,
    "jupyter": {
     "outputs_hidden": true
    },
    "tags": []
   },
   "outputs": [
    {
     "name": "stdout",
     "output_type": "stream",
     "text": [
      "Para seleccionar la opción 7 es necesario añadir la lista al excel primero\n"
     ]
    },
    {
     "name": "stdin",
     "output_type": "stream",
     "text": [
      "Que opción desea elegir 1-7\n",
      "        1. Añadir número a lista\n",
      "        2. Eliminar número según su posición\n",
      "        3. Visualizar número según su posición\n",
      "        4. Ordenar los números\n",
      "        5. Observar lista\n",
      "        6. Añadir lista a excel\n",
      "        7. Salir\n",
      "         1\n"
     ]
    },
    {
     "name": "stdout",
     "output_type": "stream",
     "text": [
      "¿Que número quieres añadir?\n"
     ]
    },
    {
     "name": "stdin",
     "output_type": "stream",
     "text": [
      " 142\n"
     ]
    },
    {
     "name": "stdout",
     "output_type": "stream",
     "text": [
      "En que posición deseas añadir el numero?\n"
     ]
    },
    {
     "name": "stdin",
     "output_type": "stream",
     "text": [
      " 0\n"
     ]
    },
    {
     "name": "stdout",
     "output_type": "stream",
     "text": [
      "Numero 142 añadido en posicion 0"
     ]
    },
    {
     "name": "stdin",
     "output_type": "stream",
     "text": [
      "Que opción desea elegir 1-7\n",
      "        1. Añadir número a lista\n",
      "        2. Eliminar número según su posición\n",
      "        3. Visualizar número según su posición\n",
      "        4. Ordenar los números\n",
      "        5. Observar lista\n",
      "        6. Añadir lista a excel\n",
      "        7. Salir\n",
      "         2\n"
     ]
    },
    {
     "name": "stdout",
     "output_type": "stream",
     "text": [
      "¿Qué posición de numero deseas eliminar?\n"
     ]
    },
    {
     "name": "stdin",
     "output_type": "stream",
     "text": [
      " 10\n"
     ]
    },
    {
     "name": "stdout",
     "output_type": "stream",
     "text": [
      "Número con posición 10 ha sido eliminado.\n"
     ]
    },
    {
     "name": "stdin",
     "output_type": "stream",
     "text": [
      "Que opción desea elegir 1-7\n",
      "        1. Añadir número a lista\n",
      "        2. Eliminar número según su posición\n",
      "        3. Visualizar número según su posición\n",
      "        4. Ordenar los números\n",
      "        5. Observar lista\n",
      "        6. Añadir lista a excel\n",
      "        7. Salir\n",
      "         3\n"
     ]
    },
    {
     "name": "stdout",
     "output_type": "stream",
     "text": [
      "¿Qué posición de número deseas observar?\n"
     ]
    },
    {
     "name": "stdin",
     "output_type": "stream",
     "text": [
      " 0\n"
     ]
    },
    {
     "name": "stdout",
     "output_type": "stream",
     "text": [
      "La posicion de numero 0, corresponde al número 142.\n"
     ]
    },
    {
     "name": "stdin",
     "output_type": "stream",
     "text": [
      "Que opción desea elegir 1-7\n",
      "        1. Añadir número a lista\n",
      "        2. Eliminar número según su posición\n",
      "        3. Visualizar número según su posición\n",
      "        4. Ordenar los números\n",
      "        5. Observar lista\n",
      "        6. Añadir lista a excel\n",
      "        7. Salir\n",
      "         4\n"
     ]
    },
    {
     "name": "stdout",
     "output_type": "stream",
     "text": [
      "Deseas ordenar la lista de forma ascendente o descendente, en el caso de querer hacerlo de forma descendente insertar 0, de lo contrario insertar 1\n"
     ]
    },
    {
     "name": "stdin",
     "output_type": "stream",
     "text": [
      " 1\n"
     ]
    },
    {
     "name": "stdout",
     "output_type": "stream",
     "text": [
      "La lista ha sido ordenada de forma Ascendente\n"
     ]
    },
    {
     "name": "stdin",
     "output_type": "stream",
     "text": [
      "Que opción desea elegir 1-7\n",
      "        1. Añadir número a lista\n",
      "        2. Eliminar número según su posición\n",
      "        3. Visualizar número según su posición\n",
      "        4. Ordenar los números\n",
      "        5. Observar lista\n",
      "        6. Añadir lista a excel\n",
      "        7. Salir\n",
      "         5\n"
     ]
    },
    {
     "name": "stdout",
     "output_type": "stream",
     "text": [
      "Aquí esta la lista : \n",
      "[0, 1, 1, 1, 1, 1, 1, 3, 5, 6, 7, 10, 10, 10, 11, 12, 12, 13, 14, 15, 15, 17, 18, 19, 20, 21, 21, 21, 21, 23, 25, 28, 29, 29, 32, 32, 33, 35, 36, 39, 43, 44, 47, 47, 49, 49, 50, 51, 51, 52, 53, 54, 55, 56, 57, 58, 58, 59, 60, 60, 61, 61, 61, 62, 62, 62, 64, 65, 67, 67, 69, 70, 71, 71, 72, 72, 73, 75, 78, 78, 79, 80, 81, 81, 81, 81, 82, 82, 82, 83, 84, 84, 84, 84, 85, 85, 86, 87, 87, 88, 91, 91, 92, 93, 98, 99, 100, 142, 157]\n"
     ]
    },
    {
     "name": "stdin",
     "output_type": "stream",
     "text": [
      "Que opción desea elegir 1-7\n",
      "        1. Añadir número a lista\n",
      "        2. Eliminar número según su posición\n",
      "        3. Visualizar número según su posición\n",
      "        4. Ordenar los números\n",
      "        5. Observar lista\n",
      "        6. Añadir lista a excel\n",
      "        7. Salir\n",
      "         6\n"
     ]
    },
    {
     "name": "stdout",
     "output_type": "stream",
     "text": [
      "la lista ha sido añadida al fichero\n"
     ]
    },
    {
     "name": "stdin",
     "output_type": "stream",
     "text": [
      "Que opción desea elegir 1-7\n",
      "        1. Añadir número a lista\n",
      "        2. Eliminar número según su posición\n",
      "        3. Visualizar número según su posición\n",
      "        4. Ordenar los números\n",
      "        5. Observar lista\n",
      "        6. Añadir lista a excel\n",
      "        7. Salir\n",
      "         7\n"
     ]
    }
   ],
   "source": [
    "def ejercicio2(lista:list):\n",
    "    print(\"Para seleccionar la opción 7 es necesario añadir la lista al excel primero\")\n",
    "    \n",
    "    opcion = 0\n",
    "    while opcion != 7:\n",
    "        opcion = int(input(\"\"\"Que opción desea elegir 1-7\n",
    "        1. Añadir número a lista\n",
    "        2. Eliminar número según su posición\n",
    "        3. Visualizar número según su posición\n",
    "        4. Ordenar los números\n",
    "        5. Observar lista\n",
    "        6. Añadir lista a excel\n",
    "        7. Salir\n",
    "        \"\"\"))\n",
    "\n",
    "        ### 1. Añadir número a lista \n",
    "        if opcion == 1: \n",
    "            print(\"¿Que número quieres añadir?\")\n",
    "            numero_a_insertar  = int(input())\n",
    "            print(\"En que posición deseas añadir el numero?\")\n",
    "            posicion_de_numero_a_añadir = int(input())\n",
    "            lista.insert(posicion_de_numero_a_añadir, numero_a_insertar) \n",
    "            print(f\"Numero {numero_a_insertar} añadido en posicion {posicion_de_numero_a_añadir}\", end=\"\")\n",
    "\n",
    "            # 2. Eliminar numero según su posición\n",
    "        if opcion == 2:\n",
    "            print(\"¿Qué posición de numero deseas eliminar?\")\n",
    "            posicion_de_numero_a_eliminar = int(input())\n",
    "            del(lista[posicion_de_numero_a_eliminar])\n",
    "            print(f\"Número con posición {posicion_de_numero_a_eliminar} ha sido eliminado.\")\n",
    "\n",
    "            ## 3. Visualizar número según su posición\n",
    "        if opcion == 3:\n",
    "            print(\"¿Qué posición de número deseas observar?\")\n",
    "            posicion_de_numero_a_observar = int(input())\n",
    "            numero_a_observar = lista[posicion_de_numero_a_observar]\n",
    "            print(f\"La posicion de numero {posicion_de_numero_a_observar}, corresponde al número {numero_a_observar}.\")\n",
    "\n",
    "            ## 4. Ordenar los números\n",
    "        if opcion == 4:\n",
    "                print(\"Deseas ordenar la lista de forma ascendente o descendente, en el caso de querer hacerlo de forma descendente insertar 0, de lo contrario insertar 1\")\n",
    "                forma_de_ordenar = int(input())\n",
    "                if forma_de_ordenar == 0:\n",
    "                    forma_de_ordenar = True\n",
    "\n",
    "                elif forma_de_ordenar == 1:\n",
    "                    forma_de_ordenar = False\n",
    "\n",
    "                else:\n",
    "                    raise Exception(\"Unicamente se permite insertar un 0 o un 1, para determinar la forma de ordenamiento.\")\n",
    "\n",
    "                ascendente_o_descendente = \"Descendente\" if forma_de_ordenar == True else \"Ascendente\" \n",
    "                lista = sorted(lista, reverse=forma_de_ordenar)\n",
    "                print(f\"La lista ha sido ordenada de forma {ascendente_o_descendente}\")\n",
    "            # 5. Observar Lista\n",
    "        if opcion ==5: \n",
    "            print(\"Aquí esta la lista : \")\n",
    "            print(lista)\n",
    "\n",
    "            # 6. Añadir lista al fichero\n",
    "        if opcion == 6: \n",
    "            excel = openpyxl.load_workbook(\"Book1.xlsx\") # Nota yo no tengo el directorio que viene en la instruccion.\n",
    "            hoja = excel[\"Sheet1\"]\n",
    "            celdas = hoja[\"A1:E20\"]\n",
    "            counter = 0\n",
    "            for row in celdas:\n",
    "                for cell in row:\n",
    "                    counter += 1\n",
    "                    cell.value = lista[counter]\n",
    "            print(f\"la lista ha sido añadida al fichero\")\n",
    "\n",
    "            # 7. Salir\n",
    "        if opcion == 7: \n",
    "            excel.save(\"Book1.xlsx\")\n",
    "            return lista\n",
    "\n",
    "        \n",
    "        \n",
    "lista_modificada = ejercicio2(lista_de_numeros)"
   ]
  },
  {
   "cell_type": "markdown",
   "id": "86cbbe10",
   "metadata": {},
   "source": [
    "# EJERCICIO 3"
   ]
  },
  {
   "cell_type": "markdown",
   "id": "6267976f",
   "metadata": {},
   "source": [
    "### Crear una estructura que almacene el nombre, apellido, email, teléfono y nota de 10 alumnos. Mostrar gráficamente el número de aprobados y suspensos."
   ]
  },
  {
   "cell_type": "code",
   "execution_count": 222,
   "id": "3b40b62a",
   "metadata": {
    "tags": []
   },
   "outputs": [
    {
     "data": {
      "image/png": "[encoded data removed]",
      "text/plain": [
       "<Figure size 640x480 with 1 Axes>"
      ]
     },
     "metadata": {},
     "output_type": "display_data"
    }
   ],
   "source": [
    "import pandas as pd\n",
    "import matplotlib.pyplot as plt\n",
    "# Crear estructura de datos\n",
    "data = {\n",
    "    'Nombre': ['Juan', 'Marta', 'Luis', 'Ana', 'Fernando', 'Laura', 'Roberto', 'Sofía', 'Daniel', 'Lorena'],\n",
    "    'Apellido': ['Perez', 'Lopez', 'García', 'Martínez', 'Valencia', 'Munoz', 'Castillo', 'Vargas', 'Quispe', 'Romero'],\n",
    "    'Email': ['juan@gmail.com', 'marta@gmail.com', 'luis@gmail.com', 'ana@gmail.com', 'fernando@gmail.com', 'laura@gmail.com', 'roberto@gmail.com', 'sofia@gmail.com', 'daniel@gmail.com', 'lorena@gmail.com'],\n",
    "    'Teléfono': ['+34123456789', '+34123456780', '+34123456781', '+34123456782', '+34123456783', '+34123456784', '+34123456785', '+34123456786', '+34123456787', '+34123456788'],\n",
    "    'Nota': [8, 6, 5.5, 7.5, 9, 5, 4.5, 9.5, 10, 4]\n",
    "}\n",
    "\n",
    "df = pd.DataFrame(data)\n",
    "\n",
    "# Calcular el número de aprobados y suspensos\n",
    "df['Estado'] = ['Aprobado' if nota >= 5 else 'Suspenso' for nota in df['Nota']]\n",
    "estado_counts = df['Estado'].value_counts()\n",
    "\n",
    "# Mostrar gráficamente\n",
    "estado_counts.plot(kind='bar', color=['green', 'red'])\n",
    "plt.title('Número de Aprobados y Suspensos')\n",
    "plt.ylabel('Número de Alumnos')\n",
    "plt.xlabel('Estado')\n",
    "plt.tight_layout()\n",
    "plt.show()"
   ]
  },
  {
   "cell_type": "markdown",
   "id": "94ceb45b",
   "metadata": {},
   "source": [
    "# EJERCICIO 4"
   ]
  },
  {
   "cell_type": "markdown",
   "id": "31412bab",
   "metadata": {},
   "source": [
    "### Dada una lista con 10 palabras, se crea otra estructura (elegir lista o tupla) con esas 10 palabras donde cada palabra esté escrita al revés. Por ejemplo, la palabra \"casa\" estará escrita como \"asac\"."
   ]
  },
  {
   "cell_type": "code",
   "execution_count": 220,
   "id": "6f9b432c-1127-48ed-aabd-5216847e0732",
   "metadata": {
    "tags": []
   },
   "outputs": [
    {
     "name": "stdin",
     "output_type": "stream",
     "text": [
      " eugenio\n",
      " invertir\n",
      " orientar\n",
      " tapete\n",
      " mesa\n",
      " libro\n",
      " pluma\n",
      " libreta\n",
      " computadora\n",
      " hola\n"
     ]
    },
    {
     "data": {
      "text/plain": [
       "['oinegue',\n",
       " 'ritrevni',\n",
       " 'ratneiro',\n",
       " 'etepat',\n",
       " 'asem',\n",
       " 'orbil',\n",
       " 'amulp',\n",
       " 'aterbil',\n",
       " 'arodatupmoc',\n",
       " 'aloh']"
      ]
     },
     "execution_count": 220,
     "metadata": {},
     "output_type": "execute_result"
    }
   ],
   "source": [
    "def invertir_palabras():\n",
    "    lista_de_palabras = []\n",
    "    lista_de_palabras_invertidas = []\n",
    "    while len(lista_de_palabras) != 10:\n",
    "        palabra_a_agregar = str(input())\n",
    "        lista_de_palabras.append(palabra_a_agregar)\n",
    "    \n",
    "    for palabra in lista_de_palabras:\n",
    "        palabra_invertida = palabra[::-1]\n",
    "        lista_de_palabras_invertidas.append(palabra_invertida)\n",
    "        \n",
    "    return lista_de_palabras_invertidas\n",
    "\n",
    "invertir_palabras()"
   ]
  }
 ],
 "metadata": {
  "kernelspec": {
   "display_name": "Python 3 (ipykernel)",
   "language": "python",
   "name": "python3"
  },
  "language_info": {
   "codemirror_mode": {
    "name": "ipython",
    "version": 3
   },
   "file_extension": ".py",
   "mimetype": "text/x-python",
   "name": "python",
   "nbconvert_exporter": "python",
   "pygments_lexer": "ipython3",
   "version": "3.11.5"
  }
 },
 "nbformat": 4,
 "nbformat_minor": 5
}

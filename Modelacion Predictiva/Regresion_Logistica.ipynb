{
 "cells": [
  {
   "cell_type": "code",
   "execution_count": 105,
   "id": "e2d94f17-0f32-4efd-be3f-cd69969c2016",
   "metadata": {
    "tags": []
   },
   "outputs": [],
   "source": [
    "import pandas as pd\n",
    "import numpy as np\n",
    "import statsmodels.api as sm\n",
    "import patsy\n",
    "import warnings\n",
    "from scipy.stats.contingency import association\n",
    "from scipy.stats import contingency\n",
    "import missingno as msno\n",
    "import sklearn.impute as skl_imp\n",
    "from sklearn.experimental import enable_iterative_imputer\n",
    "import feature_engine.imputation as fe_imp\n",
    "from sklearn.model_selection import train_test_split\n",
    "from statsmodels.formula.api import ols\n",
    "from sklearn.metrics import mean_squared_error, r2_score\n",
    "from sklearn.model_selection import cross_val_score\n",
    "from sklearn.model_selection import RepeatedKFold\n",
    "from sklearn.linear_model import LinearRegression\n",
    "import seaborn as sns\n",
    "import scipy.stats as stats\n",
    "from sklearn.preprocessing import scale\n",
    "from statsmodels.graphics.factorplots import interaction_plot\n",
    "import plotly.express as px\n",
    "\n",
    "def cross_val_lin(formula:str, data:pd.DataFrame, seed=1):\n",
    "    y, x = patsy.dmatrices(formula, data, return_type='dataframe')\n",
    "    model = LinearRegression()\n",
    "    # Establecemos esquema de validación fijando random_state \n",
    "    cv = RepeatedKFold(n_splits=5, n_repeats=20, random_state=seed)\n",
    "    # Obtenemos los resultados de r2 para cada partici[on training-test\n",
    "    scores = cross_val_score(model, x, y, cv=cv)\n",
    "    \n",
    "    # Sesgo y varianz\n",
    "    print('Modelo:' + str(formula)) \n",
    "    print(\"Coeficiente de determinacion R2: %.3f (%.3f)\" % (np.mean(scores), np.std(scores)))\n",
    "    return scores\n",
    "\n",
    "def ols_formula(df, dependent_var, *excluded_cols):\n",
    "    df_columns = list(df.columns.values)\n",
    "    df_columns.remove(dependent_var)\n",
    "    for col in excluded_cols:\n",
    "        df_columns.remove(col)\n",
    "    return dependent_var + ' ~ ' + ' + '.join(df_columns)\n",
    "\n",
    "def cat_plot(col):\n",
    "    if col.dtypes == \"category\":\n",
    "        fig = px.bar(col.value_counts())\n",
    "        return fig\n",
    "    \n",
    "def plot(col):\n",
    "    if col.dtypes != \"category\":\n",
    "        histogram_boxplot(col, xlabel=col.name, title=\"Distribucion Continua\")\n",
    "    else:\n",
    "        cat_plot(col)\n",
    "    \n",
    "def histogram_boxplot(data, xlabel= None, title = None, font_scale=2, figsize=(9,8), bins=None):\n",
    "    sns.set(font_scale=font_scale)\n",
    "    f2, (ax_box2, ax_hist2) = plt.subplots(2, sharex=True, gridspec_kw={\"height_ratios\": (.15, .85)}, \n",
    "                                           figsize=figsize)\n",
    "    sns.boxplot(x=data, ax=ax_box2)\n",
    "\n",
    "    sns.histplot(x=data, ax=ax_hist2, bins=bins) if bins else sns.histplot(x=data, ax=ax_hist2)\n",
    "\n",
    "    ax_hist2.axvline(np.mean(data), color='g', linestyle='-')\n",
    "\n",
    "    ax_hist2.axvline(np.median(data), color='y', linestyle='--')\n",
    "\n",
    "    if xlabel: ax_hist2.set(xlabel=xlabel)\n",
    "    if title: ax_box2.set(title=title, xlabel=\"\")\n",
    "\n",
    "    plt.show()\n",
    "    \n",
    "# Función para calcular VCramer (dos nominales de entrada!)\n",
    "def cramers_v(var1, varObj):\n",
    "    \n",
    "    if not var1.dtypes == 'category':\n",
    "        #bins = min(5,var1.value_counts().count())\n",
    "        var1 = pd.cut(var1, bins = 5)\n",
    "    if not varObj.dtypes == 'category': #np.issubdtype(varObj, np.number):\n",
    "        #bins = min(5,varObj.value_counts().count())\n",
    "        varObj = pd.cut(varObj, bins = 5)\n",
    "        \n",
    "    data = pd.crosstab(var1, varObj).values\n",
    "    vCramer = stats.contingency.association(data, method = 'cramer')\n",
    "    return vCramer\n",
    "    \n",
    "def mean_absolute_deviation(series):\n",
    "    return (series - series.mean()).abs().mean()\n",
    "\n",
    "## Función manual de winsor con clip+quantile \n",
    "def winsorize_with_pandas(s, limits):\n",
    "    \"\"\"\n",
    "    s : pd.Series\n",
    "        Series to winsorize\n",
    "    limits : tuple of float\n",
    "        Tuple of the percentages to cut on each side of the array, \n",
    "        with respect to the number of unmasked data, as floats between 0. and 1\n",
    "    \"\"\"\n",
    "    return s.clip(lower=s.quantile(limits[0], interpolation='lower'), \n",
    "                  upper=s.quantile(1-limits[1], interpolation='higher'))\n",
    "## Función para gestionar outliers\n",
    "def gestiona_outliers(col,clas = 'check'):\n",
    "\n",
    "    print(col.name)\n",
    "    # Condición de asimetría y aplicación de criterio 1 según el caso\n",
    "    if abs(col.skew()) < 1:\n",
    "        criterio1 = abs((col-col.mean())/col.std())>3\n",
    "    else:\n",
    "        criterio1 = abs((col-col.median())/ mean_absolute_deviation(col)) > 8\n",
    "\n",
    "    # Calcular primer cuartil     \n",
    "    q1 = col.quantile(0.25)  \n",
    "    # Calcular tercer cuartil  \n",
    "    q3 = col.quantile(0.75)\n",
    "    # Calculo de IQR\n",
    "    IQR=q3-q1\n",
    "    # Calcular criterio 2 (general para cualquier asimetría)\n",
    "    criterio2 = (col<(q1 - 3*IQR))|(col>(q3 + 3*IQR))\n",
    "    lower = col[criterio1&criterio2&(col<q1)].count()/col.dropna().count()\n",
    "    upper = col[criterio1&criterio2&(col>q3)].count()/col.dropna().count()\n",
    "    # Salida según el tipo deseado\n",
    "    if clas == 'check':\n",
    "        return(lower*100,upper*100,(lower+upper)*100)\n",
    "    elif clas == 'winsor':\n",
    "        return(winsorize_with_pandas(col,(lower,upper)))\n",
    "    elif clas == 'miss':\n",
    "        print('\\n MissingAntes: ' + str(col.isna().sum()))\n",
    "        col.loc[criterio1&criterio2] = np.nan\n",
    "        print('MissingDespues: ' + str(col.isna().sum()) +'\\n')\n",
    "    return(col)\n",
    "\n",
    "def mejorTransf (vv,target, name=False, tipo = 'cramer', graf=False):\n",
    "    \n",
    "    # Escalado de datos (evitar fallos de tamaño de float64 al hacer exp de número grande..cosas de python)\n",
    "    vv = pd.Series(scale(vv), name=vv.name)\n",
    "    # Traslación a valores positivos de la variable (sino falla log y las raíces!)\n",
    "    vv = vv + abs(min(vv))+0.0001\n",
    "      \n",
    "    # Definimos y calculamos las transformaciones típicas  \n",
    "    transf = pd.DataFrame({vv.name + '_ident': vv, vv.name + '_log': np.log(vv), vv.name + '_exp': np.exp(vv), vv.name + '_sqrt': np.sqrt(vv), \n",
    "                         vv.name + '_sqr': np.square(vv), vv.name + '_cuarta': vv**4, vv.name + '_raiz4': vv**(1/4)})\n",
    "      \n",
    "    # Distinguimos caso cramer o caso correlación\n",
    "    if tipo == 'cramer':\n",
    "      # Aplicar la función cramers_v a cada transformación frente a la respuesta\n",
    "        tablaCramer = pd.DataFrame(transf.apply(lambda x: cramers_v(x,target)),columns=['VCramer'])\n",
    "      \n",
    "      # Si queremos gráfico, muestra comparativa entre las posibilidades\n",
    "        if graf: px.bar(tablaCramer,x=tablaCramer.VCramer,title='Relaciones frente a ' + target.name).update_yaxes(categoryorder=\"total ascending\").show()\n",
    "      # Identificar mejor transformación\n",
    "        best = tablaCramer.query('VCramer == VCramer.max()').index\n",
    "        ser = transf[best[0]].squeeze()\n",
    "    \n",
    "    if tipo == 'cor':\n",
    "      # Aplicar coeficiente de correlación a cada transformación frente a la respuesta\n",
    "        tablaCorr = pd.DataFrame(transf.apply(lambda x: np.corrcoef(x,target)[0,1]),columns=['Corr'])\n",
    "      # Si queremos gráfico, muestra comparativa entre las posibilidades\n",
    "        if graf: px.bar(tablaCorr,x=tablaCorr.Corr,title='Relaciones frente a ' + target.name).update_yaxes(categoryorder=\"total ascending\").show()\n",
    "      # identificar mejor transformación\n",
    "        best = tablaCorr.query('Corr.abs() == Corr.abs().max()').index\n",
    "        ser = transf[best[0]].squeeze()\n",
    "  \n",
    "    # Aquí distingue si se devuelve la variable transformada o solamente el nombre de la transformación\n",
    "    if name:\n",
    "        return(ser.name)\n",
    "    else:\n",
    "        return(ser)\n"
   ]
  },
  {
   "cell_type": "code",
   "execution_count": 106,
   "id": "58905a37-53a7-4472-928b-ceee1f647a18",
   "metadata": {
    "tags": []
   },
   "outputs": [
    {
     "data": {
      "text/html": [
       "<div>\n",
       "<style scoped>\n",
       "    .dataframe tbody tr th:only-of-type {\n",
       "        vertical-align: middle;\n",
       "    }\n",
       "\n",
       "    .dataframe tbody tr th {\n",
       "        vertical-align: top;\n",
       "    }\n",
       "\n",
       "    .dataframe thead th {\n",
       "        text-align: right;\n",
       "    }\n",
       "</style>\n",
       "<table border=\"1\" class=\"dataframe\">\n",
       "  <thead>\n",
       "    <tr style=\"text-align: right;\">\n",
       "      <th></th>\n",
       "      <th>Unnamed: 0</th>\n",
       "      <th>ID</th>\n",
       "      <th>Acidez</th>\n",
       "      <th>AcidoCitrico</th>\n",
       "      <th>Azucar</th>\n",
       "      <th>CloruroSodico</th>\n",
       "      <th>Densidad</th>\n",
       "      <th>pH</th>\n",
       "      <th>Sulfatos</th>\n",
       "      <th>Alcohol</th>\n",
       "      <th>CalifProductor</th>\n",
       "      <th>PrecioBotella</th>\n",
       "      <th>Etiqueta</th>\n",
       "      <th>Clasificacion</th>\n",
       "      <th>Region</th>\n",
       "      <th>prop_missings</th>\n",
       "      <th>Beneficio</th>\n",
       "      <th>Compra</th>\n",
       "    </tr>\n",
       "  </thead>\n",
       "  <tbody>\n",
       "    <tr>\n",
       "      <th>0</th>\n",
       "      <td>0</td>\n",
       "      <td>2.0</td>\n",
       "      <td>0.16</td>\n",
       "      <td>-0.81</td>\n",
       "      <td>26.1</td>\n",
       "      <td>-0.425</td>\n",
       "      <td>1.02792</td>\n",
       "      <td>3.38</td>\n",
       "      <td>0.70</td>\n",
       "      <td>10.5</td>\n",
       "      <td>2.0</td>\n",
       "      <td>1.00</td>\n",
       "      <td>M</td>\n",
       "      <td>***</td>\n",
       "      <td>1.0</td>\n",
       "      <td>0.015711</td>\n",
       "      <td>515</td>\n",
       "      <td>1</td>\n",
       "    </tr>\n",
       "    <tr>\n",
       "      <th>1</th>\n",
       "      <td>1</td>\n",
       "      <td>4.0</td>\n",
       "      <td>2.64</td>\n",
       "      <td>-0.88</td>\n",
       "      <td>14.8</td>\n",
       "      <td>0.037</td>\n",
       "      <td>0.99518</td>\n",
       "      <td>3.12</td>\n",
       "      <td>0.48</td>\n",
       "      <td>22.0</td>\n",
       "      <td>3.0</td>\n",
       "      <td>3.38</td>\n",
       "      <td>M</td>\n",
       "      <td>***</td>\n",
       "      <td>3.0</td>\n",
       "      <td>0.000000</td>\n",
       "      <td>585</td>\n",
       "      <td>1</td>\n",
       "    </tr>\n",
       "  </tbody>\n",
       "</table>\n",
       "</div>"
      ],
      "text/plain": [
       "   Unnamed: 0   ID  Acidez  AcidoCitrico  Azucar  CloruroSodico  Densidad  \\\n",
       "0           0  2.0    0.16         -0.81    26.1         -0.425   1.02792   \n",
       "1           1  4.0    2.64         -0.88    14.8          0.037   0.99518   \n",
       "\n",
       "     pH  Sulfatos  Alcohol  CalifProductor  PrecioBotella Etiqueta  \\\n",
       "0  3.38      0.70     10.5             2.0           1.00        M   \n",
       "1  3.12      0.48     22.0             3.0           3.38        M   \n",
       "\n",
       "  Clasificacion  Region  prop_missings  Beneficio  Compra  \n",
       "0           ***     1.0       0.015711        515       1  \n",
       "1           ***     3.0       0.000000        585       1  "
      ]
     },
     "execution_count": 106,
     "metadata": {},
     "output_type": "execute_result"
    }
   ],
   "source": [
    "datos = pd.read_csv(\"DatosVinoDep_winsRand.csv\")\n",
    "datos.head(2)"
   ]
  },
  {
   "cell_type": "markdown",
   "id": "2d6ddada-4613-4b49-a366-9c7d20060305",
   "metadata": {},
   "source": [
    "Dado que vamos a evaluar las relaciones entre los predictores y la respuesta para conseguir linealidad, lo mejor es separar <br>\n",
    "las respuestas y quedarnos con el input depurado, de esta forma podemos aplicar una misma función a todo el conjunto sin <br>\n",
    "peligro de transformar las respuestas."
   ]
  },
  {
   "cell_type": "code",
   "execution_count": 107,
   "id": "c28dc63b-d0b2-43a7-9a50-7a91c47855ef",
   "metadata": {
    "tags": []
   },
   "outputs": [],
   "source": [
    "to_factor = list(datos.loc[:, datos.nunique() < 10]);\n",
    "datos[to_factor] = datos[to_factor].astype(\"category\")\n",
    "\n",
    "datos[\"Etiqueta\"] = datos[\"Etiqueta\"].cat.reorder_categories([\"MM\", \"M\", \"R\", \"B\", \"MB\"])\n",
    "datos[\"Clasificación\"] = datos[\"Clasificacion\"].cat.reorder_categories([\"Desc\", \"*\", \"**\", \"***\", \"****\"])"
   ]
  },
  {
   "cell_type": "markdown",
   "id": "45993364-ccfc-473c-9e15-f28ef2fd4c4f",
   "metadata": {},
   "source": [
    "## Variables Control\n",
    "Es una buena idea generar variables \"Control\" para la evaluación de los efectos de los predictores frente a la respuesta <br>\n",
    "La idea es la siguiente: si generamos variables en el más estricto sentido aleatorio (por ejemplo siguiendo una distribución <br>\n",
    "uniforme) cualquier relación que estas presenten con la variable respuesta serán debidas puramente al azar, con lo que se pueden <br>\n",
    "considerar relaciones espurias, es decir, falsas.\n",
    "<br>\n",
    "<br>\n",
    "Por tatno, ya se la inspección preliminar de relaciones con la respuesta mediante correlación (relación lineal, válido para <br>\n",
    "continua-continua) o VCramer (Asociación de tablas de contingencia, válido para cruce de variables categóricas/nominal o <br>\n",
    "continuas tramificadas)o bien en los propios modelos de regresión, las variables que presenten una menor relación con la <br>\n",
    "respuesta que las variables control, tendán una sombra de sospecha sobre la veracidad de esa relación y serán descartadas. <br>\n"
   ]
  },
  {
   "cell_type": "code",
   "execution_count": 108,
   "id": "9f7dce95-2e17-41f8-a847-69895e2432b1",
   "metadata": {
    "tags": []
   },
   "outputs": [],
   "source": [
    "datos[\"Aleatorio 1\"] = np.random.uniform(0, 1, size=datos.shape[0])\n",
    "datos[\"Aleatorio 2\"] = np.random.uniform(0, 1, size=datos.shape[0])\n",
    "# Variable a modelar\n",
    "variable_objetivo = datos[\"Compra\"]\n",
    "# Eliminar variables relacionadas con la compra\n",
    "datos_backup = datos.copy()\n",
    "datos = datos.drop([\"ID\", \"Beneficio\", \"Compra\"], axis=1)"
   ]
  },
  {
   "cell_type": "markdown",
   "id": "436dd719-8e0b-453a-a4cf-a1a317557912",
   "metadata": {},
   "source": [
    "## Estudio descriptivo de relaciones con la respuesta\n",
    "Intentaremos descubrir a priori las relaciones marginales de las variables con la variable objetivo <br>\n",
    "binaria para hacernos una idea de cuales de ellas serán potencialmente influyentes en los modelos <br>\n",
    "de regresión logística que ajustemos"
   ]
  },
  {
   "cell_type": "code",
   "execution_count": 109,
   "id": "972ca1f1-d8ad-4d92-aa97-814697397e98",
   "metadata": {
    "tags": []
   },
   "outputs": [
    {
     "data": {
      "application/vnd.plotly.v1+json": {
       "config": {
        "plotlyServerURL": "https://plot.ly"
       },
       "data": [
        {
         "alignmentgroup": "True",
         "hovertemplate": "VCramer=%{x}<br>index=%{y}<extra></extra>",
         "legendgroup": "",
         "marker": {
          "color": "#636efa",
          "pattern": {
           "shape": ""
          }
         },
         "name": "",
         "offsetgroup": "",
         "orientation": "h",
         "showlegend": false,
         "textposition": "auto",
         "type": "bar",
         "x": [
          0.015801820721764434,
          0.04988257664601794,
          0.01421031163486779,
          0.02801805483697462,
          0.04072989563739903,
          0.012144225345222056,
          0.025050493581956535,
          0.04075652100629754,
          0.013894210889387098,
          0.29024307348175077,
          0.016771832800340385,
          0.022128952508151875,
          0.5964335615521507,
          0.016645129560385635,
          0.04420682549549123,
          0.5964335615521507,
          0.025376151526508836,
          0.010007065636713938
         ],
         "xaxis": "x",
         "y": [
          "Unnamed: 0",
          "Acidez",
          "AcidoCitrico",
          "Azucar",
          "CloruroSodico",
          "Densidad",
          "pH",
          "Sulfatos",
          "Alcohol",
          "CalifProductor",
          "PrecioBotella",
          "Etiqueta",
          "Clasificacion",
          "Region",
          "prop_missings",
          "Clasificación",
          "Aleatorio 1",
          "Aleatorio 2"
         ],
         "yaxis": "y"
        }
       ],
       "layout": {
        "autosize": true,
        "barmode": "relative",
        "legend": {
         "tracegroupgap": 0
        },
        "template": {
         "data": {
          "bar": [
           {
            "error_x": {
             "color": "#2a3f5f"
            },
            "error_y": {
             "color": "#2a3f5f"
            },
            "marker": {
             "line": {
              "color": "#E5ECF6",
              "width": 0.5
             },
             "pattern": {
              "fillmode": "overlay",
              "size": 10,
              "solidity": 0.2
             }
            },
            "type": "bar"
           }
          ],
          "barpolar": [
           {
            "marker": {
             "line": {
              "color": "#E5ECF6",
              "width": 0.5
             },
             "pattern": {
              "fillmode": "overlay",
              "size": 10,
              "solidity": 0.2
             }
            },
            "type": "barpolar"
           }
          ],
          "carpet": [
           {
            "aaxis": {
             "endlinecolor": "#2a3f5f",
             "gridcolor": "white",
             "linecolor": "white",
             "minorgridcolor": "white",
             "startlinecolor": "#2a3f5f"
            },
            "baxis": {
             "endlinecolor": "#2a3f5f",
             "gridcolor": "white",
             "linecolor": "white",
             "minorgridcolor": "white",
             "startlinecolor": "#2a3f5f"
            },
            "type": "carpet"
           }
          ],
          "choropleth": [
           {
            "colorbar": {
             "outlinewidth": 0,
             "ticks": ""
            },
            "type": "choropleth"
           }
          ],
          "contour": [
           {
            "colorbar": {
             "outlinewidth": 0,
             "ticks": ""
            },
            "colorscale": [
             [
              0,
              "#0d0887"
             ],
             [
              0.1111111111111111,
              "#46039f"
             ],
             [
              0.2222222222222222,
              "#7201a8"
             ],
             [
              0.3333333333333333,
              "#9c179e"
             ],
             [
              0.4444444444444444,
              "#bd3786"
             ],
             [
              0.5555555555555556,
              "#d8576b"
             ],
             [
              0.6666666666666666,
              "#ed7953"
             ],
             [
              0.7777777777777778,
              "#fb9f3a"
             ],
             [
              0.8888888888888888,
              "#fdca26"
             ],
             [
              1,
              "#f0f921"
             ]
            ],
            "type": "contour"
           }
          ],
          "contourcarpet": [
           {
            "colorbar": {
             "outlinewidth": 0,
             "ticks": ""
            },
            "type": "contourcarpet"
           }
          ],
          "heatmap": [
           {
            "colorbar": {
             "outlinewidth": 0,
             "ticks": ""
            },
            "colorscale": [
             [
              0,
              "#0d0887"
             ],
             [
              0.1111111111111111,
              "#46039f"
             ],
             [
              0.2222222222222222,
              "#7201a8"
             ],
             [
              0.3333333333333333,
              "#9c179e"
             ],
             [
              0.4444444444444444,
              "#bd3786"
             ],
             [
              0.5555555555555556,
              "#d8576b"
             ],
             [
              0.6666666666666666,
              "#ed7953"
             ],
             [
              0.7777777777777778,
              "#fb9f3a"
             ],
             [
              0.8888888888888888,
              "#fdca26"
             ],
             [
              1,
              "#f0f921"
             ]
            ],
            "type": "heatmap"
           }
          ],
          "heatmapgl": [
           {
            "colorbar": {
             "outlinewidth": 0,
             "ticks": ""
            },
            "colorscale": [
             [
              0,
              "#0d0887"
             ],
             [
              0.1111111111111111,
              "#46039f"
             ],
             [
              0.2222222222222222,
              "#7201a8"
             ],
             [
              0.3333333333333333,
              "#9c179e"
             ],
             [
              0.4444444444444444,
              "#bd3786"
             ],
             [
              0.5555555555555556,
              "#d8576b"
             ],
             [
              0.6666666666666666,
              "#ed7953"
             ],
             [
              0.7777777777777778,
              "#fb9f3a"
             ],
             [
              0.8888888888888888,
              "#fdca26"
             ],
             [
              1,
              "#f0f921"
             ]
            ],
            "type": "heatmapgl"
           }
          ],
          "histogram": [
           {
            "marker": {
             "pattern": {
              "fillmode": "overlay",
              "size": 10,
              "solidity": 0.2
             }
            },
            "type": "histogram"
           }
          ],
          "histogram2d": [
           {
            "colorbar": {
             "outlinewidth": 0,
             "ticks": ""
            },
            "colorscale": [
             [
              0,
              "#0d0887"
             ],
             [
              0.1111111111111111,
              "#46039f"
             ],
             [
              0.2222222222222222,
              "#7201a8"
             ],
             [
              0.3333333333333333,
              "#9c179e"
             ],
             [
              0.4444444444444444,
              "#bd3786"
             ],
             [
              0.5555555555555556,
              "#d8576b"
             ],
             [
              0.6666666666666666,
              "#ed7953"
             ],
             [
              0.7777777777777778,
              "#fb9f3a"
             ],
             [
              0.8888888888888888,
              "#fdca26"
             ],
             [
              1,
              "#f0f921"
             ]
            ],
            "type": "histogram2d"
           }
          ],
          "histogram2dcontour": [
           {
            "colorbar": {
             "outlinewidth": 0,
             "ticks": ""
            },
            "colorscale": [
             [
              0,
              "#0d0887"
             ],
             [
              0.1111111111111111,
              "#46039f"
             ],
             [
              0.2222222222222222,
              "#7201a8"
             ],
             [
              0.3333333333333333,
              "#9c179e"
             ],
             [
              0.4444444444444444,
              "#bd3786"
             ],
             [
              0.5555555555555556,
              "#d8576b"
             ],
             [
              0.6666666666666666,
              "#ed7953"
             ],
             [
              0.7777777777777778,
              "#fb9f3a"
             ],
             [
              0.8888888888888888,
              "#fdca26"
             ],
             [
              1,
              "#f0f921"
             ]
            ],
            "type": "histogram2dcontour"
           }
          ],
          "mesh3d": [
           {
            "colorbar": {
             "outlinewidth": 0,
             "ticks": ""
            },
            "type": "mesh3d"
           }
          ],
          "parcoords": [
           {
            "line": {
             "colorbar": {
              "outlinewidth": 0,
              "ticks": ""
             }
            },
            "type": "parcoords"
           }
          ],
          "pie": [
           {
            "automargin": true,
            "type": "pie"
           }
          ],
          "scatter": [
           {
            "fillpattern": {
             "fillmode": "overlay",
             "size": 10,
             "solidity": 0.2
            },
            "type": "scatter"
           }
          ],
          "scatter3d": [
           {
            "line": {
             "colorbar": {
              "outlinewidth": 0,
              "ticks": ""
             }
            },
            "marker": {
             "colorbar": {
              "outlinewidth": 0,
              "ticks": ""
             }
            },
            "type": "scatter3d"
           }
          ],
          "scattercarpet": [
           {
            "marker": {
             "colorbar": {
              "outlinewidth": 0,
              "ticks": ""
             }
            },
            "type": "scattercarpet"
           }
          ],
          "scattergeo": [
           {
            "marker": {
             "colorbar": {
              "outlinewidth": 0,
              "ticks": ""
             }
            },
            "type": "scattergeo"
           }
          ],
          "scattergl": [
           {
            "marker": {
             "colorbar": {
              "outlinewidth": 0,
              "ticks": ""
             }
            },
            "type": "scattergl"
           }
          ],
          "scattermapbox": [
           {
            "marker": {
             "colorbar": {
              "outlinewidth": 0,
              "ticks": ""
             }
            },
            "type": "scattermapbox"
           }
          ],
          "scatterpolar": [
           {
            "marker": {
             "colorbar": {
              "outlinewidth": 0,
              "ticks": ""
             }
            },
            "type": "scatterpolar"
           }
          ],
          "scatterpolargl": [
           {
            "marker": {
             "colorbar": {
              "outlinewidth": 0,
              "ticks": ""
             }
            },
            "type": "scatterpolargl"
           }
          ],
          "scatterternary": [
           {
            "marker": {
             "colorbar": {
              "outlinewidth": 0,
              "ticks": ""
             }
            },
            "type": "scatterternary"
           }
          ],
          "surface": [
           {
            "colorbar": {
             "outlinewidth": 0,
             "ticks": ""
            },
            "colorscale": [
             [
              0,
              "#0d0887"
             ],
             [
              0.1111111111111111,
              "#46039f"
             ],
             [
              0.2222222222222222,
              "#7201a8"
             ],
             [
              0.3333333333333333,
              "#9c179e"
             ],
             [
              0.4444444444444444,
              "#bd3786"
             ],
             [
              0.5555555555555556,
              "#d8576b"
             ],
             [
              0.6666666666666666,
              "#ed7953"
             ],
             [
              0.7777777777777778,
              "#fb9f3a"
             ],
             [
              0.8888888888888888,
              "#fdca26"
             ],
             [
              1,
              "#f0f921"
             ]
            ],
            "type": "surface"
           }
          ],
          "table": [
           {
            "cells": {
             "fill": {
              "color": "#EBF0F8"
             },
             "line": {
              "color": "white"
             }
            },
            "header": {
             "fill": {
              "color": "#C8D4E3"
             },
             "line": {
              "color": "white"
             }
            },
            "type": "table"
           }
          ]
         },
         "layout": {
          "annotationdefaults": {
           "arrowcolor": "#2a3f5f",
           "arrowhead": 0,
           "arrowwidth": 1
          },
          "autotypenumbers": "strict",
          "coloraxis": {
           "colorbar": {
            "outlinewidth": 0,
            "ticks": ""
           }
          },
          "colorscale": {
           "diverging": [
            [
             0,
             "#8e0152"
            ],
            [
             0.1,
             "#c51b7d"
            ],
            [
             0.2,
             "#de77ae"
            ],
            [
             0.3,
             "#f1b6da"
            ],
            [
             0.4,
             "#fde0ef"
            ],
            [
             0.5,
             "#f7f7f7"
            ],
            [
             0.6,
             "#e6f5d0"
            ],
            [
             0.7,
             "#b8e186"
            ],
            [
             0.8,
             "#7fbc41"
            ],
            [
             0.9,
             "#4d9221"
            ],
            [
             1,
             "#276419"
            ]
           ],
           "sequential": [
            [
             0,
             "#0d0887"
            ],
            [
             0.1111111111111111,
             "#46039f"
            ],
            [
             0.2222222222222222,
             "#7201a8"
            ],
            [
             0.3333333333333333,
             "#9c179e"
            ],
            [
             0.4444444444444444,
             "#bd3786"
            ],
            [
             0.5555555555555556,
             "#d8576b"
            ],
            [
             0.6666666666666666,
             "#ed7953"
            ],
            [
             0.7777777777777778,
             "#fb9f3a"
            ],
            [
             0.8888888888888888,
             "#fdca26"
            ],
            [
             1,
             "#f0f921"
            ]
           ],
           "sequentialminus": [
            [
             0,
             "#0d0887"
            ],
            [
             0.1111111111111111,
             "#46039f"
            ],
            [
             0.2222222222222222,
             "#7201a8"
            ],
            [
             0.3333333333333333,
             "#9c179e"
            ],
            [
             0.4444444444444444,
             "#bd3786"
            ],
            [
             0.5555555555555556,
             "#d8576b"
            ],
            [
             0.6666666666666666,
             "#ed7953"
            ],
            [
             0.7777777777777778,
             "#fb9f3a"
            ],
            [
             0.8888888888888888,
             "#fdca26"
            ],
            [
             1,
             "#f0f921"
            ]
           ]
          },
          "colorway": [
           "#636efa",
           "#EF553B",
           "#00cc96",
           "#ab63fa",
           "#FFA15A",
           "#19d3f3",
           "#FF6692",
           "#B6E880",
           "#FF97FF",
           "#FECB52"
          ],
          "font": {
           "color": "#2a3f5f"
          },
          "geo": {
           "bgcolor": "white",
           "lakecolor": "white",
           "landcolor": "#E5ECF6",
           "showlakes": true,
           "showland": true,
           "subunitcolor": "white"
          },
          "hoverlabel": {
           "align": "left"
          },
          "hovermode": "closest",
          "mapbox": {
           "style": "light"
          },
          "paper_bgcolor": "white",
          "plot_bgcolor": "#E5ECF6",
          "polar": {
           "angularaxis": {
            "gridcolor": "white",
            "linecolor": "white",
            "ticks": ""
           },
           "bgcolor": "#E5ECF6",
           "radialaxis": {
            "gridcolor": "white",
            "linecolor": "white",
            "ticks": ""
           }
          },
          "scene": {
           "xaxis": {
            "backgroundcolor": "#E5ECF6",
            "gridcolor": "white",
            "gridwidth": 2,
            "linecolor": "white",
            "showbackground": true,
            "ticks": "",
            "zerolinecolor": "white"
           },
           "yaxis": {
            "backgroundcolor": "#E5ECF6",
            "gridcolor": "white",
            "gridwidth": 2,
            "linecolor": "white",
            "showbackground": true,
            "ticks": "",
            "zerolinecolor": "white"
           },
           "zaxis": {
            "backgroundcolor": "#E5ECF6",
            "gridcolor": "white",
            "gridwidth": 2,
            "linecolor": "white",
            "showbackground": true,
            "ticks": "",
            "zerolinecolor": "white"
           }
          },
          "shapedefaults": {
           "line": {
            "color": "#2a3f5f"
           }
          },
          "ternary": {
           "aaxis": {
            "gridcolor": "white",
            "linecolor": "white",
            "ticks": ""
           },
           "baxis": {
            "gridcolor": "white",
            "linecolor": "white",
            "ticks": ""
           },
           "bgcolor": "#E5ECF6",
           "caxis": {
            "gridcolor": "white",
            "linecolor": "white",
            "ticks": ""
           }
          },
          "title": {
           "x": 0.05
          },
          "xaxis": {
           "automargin": true,
           "gridcolor": "white",
           "linecolor": "white",
           "ticks": "",
           "title": {
            "standoff": 15
           },
           "zerolinecolor": "white",
           "zerolinewidth": 2
          },
          "yaxis": {
           "automargin": true,
           "gridcolor": "white",
           "linecolor": "white",
           "ticks": "",
           "title": {
            "standoff": 15
           },
           "zerolinecolor": "white",
           "zerolinewidth": 2
          }
         }
        },
        "title": {
         "text": "Relaciones frente a Compra"
        },
        "xaxis": {
         "anchor": "y",
         "autorange": true,
         "domain": [
          0,
          1
         ],
         "range": [
          0,
          0.6278248016338428
         ],
         "title": {
          "text": "VCramer"
         },
         "type": "linear"
        },
        "yaxis": {
         "anchor": "x",
         "autorange": true,
         "categoryorder": "total ascending",
         "domain": [
          0,
          1
         ],
         "range": [
          -0.5,
          17.5
         ],
         "title": {
          "text": "index"
         },
         "type": "category"
        }
       }
      },
      "image/png": "[encoded data removed]",
      "text/html": [
       "<div>                            <div id=\"c08ad042-d9a7-42e2-b8c9-ff7c37a11ef6\" class=\"plotly-graph-div\" style=\"height:525px; width:100%;\"></div>            <script type=\"text/javascript\">                require([\"plotly\"], function(Plotly) {                    window.PLOTLYENV=window.PLOTLYENV || {};                                    if (document.getElementById(\"c08ad042-d9a7-42e2-b8c9-ff7c37a11ef6\")) {                    Plotly.newPlot(                        \"c08ad042-d9a7-42e2-b8c9-ff7c37a11ef6\",                        [{\"alignmentgroup\":\"True\",\"hovertemplate\":\"VCramer=%{x}<br>index=%{y}<extra></extra>\",\"legendgroup\":\"\",\"marker\":{\"color\":\"#636efa\",\"pattern\":{\"shape\":\"\"}},\"name\":\"\",\"offsetgroup\":\"\",\"orientation\":\"h\",\"showlegend\":false,\"textposition\":\"auto\",\"x\":[0.015801820721764434,0.04988257664601794,0.01421031163486779,0.02801805483697462,0.04072989563739903,0.012144225345222056,0.025050493581956535,0.04075652100629754,0.013894210889387098,0.29024307348175077,0.016771832800340385,0.022128952508151875,0.5964335615521507,0.016645129560385635,0.04420682549549123,0.5964335615521507,0.025376151526508836,0.010007065636713938],\"xaxis\":\"x\",\"y\":[\"Unnamed: 0\",\"Acidez\",\"AcidoCitrico\",\"Azucar\",\"CloruroSodico\",\"Densidad\",\"pH\",\"Sulfatos\",\"Alcohol\",\"CalifProductor\",\"PrecioBotella\",\"Etiqueta\",\"Clasificacion\",\"Region\",\"prop_missings\",\"Clasificaci\\u00f3n\",\"Aleatorio 1\",\"Aleatorio 2\"],\"yaxis\":\"y\",\"type\":\"bar\"}],                        {\"template\":{\"data\":{\"histogram2dcontour\":[{\"type\":\"histogram2dcontour\",\"colorbar\":{\"outlinewidth\":0,\"ticks\":\"\"},\"colorscale\":[[0.0,\"#0d0887\"],[0.1111111111111111,\"#46039f\"],[0.2222222222222222,\"#7201a8\"],[0.3333333333333333,\"#9c179e\"],[0.4444444444444444,\"#bd3786\"],[0.5555555555555556,\"#d8576b\"],[0.6666666666666666,\"#ed7953\"],[0.7777777777777778,\"#fb9f3a\"],[0.8888888888888888,\"#fdca26\"],[1.0,\"#f0f921\"]]}],\"choropleth\":[{\"type\":\"choropleth\",\"colorbar\":{\"outlinewidth\":0,\"ticks\":\"\"}}],\"histogram2d\":[{\"type\":\"histogram2d\",\"colorbar\":{\"outlinewidth\":0,\"ticks\":\"\"},\"colorscale\":[[0.0,\"#0d0887\"],[0.1111111111111111,\"#46039f\"],[0.2222222222222222,\"#7201a8\"],[0.3333333333333333,\"#9c179e\"],[0.4444444444444444,\"#bd3786\"],[0.5555555555555556,\"#d8576b\"],[0.6666666666666666,\"#ed7953\"],[0.7777777777777778,\"#fb9f3a\"],[0.8888888888888888,\"#fdca26\"],[1.0,\"#f0f921\"]]}],\"heatmap\":[{\"type\":\"heatmap\",\"colorbar\":{\"outlinewidth\":0,\"ticks\":\"\"},\"colorscale\":[[0.0,\"#0d0887\"],[0.1111111111111111,\"#46039f\"],[0.2222222222222222,\"#7201a8\"],[0.3333333333333333,\"#9c179e\"],[0.4444444444444444,\"#bd3786\"],[0.5555555555555556,\"#d8576b\"],[0.6666666666666666,\"#ed7953\"],[0.7777777777777778,\"#fb9f3a\"],[0.8888888888888888,\"#fdca26\"],[1.0,\"#f0f921\"]]}],\"heatmapgl\":[{\"type\":\"heatmapgl\",\"colorbar\":{\"outlinewidth\":0,\"ticks\":\"\"},\"colorscale\":[[0.0,\"#0d0887\"],[0.1111111111111111,\"#46039f\"],[0.2222222222222222,\"#7201a8\"],[0.3333333333333333,\"#9c179e\"],[0.4444444444444444,\"#bd3786\"],[0.5555555555555556,\"#d8576b\"],[0.6666666666666666,\"#ed7953\"],[0.7777777777777778,\"#fb9f3a\"],[0.8888888888888888,\"#fdca26\"],[1.0,\"#f0f921\"]]}],\"contourcarpet\":[{\"type\":\"contourcarpet\",\"colorbar\":{\"outlinewidth\":0,\"ticks\":\"\"}}],\"contour\":[{\"type\":\"contour\",\"colorbar\":{\"outlinewidth\":0,\"ticks\":\"\"},\"colorscale\":[[0.0,\"#0d0887\"],[0.1111111111111111,\"#46039f\"],[0.2222222222222222,\"#7201a8\"],[0.3333333333333333,\"#9c179e\"],[0.4444444444444444,\"#bd3786\"],[0.5555555555555556,\"#d8576b\"],[0.6666666666666666,\"#ed7953\"],[0.7777777777777778,\"#fb9f3a\"],[0.8888888888888888,\"#fdca26\"],[1.0,\"#f0f921\"]]}],\"surface\":[{\"type\":\"surface\",\"colorbar\":{\"outlinewidth\":0,\"ticks\":\"\"},\"colorscale\":[[0.0,\"#0d0887\"],[0.1111111111111111,\"#46039f\"],[0.2222222222222222,\"#7201a8\"],[0.3333333333333333,\"#9c179e\"],[0.4444444444444444,\"#bd3786\"],[0.5555555555555556,\"#d8576b\"],[0.6666666666666666,\"#ed7953\"],[0.7777777777777778,\"#fb9f3a\"],[0.8888888888888888,\"#fdca26\"],[1.0,\"#f0f921\"]]}],\"mesh3d\":[{\"type\":\"mesh3d\",\"colorbar\":{\"outlinewidth\":0,\"ticks\":\"\"}}],\"scatter\":[{\"fillpattern\":{\"fillmode\":\"overlay\",\"size\":10,\"solidity\":0.2},\"type\":\"scatter\"}],\"parcoords\":[{\"type\":\"parcoords\",\"line\":{\"colorbar\":{\"outlinewidth\":0,\"ticks\":\"\"}}}],\"scatterpolargl\":[{\"type\":\"scatterpolargl\",\"marker\":{\"colorbar\":{\"outlinewidth\":0,\"ticks\":\"\"}}}],\"bar\":[{\"error_x\":{\"color\":\"#2a3f5f\"},\"error_y\":{\"color\":\"#2a3f5f\"},\"marker\":{\"line\":{\"color\":\"#E5ECF6\",\"width\":0.5},\"pattern\":{\"fillmode\":\"overlay\",\"size\":10,\"solidity\":0.2}},\"type\":\"bar\"}],\"scattergeo\":[{\"type\":\"scattergeo\",\"marker\":{\"colorbar\":{\"outlinewidth\":0,\"ticks\":\"\"}}}],\"scatterpolar\":[{\"type\":\"scatterpolar\",\"marker\":{\"colorbar\":{\"outlinewidth\":0,\"ticks\":\"\"}}}],\"histogram\":[{\"marker\":{\"pattern\":{\"fillmode\":\"overlay\",\"size\":10,\"solidity\":0.2}},\"type\":\"histogram\"}],\"scattergl\":[{\"type\":\"scattergl\",\"marker\":{\"colorbar\":{\"outlinewidth\":0,\"ticks\":\"\"}}}],\"scatter3d\":[{\"type\":\"scatter3d\",\"line\":{\"colorbar\":{\"outlinewidth\":0,\"ticks\":\"\"}},\"marker\":{\"colorbar\":{\"outlinewidth\":0,\"ticks\":\"\"}}}],\"scattermapbox\":[{\"type\":\"scattermapbox\",\"marker\":{\"colorbar\":{\"outlinewidth\":0,\"ticks\":\"\"}}}],\"scatterternary\":[{\"type\":\"scatterternary\",\"marker\":{\"colorbar\":{\"outlinewidth\":0,\"ticks\":\"\"}}}],\"scattercarpet\":[{\"type\":\"scattercarpet\",\"marker\":{\"colorbar\":{\"outlinewidth\":0,\"ticks\":\"\"}}}],\"carpet\":[{\"aaxis\":{\"endlinecolor\":\"#2a3f5f\",\"gridcolor\":\"white\",\"linecolor\":\"white\",\"minorgridcolor\":\"white\",\"startlinecolor\":\"#2a3f5f\"},\"baxis\":{\"endlinecolor\":\"#2a3f5f\",\"gridcolor\":\"white\",\"linecolor\":\"white\",\"minorgridcolor\":\"white\",\"startlinecolor\":\"#2a3f5f\"},\"type\":\"carpet\"}],\"table\":[{\"cells\":{\"fill\":{\"color\":\"#EBF0F8\"},\"line\":{\"color\":\"white\"}},\"header\":{\"fill\":{\"color\":\"#C8D4E3\"},\"line\":{\"color\":\"white\"}},\"type\":\"table\"}],\"barpolar\":[{\"marker\":{\"line\":{\"color\":\"#E5ECF6\",\"width\":0.5},\"pattern\":{\"fillmode\":\"overlay\",\"size\":10,\"solidity\":0.2}},\"type\":\"barpolar\"}],\"pie\":[{\"automargin\":true,\"type\":\"pie\"}]},\"layout\":{\"autotypenumbers\":\"strict\",\"colorway\":[\"#636efa\",\"#EF553B\",\"#00cc96\",\"#ab63fa\",\"#FFA15A\",\"#19d3f3\",\"#FF6692\",\"#B6E880\",\"#FF97FF\",\"#FECB52\"],\"font\":{\"color\":\"#2a3f5f\"},\"hovermode\":\"closest\",\"hoverlabel\":{\"align\":\"left\"},\"paper_bgcolor\":\"white\",\"plot_bgcolor\":\"#E5ECF6\",\"polar\":{\"bgcolor\":\"#E5ECF6\",\"angularaxis\":{\"gridcolor\":\"white\",\"linecolor\":\"white\",\"ticks\":\"\"},\"radialaxis\":{\"gridcolor\":\"white\",\"linecolor\":\"white\",\"ticks\":\"\"}},\"ternary\":{\"bgcolor\":\"#E5ECF6\",\"aaxis\":{\"gridcolor\":\"white\",\"linecolor\":\"white\",\"ticks\":\"\"},\"baxis\":{\"gridcolor\":\"white\",\"linecolor\":\"white\",\"ticks\":\"\"},\"caxis\":{\"gridcolor\":\"white\",\"linecolor\":\"white\",\"ticks\":\"\"}},\"coloraxis\":{\"colorbar\":{\"outlinewidth\":0,\"ticks\":\"\"}},\"colorscale\":{\"sequential\":[[0.0,\"#0d0887\"],[0.1111111111111111,\"#46039f\"],[0.2222222222222222,\"#7201a8\"],[0.3333333333333333,\"#9c179e\"],[0.4444444444444444,\"#bd3786\"],[0.5555555555555556,\"#d8576b\"],[0.6666666666666666,\"#ed7953\"],[0.7777777777777778,\"#fb9f3a\"],[0.8888888888888888,\"#fdca26\"],[1.0,\"#f0f921\"]],\"sequentialminus\":[[0.0,\"#0d0887\"],[0.1111111111111111,\"#46039f\"],[0.2222222222222222,\"#7201a8\"],[0.3333333333333333,\"#9c179e\"],[0.4444444444444444,\"#bd3786\"],[0.5555555555555556,\"#d8576b\"],[0.6666666666666666,\"#ed7953\"],[0.7777777777777778,\"#fb9f3a\"],[0.8888888888888888,\"#fdca26\"],[1.0,\"#f0f921\"]],\"diverging\":[[0,\"#8e0152\"],[0.1,\"#c51b7d\"],[0.2,\"#de77ae\"],[0.3,\"#f1b6da\"],[0.4,\"#fde0ef\"],[0.5,\"#f7f7f7\"],[0.6,\"#e6f5d0\"],[0.7,\"#b8e186\"],[0.8,\"#7fbc41\"],[0.9,\"#4d9221\"],[1,\"#276419\"]]},\"xaxis\":{\"gridcolor\":\"white\",\"linecolor\":\"white\",\"ticks\":\"\",\"title\":{\"standoff\":15},\"zerolinecolor\":\"white\",\"automargin\":true,\"zerolinewidth\":2},\"yaxis\":{\"gridcolor\":\"white\",\"linecolor\":\"white\",\"ticks\":\"\",\"title\":{\"standoff\":15},\"zerolinecolor\":\"white\",\"automargin\":true,\"zerolinewidth\":2},\"scene\":{\"xaxis\":{\"backgroundcolor\":\"#E5ECF6\",\"gridcolor\":\"white\",\"linecolor\":\"white\",\"showbackground\":true,\"ticks\":\"\",\"zerolinecolor\":\"white\",\"gridwidth\":2},\"yaxis\":{\"backgroundcolor\":\"#E5ECF6\",\"gridcolor\":\"white\",\"linecolor\":\"white\",\"showbackground\":true,\"ticks\":\"\",\"zerolinecolor\":\"white\",\"gridwidth\":2},\"zaxis\":{\"backgroundcolor\":\"#E5ECF6\",\"gridcolor\":\"white\",\"linecolor\":\"white\",\"showbackground\":true,\"ticks\":\"\",\"zerolinecolor\":\"white\",\"gridwidth\":2}},\"shapedefaults\":{\"line\":{\"color\":\"#2a3f5f\"}},\"annotationdefaults\":{\"arrowcolor\":\"#2a3f5f\",\"arrowhead\":0,\"arrowwidth\":1},\"geo\":{\"bgcolor\":\"white\",\"landcolor\":\"#E5ECF6\",\"subunitcolor\":\"white\",\"showland\":true,\"showlakes\":true,\"lakecolor\":\"white\"},\"title\":{\"x\":0.05},\"mapbox\":{\"style\":\"light\"}}},\"xaxis\":{\"anchor\":\"y\",\"domain\":[0.0,1.0],\"title\":{\"text\":\"VCramer\"}},\"yaxis\":{\"anchor\":\"x\",\"domain\":[0.0,1.0],\"title\":{\"text\":\"index\"},\"categoryorder\":\"total ascending\"},\"legend\":{\"tracegroupgap\":0},\"title\":{\"text\":\"Relaciones frente a Compra\"},\"barmode\":\"relative\"},                        {\"responsive\": true}                    ).then(function(){\n",
       "                            \n",
       "var gd = document.getElementById('c08ad042-d9a7-42e2-b8c9-ff7c37a11ef6');\n",
       "var x = new MutationObserver(function (mutations, observer) {{\n",
       "        var display = window.getComputedStyle(gd).display;\n",
       "        if (!display || display === 'none') {{\n",
       "            console.log([gd, 'removed!']);\n",
       "            Plotly.purge(gd);\n",
       "            observer.disconnect();\n",
       "        }}\n",
       "}});\n",
       "\n",
       "// Listen for the removal of the full notebook cells\n",
       "var notebookContainer = gd.closest('#notebook-container');\n",
       "if (notebookContainer) {{\n",
       "    x.observe(notebookContainer, {childList: true});\n",
       "}}\n",
       "\n",
       "// Listen for the clearing of the current output cell\n",
       "var outputEl = gd.closest('.output');\n",
       "if (outputEl) {{\n",
       "    x.observe(outputEl, {childList: true});\n",
       "}}\n",
       "\n",
       "                        })                };                });            </script>        </div>"
      ]
     },
     "metadata": {},
     "output_type": "display_data"
    }
   ],
   "source": [
    "tablaCramer = pd.DataFrame(datos.apply(lambda x: cramers_v(x, variable_objetivo)), columns=[\"VCramer\"])\n",
    "px.bar(tablaCramer, x=tablaCramer[\"VCramer\"], title=\"Relaciones frente a Compra\").update_yaxes(categoryorder=\"total ascending\").show()"
   ]
  },
  {
   "cell_type": "markdown",
   "id": "8d252fd5-5d46-43db-bbca-8fcabd7b50a4",
   "metadata": {},
   "source": [
    "En este caso tenemos que las variables tentativas para el modelado son:\n",
    "- Clasificación\n",
    "- Calificación del producto\n",
    "- pH\n",
    "- CloruroSodico\n",
    "- Sulfatos\n",
    "- Acidez"
   ]
  },
  {
   "cell_type": "code",
   "execution_count": 111,
   "id": "c911886d-064f-4b5e-8985-8dc931e66c3e",
   "metadata": {
    "tags": []
   },
   "outputs": [
    {
     "data": {
      "image/png": "[encoded data removed]",
      "text/plain": [
       "<Figure size 1400x400 with 3 Axes>"
      ]
     },
     "metadata": {},
     "output_type": "display_data"
    },
    {
     "data": {
      "image/png": "[encoded data removed]",
      "text/plain": [
       "<Figure size 1400x400 with 3 Axes>"
      ]
     },
     "metadata": {},
     "output_type": "display_data"
    },
    {
     "data": {
      "image/png": "[encoded data removed]",
      "text/plain": [
       "<Figure size 1400x400 with 3 Axes>"
      ]
     },
     "metadata": {},
     "output_type": "display_data"
    }
   ],
   "source": [
    "import matplotlib.pyplot as plt\n",
    "from statsmodels.graphics.mosaicplot import mosaic\n",
    "\n",
    "plt.rcParams['figure.figsize'] = [14, 4]  \n",
    "\n",
    "mosaic(datos_backup, ['Clasificacion', 'Compra'], gap=0.005, title=\"Clasificacion vs Compra\")\n",
    "plt.show() \n",
    "\n",
    "mosaic(datos_backup, ['Etiqueta', 'Compra'], gap=0.005, title=\"Etiqueta vs Compra\")\n",
    "plt.show() \n",
    "\n",
    "mosaic(datos_backup, ['Region', 'Compra'], gap=0.005, title=\"Region vs Compra\")\n",
    "plt.show() \n"
   ]
  },
  {
   "cell_type": "markdown",
   "id": "940c324e-2e9e-4d42-bf77-528c0b9b1179",
   "metadata": {},
   "source": [
    "La variable región es inutil para modelar la compra del bino ya que las distribuciones de 0 y 1 en las distintas regiones son muy similares <br>\n",
    "En cambio la variable clasificación tiene mucho que aportar ya que hay grandes diferencias entre clasificaciones. Así, empezamos a intuir <br>\n",
    "que los vinos con clasifiación desconocidas parecen no comprarse con la misma frequencia. Además parece existir una relación creciente <br>\n",
    "de proporción de compro con el aumento de las estrellas de clasificación."
   ]
  },
  {
   "cell_type": "code",
   "execution_count": 113,
   "id": "b246a00c-df0f-4d31-914e-d08c882392e5",
   "metadata": {
    "tags": []
   },
   "outputs": [
    {
     "data": {
      "image/png": "[encoded data removed]",
      "text/plain": [
       "<Figure size 1400x400 with 1 Axes>"
      ]
     },
     "metadata": {},
     "output_type": "display_data"
    },
    {
     "data": {
      "image/png": "[encoded data removed]",
      "text/plain": [
       "<Figure size 1400x400 with 1 Axes>"
      ]
     },
     "metadata": {},
     "output_type": "display_data"
    },
    {
     "data": {
      "text/plain": [
       "<Figure size 1400x400 with 0 Axes>"
      ]
     },
     "metadata": {},
     "output_type": "display_data"
    },
    {
     "data": {
      "image/png": "[encoded data removed]",
      "text/plain": [
       "<Figure size 1146.11x540 with 1 Axes>"
      ]
     },
     "metadata": {},
     "output_type": "display_data"
    },
    {
     "data": {
      "text/plain": [
       "<Figure size 1400x400 with 0 Axes>"
      ]
     },
     "metadata": {},
     "output_type": "display_data"
    },
    {
     "data": {
      "image/png": "[encoded data removed]",
      "text/plain": [
       "<Figure size 1146.11x540 with 1 Axes>"
      ]
     },
     "metadata": {},
     "output_type": "display_data"
    },
    {
     "data": {
      "text/plain": [
       "<Figure size 1400x400 with 0 Axes>"
      ]
     },
     "metadata": {},
     "output_type": "display_data"
    },
    {
     "data": {
      "image/png": "[encoded data removed]",
      "text/plain": [
       "<Figure size 1146.11x540 with 1 Axes>"
      ]
     },
     "metadata": {},
     "output_type": "display_data"
    }
   ],
   "source": [
    "plt.rcParams['figure.figsize'] = [14, 4]  \n",
    "plt.clf()\n",
    "\n",
    "warnings.simplefilter(action='ignore', category=FutureWarning)\n",
    "warnings.simplefilter(action='ignore', category=UserWarning)\n",
    "sns.boxplot(x=\"Alcohol\", y=\"Compra\", data=datos_backup)\n",
    "plt.title(\"Alcohol vs Compra\")\n",
    "plt.show()\n",
    "\n",
    "plt.clf()\n",
    "sns.boxplot(x=\"CalifProductor\", y=\"Compra\", data=datos_backup)\n",
    "plt.title(\"Calificacion Producto vs Compra\")\n",
    "plt.show()\n",
    "\n",
    "plt.clf()\n",
    "sns.displot(datos_backup, x=\"CalifProductor\", hue=\"Compra\", kind='kde', fill=True, common_norm=False, alpha=0.4, height=5.4, aspect=2);\n",
    "plt.title(\"Densidad de Distribucion Compra vs Calificacion de Productor\")\n",
    "plt.show()\n",
    "\n",
    "plt.clf()\n",
    "sns.displot(datos_backup, x=\"Acidez\", hue=\"Compra\", kind='kde', fill=True, common_norm=False, alpha=0.4, height=5.4, aspect=2);\n",
    "plt.title(\"Densidad de Distribucion Compra vs Acidez\")\n",
    "plt.show()\n",
    "\n",
    "plt.clf()\n",
    "sns.displot(datos_backup, x=\"Densidad\", hue=\"Compra\", kind='kde', fill=True, common_norm=False, alpha=0.4, height=5.4, aspect=2);\n",
    "plt.title(\"Densidad de Distribucion Compra\") # Esto es inutil\n",
    "plt.show()"
   ]
  },
  {
   "cell_type": "markdown",
   "id": "1ab611a4-e239-4c9d-8aa0-ca74e67f49af",
   "metadata": {},
   "source": [
    "En el caso de Acidez, existe una ligera diferencia en distribucion que quizá se traduzca en un mínimo efecto en el modelo <br>\n",
    "Las variables de calificación del productor parecen tener influencia en el compra, en el sentido de que los vinos <br>\n",
    "se compran (compra=1) tienen una distribución de calificación de productor menos elevada. Probablemente es porque sean mas caras <br>."
   ]
  },
  {
   "cell_type": "markdown",
   "id": "2e99a25b-e51f-43d4-a7c2-7d55fe644575",
   "metadata": {
    "tags": []
   },
   "source": [
    "## Transformaciones de Variables\n",
    "Vamos a generar las transformaciones de las variables continuas que maximizan la relación con la variable objetivo en sentido de V de Cramer <br>.\n",
    "<br>\n",
    "\n",
    "__Nota__: La principal precaución es que considerar un modelo completo con todas las variables al mismo tiempo pueden generar problemas de colinearlidad <br>\n",
    "entre variables. Solamente utilizaremos el set completo de variables cuando hagamos un proceso de selección automática de variables, proceso en el cual se <br>\n",
    "eligen variables que más R2 aporten al modelo."
   ]
  },
  {
   "cell_type": "code",
   "execution_count": 116,
   "id": "7f240a02-0aee-4f40-a365-210b81ccb972",
   "metadata": {
    "tags": []
   },
   "outputs": [
    {
     "data": {
      "text/html": [
       "<div>\n",
       "<style scoped>\n",
       "    .dataframe tbody tr th:only-of-type {\n",
       "        vertical-align: middle;\n",
       "    }\n",
       "\n",
       "    .dataframe tbody tr th {\n",
       "        vertical-align: top;\n",
       "    }\n",
       "\n",
       "    .dataframe thead th {\n",
       "        text-align: right;\n",
       "    }\n",
       "</style>\n",
       "<table border=\"1\" class=\"dataframe\">\n",
       "  <thead>\n",
       "    <tr style=\"text-align: right;\">\n",
       "      <th></th>\n",
       "      <th>Unnamed: 0_sqrt</th>\n",
       "      <th>ID_sqrt</th>\n",
       "      <th>Acidez_ident</th>\n",
       "      <th>AcidoCitrico_exp</th>\n",
       "      <th>Azucar_raiz4</th>\n",
       "      <th>CloruroSodico_ident</th>\n",
       "      <th>Densidad_raiz4</th>\n",
       "      <th>pH_sqr</th>\n",
       "      <th>Sulfatos_cuarta</th>\n",
       "      <th>Alcohol_sqr</th>\n",
       "      <th>CalifProductor_ident</th>\n",
       "      <th>PrecioBotella_log</th>\n",
       "      <th>Beneficio_sqrt</th>\n",
       "      <th>Aleatorio 1_sqrt</th>\n",
       "      <th>Aleatorio 2_exp</th>\n",
       "    </tr>\n",
       "  </thead>\n",
       "  <tbody>\n",
       "    <tr>\n",
       "      <th>0</th>\n",
       "      <td>0.010000</td>\n",
       "      <td>0.010000</td>\n",
       "      <td>3.080819</td>\n",
       "      <td>6.258799</td>\n",
       "      <td>1.416638</td>\n",
       "      <td>1.666118</td>\n",
       "      <td>1.480495</td>\n",
       "      <td>12.094508</td>\n",
       "      <td>156.136064</td>\n",
       "      <td>9.253278</td>\n",
       "      <td>1.548025</td>\n",
       "      <td>-9.210340</td>\n",
       "      <td>1.292380</td>\n",
       "      <td>0.476520</td>\n",
       "      <td>9.548623</td>\n",
       "    </tr>\n",
       "    <tr>\n",
       "      <th>1</th>\n",
       "      <td>0.025382</td>\n",
       "      <td>0.023015</td>\n",
       "      <td>6.569486</td>\n",
       "      <td>5.721423</td>\n",
       "      <td>1.383030</td>\n",
       "      <td>3.246611</td>\n",
       "      <td>1.358495</td>\n",
       "      <td>9.358179</td>\n",
       "      <td>115.011549</td>\n",
       "      <td>40.620706</td>\n",
       "      <td>2.321987</td>\n",
       "      <td>0.475014</td>\n",
       "      <td>1.377409</td>\n",
       "      <td>1.280620</td>\n",
       "      <td>7.838150</td>\n",
       "    </tr>\n",
       "    <tr>\n",
       "      <th>2</th>\n",
       "      <td>0.034474</td>\n",
       "      <td>0.037270</td>\n",
       "      <td>3.263692</td>\n",
       "      <td>10.588711</td>\n",
       "      <td>1.403248</td>\n",
       "      <td>3.325294</td>\n",
       "      <td>1.360789</td>\n",
       "      <td>13.357686</td>\n",
       "      <td>293.145675</td>\n",
       "      <td>8.904141</td>\n",
       "      <td>2.321987</td>\n",
       "      <td>0.608537</td>\n",
       "      <td>0.010000</td>\n",
       "      <td>1.081118</td>\n",
       "      <td>11.065976</td>\n",
       "    </tr>\n",
       "    <tr>\n",
       "      <th>3</th>\n",
       "      <td>0.041626</td>\n",
       "      <td>0.045095</td>\n",
       "      <td>1.139544</td>\n",
       "      <td>27.352107</td>\n",
       "      <td>1.339708</td>\n",
       "      <td>3.256874</td>\n",
       "      <td>1.494893</td>\n",
       "      <td>10.162800</td>\n",
       "      <td>97.802762</td>\n",
       "      <td>11.293545</td>\n",
       "      <td>1.548025</td>\n",
       "      <td>1.262291</td>\n",
       "      <td>1.585379</td>\n",
       "      <td>1.692173</td>\n",
       "      <td>7.719978</td>\n",
       "    </tr>\n",
       "    <tr>\n",
       "      <th>4</th>\n",
       "      <td>0.047718</td>\n",
       "      <td>0.047418</td>\n",
       "      <td>3.235558</td>\n",
       "      <td>67.987613</td>\n",
       "      <td>1.371949</td>\n",
       "      <td>3.096088</td>\n",
       "      <td>1.362819</td>\n",
       "      <td>35.679446</td>\n",
       "      <td>82.601451</td>\n",
       "      <td>18.883869</td>\n",
       "      <td>0.774062</td>\n",
       "      <td>-0.027403</td>\n",
       "      <td>1.390298</td>\n",
       "      <td>1.215749</td>\n",
       "      <td>18.457417</td>\n",
       "    </tr>\n",
       "    <tr>\n",
       "      <th>...</th>\n",
       "      <td>...</td>\n",
       "      <td>...</td>\n",
       "      <td>...</td>\n",
       "      <td>...</td>\n",
       "      <td>...</td>\n",
       "      <td>...</td>\n",
       "      <td>...</td>\n",
       "      <td>...</td>\n",
       "      <td>...</td>\n",
       "      <td>...</td>\n",
       "      <td>...</td>\n",
       "      <td>...</td>\n",
       "      <td>...</td>\n",
       "      <td>...</td>\n",
       "      <td>...</td>\n",
       "    </tr>\n",
       "    <tr>\n",
       "      <th>6360</th>\n",
       "      <td>1.860505</td>\n",
       "      <td>1.860376</td>\n",
       "      <td>3.404364</td>\n",
       "      <td>21.994202</td>\n",
       "      <td>1.342751</td>\n",
       "      <td>3.458712</td>\n",
       "      <td>1.387574</td>\n",
       "      <td>24.272596</td>\n",
       "      <td>65.901981</td>\n",
       "      <td>8.060671</td>\n",
       "      <td>3.095950</td>\n",
       "      <td>-1.664586</td>\n",
       "      <td>0.010000</td>\n",
       "      <td>1.664401</td>\n",
       "      <td>4.853039</td>\n",
       "    </tr>\n",
       "    <tr>\n",
       "      <th>6361</th>\n",
       "      <td>1.860652</td>\n",
       "      <td>1.860433</td>\n",
       "      <td>3.826381</td>\n",
       "      <td>19.849598</td>\n",
       "      <td>1.490450</td>\n",
       "      <td>3.270558</td>\n",
       "      <td>1.356874</td>\n",
       "      <td>14.073131</td>\n",
       "      <td>138.169438</td>\n",
       "      <td>24.541338</td>\n",
       "      <td>1.548025</td>\n",
       "      <td>0.767919</td>\n",
       "      <td>1.695110</td>\n",
       "      <td>1.670410</td>\n",
       "      <td>27.394139</td>\n",
       "    </tr>\n",
       "    <tr>\n",
       "      <th>6362</th>\n",
       "      <td>1.860798</td>\n",
       "      <td>1.860491</td>\n",
       "      <td>3.319961</td>\n",
       "      <td>5.297692</td>\n",
       "      <td>1.156455</td>\n",
       "      <td>3.243190</td>\n",
       "      <td>1.251483</td>\n",
       "      <td>8.121435</td>\n",
       "      <td>90.654143</td>\n",
       "      <td>16.450002</td>\n",
       "      <td>3.095950</td>\n",
       "      <td>-0.602687</td>\n",
       "      <td>1.243789</td>\n",
       "      <td>1.429266</td>\n",
       "      <td>2.120084</td>\n",
       "    </tr>\n",
       "    <tr>\n",
       "      <th>6363</th>\n",
       "      <td>1.860944</td>\n",
       "      <td>1.861299</td>\n",
       "      <td>3.094886</td>\n",
       "      <td>4.314929</td>\n",
       "      <td>1.446934</td>\n",
       "      <td>3.386871</td>\n",
       "      <td>1.339266</td>\n",
       "      <td>10.682537</td>\n",
       "      <td>194.788880</td>\n",
       "      <td>12.697642</td>\n",
       "      <td>0.774062</td>\n",
       "      <td>-9.210340</td>\n",
       "      <td>1.411135</td>\n",
       "      <td>1.553136</td>\n",
       "      <td>13.422629</td>\n",
       "    </tr>\n",
       "    <tr>\n",
       "      <th>6364</th>\n",
       "      <td>1.861090</td>\n",
       "      <td>1.861357</td>\n",
       "      <td>3.305894</td>\n",
       "      <td>20.628155</td>\n",
       "      <td>1.342751</td>\n",
       "      <td>3.219243</td>\n",
       "      <td>1.338554</td>\n",
       "      <td>19.603822</td>\n",
       "      <td>140.085047</td>\n",
       "      <td>10.155495</td>\n",
       "      <td>0.774062</td>\n",
       "      <td>0.190150</td>\n",
       "      <td>1.380936</td>\n",
       "      <td>1.503356</td>\n",
       "      <td>2.424297</td>\n",
       "    </tr>\n",
       "  </tbody>\n",
       "</table>\n",
       "<p>6365 rows × 15 columns</p>\n",
       "</div>"
      ],
      "text/plain": [
       "      Unnamed: 0_sqrt   ID_sqrt  Acidez_ident  AcidoCitrico_exp  Azucar_raiz4  \\\n",
       "0            0.010000  0.010000      3.080819          6.258799      1.416638   \n",
       "1            0.025382  0.023015      6.569486          5.721423      1.383030   \n",
       "2            0.034474  0.037270      3.263692         10.588711      1.403248   \n",
       "3            0.041626  0.045095      1.139544         27.352107      1.339708   \n",
       "4            0.047718  0.047418      3.235558         67.987613      1.371949   \n",
       "...               ...       ...           ...               ...           ...   \n",
       "6360         1.860505  1.860376      3.404364         21.994202      1.342751   \n",
       "6361         1.860652  1.860433      3.826381         19.849598      1.490450   \n",
       "6362         1.860798  1.860491      3.319961          5.297692      1.156455   \n",
       "6363         1.860944  1.861299      3.094886          4.314929      1.446934   \n",
       "6364         1.861090  1.861357      3.305894         20.628155      1.342751   \n",
       "\n",
       "      CloruroSodico_ident  Densidad_raiz4     pH_sqr  Sulfatos_cuarta  \\\n",
       "0                1.666118        1.480495  12.094508       156.136064   \n",
       "1                3.246611        1.358495   9.358179       115.011549   \n",
       "2                3.325294        1.360789  13.357686       293.145675   \n",
       "3                3.256874        1.494893  10.162800        97.802762   \n",
       "4                3.096088        1.362819  35.679446        82.601451   \n",
       "...                   ...             ...        ...              ...   \n",
       "6360             3.458712        1.387574  24.272596        65.901981   \n",
       "6361             3.270558        1.356874  14.073131       138.169438   \n",
       "6362             3.243190        1.251483   8.121435        90.654143   \n",
       "6363             3.386871        1.339266  10.682537       194.788880   \n",
       "6364             3.219243        1.338554  19.603822       140.085047   \n",
       "\n",
       "      Alcohol_sqr  CalifProductor_ident  PrecioBotella_log  Beneficio_sqrt  \\\n",
       "0        9.253278              1.548025          -9.210340        1.292380   \n",
       "1       40.620706              2.321987           0.475014        1.377409   \n",
       "2        8.904141              2.321987           0.608537        0.010000   \n",
       "3       11.293545              1.548025           1.262291        1.585379   \n",
       "4       18.883869              0.774062          -0.027403        1.390298   \n",
       "...           ...                   ...                ...             ...   \n",
       "6360     8.060671              3.095950          -1.664586        0.010000   \n",
       "6361    24.541338              1.548025           0.767919        1.695110   \n",
       "6362    16.450002              3.095950          -0.602687        1.243789   \n",
       "6363    12.697642              0.774062          -9.210340        1.411135   \n",
       "6364    10.155495              0.774062           0.190150        1.380936   \n",
       "\n",
       "      Aleatorio 1_sqrt  Aleatorio 2_exp  \n",
       "0             0.476520         9.548623  \n",
       "1             1.280620         7.838150  \n",
       "2             1.081118        11.065976  \n",
       "3             1.692173         7.719978  \n",
       "4             1.215749        18.457417  \n",
       "...                ...              ...  \n",
       "6360          1.664401         4.853039  \n",
       "6361          1.670410        27.394139  \n",
       "6362          1.429266         2.120084  \n",
       "6363          1.553136        13.422629  \n",
       "6364          1.503356         2.424297  \n",
       "\n",
       "[6365 rows x 15 columns]"
      ]
     },
     "execution_count": 116,
     "metadata": {},
     "output_type": "execute_result"
    }
   ],
   "source": [
    "transformacion_cramer = datos_backup.select_dtypes(include=np.number).apply(lambda x:mejorTransf(x, variable_objetivo, tipo=\"cramer\"))\n",
    "transformacion_cramer_nombres = datos_backup.select_dtypes(include=np.number).apply(lambda x:mejorTransf(x, variable_objetivo, tipo=\"cramer\", name=True))\n",
    "transformacion_cramer.columns = transformacion_cramer_nombres\n",
    "transformacion_cramer"
   ]
  },
  {
   "cell_type": "markdown",
   "id": "7b0cd8b6-0a4f-4fa2-8e30-0fdee96bbd25",
   "metadata": {},
   "source": [
    "Aquí podemos fijarnos en los cambios de V de Cramer al transformar las variables. Destaca el caso de la variable Azucar. <br>\n",
    "En su estado natural es muy mala, en cambio con la transformación raiz4 pasa directamente al top 5 de efectos, Esto es <br>\n",
    "justamente lo que se busca con estas transformaciones."
   ]
  },
  {
   "cell_type": "code",
   "execution_count": 119,
   "id": "1b37f5ff-adc6-488d-a59f-4c1f4efd63b2",
   "metadata": {
    "tags": []
   },
   "outputs": [
    {
     "data": {
      "application/vnd.plotly.v1+json": {
       "config": {
        "plotlyServerURL": "https://plot.ly"
       },
       "data": [
        {
         "alignmentgroup": "True",
         "hovertemplate": "VCramer=%{x}<br>index=%{y}<extra></extra>",
         "legendgroup": "",
         "marker": {
          "color": "#636efa",
          "pattern": {
           "shape": ""
          }
         },
         "name": "",
         "offsetgroup": "",
         "orientation": "h",
         "showlegend": false,
         "textposition": "auto",
         "type": "bar",
         "x": [
          0.015801820721764434,
          0.04988257664601794,
          0.01421031163486779,
          0.02801805483697462,
          0.04072989563739903,
          0.012144225345222056,
          0.025050493581956535,
          0.04075652100629754,
          0.013894210889387098,
          0.29024307348175077,
          0.016771832800340385,
          0.022128952508151875,
          0.5964335615521507,
          0.016645129560385635,
          0.04420682549549123,
          0.5964335615521507,
          0.025376151526508836,
          0.010007065636713938,
          0.024014855451072934,
          0.022430969204566487,
          0.04988257664601794,
          0.03008587598191023,
          0.0336607022371634,
          0.04072989563739903,
          0.04812942254376369,
          0.030197415122768308,
          0.047788360775120095,
          0.029225632587707086,
          0.29024307348175077,
          0.03180734601478251,
          1,
          0.027586995644769945,
          0.040328283130857984
         ],
         "xaxis": "x",
         "y": [
          "Unnamed: 0",
          "Acidez",
          "AcidoCitrico",
          "Azucar",
          "CloruroSodico",
          "Densidad",
          "pH",
          "Sulfatos",
          "Alcohol",
          "CalifProductor",
          "PrecioBotella",
          "Etiqueta",
          "Clasificacion",
          "Region",
          "prop_missings",
          "Clasificación",
          "Aleatorio 1",
          "Aleatorio 2",
          "Unnamed: 0_sqrt",
          "ID_sqrt",
          "Acidez_ident",
          "AcidoCitrico_exp",
          "Azucar_raiz4",
          "CloruroSodico_ident",
          "Densidad_raiz4",
          "pH_sqr",
          "Sulfatos_cuarta",
          "Alcohol_sqr",
          "CalifProductor_ident",
          "PrecioBotella_log",
          "Beneficio_sqrt",
          "Aleatorio 1_sqrt",
          "Aleatorio 2_exp"
         ],
         "yaxis": "y"
        }
       ],
       "layout": {
        "autosize": true,
        "barmode": "relative",
        "legend": {
         "tracegroupgap": 0
        },
        "template": {
         "data": {
          "bar": [
           {
            "error_x": {
             "color": "#2a3f5f"
            },
            "error_y": {
             "color": "#2a3f5f"
            },
            "marker": {
             "line": {
              "color": "#E5ECF6",
              "width": 0.5
             },
             "pattern": {
              "fillmode": "overlay",
              "size": 10,
              "solidity": 0.2
             }
            },
            "type": "bar"
           }
          ],
          "barpolar": [
           {
            "marker": {
             "line": {
              "color": "#E5ECF6",
              "width": 0.5
             },
             "pattern": {
              "fillmode": "overlay",
              "size": 10,
              "solidity": 0.2
             }
            },
            "type": "barpolar"
           }
          ],
          "carpet": [
           {
            "aaxis": {
             "endlinecolor": "#2a3f5f",
             "gridcolor": "white",
             "linecolor": "white",
             "minorgridcolor": "white",
             "startlinecolor": "#2a3f5f"
            },
            "baxis": {
             "endlinecolor": "#2a3f5f",
             "gridcolor": "white",
             "linecolor": "white",
             "minorgridcolor": "white",
             "startlinecolor": "#2a3f5f"
            },
            "type": "carpet"
           }
          ],
          "choropleth": [
           {
            "colorbar": {
             "outlinewidth": 0,
             "ticks": ""
            },
            "type": "choropleth"
           }
          ],
          "contour": [
           {
            "colorbar": {
             "outlinewidth": 0,
             "ticks": ""
            },
            "colorscale": [
             [
              0,
              "#0d0887"
             ],
             [
              0.1111111111111111,
              "#46039f"
             ],
             [
              0.2222222222222222,
              "#7201a8"
             ],
             [
              0.3333333333333333,
              "#9c179e"
             ],
             [
              0.4444444444444444,
              "#bd3786"
             ],
             [
              0.5555555555555556,
              "#d8576b"
             ],
             [
              0.6666666666666666,
              "#ed7953"
             ],
             [
              0.7777777777777778,
              "#fb9f3a"
             ],
             [
              0.8888888888888888,
              "#fdca26"
             ],
             [
              1,
              "#f0f921"
             ]
            ],
            "type": "contour"
           }
          ],
          "contourcarpet": [
           {
            "colorbar": {
             "outlinewidth": 0,
             "ticks": ""
            },
            "type": "contourcarpet"
           }
          ],
          "heatmap": [
           {
            "colorbar": {
             "outlinewidth": 0,
             "ticks": ""
            },
            "colorscale": [
             [
              0,
              "#0d0887"
             ],
             [
              0.1111111111111111,
              "#46039f"
             ],
             [
              0.2222222222222222,
              "#7201a8"
             ],
             [
              0.3333333333333333,
              "#9c179e"
             ],
             [
              0.4444444444444444,
              "#bd3786"
             ],
             [
              0.5555555555555556,
              "#d8576b"
             ],
             [
              0.6666666666666666,
              "#ed7953"
             ],
             [
              0.7777777777777778,
              "#fb9f3a"
             ],
             [
              0.8888888888888888,
              "#fdca26"
             ],
             [
              1,
              "#f0f921"
             ]
            ],
            "type": "heatmap"
           }
          ],
          "heatmapgl": [
           {
            "colorbar": {
             "outlinewidth": 0,
             "ticks": ""
            },
            "colorscale": [
             [
              0,
              "#0d0887"
             ],
             [
              0.1111111111111111,
              "#46039f"
             ],
             [
              0.2222222222222222,
              "#7201a8"
             ],
             [
              0.3333333333333333,
              "#9c179e"
             ],
             [
              0.4444444444444444,
              "#bd3786"
             ],
             [
              0.5555555555555556,
              "#d8576b"
             ],
             [
              0.6666666666666666,
              "#ed7953"
             ],
             [
              0.7777777777777778,
              "#fb9f3a"
             ],
             [
              0.8888888888888888,
              "#fdca26"
             ],
             [
              1,
              "#f0f921"
             ]
            ],
            "type": "heatmapgl"
           }
          ],
          "histogram": [
           {
            "marker": {
             "pattern": {
              "fillmode": "overlay",
              "size": 10,
              "solidity": 0.2
             }
            },
            "type": "histogram"
           }
          ],
          "histogram2d": [
           {
            "colorbar": {
             "outlinewidth": 0,
             "ticks": ""
            },
            "colorscale": [
             [
              0,
              "#0d0887"
             ],
             [
              0.1111111111111111,
              "#46039f"
             ],
             [
              0.2222222222222222,
              "#7201a8"
             ],
             [
              0.3333333333333333,
              "#9c179e"
             ],
             [
              0.4444444444444444,
              "#bd3786"
             ],
             [
              0.5555555555555556,
              "#d8576b"
             ],
             [
              0.6666666666666666,
              "#ed7953"
             ],
             [
              0.7777777777777778,
              "#fb9f3a"
             ],
             [
              0.8888888888888888,
              "#fdca26"
             ],
             [
              1,
              "#f0f921"
             ]
            ],
            "type": "histogram2d"
           }
          ],
          "histogram2dcontour": [
           {
            "colorbar": {
             "outlinewidth": 0,
             "ticks": ""
            },
            "colorscale": [
             [
              0,
              "#0d0887"
             ],
             [
              0.1111111111111111,
              "#46039f"
             ],
             [
              0.2222222222222222,
              "#7201a8"
             ],
             [
              0.3333333333333333,
              "#9c179e"
             ],
             [
              0.4444444444444444,
              "#bd3786"
             ],
             [
              0.5555555555555556,
              "#d8576b"
             ],
             [
              0.6666666666666666,
              "#ed7953"
             ],
             [
              0.7777777777777778,
              "#fb9f3a"
             ],
             [
              0.8888888888888888,
              "#fdca26"
             ],
             [
              1,
              "#f0f921"
             ]
            ],
            "type": "histogram2dcontour"
           }
          ],
          "mesh3d": [
           {
            "colorbar": {
             "outlinewidth": 0,
             "ticks": ""
            },
            "type": "mesh3d"
           }
          ],
          "parcoords": [
           {
            "line": {
             "colorbar": {
              "outlinewidth": 0,
              "ticks": ""
             }
            },
            "type": "parcoords"
           }
          ],
          "pie": [
           {
            "automargin": true,
            "type": "pie"
           }
          ],
          "scatter": [
           {
            "fillpattern": {
             "fillmode": "overlay",
             "size": 10,
             "solidity": 0.2
            },
            "type": "scatter"
           }
          ],
          "scatter3d": [
           {
            "line": {
             "colorbar": {
              "outlinewidth": 0,
              "ticks": ""
             }
            },
            "marker": {
             "colorbar": {
              "outlinewidth": 0,
              "ticks": ""
             }
            },
            "type": "scatter3d"
           }
          ],
          "scattercarpet": [
           {
            "marker": {
             "colorbar": {
              "outlinewidth": 0,
              "ticks": ""
             }
            },
            "type": "scattercarpet"
           }
          ],
          "scattergeo": [
           {
            "marker": {
             "colorbar": {
              "outlinewidth": 0,
              "ticks": ""
             }
            },
            "type": "scattergeo"
           }
          ],
          "scattergl": [
           {
            "marker": {
             "colorbar": {
              "outlinewidth": 0,
              "ticks": ""
             }
            },
            "type": "scattergl"
           }
          ],
          "scattermapbox": [
           {
            "marker": {
             "colorbar": {
              "outlinewidth": 0,
              "ticks": ""
             }
            },
            "type": "scattermapbox"
           }
          ],
          "scatterpolar": [
           {
            "marker": {
             "colorbar": {
              "outlinewidth": 0,
              "ticks": ""
             }
            },
            "type": "scatterpolar"
           }
          ],
          "scatterpolargl": [
           {
            "marker": {
             "colorbar": {
              "outlinewidth": 0,
              "ticks": ""
             }
            },
            "type": "scatterpolargl"
           }
          ],
          "scatterternary": [
           {
            "marker": {
             "colorbar": {
              "outlinewidth": 0,
              "ticks": ""
             }
            },
            "type": "scatterternary"
           }
          ],
          "surface": [
           {
            "colorbar": {
             "outlinewidth": 0,
             "ticks": ""
            },
            "colorscale": [
             [
              0,
              "#0d0887"
             ],
             [
              0.1111111111111111,
              "#46039f"
             ],
             [
              0.2222222222222222,
              "#7201a8"
             ],
             [
              0.3333333333333333,
              "#9c179e"
             ],
             [
              0.4444444444444444,
              "#bd3786"
             ],
             [
              0.5555555555555556,
              "#d8576b"
             ],
             [
              0.6666666666666666,
              "#ed7953"
             ],
             [
              0.7777777777777778,
              "#fb9f3a"
             ],
             [
              0.8888888888888888,
              "#fdca26"
             ],
             [
              1,
              "#f0f921"
             ]
            ],
            "type": "surface"
           }
          ],
          "table": [
           {
            "cells": {
             "fill": {
              "color": "#EBF0F8"
             },
             "line": {
              "color": "white"
             }
            },
            "header": {
             "fill": {
              "color": "#C8D4E3"
             },
             "line": {
              "color": "white"
             }
            },
            "type": "table"
           }
          ]
         },
         "layout": {
          "annotationdefaults": {
           "arrowcolor": "#2a3f5f",
           "arrowhead": 0,
           "arrowwidth": 1
          },
          "autotypenumbers": "strict",
          "coloraxis": {
           "colorbar": {
            "outlinewidth": 0,
            "ticks": ""
           }
          },
          "colorscale": {
           "diverging": [
            [
             0,
             "#8e0152"
            ],
            [
             0.1,
             "#c51b7d"
            ],
            [
             0.2,
             "#de77ae"
            ],
            [
             0.3,
             "#f1b6da"
            ],
            [
             0.4,
             "#fde0ef"
            ],
            [
             0.5,
             "#f7f7f7"
            ],
            [
             0.6,
             "#e6f5d0"
            ],
            [
             0.7,
             "#b8e186"
            ],
            [
             0.8,
             "#7fbc41"
            ],
            [
             0.9,
             "#4d9221"
            ],
            [
             1,
             "#276419"
            ]
           ],
           "sequential": [
            [
             0,
             "#0d0887"
            ],
            [
             0.1111111111111111,
             "#46039f"
            ],
            [
             0.2222222222222222,
             "#7201a8"
            ],
            [
             0.3333333333333333,
             "#9c179e"
            ],
            [
             0.4444444444444444,
             "#bd3786"
            ],
            [
             0.5555555555555556,
             "#d8576b"
            ],
            [
             0.6666666666666666,
             "#ed7953"
            ],
            [
             0.7777777777777778,
             "#fb9f3a"
            ],
            [
             0.8888888888888888,
             "#fdca26"
            ],
            [
             1,
             "#f0f921"
            ]
           ],
           "sequentialminus": [
            [
             0,
             "#0d0887"
            ],
            [
             0.1111111111111111,
             "#46039f"
            ],
            [
             0.2222222222222222,
             "#7201a8"
            ],
            [
             0.3333333333333333,
             "#9c179e"
            ],
            [
             0.4444444444444444,
             "#bd3786"
            ],
            [
             0.5555555555555556,
             "#d8576b"
            ],
            [
             0.6666666666666666,
             "#ed7953"
            ],
            [
             0.7777777777777778,
             "#fb9f3a"
            ],
            [
             0.8888888888888888,
             "#fdca26"
            ],
            [
             1,
             "#f0f921"
            ]
           ]
          },
          "colorway": [
           "#636efa",
           "#EF553B",
           "#00cc96",
           "#ab63fa",
           "#FFA15A",
           "#19d3f3",
           "#FF6692",
           "#B6E880",
           "#FF97FF",
           "#FECB52"
          ],
          "font": {
           "color": "#2a3f5f"
          },
          "geo": {
           "bgcolor": "white",
           "lakecolor": "white",
           "landcolor": "#E5ECF6",
           "showlakes": true,
           "showland": true,
           "subunitcolor": "white"
          },
          "hoverlabel": {
           "align": "left"
          },
          "hovermode": "closest",
          "mapbox": {
           "style": "light"
          },
          "paper_bgcolor": "white",
          "plot_bgcolor": "#E5ECF6",
          "polar": {
           "angularaxis": {
            "gridcolor": "white",
            "linecolor": "white",
            "ticks": ""
           },
           "bgcolor": "#E5ECF6",
           "radialaxis": {
            "gridcolor": "white",
            "linecolor": "white",
            "ticks": ""
           }
          },
          "scene": {
           "xaxis": {
            "backgroundcolor": "#E5ECF6",
            "gridcolor": "white",
            "gridwidth": 2,
            "linecolor": "white",
            "showbackground": true,
            "ticks": "",
            "zerolinecolor": "white"
           },
           "yaxis": {
            "backgroundcolor": "#E5ECF6",
            "gridcolor": "white",
            "gridwidth": 2,
            "linecolor": "white",
            "showbackground": true,
            "ticks": "",
            "zerolinecolor": "white"
           },
           "zaxis": {
            "backgroundcolor": "#E5ECF6",
            "gridcolor": "white",
            "gridwidth": 2,
            "linecolor": "white",
            "showbackground": true,
            "ticks": "",
            "zerolinecolor": "white"
           }
          },
          "shapedefaults": {
           "line": {
            "color": "#2a3f5f"
           }
          },
          "ternary": {
           "aaxis": {
            "gridcolor": "white",
            "linecolor": "white",
            "ticks": ""
           },
           "baxis": {
            "gridcolor": "white",
            "linecolor": "white",
            "ticks": ""
           },
           "bgcolor": "#E5ECF6",
           "caxis": {
            "gridcolor": "white",
            "linecolor": "white",
            "ticks": ""
           }
          },
          "title": {
           "x": 0.05
          },
          "xaxis": {
           "automargin": true,
           "gridcolor": "white",
           "linecolor": "white",
           "ticks": "",
           "title": {
            "standoff": 15
           },
           "zerolinecolor": "white",
           "zerolinewidth": 2
          },
          "yaxis": {
           "automargin": true,
           "gridcolor": "white",
           "linecolor": "white",
           "ticks": "",
           "title": {
            "standoff": 15
           },
           "zerolinecolor": "white",
           "zerolinewidth": 2
          }
         }
        },
        "title": {
         "text": "Relaciones Frente a Compra"
        },
        "xaxis": {
         "anchor": "y",
         "autorange": false,
         "domain": [
          0,
          1
         ],
         "range": [
          0,
          0.6203641267700607
         ],
         "title": {
          "text": "VCramer"
         },
         "type": "linear"
        },
        "yaxis": {
         "anchor": "x",
         "autorange": false,
         "categoryorder": "total ascending",
         "domain": [
          0,
          1
         ],
         "range": [
          -0.5,
          30.17682291666667
         ],
         "title": {
          "text": "index"
         },
         "type": "category"
        }
       }
      },
      "image/png": "[encoded data removed]",
      "text/html": [
       "<div>                            <div id=\"70ff26eb-eb05-402b-8352-0ac531e7150d\" class=\"plotly-graph-div\" style=\"height:525px; width:100%;\"></div>            <script type=\"text/javascript\">                require([\"plotly\"], function(Plotly) {                    window.PLOTLYENV=window.PLOTLYENV || {};                                    if (document.getElementById(\"70ff26eb-eb05-402b-8352-0ac531e7150d\")) {                    Plotly.newPlot(                        \"70ff26eb-eb05-402b-8352-0ac531e7150d\",                        [{\"alignmentgroup\":\"True\",\"hovertemplate\":\"VCramer=%{x}<br>index=%{y}<extra></extra>\",\"legendgroup\":\"\",\"marker\":{\"color\":\"#636efa\",\"pattern\":{\"shape\":\"\"}},\"name\":\"\",\"offsetgroup\":\"\",\"orientation\":\"h\",\"showlegend\":false,\"textposition\":\"auto\",\"x\":[0.015801820721764434,0.04988257664601794,0.01421031163486779,0.02801805483697462,0.04072989563739903,0.012144225345222056,0.025050493581956535,0.04075652100629754,0.013894210889387098,0.29024307348175077,0.016771832800340385,0.022128952508151875,0.5964335615521507,0.016645129560385635,0.04420682549549123,0.5964335615521507,0.025376151526508836,0.010007065636713938,0.024014855451072934,0.022430969204566487,0.04988257664601794,0.03008587598191023,0.0336607022371634,0.04072989563739903,0.04812942254376369,0.030197415122768308,0.047788360775120095,0.029225632587707086,0.29024307348175077,0.03180734601478251,1.0,0.027586995644769945,0.040328283130857984],\"xaxis\":\"x\",\"y\":[\"Unnamed: 0\",\"Acidez\",\"AcidoCitrico\",\"Azucar\",\"CloruroSodico\",\"Densidad\",\"pH\",\"Sulfatos\",\"Alcohol\",\"CalifProductor\",\"PrecioBotella\",\"Etiqueta\",\"Clasificacion\",\"Region\",\"prop_missings\",\"Clasificaci\\u00f3n\",\"Aleatorio 1\",\"Aleatorio 2\",\"Unnamed: 0_sqrt\",\"ID_sqrt\",\"Acidez_ident\",\"AcidoCitrico_exp\",\"Azucar_raiz4\",\"CloruroSodico_ident\",\"Densidad_raiz4\",\"pH_sqr\",\"Sulfatos_cuarta\",\"Alcohol_sqr\",\"CalifProductor_ident\",\"PrecioBotella_log\",\"Beneficio_sqrt\",\"Aleatorio 1_sqrt\",\"Aleatorio 2_exp\"],\"yaxis\":\"y\",\"type\":\"bar\"}],                        {\"template\":{\"data\":{\"histogram2dcontour\":[{\"type\":\"histogram2dcontour\",\"colorbar\":{\"outlinewidth\":0,\"ticks\":\"\"},\"colorscale\":[[0.0,\"#0d0887\"],[0.1111111111111111,\"#46039f\"],[0.2222222222222222,\"#7201a8\"],[0.3333333333333333,\"#9c179e\"],[0.4444444444444444,\"#bd3786\"],[0.5555555555555556,\"#d8576b\"],[0.6666666666666666,\"#ed7953\"],[0.7777777777777778,\"#fb9f3a\"],[0.8888888888888888,\"#fdca26\"],[1.0,\"#f0f921\"]]}],\"choropleth\":[{\"type\":\"choropleth\",\"colorbar\":{\"outlinewidth\":0,\"ticks\":\"\"}}],\"histogram2d\":[{\"type\":\"histogram2d\",\"colorbar\":{\"outlinewidth\":0,\"ticks\":\"\"},\"colorscale\":[[0.0,\"#0d0887\"],[0.1111111111111111,\"#46039f\"],[0.2222222222222222,\"#7201a8\"],[0.3333333333333333,\"#9c179e\"],[0.4444444444444444,\"#bd3786\"],[0.5555555555555556,\"#d8576b\"],[0.6666666666666666,\"#ed7953\"],[0.7777777777777778,\"#fb9f3a\"],[0.8888888888888888,\"#fdca26\"],[1.0,\"#f0f921\"]]}],\"heatmap\":[{\"type\":\"heatmap\",\"colorbar\":{\"outlinewidth\":0,\"ticks\":\"\"},\"colorscale\":[[0.0,\"#0d0887\"],[0.1111111111111111,\"#46039f\"],[0.2222222222222222,\"#7201a8\"],[0.3333333333333333,\"#9c179e\"],[0.4444444444444444,\"#bd3786\"],[0.5555555555555556,\"#d8576b\"],[0.6666666666666666,\"#ed7953\"],[0.7777777777777778,\"#fb9f3a\"],[0.8888888888888888,\"#fdca26\"],[1.0,\"#f0f921\"]]}],\"heatmapgl\":[{\"type\":\"heatmapgl\",\"colorbar\":{\"outlinewidth\":0,\"ticks\":\"\"},\"colorscale\":[[0.0,\"#0d0887\"],[0.1111111111111111,\"#46039f\"],[0.2222222222222222,\"#7201a8\"],[0.3333333333333333,\"#9c179e\"],[0.4444444444444444,\"#bd3786\"],[0.5555555555555556,\"#d8576b\"],[0.6666666666666666,\"#ed7953\"],[0.7777777777777778,\"#fb9f3a\"],[0.8888888888888888,\"#fdca26\"],[1.0,\"#f0f921\"]]}],\"contourcarpet\":[{\"type\":\"contourcarpet\",\"colorbar\":{\"outlinewidth\":0,\"ticks\":\"\"}}],\"contour\":[{\"type\":\"contour\",\"colorbar\":{\"outlinewidth\":0,\"ticks\":\"\"},\"colorscale\":[[0.0,\"#0d0887\"],[0.1111111111111111,\"#46039f\"],[0.2222222222222222,\"#7201a8\"],[0.3333333333333333,\"#9c179e\"],[0.4444444444444444,\"#bd3786\"],[0.5555555555555556,\"#d8576b\"],[0.6666666666666666,\"#ed7953\"],[0.7777777777777778,\"#fb9f3a\"],[0.8888888888888888,\"#fdca26\"],[1.0,\"#f0f921\"]]}],\"surface\":[{\"type\":\"surface\",\"colorbar\":{\"outlinewidth\":0,\"ticks\":\"\"},\"colorscale\":[[0.0,\"#0d0887\"],[0.1111111111111111,\"#46039f\"],[0.2222222222222222,\"#7201a8\"],[0.3333333333333333,\"#9c179e\"],[0.4444444444444444,\"#bd3786\"],[0.5555555555555556,\"#d8576b\"],[0.6666666666666666,\"#ed7953\"],[0.7777777777777778,\"#fb9f3a\"],[0.8888888888888888,\"#fdca26\"],[1.0,\"#f0f921\"]]}],\"mesh3d\":[{\"type\":\"mesh3d\",\"colorbar\":{\"outlinewidth\":0,\"ticks\":\"\"}}],\"scatter\":[{\"fillpattern\":{\"fillmode\":\"overlay\",\"size\":10,\"solidity\":0.2},\"type\":\"scatter\"}],\"parcoords\":[{\"type\":\"parcoords\",\"line\":{\"colorbar\":{\"outlinewidth\":0,\"ticks\":\"\"}}}],\"scatterpolargl\":[{\"type\":\"scatterpolargl\",\"marker\":{\"colorbar\":{\"outlinewidth\":0,\"ticks\":\"\"}}}],\"bar\":[{\"error_x\":{\"color\":\"#2a3f5f\"},\"error_y\":{\"color\":\"#2a3f5f\"},\"marker\":{\"line\":{\"color\":\"#E5ECF6\",\"width\":0.5},\"pattern\":{\"fillmode\":\"overlay\",\"size\":10,\"solidity\":0.2}},\"type\":\"bar\"}],\"scattergeo\":[{\"type\":\"scattergeo\",\"marker\":{\"colorbar\":{\"outlinewidth\":0,\"ticks\":\"\"}}}],\"scatterpolar\":[{\"type\":\"scatterpolar\",\"marker\":{\"colorbar\":{\"outlinewidth\":0,\"ticks\":\"\"}}}],\"histogram\":[{\"marker\":{\"pattern\":{\"fillmode\":\"overlay\",\"size\":10,\"solidity\":0.2}},\"type\":\"histogram\"}],\"scattergl\":[{\"type\":\"scattergl\",\"marker\":{\"colorbar\":{\"outlinewidth\":0,\"ticks\":\"\"}}}],\"scatter3d\":[{\"type\":\"scatter3d\",\"line\":{\"colorbar\":{\"outlinewidth\":0,\"ticks\":\"\"}},\"marker\":{\"colorbar\":{\"outlinewidth\":0,\"ticks\":\"\"}}}],\"scattermapbox\":[{\"type\":\"scattermapbox\",\"marker\":{\"colorbar\":{\"outlinewidth\":0,\"ticks\":\"\"}}}],\"scatterternary\":[{\"type\":\"scatterternary\",\"marker\":{\"colorbar\":{\"outlinewidth\":0,\"ticks\":\"\"}}}],\"scattercarpet\":[{\"type\":\"scattercarpet\",\"marker\":{\"colorbar\":{\"outlinewidth\":0,\"ticks\":\"\"}}}],\"carpet\":[{\"aaxis\":{\"endlinecolor\":\"#2a3f5f\",\"gridcolor\":\"white\",\"linecolor\":\"white\",\"minorgridcolor\":\"white\",\"startlinecolor\":\"#2a3f5f\"},\"baxis\":{\"endlinecolor\":\"#2a3f5f\",\"gridcolor\":\"white\",\"linecolor\":\"white\",\"minorgridcolor\":\"white\",\"startlinecolor\":\"#2a3f5f\"},\"type\":\"carpet\"}],\"table\":[{\"cells\":{\"fill\":{\"color\":\"#EBF0F8\"},\"line\":{\"color\":\"white\"}},\"header\":{\"fill\":{\"color\":\"#C8D4E3\"},\"line\":{\"color\":\"white\"}},\"type\":\"table\"}],\"barpolar\":[{\"marker\":{\"line\":{\"color\":\"#E5ECF6\",\"width\":0.5},\"pattern\":{\"fillmode\":\"overlay\",\"size\":10,\"solidity\":0.2}},\"type\":\"barpolar\"}],\"pie\":[{\"automargin\":true,\"type\":\"pie\"}]},\"layout\":{\"autotypenumbers\":\"strict\",\"colorway\":[\"#636efa\",\"#EF553B\",\"#00cc96\",\"#ab63fa\",\"#FFA15A\",\"#19d3f3\",\"#FF6692\",\"#B6E880\",\"#FF97FF\",\"#FECB52\"],\"font\":{\"color\":\"#2a3f5f\"},\"hovermode\":\"closest\",\"hoverlabel\":{\"align\":\"left\"},\"paper_bgcolor\":\"white\",\"plot_bgcolor\":\"#E5ECF6\",\"polar\":{\"bgcolor\":\"#E5ECF6\",\"angularaxis\":{\"gridcolor\":\"white\",\"linecolor\":\"white\",\"ticks\":\"\"},\"radialaxis\":{\"gridcolor\":\"white\",\"linecolor\":\"white\",\"ticks\":\"\"}},\"ternary\":{\"bgcolor\":\"#E5ECF6\",\"aaxis\":{\"gridcolor\":\"white\",\"linecolor\":\"white\",\"ticks\":\"\"},\"baxis\":{\"gridcolor\":\"white\",\"linecolor\":\"white\",\"ticks\":\"\"},\"caxis\":{\"gridcolor\":\"white\",\"linecolor\":\"white\",\"ticks\":\"\"}},\"coloraxis\":{\"colorbar\":{\"outlinewidth\":0,\"ticks\":\"\"}},\"colorscale\":{\"sequential\":[[0.0,\"#0d0887\"],[0.1111111111111111,\"#46039f\"],[0.2222222222222222,\"#7201a8\"],[0.3333333333333333,\"#9c179e\"],[0.4444444444444444,\"#bd3786\"],[0.5555555555555556,\"#d8576b\"],[0.6666666666666666,\"#ed7953\"],[0.7777777777777778,\"#fb9f3a\"],[0.8888888888888888,\"#fdca26\"],[1.0,\"#f0f921\"]],\"sequentialminus\":[[0.0,\"#0d0887\"],[0.1111111111111111,\"#46039f\"],[0.2222222222222222,\"#7201a8\"],[0.3333333333333333,\"#9c179e\"],[0.4444444444444444,\"#bd3786\"],[0.5555555555555556,\"#d8576b\"],[0.6666666666666666,\"#ed7953\"],[0.7777777777777778,\"#fb9f3a\"],[0.8888888888888888,\"#fdca26\"],[1.0,\"#f0f921\"]],\"diverging\":[[0,\"#8e0152\"],[0.1,\"#c51b7d\"],[0.2,\"#de77ae\"],[0.3,\"#f1b6da\"],[0.4,\"#fde0ef\"],[0.5,\"#f7f7f7\"],[0.6,\"#e6f5d0\"],[0.7,\"#b8e186\"],[0.8,\"#7fbc41\"],[0.9,\"#4d9221\"],[1,\"#276419\"]]},\"xaxis\":{\"gridcolor\":\"white\",\"linecolor\":\"white\",\"ticks\":\"\",\"title\":{\"standoff\":15},\"zerolinecolor\":\"white\",\"automargin\":true,\"zerolinewidth\":2},\"yaxis\":{\"gridcolor\":\"white\",\"linecolor\":\"white\",\"ticks\":\"\",\"title\":{\"standoff\":15},\"zerolinecolor\":\"white\",\"automargin\":true,\"zerolinewidth\":2},\"scene\":{\"xaxis\":{\"backgroundcolor\":\"#E5ECF6\",\"gridcolor\":\"white\",\"linecolor\":\"white\",\"showbackground\":true,\"ticks\":\"\",\"zerolinecolor\":\"white\",\"gridwidth\":2},\"yaxis\":{\"backgroundcolor\":\"#E5ECF6\",\"gridcolor\":\"white\",\"linecolor\":\"white\",\"showbackground\":true,\"ticks\":\"\",\"zerolinecolor\":\"white\",\"gridwidth\":2},\"zaxis\":{\"backgroundcolor\":\"#E5ECF6\",\"gridcolor\":\"white\",\"linecolor\":\"white\",\"showbackground\":true,\"ticks\":\"\",\"zerolinecolor\":\"white\",\"gridwidth\":2}},\"shapedefaults\":{\"line\":{\"color\":\"#2a3f5f\"}},\"annotationdefaults\":{\"arrowcolor\":\"#2a3f5f\",\"arrowhead\":0,\"arrowwidth\":1},\"geo\":{\"bgcolor\":\"white\",\"landcolor\":\"#E5ECF6\",\"subunitcolor\":\"white\",\"showland\":true,\"showlakes\":true,\"lakecolor\":\"white\"},\"title\":{\"x\":0.05},\"mapbox\":{\"style\":\"light\"}}},\"xaxis\":{\"anchor\":\"y\",\"domain\":[0.0,1.0],\"title\":{\"text\":\"VCramer\"}},\"yaxis\":{\"anchor\":\"x\",\"domain\":[0.0,1.0],\"title\":{\"text\":\"index\"},\"categoryorder\":\"total ascending\"},\"legend\":{\"tracegroupgap\":0},\"title\":{\"text\":\"Relaciones Frente a Compra\"},\"barmode\":\"relative\"},                        {\"responsive\": true}                    ).then(function(){\n",
       "                            \n",
       "var gd = document.getElementById('70ff26eb-eb05-402b-8352-0ac531e7150d');\n",
       "var x = new MutationObserver(function (mutations, observer) {{\n",
       "        var display = window.getComputedStyle(gd).display;\n",
       "        if (!display || display === 'none') {{\n",
       "            console.log([gd, 'removed!']);\n",
       "            Plotly.purge(gd);\n",
       "            observer.disconnect();\n",
       "        }}\n",
       "}});\n",
       "\n",
       "// Listen for the removal of the full notebook cells\n",
       "var notebookContainer = gd.closest('#notebook-container');\n",
       "if (notebookContainer) {{\n",
       "    x.observe(notebookContainer, {childList: true});\n",
       "}}\n",
       "\n",
       "// Listen for the clearing of the current output cell\n",
       "var outputEl = gd.closest('.output');\n",
       "if (outputEl) {{\n",
       "    x.observe(outputEl, {childList: true});\n",
       "}}\n",
       "\n",
       "                        })                };                });            </script>        </div>"
      ]
     },
     "metadata": {},
     "output_type": "display_data"
    }
   ],
   "source": [
    "datos_transformados = datos_backup.join(transformacion_cramer)\n",
    "\n",
    "# Aplicar la función al input completa contra la objetivo\n",
    "datos_transformados = datos_transformados.drop(columns=[\"ID\", \"Compra\", \"Beneficio\"])\n",
    "\n",
    "tabla_cramer_transformaciones= pd.DataFrame(datos_transformados.apply(lambda x:cramers_v(x, variable_objetivo)), columns=[\"VCramer\"])\n",
    "px.bar(tabla_cramer_transformaciones, x=tabla_cramer_transformaciones[\"VCramer\"], title=\"Relaciones Frente a Compra\").update_yaxes(categoryorder=\"total ascending\").show()"
   ]
  },
  {
   "cell_type": "code",
   "execution_count": 120,
   "id": "71678303-271c-4424-9c36-6f0481c5a06d",
   "metadata": {
    "tags": []
   },
   "outputs": [],
   "source": [
    "# Guardar archivo con transformaciones para la variable compra\n",
    "# Agregar variables objetivo al input ya limpio\n",
    "todo_bin = pd.concat([datos_transformados, variable_objetivo], axis=1)\n",
    "todo_bin.to_csv(\"todo_bin_Vino.csv\")\n"
   ]
  },
  {
   "cell_type": "markdown",
   "id": "a000a34b-ace5-43f9-a08d-6a34d87c1a57",
   "metadata": {},
   "source": [
    "## Modelos de regresión logística para la predicción de variable compra\n",
    "En esta sección se ajustan distintos modelos de regresión logística para predecir la compra de los vinos. En primer <br>\n",
    "lugar, tomamos la partición training (donde ajustamos el modelo) y el test (donde lo probamos). <br>\n",
    "<br>\n",
    "\n",
    "Es importante revisar la distribución de la variable objetivo, cuantos 0s y 1s hay en el archivo <br>\n",
    "esto es relevante a la hora de valorar cuestiones importantes en el contexto de clasificación supervisada. <br>\n",
    "En particular prestamos atención a la baja representación del evento ya que esto supone un handicap para cualquier <br>\n",
    "algoritmo de clasificación y ha dado lugar a toda una rama de investigación sobre __imbalanced classification__ que <br>\n",
    "se agudiza en el contexto de Big Data y la paralelización de procesos con los llamados small disjunts. <br>\n",
    "<br>\n",
    "Es importante saber también cómo funcionana las métricas de evaluación en el contexto de la clasificación supervisada <br>\n",
    "el famoso \"accuracy\", que deriva de la tasa de fallos de la matriz de confusión de las predicciones frente a la distribución original <br>\n",
    "<br>\n",
    "Es importante considerar el tradeoff entre sensibilidad y accuracy."
   ]
  },
  {
   "cell_type": "code",
   "execution_count": 124,
   "id": "0ae538c7-9f8a-4c3f-9065-91330f8feddd",
   "metadata": {
    "tags": []
   },
   "outputs": [
    {
     "data": {
      "text/plain": [
       "Compra\n",
       "1    0.785232\n",
       "0    0.214768\n",
       "Name: proportion, dtype: float64"
      ]
     },
     "execution_count": 124,
     "metadata": {},
     "output_type": "execute_result"
    }
   ],
   "source": [
    "datos_backup[\"Compra\"].value_counts(normalize=True)"
   ]
  },
  {
   "cell_type": "markdown",
   "id": "1604b38a-9692-4594-ad2e-b8d1a16e709c",
   "metadata": {},
   "source": [
    "En este caso, tenemos la situación de desbalanceo hacia los 1 ya que la frecuencia es de 78%. El modelo <br>\n",
    "tendrá mayor dificultad para reconocer los 0s. Visto esto, si tenemos un accuracy de 0.78... podemos <br>\n",
    "sospechar y miraremos bien sensibilidad y especificidad para tranquilizar nuestras conciencias."
   ]
  },
  {
   "cell_type": "markdown",
   "id": "4aeea391-357f-494c-9e2d-9c93d93d14e7",
   "metadata": {},
   "source": [
    "## Paritción Training - Test\n",
    "Vamos a generar la partición del archivo en el que incluiremos solamente las variables originales. Por ello, <br>\n",
    "pedimos que nos muestre las posiciones de las variables para saber cómo filtrar las columnas deseadas."
   ]
  },
  {
   "cell_type": "code",
   "execution_count": 137,
   "id": "a9652109-e344-4495-86fd-bcb12893a2b1",
   "metadata": {
    "tags": []
   },
   "outputs": [
    {
     "name": "stdout",
     "output_type": "stream",
     "text": [
      "Training data shape: (5092, 16) (5092,)\n"
     ]
    }
   ],
   "source": [
    "from sklearn.model_selection import train_test_split\n",
    "datos = datos.drop(['Unnamed: 0', 'prop_missings'], axis=1)\n",
    "x_train, x_test, y_train, y_test = train_test_split(datos, variable_objetivo, test_size=0.2, random_state=1)\n",
    "print(\"Training data shape:\", x_train.shape, y_train.shape) "
   ]
  },
  {
   "cell_type": "markdown",
   "id": "bd2a452a-a01b-4aa8-b150-de2b081c40d9",
   "metadata": {},
   "source": [
    "¿ Mantendrá la proporción de clases de la variable objetivo esta partición?"
   ]
  },
  {
   "cell_type": "code",
   "execution_count": 140,
   "id": "7623c084-9b10-46d3-9c27-f8bf688f6175",
   "metadata": {
    "tags": []
   },
   "outputs": [
    {
     "name": "stdout",
     "output_type": "stream",
     "text": [
      "Compra\n",
      "1    0.783975\n",
      "0    0.216025\n",
      "Name: proportion, dtype: float64\n",
      "Compra\n",
      "1    0.790259\n",
      "0    0.209741\n",
      "Name: proportion, dtype: float64\n"
     ]
    }
   ],
   "source": [
    "print(y_train.value_counts(normalize=True))\n",
    "print(y_test.value_counts(normalize=True))"
   ]
  },
  {
   "cell_type": "markdown",
   "id": "10ddeb46-7f6e-41a4-8215-f475abe18fd4",
   "metadata": {},
   "source": [
    "## Modelo Completo de Referencia\n",
    "Comenzamos con nuestro modelo completo de referencia que incluye todas las variables. <br>\n",
    "<br>\n",
    "Una precaución en este punto. El método logit de statmodels.formula.api no acepta categórica <br>\n",
    "cómo objetivo, por lo que transformaremos en entera."
   ]
  },
  {
   "cell_type": "code",
   "execution_count": 148,
   "id": "9d181f4e-bea5-482f-a956-c678f133c180",
   "metadata": {
    "tags": []
   },
   "outputs": [
    {
     "data": {
      "text/plain": [
       "'Compra ~ Acidez + AcidoCitrico + Azucar + CloruroSodico + Densidad + pH + Sulfatos + Alcohol + CalifProductor + PrecioBotella + Etiqueta + Clasificacion + Region + Clasificación + Aleatorio 1 + Aleatorio 2'"
      ]
     },
     "execution_count": 148,
     "metadata": {},
     "output_type": "execute_result"
    }
   ],
   "source": [
    "formula_completa"
   ]
  },
  {
   "cell_type": "code",
   "execution_count": 157,
   "id": "7fa98de7-d65c-4501-9cf5-1bd5c5a00420",
   "metadata": {
    "tags": []
   },
   "outputs": [
    {
     "name": "stdout",
     "output_type": "stream",
     "text": [
      "Warning: Maximum number of iterations has been exceeded.\n",
      "         Current function value: 0.301004\n",
      "         Iterations: 35\n"
     ]
    },
    {
     "data": {
      "text/html": [
       "<table class=\"simpletable\">\n",
       "<caption>Logit Regression Results</caption>\n",
       "<tr>\n",
       "  <th>Dep. Variable:</th>        <td>Compra</td>      <th>  No. Observations:  </th>  <td>  5092</td> \n",
       "</tr>\n",
       "<tr>\n",
       "  <th>Model:</th>                 <td>Logit</td>      <th>  Df Residuals:      </th>  <td>  5071</td> \n",
       "</tr>\n",
       "<tr>\n",
       "  <th>Method:</th>                 <td>MLE</td>       <th>  Df Model:          </th>  <td>    20</td> \n",
       "</tr>\n",
       "<tr>\n",
       "  <th>Date:</th>            <td>Sun, 04 Feb 2024</td> <th>  Pseudo R-squ.:     </th>  <td>0.4232</td> \n",
       "</tr>\n",
       "<tr>\n",
       "  <th>Time:</th>                <td>12:00:48</td>     <th>  Log-Likelihood:    </th> <td> -1532.7</td>\n",
       "</tr>\n",
       "<tr>\n",
       "  <th>converged:</th>             <td>False</td>      <th>  LL-Null:           </th> <td> -2657.2</td>\n",
       "</tr>\n",
       "<tr>\n",
       "  <th>Covariance Type:</th>     <td>nonrobust</td>    <th>  LLR p-value:       </th>  <td> 0.000</td> \n",
       "</tr>\n",
       "</table>\n",
       "<table class=\"simpletable\">\n",
       "<tr>\n",
       "            <td></td>               <th>coef</th>     <th>std err</th>      <th>z</th>      <th>P>|z|</th>  <th>[0.025</th>    <th>0.975]</th>  \n",
       "</tr>\n",
       "<tr>\n",
       "  <th>Intercept</th>             <td>    8.7506</td> <td>      nan</td> <td>      nan</td> <td>   nan</td> <td>      nan</td> <td>      nan</td>\n",
       "</tr>\n",
       "<tr>\n",
       "  <th>Etiqueta[T.M]</th>         <td>   -0.3830</td> <td>    0.220</td> <td>   -1.743</td> <td> 0.081</td> <td>   -0.814</td> <td>    0.048</td>\n",
       "</tr>\n",
       "<tr>\n",
       "  <th>Etiqueta[T.R]</th>         <td>   -1.0434</td> <td>    0.214</td> <td>   -4.867</td> <td> 0.000</td> <td>   -1.464</td> <td>   -0.623</td>\n",
       "</tr>\n",
       "<tr>\n",
       "  <th>Etiqueta[T.B]</th>         <td>   -1.4818</td> <td>    0.230</td> <td>   -6.446</td> <td> 0.000</td> <td>   -1.932</td> <td>   -1.031</td>\n",
       "</tr>\n",
       "<tr>\n",
       "  <th>Etiqueta[T.MB]</th>        <td>   -1.7445</td> <td>    0.351</td> <td>   -4.977</td> <td> 0.000</td> <td>   -2.432</td> <td>   -1.058</td>\n",
       "</tr>\n",
       "<tr>\n",
       "  <th>Clasificacion[T.**]</th>   <td>   -0.7771</td> <td>      nan</td> <td>      nan</td> <td>   nan</td> <td>      nan</td> <td>      nan</td>\n",
       "</tr>\n",
       "<tr>\n",
       "  <th>Clasificacion[T.***]</th>  <td>   10.7910</td> <td> 1.97e+12</td> <td> 5.47e-12</td> <td> 1.000</td> <td>-3.87e+12</td> <td> 3.87e+12</td>\n",
       "</tr>\n",
       "<tr>\n",
       "  <th>Clasificacion[T.****]</th> <td>    8.5908</td> <td> 3.81e+11</td> <td> 2.25e-11</td> <td> 1.000</td> <td>-7.47e+11</td> <td> 7.47e+11</td>\n",
       "</tr>\n",
       "<tr>\n",
       "  <th>Clasificacion[T.Desc]</th> <td>   -5.8084</td> <td>      nan</td> <td>      nan</td> <td>   nan</td> <td>      nan</td> <td>      nan</td>\n",
       "</tr>\n",
       "<tr>\n",
       "  <th>Region[T.2.0]</th>         <td>   -0.0142</td> <td>    0.112</td> <td>   -0.127</td> <td> 0.899</td> <td>   -0.233</td> <td>    0.205</td>\n",
       "</tr>\n",
       "<tr>\n",
       "  <th>Region[T.3.0]</th>         <td>   -0.0177</td> <td>    0.110</td> <td>   -0.162</td> <td> 0.872</td> <td>   -0.233</td> <td>    0.197</td>\n",
       "</tr>\n",
       "<tr>\n",
       "  <th>Clasificación[T.*]</th>    <td>   -4.0456</td> <td>      nan</td> <td>      nan</td> <td>   nan</td> <td>      nan</td> <td>      nan</td>\n",
       "</tr>\n",
       "<tr>\n",
       "  <th>Clasificación[T.**]</th>   <td>   -0.7771</td> <td>      nan</td> <td>      nan</td> <td>   nan</td> <td>      nan</td> <td>      nan</td>\n",
       "</tr>\n",
       "<tr>\n",
       "  <th>Clasificación[T.***]</th>  <td>   10.7910</td> <td> 1.97e+12</td> <td> 5.47e-12</td> <td> 1.000</td> <td>-3.87e+12</td> <td> 3.87e+12</td>\n",
       "</tr>\n",
       "<tr>\n",
       "  <th>Clasificación[T.****]</th> <td>    8.5908</td> <td> 3.81e+11</td> <td> 2.25e-11</td> <td> 1.000</td> <td>-7.47e+11</td> <td> 7.47e+11</td>\n",
       "</tr>\n",
       "<tr>\n",
       "  <th>Acidez</th>                <td>   -0.1605</td> <td>    0.063</td> <td>   -2.550</td> <td> 0.011</td> <td>   -0.284</td> <td>   -0.037</td>\n",
       "</tr>\n",
       "<tr>\n",
       "  <th>AcidoCitrico</th>          <td>    0.0850</td> <td>    0.058</td> <td>    1.456</td> <td> 0.145</td> <td>   -0.029</td> <td>    0.199</td>\n",
       "</tr>\n",
       "<tr>\n",
       "  <th>Azucar</th>                <td>    0.0027</td> <td>    0.001</td> <td>    1.854</td> <td> 0.064</td> <td>   -0.000</td> <td>    0.006</td>\n",
       "</tr>\n",
       "<tr>\n",
       "  <th>CloruroSodico</th>         <td>   -0.2291</td> <td>    0.154</td> <td>   -1.488</td> <td> 0.137</td> <td>   -0.531</td> <td>    0.073</td>\n",
       "</tr>\n",
       "<tr>\n",
       "  <th>Densidad</th>              <td>   -0.2832</td> <td>    1.948</td> <td>   -0.145</td> <td> 0.884</td> <td>   -4.102</td> <td>    3.535</td>\n",
       "</tr>\n",
       "<tr>\n",
       "  <th>pH</th>                    <td>   -0.2539</td> <td>    0.074</td> <td>   -3.453</td> <td> 0.001</td> <td>   -0.398</td> <td>   -0.110</td>\n",
       "</tr>\n",
       "<tr>\n",
       "  <th>Sulfatos</th>              <td>   -0.0728</td> <td>    0.055</td> <td>   -1.333</td> <td> 0.182</td> <td>   -0.180</td> <td>    0.034</td>\n",
       "</tr>\n",
       "<tr>\n",
       "  <th>Alcohol</th>               <td>   -0.0115</td> <td>    0.013</td> <td>   -0.882</td> <td> 0.378</td> <td>   -0.037</td> <td>    0.014</td>\n",
       "</tr>\n",
       "<tr>\n",
       "  <th>CalifProductor</th>        <td>   -0.4259</td> <td>    0.035</td> <td>  -12.263</td> <td> 0.000</td> <td>   -0.494</td> <td>   -0.358</td>\n",
       "</tr>\n",
       "<tr>\n",
       "  <th>PrecioBotella</th>         <td>    0.0291</td> <td>    0.030</td> <td>    0.966</td> <td> 0.334</td> <td>   -0.030</td> <td>    0.088</td>\n",
       "</tr>\n",
       "</table><br/><br/>Possibly complete quasi-separation: A fraction 0.22 of observations can be<br/>perfectly predicted. This might indicate that there is complete<br/>quasi-separation. In this case some parameters will not be identified."
      ],
      "text/latex": [
       "\\begin{center}\n",
       "\\begin{tabular}{lclc}\n",
       "\\toprule\n",
       "\\textbf{Dep. Variable:}        &      Compra      & \\textbf{  No. Observations:  } &     5092    \\\\\n",
       "\\textbf{Model:}                &      Logit       & \\textbf{  Df Residuals:      } &     5071    \\\\\n",
       "\\textbf{Method:}               &       MLE        & \\textbf{  Df Model:          } &       20    \\\\\n",
       "\\textbf{Date:}                 & Sun, 04 Feb 2024 & \\textbf{  Pseudo R-squ.:     } &   0.4232    \\\\\n",
       "\\textbf{Time:}                 &     12:00:48     & \\textbf{  Log-Likelihood:    } &   -1532.7   \\\\\n",
       "\\textbf{converged:}            &      False       & \\textbf{  LL-Null:           } &   -2657.2   \\\\\n",
       "\\textbf{Covariance Type:}      &    nonrobust     & \\textbf{  LLR p-value:       } &    0.000    \\\\\n",
       "\\bottomrule\n",
       "\\end{tabular}\n",
       "\\begin{tabular}{lcccccc}\n",
       "                               & \\textbf{coef} & \\textbf{std err} & \\textbf{z} & \\textbf{P$> |$z$|$} & \\textbf{[0.025} & \\textbf{0.975]}  \\\\\n",
       "\\midrule\n",
       "\\textbf{Intercept}             &       8.7506  &          nan     &       nan  &           nan        &          nan    &          nan     \\\\\n",
       "\\textbf{Etiqueta[T.M]}         &      -0.3830  &        0.220     &    -1.743  &         0.081        &       -0.814    &        0.048     \\\\\n",
       "\\textbf{Etiqueta[T.R]}         &      -1.0434  &        0.214     &    -4.867  &         0.000        &       -1.464    &       -0.623     \\\\\n",
       "\\textbf{Etiqueta[T.B]}         &      -1.4818  &        0.230     &    -6.446  &         0.000        &       -1.932    &       -1.031     \\\\\n",
       "\\textbf{Etiqueta[T.MB]}        &      -1.7445  &        0.351     &    -4.977  &         0.000        &       -2.432    &       -1.058     \\\\\n",
       "\\textbf{Clasificacion[T.**]}   &      -0.7771  &          nan     &       nan  &           nan        &          nan    &          nan     \\\\\n",
       "\\textbf{Clasificacion[T.***]}  &      10.7910  &     1.97e+12     &  5.47e-12  &         1.000        &    -3.87e+12    &     3.87e+12     \\\\\n",
       "\\textbf{Clasificacion[T.****]} &       8.5908  &     3.81e+11     &  2.25e-11  &         1.000        &    -7.47e+11    &     7.47e+11     \\\\\n",
       "\\textbf{Clasificacion[T.Desc]} &      -5.8084  &          nan     &       nan  &           nan        &          nan    &          nan     \\\\\n",
       "\\textbf{Region[T.2.0]}         &      -0.0142  &        0.112     &    -0.127  &         0.899        &       -0.233    &        0.205     \\\\\n",
       "\\textbf{Region[T.3.0]}         &      -0.0177  &        0.110     &    -0.162  &         0.872        &       -0.233    &        0.197     \\\\\n",
       "\\textbf{Clasificación[T.*]}    &      -4.0456  &          nan     &       nan  &           nan        &          nan    &          nan     \\\\\n",
       "\\textbf{Clasificación[T.**]}   &      -0.7771  &          nan     &       nan  &           nan        &          nan    &          nan     \\\\\n",
       "\\textbf{Clasificación[T.***]}  &      10.7910  &     1.97e+12     &  5.47e-12  &         1.000        &    -3.87e+12    &     3.87e+12     \\\\\n",
       "\\textbf{Clasificación[T.****]} &       8.5908  &     3.81e+11     &  2.25e-11  &         1.000        &    -7.47e+11    &     7.47e+11     \\\\\n",
       "\\textbf{Acidez}                &      -0.1605  &        0.063     &    -2.550  &         0.011        &       -0.284    &       -0.037     \\\\\n",
       "\\textbf{AcidoCitrico}          &       0.0850  &        0.058     &     1.456  &         0.145        &       -0.029    &        0.199     \\\\\n",
       "\\textbf{Azucar}                &       0.0027  &        0.001     &     1.854  &         0.064        &       -0.000    &        0.006     \\\\\n",
       "\\textbf{CloruroSodico}         &      -0.2291  &        0.154     &    -1.488  &         0.137        &       -0.531    &        0.073     \\\\\n",
       "\\textbf{Densidad}              &      -0.2832  &        1.948     &    -0.145  &         0.884        &       -4.102    &        3.535     \\\\\n",
       "\\textbf{pH}                    &      -0.2539  &        0.074     &    -3.453  &         0.001        &       -0.398    &       -0.110     \\\\\n",
       "\\textbf{Sulfatos}              &      -0.0728  &        0.055     &    -1.333  &         0.182        &       -0.180    &        0.034     \\\\\n",
       "\\textbf{Alcohol}               &      -0.0115  &        0.013     &    -0.882  &         0.378        &       -0.037    &        0.014     \\\\\n",
       "\\textbf{CalifProductor}        &      -0.4259  &        0.035     &   -12.263  &         0.000        &       -0.494    &       -0.358     \\\\\n",
       "\\textbf{PrecioBotella}         &       0.0291  &        0.030     &     0.966  &         0.334        &       -0.030    &        0.088     \\\\\n",
       "\\bottomrule\n",
       "\\end{tabular}\n",
       "%\\caption{Logit Regression Results}\n",
       "\\end{center}\n",
       "\n",
       "Possibly complete quasi-separation: A fraction 0.22 of observations can be \\newline\n",
       " perfectly predicted. This might indicate that there is complete \\newline\n",
       " quasi-separation. In this case some parameters will not be identified."
      ],
      "text/plain": [
       "<class 'statsmodels.iolib.summary.Summary'>\n",
       "\"\"\"\n",
       "                           Logit Regression Results                           \n",
       "==============================================================================\n",
       "Dep. Variable:                 Compra   No. Observations:                 5092\n",
       "Model:                          Logit   Df Residuals:                     5071\n",
       "Method:                           MLE   Df Model:                           20\n",
       "Date:                Sun, 04 Feb 2024   Pseudo R-squ.:                  0.4232\n",
       "Time:                        12:00:48   Log-Likelihood:                -1532.7\n",
       "converged:                      False   LL-Null:                       -2657.2\n",
       "Covariance Type:            nonrobust   LLR p-value:                     0.000\n",
       "=========================================================================================\n",
       "                            coef    std err          z      P>|z|      [0.025      0.975]\n",
       "-----------------------------------------------------------------------------------------\n",
       "Intercept                 8.7506        nan        nan        nan         nan         nan\n",
       "Etiqueta[T.M]            -0.3830      0.220     -1.743      0.081      -0.814       0.048\n",
       "Etiqueta[T.R]            -1.0434      0.214     -4.867      0.000      -1.464      -0.623\n",
       "Etiqueta[T.B]            -1.4818      0.230     -6.446      0.000      -1.932      -1.031\n",
       "Etiqueta[T.MB]           -1.7445      0.351     -4.977      0.000      -2.432      -1.058\n",
       "Clasificacion[T.**]      -0.7771        nan        nan        nan         nan         nan\n",
       "Clasificacion[T.***]     10.7910   1.97e+12   5.47e-12      1.000   -3.87e+12    3.87e+12\n",
       "Clasificacion[T.****]     8.5908   3.81e+11   2.25e-11      1.000   -7.47e+11    7.47e+11\n",
       "Clasificacion[T.Desc]    -5.8084        nan        nan        nan         nan         nan\n",
       "Region[T.2.0]            -0.0142      0.112     -0.127      0.899      -0.233       0.205\n",
       "Region[T.3.0]            -0.0177      0.110     -0.162      0.872      -0.233       0.197\n",
       "Clasificación[T.*]       -4.0456        nan        nan        nan         nan         nan\n",
       "Clasificación[T.**]      -0.7771        nan        nan        nan         nan         nan\n",
       "Clasificación[T.***]     10.7910   1.97e+12   5.47e-12      1.000   -3.87e+12    3.87e+12\n",
       "Clasificación[T.****]     8.5908   3.81e+11   2.25e-11      1.000   -7.47e+11    7.47e+11\n",
       "Acidez                   -0.1605      0.063     -2.550      0.011      -0.284      -0.037\n",
       "AcidoCitrico              0.0850      0.058      1.456      0.145      -0.029       0.199\n",
       "Azucar                    0.0027      0.001      1.854      0.064      -0.000       0.006\n",
       "CloruroSodico            -0.2291      0.154     -1.488      0.137      -0.531       0.073\n",
       "Densidad                 -0.2832      1.948     -0.145      0.884      -4.102       3.535\n",
       "pH                       -0.2539      0.074     -3.453      0.001      -0.398      -0.110\n",
       "Sulfatos                 -0.0728      0.055     -1.333      0.182      -0.180       0.034\n",
       "Alcohol                  -0.0115      0.013     -0.882      0.378      -0.037       0.014\n",
       "CalifProductor           -0.4259      0.035    -12.263      0.000      -0.494      -0.358\n",
       "PrecioBotella             0.0291      0.030      0.966      0.334      -0.030       0.088\n",
       "=========================================================================================\n",
       "\n",
       "Possibly complete quasi-separation: A fraction 0.22 of observations can be\n",
       "perfectly predicted. This might indicate that there is complete\n",
       "quasi-separation. In this case some parameters will not be identified.\n",
       "\"\"\""
      ]
     },
     "execution_count": 157,
     "metadata": {},
     "output_type": "execute_result"
    }
   ],
   "source": [
    "data_train = x_train.join(y_train.astype('int64'))\n",
    "formula_completa = ols_formula(data_train, 'Compra')\n",
    "# No admite variables categoricas\n",
    "data_train[[\"Aleatorio 1\", \"Aleatorio 2\"]] = data_train[[\"Aleatorio 1\", \"Aleatorio 2\"]].astype('int64')\n",
    "\n",
    "from statsmodels.formula.api import logit\n",
    "# Por alguna razon no admite las variables aleatorias 1 y 2\n",
    "modelo_completo = logit(\"Compra ~ Acidez + AcidoCitrico + Azucar + CloruroSodico + Densidad + pH + Sulfatos + Alcohol + CalifProductor + PrecioBotella + Etiqueta + Clasificacion + Region + Clasificación\", data=data_train).fit()\n",
    "modelo_completo.summary()"
   ]
  },
  {
   "cell_type": "code",
   "execution_count": 158,
   "id": "7f6a964c-6203-44c6-98a0-7fe603baa960",
   "metadata": {
    "tags": []
   },
   "outputs": [
    {
     "data": {
      "text/html": [
       "<div>\n",
       "<style scoped>\n",
       "    .dataframe tbody tr th:only-of-type {\n",
       "        vertical-align: middle;\n",
       "    }\n",
       "\n",
       "    .dataframe tbody tr th {\n",
       "        vertical-align: top;\n",
       "    }\n",
       "\n",
       "    .dataframe thead th {\n",
       "        text-align: right;\n",
       "    }\n",
       "</style>\n",
       "<table border=\"1\" class=\"dataframe\">\n",
       "  <thead>\n",
       "    <tr style=\"text-align: right;\">\n",
       "      <th>Clasificacion</th>\n",
       "      <th>*</th>\n",
       "      <th>**</th>\n",
       "      <th>***</th>\n",
       "      <th>****</th>\n",
       "      <th>Desc</th>\n",
       "    </tr>\n",
       "    <tr>\n",
       "      <th>Compra</th>\n",
       "      <th></th>\n",
       "      <th></th>\n",
       "      <th></th>\n",
       "      <th></th>\n",
       "      <th></th>\n",
       "    </tr>\n",
       "  </thead>\n",
       "  <tbody>\n",
       "    <tr>\n",
       "      <th>0</th>\n",
       "      <td>255</td>\n",
       "      <td>34</td>\n",
       "      <td>0</td>\n",
       "      <td>0</td>\n",
       "      <td>811</td>\n",
       "    </tr>\n",
       "    <tr>\n",
       "      <th>1</th>\n",
       "      <td>964</td>\n",
       "      <td>1355</td>\n",
       "      <td>874</td>\n",
       "      <td>261</td>\n",
       "      <td>538</td>\n",
       "    </tr>\n",
       "  </tbody>\n",
       "</table>\n",
       "</div>"
      ],
      "text/plain": [
       "Clasificacion    *    **  ***  ****  Desc\n",
       "Compra                                   \n",
       "0              255    34    0     0   811\n",
       "1              964  1355  874   261   538"
      ]
     },
     "execution_count": 158,
     "metadata": {},
     "output_type": "execute_result"
    }
   ],
   "source": [
    "pd.crosstab(data_train[\"Compra\"], data_train[\"Clasificacion\"])"
   ]
  },
  {
   "cell_type": "markdown",
   "id": "60eaac2d-fa5e-47f7-bdbe-bdaa9cdc54c1",
   "metadata": {},
   "source": [
    "Ni una sola instancia con compra=0 en clasificación de \\*** y \\**** <br> \n",
    "Esto genera ese alto error. El gran problema será la interpretabilidad del modelo. Hay que pense que el <br>\n",
    "OR (cuanto más probable es que se de el evento que el no evento dada una premisa) es la exponencial del parámetro <br>\n",
    "si este parámetro es 20, estamos ante un OR de  \"485165195.4097903\". Por este mótivo y dado que uno de los punto fuertes de <br>\n",
    "las regresion es la interpretación, decidimos unir categorías."
   ]
  },
  {
   "cell_type": "code",
   "execution_count": 161,
   "id": "6e110ff0-0f8e-4f82-9523-1bcef648a68c",
   "metadata": {
    "tags": []
   },
   "outputs": [
    {
     "data": {
      "text/plain": [
       "485165195.4097903"
      ]
     },
     "execution_count": 161,
     "metadata": {},
     "output_type": "execute_result"
    }
   ],
   "source": [
    "np.exp(20)"
   ]
  },
  {
   "cell_type": "code",
   "execution_count": 168,
   "id": "294771d9-18c0-4d33-8b53-1297a49a766c",
   "metadata": {
    "tags": []
   },
   "outputs": [
    {
     "name": "stdout",
     "output_type": "stream",
     "text": [
      "Optimization terminated successfully.\n",
      "         Current function value: 0.306643\n",
      "         Iterations 8\n"
     ]
    },
    {
     "data": {
      "text/html": [
       "<table class=\"simpletable\">\n",
       "<caption>Logit Regression Results</caption>\n",
       "<tr>\n",
       "  <th>Dep. Variable:</th>        <td>Compra</td>      <th>  No. Observations:  </th>  <td>  5092</td> \n",
       "</tr>\n",
       "<tr>\n",
       "  <th>Model:</th>                 <td>Logit</td>      <th>  Df Residuals:      </th>  <td>  5073</td> \n",
       "</tr>\n",
       "<tr>\n",
       "  <th>Method:</th>                 <td>MLE</td>       <th>  Df Model:          </th>  <td>    18</td> \n",
       "</tr>\n",
       "<tr>\n",
       "  <th>Date:</th>            <td>Sun, 04 Feb 2024</td> <th>  Pseudo R-squ.:     </th>  <td>0.4121</td> \n",
       "</tr>\n",
       "<tr>\n",
       "  <th>Time:</th>                <td>12:29:48</td>     <th>  Log-Likelihood:    </th> <td> -1561.4</td>\n",
       "</tr>\n",
       "<tr>\n",
       "  <th>converged:</th>             <td>True</td>       <th>  LL-Null:           </th> <td> -2655.9</td>\n",
       "</tr>\n",
       "<tr>\n",
       "  <th>Covariance Type:</th>     <td>nonrobust</td>    <th>  LLR p-value:       </th>  <td> 0.000</td> \n",
       "</tr>\n",
       "</table>\n",
       "<table class=\"simpletable\">\n",
       "<tr>\n",
       "            <td></td>               <th>coef</th>     <th>std err</th>      <th>z</th>      <th>P>|z|</th>  <th>[0.025</th>    <th>0.975]</th>  \n",
       "</tr>\n",
       "<tr>\n",
       "  <th>Intercept</th>             <td>    4.1340</td> <td>    1.958</td> <td>    2.111</td> <td> 0.035</td> <td>    0.296</td> <td>    7.972</td>\n",
       "</tr>\n",
       "<tr>\n",
       "  <th>Etiqueta[T.M]</th>         <td>   -0.3641</td> <td>    0.219</td> <td>   -1.664</td> <td> 0.096</td> <td>   -0.793</td> <td>    0.065</td>\n",
       "</tr>\n",
       "<tr>\n",
       "  <th>Etiqueta[T.R]</th>         <td>   -1.0234</td> <td>    0.213</td> <td>   -4.798</td> <td> 0.000</td> <td>   -1.441</td> <td>   -0.605</td>\n",
       "</tr>\n",
       "<tr>\n",
       "  <th>Etiqueta[T.B]</th>         <td>   -1.3882</td> <td>    0.228</td> <td>   -6.078</td> <td> 0.000</td> <td>   -1.836</td> <td>   -0.941</td>\n",
       "</tr>\n",
       "<tr>\n",
       "  <th>Etiqueta[T.MB]</th>        <td>   -1.7858</td> <td>    0.331</td> <td>   -5.400</td> <td> 0.000</td> <td>   -2.434</td> <td>   -1.138</td>\n",
       "</tr>\n",
       "<tr>\n",
       "  <th>Clasificacion[T.**+]</th>  <td>    3.0179</td> <td>    0.182</td> <td>   16.610</td> <td> 0.000</td> <td>    2.662</td> <td>    3.374</td>\n",
       "</tr>\n",
       "<tr>\n",
       "  <th>Clasificacion[T.Desc]</th> <td>   -1.8080</td> <td>    0.097</td> <td>  -18.651</td> <td> 0.000</td> <td>   -1.998</td> <td>   -1.618</td>\n",
       "</tr>\n",
       "<tr>\n",
       "  <th>Region[T.2.0]</th>         <td>   -0.0996</td> <td>    0.111</td> <td>   -0.893</td> <td> 0.372</td> <td>   -0.318</td> <td>    0.119</td>\n",
       "</tr>\n",
       "<tr>\n",
       "  <th>Region[T.3.0]</th>         <td>   -0.1208</td> <td>    0.110</td> <td>   -1.102</td> <td> 0.270</td> <td>   -0.336</td> <td>    0.094</td>\n",
       "</tr>\n",
       "<tr>\n",
       "  <th>Acidez</th>                <td>   -0.1597</td> <td>    0.064</td> <td>   -2.499</td> <td> 0.012</td> <td>   -0.285</td> <td>   -0.034</td>\n",
       "</tr>\n",
       "<tr>\n",
       "  <th>AcidoCitrico</th>          <td>    0.0498</td> <td>    0.058</td> <td>    0.863</td> <td> 0.388</td> <td>   -0.063</td> <td>    0.163</td>\n",
       "</tr>\n",
       "<tr>\n",
       "  <th>Azucar</th>                <td>    0.0031</td> <td>    0.001</td> <td>    2.140</td> <td> 0.032</td> <td>    0.000</td> <td>    0.006</td>\n",
       "</tr>\n",
       "<tr>\n",
       "  <th>CloruroSodico</th>         <td>   -0.2387</td> <td>    0.154</td> <td>   -1.551</td> <td> 0.121</td> <td>   -0.540</td> <td>    0.063</td>\n",
       "</tr>\n",
       "<tr>\n",
       "  <th>Densidad</th>              <td>    0.3074</td> <td>    1.929</td> <td>    0.159</td> <td> 0.873</td> <td>   -3.474</td> <td>    4.089</td>\n",
       "</tr>\n",
       "<tr>\n",
       "  <th>pH</th>                    <td>   -0.2411</td> <td>    0.073</td> <td>   -3.322</td> <td> 0.001</td> <td>   -0.383</td> <td>   -0.099</td>\n",
       "</tr>\n",
       "<tr>\n",
       "  <th>Sulfatos</th>              <td>   -0.0739</td> <td>    0.054</td> <td>   -1.369</td> <td> 0.171</td> <td>   -0.180</td> <td>    0.032</td>\n",
       "</tr>\n",
       "<tr>\n",
       "  <th>Alcohol</th>               <td>   -0.0135</td> <td>    0.013</td> <td>   -1.049</td> <td> 0.294</td> <td>   -0.039</td> <td>    0.012</td>\n",
       "</tr>\n",
       "<tr>\n",
       "  <th>CalifProductor</th>        <td>   -0.4201</td> <td>    0.035</td> <td>  -12.003</td> <td> 0.000</td> <td>   -0.489</td> <td>   -0.351</td>\n",
       "</tr>\n",
       "<tr>\n",
       "  <th>PrecioBotella</th>         <td>    0.0297</td> <td>    0.030</td> <td>    0.985</td> <td> 0.325</td> <td>   -0.029</td> <td>    0.089</td>\n",
       "</tr>\n",
       "</table>"
      ],
      "text/latex": [
       "\\begin{center}\n",
       "\\begin{tabular}{lclc}\n",
       "\\toprule\n",
       "\\textbf{Dep. Variable:}        &      Compra      & \\textbf{  No. Observations:  } &     5092    \\\\\n",
       "\\textbf{Model:}                &      Logit       & \\textbf{  Df Residuals:      } &     5073    \\\\\n",
       "\\textbf{Method:}               &       MLE        & \\textbf{  Df Model:          } &       18    \\\\\n",
       "\\textbf{Date:}                 & Sun, 04 Feb 2024 & \\textbf{  Pseudo R-squ.:     } &   0.4121    \\\\\n",
       "\\textbf{Time:}                 &     12:29:48     & \\textbf{  Log-Likelihood:    } &   -1561.4   \\\\\n",
       "\\textbf{converged:}            &       True       & \\textbf{  LL-Null:           } &   -2655.9   \\\\\n",
       "\\textbf{Covariance Type:}      &    nonrobust     & \\textbf{  LLR p-value:       } &    0.000    \\\\\n",
       "\\bottomrule\n",
       "\\end{tabular}\n",
       "\\begin{tabular}{lcccccc}\n",
       "                               & \\textbf{coef} & \\textbf{std err} & \\textbf{z} & \\textbf{P$> |$z$|$} & \\textbf{[0.025} & \\textbf{0.975]}  \\\\\n",
       "\\midrule\n",
       "\\textbf{Intercept}             &       4.1340  &        1.958     &     2.111  &         0.035        &        0.296    &        7.972     \\\\\n",
       "\\textbf{Etiqueta[T.M]}         &      -0.3641  &        0.219     &    -1.664  &         0.096        &       -0.793    &        0.065     \\\\\n",
       "\\textbf{Etiqueta[T.R]}         &      -1.0234  &        0.213     &    -4.798  &         0.000        &       -1.441    &       -0.605     \\\\\n",
       "\\textbf{Etiqueta[T.B]}         &      -1.3882  &        0.228     &    -6.078  &         0.000        &       -1.836    &       -0.941     \\\\\n",
       "\\textbf{Etiqueta[T.MB]}        &      -1.7858  &        0.331     &    -5.400  &         0.000        &       -2.434    &       -1.138     \\\\\n",
       "\\textbf{Clasificacion[T.**+]}  &       3.0179  &        0.182     &    16.610  &         0.000        &        2.662    &        3.374     \\\\\n",
       "\\textbf{Clasificacion[T.Desc]} &      -1.8080  &        0.097     &   -18.651  &         0.000        &       -1.998    &       -1.618     \\\\\n",
       "\\textbf{Region[T.2.0]}         &      -0.0996  &        0.111     &    -0.893  &         0.372        &       -0.318    &        0.119     \\\\\n",
       "\\textbf{Region[T.3.0]}         &      -0.1208  &        0.110     &    -1.102  &         0.270        &       -0.336    &        0.094     \\\\\n",
       "\\textbf{Acidez}                &      -0.1597  &        0.064     &    -2.499  &         0.012        &       -0.285    &       -0.034     \\\\\n",
       "\\textbf{AcidoCitrico}          &       0.0498  &        0.058     &     0.863  &         0.388        &       -0.063    &        0.163     \\\\\n",
       "\\textbf{Azucar}                &       0.0031  &        0.001     &     2.140  &         0.032        &        0.000    &        0.006     \\\\\n",
       "\\textbf{CloruroSodico}         &      -0.2387  &        0.154     &    -1.551  &         0.121        &       -0.540    &        0.063     \\\\\n",
       "\\textbf{Densidad}              &       0.3074  &        1.929     &     0.159  &         0.873        &       -3.474    &        4.089     \\\\\n",
       "\\textbf{pH}                    &      -0.2411  &        0.073     &    -3.322  &         0.001        &       -0.383    &       -0.099     \\\\\n",
       "\\textbf{Sulfatos}              &      -0.0739  &        0.054     &    -1.369  &         0.171        &       -0.180    &        0.032     \\\\\n",
       "\\textbf{Alcohol}               &      -0.0135  &        0.013     &    -1.049  &         0.294        &       -0.039    &        0.012     \\\\\n",
       "\\textbf{CalifProductor}        &      -0.4201  &        0.035     &   -12.003  &         0.000        &       -0.489    &       -0.351     \\\\\n",
       "\\textbf{PrecioBotella}         &       0.0297  &        0.030     &     0.985  &         0.325        &       -0.029    &        0.089     \\\\\n",
       "\\bottomrule\n",
       "\\end{tabular}\n",
       "%\\caption{Logit Regression Results}\n",
       "\\end{center}"
      ],
      "text/plain": [
       "<class 'statsmodels.iolib.summary.Summary'>\n",
       "\"\"\"\n",
       "                           Logit Regression Results                           \n",
       "==============================================================================\n",
       "Dep. Variable:                 Compra   No. Observations:                 5092\n",
       "Model:                          Logit   Df Residuals:                     5073\n",
       "Method:                           MLE   Df Model:                           18\n",
       "Date:                Sun, 04 Feb 2024   Pseudo R-squ.:                  0.4121\n",
       "Time:                        12:29:48   Log-Likelihood:                -1561.4\n",
       "converged:                       True   LL-Null:                       -2655.9\n",
       "Covariance Type:            nonrobust   LLR p-value:                     0.000\n",
       "=========================================================================================\n",
       "                            coef    std err          z      P>|z|      [0.025      0.975]\n",
       "-----------------------------------------------------------------------------------------\n",
       "Intercept                 4.1340      1.958      2.111      0.035       0.296       7.972\n",
       "Etiqueta[T.M]            -0.3641      0.219     -1.664      0.096      -0.793       0.065\n",
       "Etiqueta[T.R]            -1.0234      0.213     -4.798      0.000      -1.441      -0.605\n",
       "Etiqueta[T.B]            -1.3882      0.228     -6.078      0.000      -1.836      -0.941\n",
       "Etiqueta[T.MB]           -1.7858      0.331     -5.400      0.000      -2.434      -1.138\n",
       "Clasificacion[T.**+]      3.0179      0.182     16.610      0.000       2.662       3.374\n",
       "Clasificacion[T.Desc]    -1.8080      0.097    -18.651      0.000      -1.998      -1.618\n",
       "Region[T.2.0]            -0.0996      0.111     -0.893      0.372      -0.318       0.119\n",
       "Region[T.3.0]            -0.1208      0.110     -1.102      0.270      -0.336       0.094\n",
       "Acidez                   -0.1597      0.064     -2.499      0.012      -0.285      -0.034\n",
       "AcidoCitrico              0.0498      0.058      0.863      0.388      -0.063       0.163\n",
       "Azucar                    0.0031      0.001      2.140      0.032       0.000       0.006\n",
       "CloruroSodico            -0.2387      0.154     -1.551      0.121      -0.540       0.063\n",
       "Densidad                  0.3074      1.929      0.159      0.873      -3.474       4.089\n",
       "pH                       -0.2411      0.073     -3.322      0.001      -0.383      -0.099\n",
       "Sulfatos                 -0.0739      0.054     -1.369      0.171      -0.180       0.032\n",
       "Alcohol                  -0.0135      0.013     -1.049      0.294      -0.039       0.012\n",
       "CalifProductor           -0.4201      0.035    -12.003      0.000      -0.489      -0.351\n",
       "PrecioBotella             0.0297      0.030      0.985      0.325      -0.029       0.089\n",
       "=========================================================================================\n",
       "\"\"\""
      ]
     },
     "execution_count": 168,
     "metadata": {},
     "output_type": "execute_result"
    }
   ],
   "source": [
    "datos[\"Clasificacion\"] = datos[\"Clasificacion\"].replace([\"**\", \"***\", \"****\"], \"**+\")\n",
    "\n",
    "x_train, x_test, y_train, y_test = train_test_split(datos, variable_objetivo, test_size=0.2, random_state=1234)\n",
    "\n",
    "data_train = x_train.join(y_train.astype('int64'))\n",
    "data_test = x_test.join(y_test.astype('int64'))\n",
    "\n",
    "modelo_completo = logit(\"Compra ~ Acidez + AcidoCitrico + Azucar + CloruroSodico + Densidad + pH + Sulfatos + Alcohol + CalifProductor + PrecioBotella + Etiqueta + Clasificacion + Region\", data=data_train).fit()\n",
    "modelo_completo.summary()"
   ]
  },
  {
   "cell_type": "markdown",
   "id": "2e9997cc-5b60-43db-900b-1bb9cad8e0a5",
   "metadata": {},
   "source": [
    "Nos hemos librado de los peligros de OR gigantes <br>\n",
    "<br>\n",
    "Consultamos los valores de pseudor2 en los conjuntos de training y test, que se situan en torno a 0.41 <br>\n",
    "lo cual indica un muy buen ajuste. Recordemos que puede equivaler a r2 lineales de más de 0.8.\n"
   ]
  },
  {
   "cell_type": "code",
   "execution_count": 169,
   "id": "ab62e2e6-4ad7-4641-b72c-62c5a94e2213",
   "metadata": {
    "tags": []
   },
   "outputs": [
    {
     "data": {
      "text/html": [
       "<div>\n",
       "<style scoped>\n",
       "    .dataframe tbody tr th:only-of-type {\n",
       "        vertical-align: middle;\n",
       "    }\n",
       "\n",
       "    .dataframe tbody tr th {\n",
       "        vertical-align: top;\n",
       "    }\n",
       "\n",
       "    .dataframe thead th {\n",
       "        text-align: right;\n",
       "    }\n",
       "</style>\n",
       "<table border=\"1\" class=\"dataframe\">\n",
       "  <thead>\n",
       "    <tr style=\"text-align: right;\">\n",
       "      <th></th>\n",
       "      <th>driver</th>\n",
       "      <th>rawRelaImpt</th>\n",
       "      <th>normRelaImpt</th>\n",
       "    </tr>\n",
       "  </thead>\n",
       "  <tbody>\n",
       "    <tr>\n",
       "      <th>5</th>\n",
       "      <td>Clasificacion[T.Desc]</td>\n",
       "      <td>0.206834</td>\n",
       "      <td>51.611295</td>\n",
       "    </tr>\n",
       "    <tr>\n",
       "      <th>4</th>\n",
       "      <td>Clasificacion[T.**+]</td>\n",
       "      <td>0.132229</td>\n",
       "      <td>32.995129</td>\n",
       "    </tr>\n",
       "    <tr>\n",
       "      <th>16</th>\n",
       "      <td>CalifProductor</td>\n",
       "      <td>0.046090</td>\n",
       "      <td>11.500807</td>\n",
       "    </tr>\n",
       "    <tr>\n",
       "      <th>2</th>\n",
       "      <td>Etiqueta[T.B]</td>\n",
       "      <td>0.003786</td>\n",
       "      <td>0.944611</td>\n",
       "    </tr>\n",
       "    <tr>\n",
       "      <th>8</th>\n",
       "      <td>Acidez</td>\n",
       "      <td>0.002317</td>\n",
       "      <td>0.578132</td>\n",
       "    </tr>\n",
       "    <tr>\n",
       "      <th>1</th>\n",
       "      <td>Etiqueta[T.R]</td>\n",
       "      <td>0.002272</td>\n",
       "      <td>0.566911</td>\n",
       "    </tr>\n",
       "    <tr>\n",
       "      <th>0</th>\n",
       "      <td>Etiqueta[T.M]</td>\n",
       "      <td>0.001552</td>\n",
       "      <td>0.387299</td>\n",
       "    </tr>\n",
       "    <tr>\n",
       "      <th>3</th>\n",
       "      <td>Etiqueta[T.MB]</td>\n",
       "      <td>0.001454</td>\n",
       "      <td>0.362817</td>\n",
       "    </tr>\n",
       "    <tr>\n",
       "      <th>13</th>\n",
       "      <td>pH</td>\n",
       "      <td>0.001009</td>\n",
       "      <td>0.251870</td>\n",
       "    </tr>\n",
       "    <tr>\n",
       "      <th>10</th>\n",
       "      <td>Azucar</td>\n",
       "      <td>0.000960</td>\n",
       "      <td>0.239518</td>\n",
       "    </tr>\n",
       "    <tr>\n",
       "      <th>14</th>\n",
       "      <td>Sulfatos</td>\n",
       "      <td>0.000872</td>\n",
       "      <td>0.217714</td>\n",
       "    </tr>\n",
       "    <tr>\n",
       "      <th>11</th>\n",
       "      <td>CloruroSodico</td>\n",
       "      <td>0.000860</td>\n",
       "      <td>0.214560</td>\n",
       "    </tr>\n",
       "    <tr>\n",
       "      <th>15</th>\n",
       "      <td>Alcohol</td>\n",
       "      <td>0.000136</td>\n",
       "      <td>0.034041</td>\n",
       "    </tr>\n",
       "    <tr>\n",
       "      <th>17</th>\n",
       "      <td>PrecioBotella</td>\n",
       "      <td>0.000104</td>\n",
       "      <td>0.025930</td>\n",
       "    </tr>\n",
       "    <tr>\n",
       "      <th>9</th>\n",
       "      <td>AcidoCitrico</td>\n",
       "      <td>0.000096</td>\n",
       "      <td>0.024058</td>\n",
       "    </tr>\n",
       "    <tr>\n",
       "      <th>7</th>\n",
       "      <td>Region[T.3.0]</td>\n",
       "      <td>0.000064</td>\n",
       "      <td>0.015906</td>\n",
       "    </tr>\n",
       "    <tr>\n",
       "      <th>12</th>\n",
       "      <td>Densidad</td>\n",
       "      <td>0.000060</td>\n",
       "      <td>0.015086</td>\n",
       "    </tr>\n",
       "    <tr>\n",
       "      <th>6</th>\n",
       "      <td>Region[T.2.0]</td>\n",
       "      <td>0.000057</td>\n",
       "      <td>0.014315</td>\n",
       "    </tr>\n",
       "  </tbody>\n",
       "</table>\n",
       "</div>"
      ],
      "text/plain": [
       "                   driver  rawRelaImpt  normRelaImpt\n",
       "5   Clasificacion[T.Desc]     0.206834     51.611295\n",
       "4    Clasificacion[T.**+]     0.132229     32.995129\n",
       "16         CalifProductor     0.046090     11.500807\n",
       "2           Etiqueta[T.B]     0.003786      0.944611\n",
       "8                  Acidez     0.002317      0.578132\n",
       "1           Etiqueta[T.R]     0.002272      0.566911\n",
       "0           Etiqueta[T.M]     0.001552      0.387299\n",
       "3          Etiqueta[T.MB]     0.001454      0.362817\n",
       "13                     pH     0.001009      0.251870\n",
       "10                 Azucar     0.000960      0.239518\n",
       "14               Sulfatos     0.000872      0.217714\n",
       "11          CloruroSodico     0.000860      0.214560\n",
       "15                Alcohol     0.000136      0.034041\n",
       "17          PrecioBotella     0.000104      0.025930\n",
       "9            AcidoCitrico     0.000096      0.024058\n",
       "7           Region[T.3.0]     0.000064      0.015906\n",
       "12               Densidad     0.000060      0.015086\n",
       "6           Region[T.2.0]     0.000057      0.014315"
      ]
     },
     "execution_count": 169,
     "metadata": {},
     "output_type": "execute_result"
    }
   ],
   "source": [
    "import statsmodels.api as sm\n",
    "import patsy \n",
    "from relativeImp import relativeImp\n",
    "\n",
    "y_tr, x_tr = patsy.dmatrices(\"Compra ~ Acidez + AcidoCitrico + Azucar + CloruroSodico + Densidad + pH + Sulfatos + Alcohol + CalifProductor + PrecioBotella + Etiqueta + Clasificacion + Region\", data_train, return_type='dataframe')\n",
    "y_tst, x_tst = patsy.dmatrices(\"Compra ~ Acidez + AcidoCitrico + Azucar + CloruroSodico + Densidad + pH + Sulfatos + Alcohol + CalifProductor + PrecioBotella + Etiqueta + Clasificacion + Region\", data_test, return_type='dataframe')\n",
    "\n",
    "# Nombres de predictores donde quitamos la constante\n",
    "names = x_tr.columns.tolist()[1:]\n",
    "\n",
    "# Importancia relative\n",
    "df_results = relativeImp(x_tr.join(y_tr), outcomeName= 'Compra', driverNames = names)\n",
    "\n",
    "# Ordenamos valores\n",
    "df_results.sort_values(by=\"normRelaImpt\", ascending=False)\n"
   ]
  },
  {
   "cell_type": "markdown",
   "id": "5bdbe8d3-e65f-41a8-90a1-e6b21ae87e1a",
   "metadata": {},
   "source": [
    "## Métricas de ajuste en training-test\n",
    "Sklearn para obtener todo tipo de métricas de evaluación para modelo logístico."
   ]
  },
  {
   "cell_type": "code",
   "execution_count": 172,
   "id": "7a53da3e-d399-48e4-aa45-17f91611d36f",
   "metadata": {
    "tags": []
   },
   "outputs": [
    {
     "name": "stdout",
     "output_type": "stream",
     "text": [
      "              precision    recall  f1-score   support\n",
      "\n",
      "         0.0       0.66      0.68      0.67       268\n",
      "         1.0       0.91      0.91      0.91      1005\n",
      "\n",
      "    accuracy                           0.86      1273\n",
      "   macro avg       0.79      0.79      0.79      1273\n",
      "weighted avg       0.86      0.86      0.86      1273\n",
      "\n"
     ]
    }
   ],
   "source": [
    "from sklearn.linear_model import LogisticRegression\n",
    "from sklearn import metrics\n",
    "# Definicion modelo\n",
    "modelo = LogisticRegression(solver='lbfgs', max_iter=1000, penalty='none')\n",
    "variable_objetivo_training = y_tr[\"Compra\"].ravel() ## ?? Investigar que hace esto\n",
    "\n",
    "# Ajuste de Modelo\n",
    "modelo_log = modelo.fit(x_tr, variable_objetivo_training)\n",
    "\n",
    "# Especificidad\n",
    "accuracy = modelo_log.score(x_tr, variable_objetivo_training)\n",
    "\n",
    "# Predicciones en test\n",
    "y_pred = modelo_log = modelo_log.predict(x_tst)\n",
    "\n",
    "# Matriz de confusion\n",
    "print(metrics.classification_report(y_tst, y_pred))\n"
   ]
  },
  {
   "cell_type": "code",
   "execution_count": 192,
   "id": "8aa4eb1a-4038-4de0-93d0-c1c94314acd0",
   "metadata": {
    "tags": []
   },
   "outputs": [
    {
     "data": {
      "text/plain": [
       "<Figure size 1400x400 with 0 Axes>"
      ]
     },
     "metadata": {},
     "output_type": "display_data"
    }
   ],
   "source": [
    "from sklearn.metrics import roc_curve, auc, roc_auc_score\n",
    "from bioinfokit.visuz import stat\n",
    "\n",
    "fpr, tpr, thresholds = roc_curve(y_tr, modelo.predict_proba(x_tr)[:, 1])\n",
    "auc = roc_auc_score(y_tr, modelo.predict_proba(x_tr)[:, 1])\n",
    "plt.clf()\n",
    "stat.roc(fpr=fpr, tpr=tpr, auc=auc, shade_auc=True, per_class=True, legendpos='upper center', legendanchor=(0.5, 1.08), legendcols=3)\n",
    "plt.show() # Doesn't display anything."
   ]
  },
  {
   "cell_type": "markdown",
   "id": "76f90c34-c4a8-4163-9f13-67270ae7385f",
   "metadata": {},
   "source": [
    "## Proceso manual hacia delante\n",
    "Vamos a considerar con las 3 principales variables de acuerdo a su importancia relativa."
   ]
  },
  {
   "cell_type": "code",
   "execution_count": 194,
   "id": "24e58d52-dbcf-4b11-85ae-572da1289a33",
   "metadata": {
    "tags": []
   },
   "outputs": [
    {
     "name": "stdout",
     "output_type": "stream",
     "text": [
      "Optimization terminated successfully.\n",
      "         Current function value: 0.318111\n",
      "         Iterations 8\n"
     ]
    },
    {
     "data": {
      "text/html": [
       "<table class=\"simpletable\">\n",
       "<caption>Logit Regression Results</caption>\n",
       "<tr>\n",
       "  <th>Dep. Variable:</th>        <td>Compra</td>      <th>  No. Observations:  </th>  <td>  5092</td> \n",
       "</tr>\n",
       "<tr>\n",
       "  <th>Model:</th>                 <td>Logit</td>      <th>  Df Residuals:      </th>  <td>  5087</td> \n",
       "</tr>\n",
       "<tr>\n",
       "  <th>Method:</th>                 <td>MLE</td>       <th>  Df Model:          </th>  <td>     4</td> \n",
       "</tr>\n",
       "<tr>\n",
       "  <th>Date:</th>            <td>Sun, 04 Feb 2024</td> <th>  Pseudo R-squ.:     </th>  <td>0.3901</td> \n",
       "</tr>\n",
       "<tr>\n",
       "  <th>Time:</th>                <td>17:39:46</td>     <th>  Log-Likelihood:    </th> <td> -1619.8</td>\n",
       "</tr>\n",
       "<tr>\n",
       "  <th>converged:</th>             <td>True</td>       <th>  LL-Null:           </th> <td> -2655.9</td>\n",
       "</tr>\n",
       "<tr>\n",
       "  <th>Covariance Type:</th>     <td>nonrobust</td>    <th>  LLR p-value:       </th>  <td> 0.000</td> \n",
       "</tr>\n",
       "</table>\n",
       "<table class=\"simpletable\">\n",
       "<tr>\n",
       "            <td></td>               <th>coef</th>     <th>std err</th>      <th>z</th>      <th>P>|z|</th>  <th>[0.025</th>    <th>0.975]</th>  \n",
       "</tr>\n",
       "<tr>\n",
       "  <th>Intercept</th>             <td>    3.4223</td> <td>    0.273</td> <td>   12.545</td> <td> 0.000</td> <td>    2.888</td> <td>    3.957</td>\n",
       "</tr>\n",
       "<tr>\n",
       "  <th>Clasificacion[T.**+]</th>  <td>    2.7876</td> <td>    0.178</td> <td>   15.654</td> <td> 0.000</td> <td>    2.439</td> <td>    3.137</td>\n",
       "</tr>\n",
       "<tr>\n",
       "  <th>Clasificacion[T.Desc]</th> <td>   -1.7679</td> <td>    0.094</td> <td>  -18.828</td> <td> 0.000</td> <td>   -1.952</td> <td>   -1.584</td>\n",
       "</tr>\n",
       "<tr>\n",
       "  <th>CalifProductor</th>        <td>   -0.4376</td> <td>    0.034</td> <td>  -12.882</td> <td> 0.000</td> <td>   -0.504</td> <td>   -0.371</td>\n",
       "</tr>\n",
       "<tr>\n",
       "  <th>pH</th>                    <td>   -0.2479</td> <td>    0.071</td> <td>   -3.492</td> <td> 0.000</td> <td>   -0.387</td> <td>   -0.109</td>\n",
       "</tr>\n",
       "</table>"
      ],
      "text/latex": [
       "\\begin{center}\n",
       "\\begin{tabular}{lclc}\n",
       "\\toprule\n",
       "\\textbf{Dep. Variable:}        &      Compra      & \\textbf{  No. Observations:  } &     5092    \\\\\n",
       "\\textbf{Model:}                &      Logit       & \\textbf{  Df Residuals:      } &     5087    \\\\\n",
       "\\textbf{Method:}               &       MLE        & \\textbf{  Df Model:          } &        4    \\\\\n",
       "\\textbf{Date:}                 & Sun, 04 Feb 2024 & \\textbf{  Pseudo R-squ.:     } &   0.3901    \\\\\n",
       "\\textbf{Time:}                 &     17:39:46     & \\textbf{  Log-Likelihood:    } &   -1619.8   \\\\\n",
       "\\textbf{converged:}            &       True       & \\textbf{  LL-Null:           } &   -2655.9   \\\\\n",
       "\\textbf{Covariance Type:}      &    nonrobust     & \\textbf{  LLR p-value:       } &    0.000    \\\\\n",
       "\\bottomrule\n",
       "\\end{tabular}\n",
       "\\begin{tabular}{lcccccc}\n",
       "                               & \\textbf{coef} & \\textbf{std err} & \\textbf{z} & \\textbf{P$> |$z$|$} & \\textbf{[0.025} & \\textbf{0.975]}  \\\\\n",
       "\\midrule\n",
       "\\textbf{Intercept}             &       3.4223  &        0.273     &    12.545  &         0.000        &        2.888    &        3.957     \\\\\n",
       "\\textbf{Clasificacion[T.**+]}  &       2.7876  &        0.178     &    15.654  &         0.000        &        2.439    &        3.137     \\\\\n",
       "\\textbf{Clasificacion[T.Desc]} &      -1.7679  &        0.094     &   -18.828  &         0.000        &       -1.952    &       -1.584     \\\\\n",
       "\\textbf{CalifProductor}        &      -0.4376  &        0.034     &   -12.882  &         0.000        &       -0.504    &       -0.371     \\\\\n",
       "\\textbf{pH}                    &      -0.2479  &        0.071     &    -3.492  &         0.000        &       -0.387    &       -0.109     \\\\\n",
       "\\bottomrule\n",
       "\\end{tabular}\n",
       "%\\caption{Logit Regression Results}\n",
       "\\end{center}"
      ],
      "text/plain": [
       "<class 'statsmodels.iolib.summary.Summary'>\n",
       "\"\"\"\n",
       "                           Logit Regression Results                           \n",
       "==============================================================================\n",
       "Dep. Variable:                 Compra   No. Observations:                 5092\n",
       "Model:                          Logit   Df Residuals:                     5087\n",
       "Method:                           MLE   Df Model:                            4\n",
       "Date:                Sun, 04 Feb 2024   Pseudo R-squ.:                  0.3901\n",
       "Time:                        17:39:46   Log-Likelihood:                -1619.8\n",
       "converged:                       True   LL-Null:                       -2655.9\n",
       "Covariance Type:            nonrobust   LLR p-value:                     0.000\n",
       "=========================================================================================\n",
       "                            coef    std err          z      P>|z|      [0.025      0.975]\n",
       "-----------------------------------------------------------------------------------------\n",
       "Intercept                 3.4223      0.273     12.545      0.000       2.888       3.957\n",
       "Clasificacion[T.**+]      2.7876      0.178     15.654      0.000       2.439       3.137\n",
       "Clasificacion[T.Desc]    -1.7679      0.094    -18.828      0.000      -1.952      -1.584\n",
       "CalifProductor           -0.4376      0.034    -12.882      0.000      -0.504      -0.371\n",
       "pH                       -0.2479      0.071     -3.492      0.000      -0.387      -0.109\n",
       "=========================================================================================\n",
       "\"\"\""
      ]
     },
     "execution_count": 194,
     "metadata": {},
     "output_type": "execute_result"
    }
   ],
   "source": [
    "formula_condensada = \"Compra ~ Clasificacion + CalifProductor + pH\"\n",
    "modelo1 = logit(formula_condensada, data=data_train).fit()\n",
    "modelo1.summary()"
   ]
  },
  {
   "cell_type": "markdown",
   "id": "43b1ec23-990d-43be-9243-9c748bc1cbd5",
   "metadata": {},
   "source": [
    "Este modelo es sencillo y bastante significativo en cuanto a sus parámetros. Por otr lado <br>\n",
    "el pseudo R2 en training baja un poco pero aumento en test, lo que puede indicar mayor capacidad de <br>\n",
    "generalización a datos desconocidos. <br>\n",
    "<br>\n",
    "Probaremos la interacción entre variables, por si existe un comportamiento conjunto."
   ]
  },
  {
   "cell_type": "code",
   "execution_count": 196,
   "id": "13d3674c-e22b-45a2-b060-5a6268e384d6",
   "metadata": {
    "tags": []
   },
   "outputs": [
    {
     "name": "stdout",
     "output_type": "stream",
     "text": [
      "Optimization terminated successfully.\n",
      "         Current function value: 0.303723\n",
      "         Iterations 9\n"
     ]
    },
    {
     "data": {
      "text/html": [
       "<table class=\"simpletable\">\n",
       "<caption>Logit Regression Results</caption>\n",
       "<tr>\n",
       "  <th>Dep. Variable:</th>        <td>Compra</td>      <th>  No. Observations:  </th>  <td>  5092</td> \n",
       "</tr>\n",
       "<tr>\n",
       "  <th>Model:</th>                 <td>Logit</td>      <th>  Df Residuals:      </th>  <td>  5075</td> \n",
       "</tr>\n",
       "<tr>\n",
       "  <th>Method:</th>                 <td>MLE</td>       <th>  Df Model:          </th>  <td>    16</td> \n",
       "</tr>\n",
       "<tr>\n",
       "  <th>Date:</th>            <td>Sun, 04 Feb 2024</td> <th>  Pseudo R-squ.:     </th>  <td>0.4177</td> \n",
       "</tr>\n",
       "<tr>\n",
       "  <th>Time:</th>                <td>17:43:03</td>     <th>  Log-Likelihood:    </th> <td> -1546.6</td>\n",
       "</tr>\n",
       "<tr>\n",
       "  <th>converged:</th>             <td>True</td>       <th>  LL-Null:           </th> <td> -2655.9</td>\n",
       "</tr>\n",
       "<tr>\n",
       "  <th>Covariance Type:</th>     <td>nonrobust</td>    <th>  LLR p-value:       </th>  <td> 0.000</td> \n",
       "</tr>\n",
       "</table>\n",
       "<table class=\"simpletable\">\n",
       "<tr>\n",
       "                    <td></td>                      <th>coef</th>     <th>std err</th>      <th>z</th>      <th>P>|z|</th>  <th>[0.025</th>    <th>0.975]</th>  \n",
       "</tr>\n",
       "<tr>\n",
       "  <th>Intercept</th>                            <td>    4.0613</td> <td>    0.431</td> <td>    9.428</td> <td> 0.000</td> <td>    3.217</td> <td>    4.906</td>\n",
       "</tr>\n",
       "<tr>\n",
       "  <th>Clasificacion[T.**+]</th>                 <td>    1.2071</td> <td>    1.076</td> <td>    1.122</td> <td> 0.262</td> <td>   -0.901</td> <td>    3.316</td>\n",
       "</tr>\n",
       "<tr>\n",
       "  <th>Clasificacion[T.Desc]</th>                <td>   -1.4790</td> <td>    0.418</td> <td>   -3.537</td> <td> 0.000</td> <td>   -2.299</td> <td>   -0.659</td>\n",
       "</tr>\n",
       "<tr>\n",
       "  <th>Etiqueta[T.M]</th>                        <td>   -0.1397</td> <td>    0.372</td> <td>   -0.375</td> <td> 0.708</td> <td>   -0.870</td> <td>    0.590</td>\n",
       "</tr>\n",
       "<tr>\n",
       "  <th>Etiqueta[T.R]</th>                        <td>   -0.8884</td> <td>    0.354</td> <td>   -2.511</td> <td> 0.012</td> <td>   -1.582</td> <td>   -0.195</td>\n",
       "</tr>\n",
       "<tr>\n",
       "  <th>Etiqueta[T.B]</th>                        <td>   -0.9383</td> <td>    0.384</td> <td>   -2.443</td> <td> 0.015</td> <td>   -1.691</td> <td>   -0.186</td>\n",
       "</tr>\n",
       "<tr>\n",
       "  <th>Etiqueta[T.MB]</th>                       <td>   -2.1540</td> <td>    0.566</td> <td>   -3.804</td> <td> 0.000</td> <td>   -3.264</td> <td>   -1.044</td>\n",
       "</tr>\n",
       "<tr>\n",
       "  <th>Clasificacion[T.**+]:Etiqueta[T.M]</th>   <td>    0.2443</td> <td>    1.117</td> <td>    0.219</td> <td> 0.827</td> <td>   -1.945</td> <td>    2.433</td>\n",
       "</tr>\n",
       "<tr>\n",
       "  <th>Clasificacion[T.Desc]:Etiqueta[T.M]</th>  <td>   -0.2339</td> <td>    0.458</td> <td>   -0.511</td> <td> 0.609</td> <td>   -1.131</td> <td>    0.663</td>\n",
       "</tr>\n",
       "<tr>\n",
       "  <th>Clasificacion[T.**+]:Etiqueta[T.R]</th>   <td>    1.9591</td> <td>    1.112</td> <td>    1.762</td> <td> 0.078</td> <td>   -0.220</td> <td>    4.138</td>\n",
       "</tr>\n",
       "<tr>\n",
       "  <th>Clasificacion[T.Desc]:Etiqueta[T.R]</th>  <td>   -0.2247</td> <td>    0.440</td> <td>   -0.510</td> <td> 0.610</td> <td>   -1.088</td> <td>    0.639</td>\n",
       "</tr>\n",
       "<tr>\n",
       "  <th>Clasificacion[T.**+]:Etiqueta[T.B]</th>   <td>    2.5153</td> <td>    1.166</td> <td>    2.158</td> <td> 0.031</td> <td>    0.230</td> <td>    4.800</td>\n",
       "</tr>\n",
       "<tr>\n",
       "  <th>Clasificacion[T.Desc]:Etiqueta[T.B]</th>  <td>   -0.9999</td> <td>    0.484</td> <td>   -2.064</td> <td> 0.039</td> <td>   -1.949</td> <td>   -0.050</td>\n",
       "</tr>\n",
       "<tr>\n",
       "  <th>Clasificacion[T.**+]:Etiqueta[T.MB]</th>  <td>    3.7396</td> <td>    1.540</td> <td>    2.428</td> <td> 0.015</td> <td>    0.721</td> <td>    6.758</td>\n",
       "</tr>\n",
       "<tr>\n",
       "  <th>Clasificacion[T.Desc]:Etiqueta[T.MB]</th> <td>    0.2862</td> <td>    0.729</td> <td>    0.393</td> <td> 0.694</td> <td>   -1.142</td> <td>    1.714</td>\n",
       "</tr>\n",
       "<tr>\n",
       "  <th>CalifProductor</th>                       <td>   -0.4231</td> <td>    0.035</td> <td>  -12.143</td> <td> 0.000</td> <td>   -0.491</td> <td>   -0.355</td>\n",
       "</tr>\n",
       "<tr>\n",
       "  <th>pH</th>                                   <td>   -0.2512</td> <td>    0.073</td> <td>   -3.463</td> <td> 0.001</td> <td>   -0.393</td> <td>   -0.109</td>\n",
       "</tr>\n",
       "</table>"
      ],
      "text/latex": [
       "\\begin{center}\n",
       "\\begin{tabular}{lclc}\n",
       "\\toprule\n",
       "\\textbf{Dep. Variable:}                       &      Compra      & \\textbf{  No. Observations:  } &     5092    \\\\\n",
       "\\textbf{Model:}                               &      Logit       & \\textbf{  Df Residuals:      } &     5075    \\\\\n",
       "\\textbf{Method:}                              &       MLE        & \\textbf{  Df Model:          } &       16    \\\\\n",
       "\\textbf{Date:}                                & Sun, 04 Feb 2024 & \\textbf{  Pseudo R-squ.:     } &   0.4177    \\\\\n",
       "\\textbf{Time:}                                &     17:43:03     & \\textbf{  Log-Likelihood:    } &   -1546.6   \\\\\n",
       "\\textbf{converged:}                           &       True       & \\textbf{  LL-Null:           } &   -2655.9   \\\\\n",
       "\\textbf{Covariance Type:}                     &    nonrobust     & \\textbf{  LLR p-value:       } &    0.000    \\\\\n",
       "\\bottomrule\n",
       "\\end{tabular}\n",
       "\\begin{tabular}{lcccccc}\n",
       "                                              & \\textbf{coef} & \\textbf{std err} & \\textbf{z} & \\textbf{P$> |$z$|$} & \\textbf{[0.025} & \\textbf{0.975]}  \\\\\n",
       "\\midrule\n",
       "\\textbf{Intercept}                            &       4.0613  &        0.431     &     9.428  &         0.000        &        3.217    &        4.906     \\\\\n",
       "\\textbf{Clasificacion[T.**+]}                 &       1.2071  &        1.076     &     1.122  &         0.262        &       -0.901    &        3.316     \\\\\n",
       "\\textbf{Clasificacion[T.Desc]}                &      -1.4790  &        0.418     &    -3.537  &         0.000        &       -2.299    &       -0.659     \\\\\n",
       "\\textbf{Etiqueta[T.M]}                        &      -0.1397  &        0.372     &    -0.375  &         0.708        &       -0.870    &        0.590     \\\\\n",
       "\\textbf{Etiqueta[T.R]}                        &      -0.8884  &        0.354     &    -2.511  &         0.012        &       -1.582    &       -0.195     \\\\\n",
       "\\textbf{Etiqueta[T.B]}                        &      -0.9383  &        0.384     &    -2.443  &         0.015        &       -1.691    &       -0.186     \\\\\n",
       "\\textbf{Etiqueta[T.MB]}                       &      -2.1540  &        0.566     &    -3.804  &         0.000        &       -3.264    &       -1.044     \\\\\n",
       "\\textbf{Clasificacion[T.**+]:Etiqueta[T.M]}   &       0.2443  &        1.117     &     0.219  &         0.827        &       -1.945    &        2.433     \\\\\n",
       "\\textbf{Clasificacion[T.Desc]:Etiqueta[T.M]}  &      -0.2339  &        0.458     &    -0.511  &         0.609        &       -1.131    &        0.663     \\\\\n",
       "\\textbf{Clasificacion[T.**+]:Etiqueta[T.R]}   &       1.9591  &        1.112     &     1.762  &         0.078        &       -0.220    &        4.138     \\\\\n",
       "\\textbf{Clasificacion[T.Desc]:Etiqueta[T.R]}  &      -0.2247  &        0.440     &    -0.510  &         0.610        &       -1.088    &        0.639     \\\\\n",
       "\\textbf{Clasificacion[T.**+]:Etiqueta[T.B]}   &       2.5153  &        1.166     &     2.158  &         0.031        &        0.230    &        4.800     \\\\\n",
       "\\textbf{Clasificacion[T.Desc]:Etiqueta[T.B]}  &      -0.9999  &        0.484     &    -2.064  &         0.039        &       -1.949    &       -0.050     \\\\\n",
       "\\textbf{Clasificacion[T.**+]:Etiqueta[T.MB]}  &       3.7396  &        1.540     &     2.428  &         0.015        &        0.721    &        6.758     \\\\\n",
       "\\textbf{Clasificacion[T.Desc]:Etiqueta[T.MB]} &       0.2862  &        0.729     &     0.393  &         0.694        &       -1.142    &        1.714     \\\\\n",
       "\\textbf{CalifProductor}                       &      -0.4231  &        0.035     &   -12.143  &         0.000        &       -0.491    &       -0.355     \\\\\n",
       "\\textbf{pH}                                   &      -0.2512  &        0.073     &    -3.463  &         0.001        &       -0.393    &       -0.109     \\\\\n",
       "\\bottomrule\n",
       "\\end{tabular}\n",
       "%\\caption{Logit Regression Results}\n",
       "\\end{center}"
      ],
      "text/plain": [
       "<class 'statsmodels.iolib.summary.Summary'>\n",
       "\"\"\"\n",
       "                           Logit Regression Results                           \n",
       "==============================================================================\n",
       "Dep. Variable:                 Compra   No. Observations:                 5092\n",
       "Model:                          Logit   Df Residuals:                     5075\n",
       "Method:                           MLE   Df Model:                           16\n",
       "Date:                Sun, 04 Feb 2024   Pseudo R-squ.:                  0.4177\n",
       "Time:                        17:43:03   Log-Likelihood:                -1546.6\n",
       "converged:                       True   LL-Null:                       -2655.9\n",
       "Covariance Type:            nonrobust   LLR p-value:                     0.000\n",
       "========================================================================================================\n",
       "                                           coef    std err          z      P>|z|      [0.025      0.975]\n",
       "--------------------------------------------------------------------------------------------------------\n",
       "Intercept                                4.0613      0.431      9.428      0.000       3.217       4.906\n",
       "Clasificacion[T.**+]                     1.2071      1.076      1.122      0.262      -0.901       3.316\n",
       "Clasificacion[T.Desc]                   -1.4790      0.418     -3.537      0.000      -2.299      -0.659\n",
       "Etiqueta[T.M]                           -0.1397      0.372     -0.375      0.708      -0.870       0.590\n",
       "Etiqueta[T.R]                           -0.8884      0.354     -2.511      0.012      -1.582      -0.195\n",
       "Etiqueta[T.B]                           -0.9383      0.384     -2.443      0.015      -1.691      -0.186\n",
       "Etiqueta[T.MB]                          -2.1540      0.566     -3.804      0.000      -3.264      -1.044\n",
       "Clasificacion[T.**+]:Etiqueta[T.M]       0.2443      1.117      0.219      0.827      -1.945       2.433\n",
       "Clasificacion[T.Desc]:Etiqueta[T.M]     -0.2339      0.458     -0.511      0.609      -1.131       0.663\n",
       "Clasificacion[T.**+]:Etiqueta[T.R]       1.9591      1.112      1.762      0.078      -0.220       4.138\n",
       "Clasificacion[T.Desc]:Etiqueta[T.R]     -0.2247      0.440     -0.510      0.610      -1.088       0.639\n",
       "Clasificacion[T.**+]:Etiqueta[T.B]       2.5153      1.166      2.158      0.031       0.230       4.800\n",
       "Clasificacion[T.Desc]:Etiqueta[T.B]     -0.9999      0.484     -2.064      0.039      -1.949      -0.050\n",
       "Clasificacion[T.**+]:Etiqueta[T.MB]      3.7396      1.540      2.428      0.015       0.721       6.758\n",
       "Clasificacion[T.Desc]:Etiqueta[T.MB]     0.2862      0.729      0.393      0.694      -1.142       1.714\n",
       "CalifProductor                          -0.4231      0.035    -12.143      0.000      -0.491      -0.355\n",
       "pH                                      -0.2512      0.073     -3.463      0.001      -0.393      -0.109\n",
       "========================================================================================================\n",
       "\"\"\""
      ]
     },
     "execution_count": 196,
     "metadata": {},
     "output_type": "execute_result"
    }
   ],
   "source": [
    "formula_interaccion = \"Compra ~ Clasificacion*Etiqueta + CalifProductor + pH\"\n",
    "modelo2 = logit(formula_interaccion, data=data_train).fit()\n",
    "modelo2.summary()"
   ]
  },
  {
   "cell_type": "markdown",
   "id": "8ce870e1-55db-4237-b650-5ce050e46f22",
   "metadata": {},
   "source": [
    "- Vinos con clasificacion + 2 estrellas\n",
    "1. Si la etiqueta es B, su coeficiente es de 3.509 con lo que la probabilidad de compra de este tipo de vinos es de 3.509 veces superior a aquellos vinos con clasificación 1 estrella y etiqueta B. \n",
    "2. Si etiqueta es M, su coeficiente será 3.69+0.77-2.29, es decir, betaClas2estr + betaEtiM + betaClas2estr:EtiM. <br>\n",
    "Con lo que el efecto será exp(3.69 + 0.77 - 2.29)= exp(2.17), menor que el anterior. Así que la probabilidad de compra <br>\n",
    "de un vino con clasificación 2 estrellas y etiqueta mala es exp(2.17) mayor que la de un vino con clasificación 1 <br>\n",
    "estrella y etiqueta B.\n",
    "\n"
   ]
  },
  {
   "cell_type": "markdown",
   "id": "133e45b3-c867-46bd-a92b-33b80d9ca1cf",
   "metadata": {},
   "source": [
    "Vamos a probar a eliminar esta interacción y poner en su lugar un par de variables continuas para obtener un modelo <br>\n",
    "más sencillo y evaluar posteriormente si el aumento en complejidad resulta en un mejor modelo."
   ]
  },
  {
   "cell_type": "code",
   "execution_count": 198,
   "id": "f38969da-5b22-41ae-bd9b-72d2328aba7c",
   "metadata": {
    "tags": []
   },
   "outputs": [
    {
     "name": "stdout",
     "output_type": "stream",
     "text": [
      "Optimization terminated successfully.\n",
      "         Current function value: 0.308603\n",
      "         Iterations 8\n"
     ]
    },
    {
     "data": {
      "text/html": [
       "<table class=\"simpletable\">\n",
       "<caption>Logit Regression Results</caption>\n",
       "<tr>\n",
       "  <th>Dep. Variable:</th>        <td>Compra</td>      <th>  No. Observations:  </th>  <td>  5092</td> \n",
       "</tr>\n",
       "<tr>\n",
       "  <th>Model:</th>                 <td>Logit</td>      <th>  Df Residuals:      </th>  <td>  5083</td> \n",
       "</tr>\n",
       "<tr>\n",
       "  <th>Method:</th>                 <td>MLE</td>       <th>  Df Model:          </th>  <td>     8</td> \n",
       "</tr>\n",
       "<tr>\n",
       "  <th>Date:</th>            <td>Sun, 04 Feb 2024</td> <th>  Pseudo R-squ.:     </th>  <td>0.4083</td> \n",
       "</tr>\n",
       "<tr>\n",
       "  <th>Time:</th>                <td>17:52:21</td>     <th>  Log-Likelihood:    </th> <td> -1571.4</td>\n",
       "</tr>\n",
       "<tr>\n",
       "  <th>converged:</th>             <td>True</td>       <th>  LL-Null:           </th> <td> -2655.9</td>\n",
       "</tr>\n",
       "<tr>\n",
       "  <th>Covariance Type:</th>     <td>nonrobust</td>    <th>  LLR p-value:       </th>  <td> 0.000</td> \n",
       "</tr>\n",
       "</table>\n",
       "<table class=\"simpletable\">\n",
       "<tr>\n",
       "            <td></td>               <th>coef</th>     <th>std err</th>      <th>z</th>      <th>P>|z|</th>  <th>[0.025</th>    <th>0.975]</th>  \n",
       "</tr>\n",
       "<tr>\n",
       "  <th>Intercept</th>             <td>    4.2454</td> <td>    0.343</td> <td>   12.363</td> <td> 0.000</td> <td>    3.572</td> <td>    4.918</td>\n",
       "</tr>\n",
       "<tr>\n",
       "  <th>Clasificacion[T.**+]</th>  <td>    3.0262</td> <td>    0.181</td> <td>   16.681</td> <td> 0.000</td> <td>    2.671</td> <td>    3.382</td>\n",
       "</tr>\n",
       "<tr>\n",
       "  <th>Clasificacion[T.Desc]</th> <td>   -1.7971</td> <td>    0.096</td> <td>  -18.656</td> <td> 0.000</td> <td>   -1.986</td> <td>   -1.608</td>\n",
       "</tr>\n",
       "<tr>\n",
       "  <th>Etiqueta[T.M]</th>         <td>   -0.3534</td> <td>    0.218</td> <td>   -1.622</td> <td> 0.105</td> <td>   -0.780</td> <td>    0.074</td>\n",
       "</tr>\n",
       "<tr>\n",
       "  <th>Etiqueta[T.R]</th>         <td>   -1.0111</td> <td>    0.212</td> <td>   -4.765</td> <td> 0.000</td> <td>   -1.427</td> <td>   -0.595</td>\n",
       "</tr>\n",
       "<tr>\n",
       "  <th>Etiqueta[T.B]</th>         <td>   -1.3757</td> <td>    0.227</td> <td>   -6.049</td> <td> 0.000</td> <td>   -1.821</td> <td>   -0.930</td>\n",
       "</tr>\n",
       "<tr>\n",
       "  <th>Etiqueta[T.MB]</th>        <td>   -1.7526</td> <td>    0.329</td> <td>   -5.319</td> <td> 0.000</td> <td>   -2.398</td> <td>   -1.107</td>\n",
       "</tr>\n",
       "<tr>\n",
       "  <th>CalifProductor</th>        <td>   -0.4274</td> <td>    0.035</td> <td>  -12.343</td> <td> 0.000</td> <td>   -0.495</td> <td>   -0.360</td>\n",
       "</tr>\n",
       "<tr>\n",
       "  <th>pH</th>                    <td>   -0.2485</td> <td>    0.072</td> <td>   -3.446</td> <td> 0.001</td> <td>   -0.390</td> <td>   -0.107</td>\n",
       "</tr>\n",
       "</table>"
      ],
      "text/latex": [
       "\\begin{center}\n",
       "\\begin{tabular}{lclc}\n",
       "\\toprule\n",
       "\\textbf{Dep. Variable:}        &      Compra      & \\textbf{  No. Observations:  } &     5092    \\\\\n",
       "\\textbf{Model:}                &      Logit       & \\textbf{  Df Residuals:      } &     5083    \\\\\n",
       "\\textbf{Method:}               &       MLE        & \\textbf{  Df Model:          } &        8    \\\\\n",
       "\\textbf{Date:}                 & Sun, 04 Feb 2024 & \\textbf{  Pseudo R-squ.:     } &   0.4083    \\\\\n",
       "\\textbf{Time:}                 &     17:52:21     & \\textbf{  Log-Likelihood:    } &   -1571.4   \\\\\n",
       "\\textbf{converged:}            &       True       & \\textbf{  LL-Null:           } &   -2655.9   \\\\\n",
       "\\textbf{Covariance Type:}      &    nonrobust     & \\textbf{  LLR p-value:       } &    0.000    \\\\\n",
       "\\bottomrule\n",
       "\\end{tabular}\n",
       "\\begin{tabular}{lcccccc}\n",
       "                               & \\textbf{coef} & \\textbf{std err} & \\textbf{z} & \\textbf{P$> |$z$|$} & \\textbf{[0.025} & \\textbf{0.975]}  \\\\\n",
       "\\midrule\n",
       "\\textbf{Intercept}             &       4.2454  &        0.343     &    12.363  &         0.000        &        3.572    &        4.918     \\\\\n",
       "\\textbf{Clasificacion[T.**+]}  &       3.0262  &        0.181     &    16.681  &         0.000        &        2.671    &        3.382     \\\\\n",
       "\\textbf{Clasificacion[T.Desc]} &      -1.7971  &        0.096     &   -18.656  &         0.000        &       -1.986    &       -1.608     \\\\\n",
       "\\textbf{Etiqueta[T.M]}         &      -0.3534  &        0.218     &    -1.622  &         0.105        &       -0.780    &        0.074     \\\\\n",
       "\\textbf{Etiqueta[T.R]}         &      -1.0111  &        0.212     &    -4.765  &         0.000        &       -1.427    &       -0.595     \\\\\n",
       "\\textbf{Etiqueta[T.B]}         &      -1.3757  &        0.227     &    -6.049  &         0.000        &       -1.821    &       -0.930     \\\\\n",
       "\\textbf{Etiqueta[T.MB]}        &      -1.7526  &        0.329     &    -5.319  &         0.000        &       -2.398    &       -1.107     \\\\\n",
       "\\textbf{CalifProductor}        &      -0.4274  &        0.035     &   -12.343  &         0.000        &       -0.495    &       -0.360     \\\\\n",
       "\\textbf{pH}                    &      -0.2485  &        0.072     &    -3.446  &         0.001        &       -0.390    &       -0.107     \\\\\n",
       "\\bottomrule\n",
       "\\end{tabular}\n",
       "%\\caption{Logit Regression Results}\n",
       "\\end{center}"
      ],
      "text/plain": [
       "<class 'statsmodels.iolib.summary.Summary'>\n",
       "\"\"\"\n",
       "                           Logit Regression Results                           \n",
       "==============================================================================\n",
       "Dep. Variable:                 Compra   No. Observations:                 5092\n",
       "Model:                          Logit   Df Residuals:                     5083\n",
       "Method:                           MLE   Df Model:                            8\n",
       "Date:                Sun, 04 Feb 2024   Pseudo R-squ.:                  0.4083\n",
       "Time:                        17:52:21   Log-Likelihood:                -1571.4\n",
       "converged:                       True   LL-Null:                       -2655.9\n",
       "Covariance Type:            nonrobust   LLR p-value:                     0.000\n",
       "=========================================================================================\n",
       "                            coef    std err          z      P>|z|      [0.025      0.975]\n",
       "-----------------------------------------------------------------------------------------\n",
       "Intercept                 4.2454      0.343     12.363      0.000       3.572       4.918\n",
       "Clasificacion[T.**+]      3.0262      0.181     16.681      0.000       2.671       3.382\n",
       "Clasificacion[T.Desc]    -1.7971      0.096    -18.656      0.000      -1.986      -1.608\n",
       "Etiqueta[T.M]            -0.3534      0.218     -1.622      0.105      -0.780       0.074\n",
       "Etiqueta[T.R]            -1.0111      0.212     -4.765      0.000      -1.427      -0.595\n",
       "Etiqueta[T.B]            -1.3757      0.227     -6.049      0.000      -1.821      -0.930\n",
       "Etiqueta[T.MB]           -1.7526      0.329     -5.319      0.000      -2.398      -1.107\n",
       "CalifProductor           -0.4274      0.035    -12.343      0.000      -0.495      -0.360\n",
       "pH                       -0.2485      0.072     -3.446      0.001      -0.390      -0.107\n",
       "=========================================================================================\n",
       "\"\"\""
      ]
     },
     "execution_count": 198,
     "metadata": {},
     "output_type": "execute_result"
    }
   ],
   "source": [
    "formula3 = \"Compra ~ Clasificacion + CalifProductor + pH + Etiqueta\"\n",
    "modelo3 = logit(formula3, data=data_train).fit()\n",
    "modelo3.summary()"
   ]
  },
  {
   "cell_type": "markdown",
   "id": "77cf9ab2-e830-4aba-aa07-52758072fe97",
   "metadata": {},
   "source": [
    "El modelo tiene la mitad de parámetros que el anterior y su capcidad en el esquema training/test es muy parecida. <br>\n",
    "<br>\n",
    "Vamos a introducir otro par de variables continuas de las que pueden influir para valorar el aporte a la capacidad <br>\n",
    "predictiva del modelo y su significancia estadística."
   ]
  },
  {
   "cell_type": "code",
   "execution_count": 199,
   "id": "124e467e-1cbe-4bab-85ce-b44e4086dfdc",
   "metadata": {
    "tags": []
   },
   "outputs": [
    {
     "name": "stdout",
     "output_type": "stream",
     "text": [
      "Optimization terminated successfully.\n",
      "         Current function value: 0.308374\n",
      "         Iterations 8\n"
     ]
    },
    {
     "data": {
      "text/html": [
       "<table class=\"simpletable\">\n",
       "<caption>Logit Regression Results</caption>\n",
       "<tr>\n",
       "  <th>Dep. Variable:</th>        <td>Compra</td>      <th>  No. Observations:  </th>  <td>  5092</td> \n",
       "</tr>\n",
       "<tr>\n",
       "  <th>Model:</th>                 <td>Logit</td>      <th>  Df Residuals:      </th>  <td>  5082</td> \n",
       "</tr>\n",
       "<tr>\n",
       "  <th>Method:</th>                 <td>MLE</td>       <th>  Df Model:          </th>  <td>     9</td> \n",
       "</tr>\n",
       "<tr>\n",
       "  <th>Date:</th>            <td>Sun, 04 Feb 2024</td> <th>  Pseudo R-squ.:     </th>  <td>0.4088</td> \n",
       "</tr>\n",
       "<tr>\n",
       "  <th>Time:</th>                <td>17:54:37</td>     <th>  Log-Likelihood:    </th> <td> -1570.2</td>\n",
       "</tr>\n",
       "<tr>\n",
       "  <th>converged:</th>             <td>True</td>       <th>  LL-Null:           </th> <td> -2655.9</td>\n",
       "</tr>\n",
       "<tr>\n",
       "  <th>Covariance Type:</th>     <td>nonrobust</td>    <th>  LLR p-value:       </th>  <td> 0.000</td> \n",
       "</tr>\n",
       "</table>\n",
       "<table class=\"simpletable\">\n",
       "<tr>\n",
       "            <td></td>               <th>coef</th>     <th>std err</th>      <th>z</th>      <th>P>|z|</th>  <th>[0.025</th>    <th>0.975]</th>  \n",
       "</tr>\n",
       "<tr>\n",
       "  <th>Intercept</th>             <td>    4.2501</td> <td>    0.343</td> <td>   12.386</td> <td> 0.000</td> <td>    3.578</td> <td>    4.923</td>\n",
       "</tr>\n",
       "<tr>\n",
       "  <th>Clasificacion[T.**+]</th>  <td>    3.0251</td> <td>    0.181</td> <td>   16.672</td> <td> 0.000</td> <td>    2.669</td> <td>    3.381</td>\n",
       "</tr>\n",
       "<tr>\n",
       "  <th>Clasificacion[T.Desc]</th> <td>   -1.7969</td> <td>    0.096</td> <td>  -18.648</td> <td> 0.000</td> <td>   -1.986</td> <td>   -1.608</td>\n",
       "</tr>\n",
       "<tr>\n",
       "  <th>Etiqueta[T.M]</th>         <td>   -0.3495</td> <td>    0.218</td> <td>   -1.605</td> <td> 0.109</td> <td>   -0.776</td> <td>    0.077</td>\n",
       "</tr>\n",
       "<tr>\n",
       "  <th>Etiqueta[T.R]</th>         <td>   -1.0039</td> <td>    0.212</td> <td>   -4.731</td> <td> 0.000</td> <td>   -1.420</td> <td>   -0.588</td>\n",
       "</tr>\n",
       "<tr>\n",
       "  <th>Etiqueta[T.B]</th>         <td>   -1.3693</td> <td>    0.227</td> <td>   -6.022</td> <td> 0.000</td> <td>   -1.815</td> <td>   -0.924</td>\n",
       "</tr>\n",
       "<tr>\n",
       "  <th>Etiqueta[T.MB]</th>        <td>   -1.7472</td> <td>    0.330</td> <td>   -5.299</td> <td> 0.000</td> <td>   -2.394</td> <td>   -1.101</td>\n",
       "</tr>\n",
       "<tr>\n",
       "  <th>CalifProductor</th>        <td>   -0.4255</td> <td>    0.035</td> <td>  -12.280</td> <td> 0.000</td> <td>   -0.493</td> <td>   -0.358</td>\n",
       "</tr>\n",
       "<tr>\n",
       "  <th>pH</th>                    <td>   -0.2494</td> <td>    0.072</td> <td>   -3.459</td> <td> 0.001</td> <td>   -0.391</td> <td>   -0.108</td>\n",
       "</tr>\n",
       "<tr>\n",
       "  <th>CloruroSodico</th>         <td>   -0.2336</td> <td>    0.153</td> <td>   -1.529</td> <td> 0.126</td> <td>   -0.533</td> <td>    0.066</td>\n",
       "</tr>\n",
       "</table>"
      ],
      "text/latex": [
       "\\begin{center}\n",
       "\\begin{tabular}{lclc}\n",
       "\\toprule\n",
       "\\textbf{Dep. Variable:}        &      Compra      & \\textbf{  No. Observations:  } &     5092    \\\\\n",
       "\\textbf{Model:}                &      Logit       & \\textbf{  Df Residuals:      } &     5082    \\\\\n",
       "\\textbf{Method:}               &       MLE        & \\textbf{  Df Model:          } &        9    \\\\\n",
       "\\textbf{Date:}                 & Sun, 04 Feb 2024 & \\textbf{  Pseudo R-squ.:     } &   0.4088    \\\\\n",
       "\\textbf{Time:}                 &     17:54:37     & \\textbf{  Log-Likelihood:    } &   -1570.2   \\\\\n",
       "\\textbf{converged:}            &       True       & \\textbf{  LL-Null:           } &   -2655.9   \\\\\n",
       "\\textbf{Covariance Type:}      &    nonrobust     & \\textbf{  LLR p-value:       } &    0.000    \\\\\n",
       "\\bottomrule\n",
       "\\end{tabular}\n",
       "\\begin{tabular}{lcccccc}\n",
       "                               & \\textbf{coef} & \\textbf{std err} & \\textbf{z} & \\textbf{P$> |$z$|$} & \\textbf{[0.025} & \\textbf{0.975]}  \\\\\n",
       "\\midrule\n",
       "\\textbf{Intercept}             &       4.2501  &        0.343     &    12.386  &         0.000        &        3.578    &        4.923     \\\\\n",
       "\\textbf{Clasificacion[T.**+]}  &       3.0251  &        0.181     &    16.672  &         0.000        &        2.669    &        3.381     \\\\\n",
       "\\textbf{Clasificacion[T.Desc]} &      -1.7969  &        0.096     &   -18.648  &         0.000        &       -1.986    &       -1.608     \\\\\n",
       "\\textbf{Etiqueta[T.M]}         &      -0.3495  &        0.218     &    -1.605  &         0.109        &       -0.776    &        0.077     \\\\\n",
       "\\textbf{Etiqueta[T.R]}         &      -1.0039  &        0.212     &    -4.731  &         0.000        &       -1.420    &       -0.588     \\\\\n",
       "\\textbf{Etiqueta[T.B]}         &      -1.3693  &        0.227     &    -6.022  &         0.000        &       -1.815    &       -0.924     \\\\\n",
       "\\textbf{Etiqueta[T.MB]}        &      -1.7472  &        0.330     &    -5.299  &         0.000        &       -2.394    &       -1.101     \\\\\n",
       "\\textbf{CalifProductor}        &      -0.4255  &        0.035     &   -12.280  &         0.000        &       -0.493    &       -0.358     \\\\\n",
       "\\textbf{pH}                    &      -0.2494  &        0.072     &    -3.459  &         0.001        &       -0.391    &       -0.108     \\\\\n",
       "\\textbf{CloruroSodico}         &      -0.2336  &        0.153     &    -1.529  &         0.126        &       -0.533    &        0.066     \\\\\n",
       "\\bottomrule\n",
       "\\end{tabular}\n",
       "%\\caption{Logit Regression Results}\n",
       "\\end{center}"
      ],
      "text/plain": [
       "<class 'statsmodels.iolib.summary.Summary'>\n",
       "\"\"\"\n",
       "                           Logit Regression Results                           \n",
       "==============================================================================\n",
       "Dep. Variable:                 Compra   No. Observations:                 5092\n",
       "Model:                          Logit   Df Residuals:                     5082\n",
       "Method:                           MLE   Df Model:                            9\n",
       "Date:                Sun, 04 Feb 2024   Pseudo R-squ.:                  0.4088\n",
       "Time:                        17:54:37   Log-Likelihood:                -1570.2\n",
       "converged:                       True   LL-Null:                       -2655.9\n",
       "Covariance Type:            nonrobust   LLR p-value:                     0.000\n",
       "=========================================================================================\n",
       "                            coef    std err          z      P>|z|      [0.025      0.975]\n",
       "-----------------------------------------------------------------------------------------\n",
       "Intercept                 4.2501      0.343     12.386      0.000       3.578       4.923\n",
       "Clasificacion[T.**+]      3.0251      0.181     16.672      0.000       2.669       3.381\n",
       "Clasificacion[T.Desc]    -1.7969      0.096    -18.648      0.000      -1.986      -1.608\n",
       "Etiqueta[T.M]            -0.3495      0.218     -1.605      0.109      -0.776       0.077\n",
       "Etiqueta[T.R]            -1.0039      0.212     -4.731      0.000      -1.420      -0.588\n",
       "Etiqueta[T.B]            -1.3693      0.227     -6.022      0.000      -1.815      -0.924\n",
       "Etiqueta[T.MB]           -1.7472      0.330     -5.299      0.000      -2.394      -1.101\n",
       "CalifProductor           -0.4255      0.035    -12.280      0.000      -0.493      -0.358\n",
       "pH                       -0.2494      0.072     -3.459      0.001      -0.391      -0.108\n",
       "CloruroSodico            -0.2336      0.153     -1.529      0.126      -0.533       0.066\n",
       "=========================================================================================\n",
       "\"\"\""
      ]
     },
     "execution_count": 199,
     "metadata": {},
     "output_type": "execute_result"
    }
   ],
   "source": [
    "formula4 = \"Compra ~ Clasificacion + CalifProductor + pH + Etiqueta + CloruroSodico\"\n",
    "# Ajustar modelo 1\n",
    "modelo4 = logit(formula4, data=data_train).fit()\n",
    "modelo4.summary()"
   ]
  },
  {
   "cell_type": "markdown",
   "id": "155fb225-9882-4c2e-a56a-5d7876a05481",
   "metadata": {},
   "source": [
    "No tiene significacia estadistica y no aumenta el pseudo r cuadrado."
   ]
  },
  {
   "cell_type": "markdown",
   "id": "cc91fc69-6b86-4ccf-adfa-8cdc4f033ba7",
   "metadata": {},
   "source": [
    "## Evaluación de los modelos por validación cruzada repetida\n",
    "Partiremos la data en 5 partes formaremos 5 training con las 5 combinaciones de 4/5 <br>\n",
    "con sus correspondientes 5 test de 1/5, repitiendo esto 20 veces con distintas semillas <br>\n",
    "de inicialización. De esta forma, el modelo se enfrentará a distintos training y test sets <br>\n",
    "considerando en su entranamiento todos los datos pero nunca todos a la vez, evitando <br>\n",
    "sobreajuste. Tendremos 100 ajustes por fórmula y promediaremos los resultados obtenidos para <br>\n",
    "valorar la relación sesgo-varianza.\n",
    "<br>\n",
    "<br> \n",
    "Utilizaremos la métrica ROC para evaluar la bondad de ajusta y no la especificidad."
   ]
  },
  {
   "cell_type": "code",
   "execution_count": 207,
   "id": "db28578c-ece5-47b9-bdec-37ec3001e330",
   "metadata": {
    "tags": []
   },
   "outputs": [],
   "source": [
    "def cross_val_log(formula, data, seed=1):\n",
    "    y, x = patsy.dmatrices(formula, data, return_type='dataframe')\n",
    "    y = y.iloc[:, 0].ravel()\n",
    "    \n",
    "    model = LogisticRegression(solver='lbfgs', max_iter=1000, penalty='none')\n",
    "    # Establecemos esquema de validacion fijando random_state (reproducibilidad)\n",
    "    cv = RepeatedKFold(n_splits=5, n_repeats=20, random_state=seed)\n",
    "    \n",
    "    # Obtenemos los resultados de R2 para cada particion de training y test\n",
    "    scores = cross_val_score(model, x, y, scoring='roc_auc', cv=cv)\n",
    "    \n",
    "    # Sesgo y varianza\n",
    "    print(\"Modelo: \" + formula)\n",
    "    print(\"AUC: %.3f (%.3f)\" % (np.mean(scores), np.std(scores)))\n",
    "    \n",
    "    return scores"
   ]
  },
  {
   "cell_type": "code",
   "execution_count": 208,
   "id": "a12316ae-5bfa-486c-8e08-7a12481257b3",
   "metadata": {
    "tags": []
   },
   "outputs": [
    {
     "name": "stdout",
     "output_type": "stream",
     "text": [
      "Modelo: Compra ~ Clasificacion + CalifProductor + pH + Etiqueta + CloruroSodico\n",
      "AUC: 0.908 (0.008)\n"
     ]
    },
    {
     "data": {
      "text/plain": [
       "array([0.90766264, 0.91342125, 0.91176881, 0.90582721, 0.90093781,\n",
       "       0.90899026, 0.90961492, 0.90162298, 0.90996937, 0.90651747,\n",
       "       0.91818208, 0.89253395, 0.89983775, 0.90813698, 0.91777679,\n",
       "       0.91954666, 0.90487189, 0.9055209 , 0.9096696 , 0.89998378,\n",
       "       0.89177523, 0.90552756, 0.9102138 , 0.90965783, 0.92251659,\n",
       "       0.91254197, 0.90035871, 0.91818534, 0.89147769, 0.91603062,\n",
       "       0.92324818, 0.90553197, 0.91007764, 0.89051858, 0.90937033,\n",
       "       0.90386571, 0.91316145, 0.91111855, 0.91014193, 0.89944608,\n",
       "       0.90959768, 0.90577252, 0.9023425 , 0.91645869, 0.90347718,\n",
       "       0.9135704 , 0.90580799, 0.90444971, 0.9036507 , 0.91150899,\n",
       "       0.91609199, 0.90569033, 0.89643587, 0.91277419, 0.90598922,\n",
       "       0.90912459, 0.90560264, 0.89626374, 0.92546196, 0.90343067,\n",
       "       0.90203536, 0.89759816, 0.9215132 , 0.91311285, 0.90326471,\n",
       "       0.91083085, 0.90897407, 0.90172913, 0.90924264, 0.90838594,\n",
       "       0.91659076, 0.89358972, 0.9230388 , 0.90078436, 0.90457109,\n",
       "       0.91269108, 0.90454274, 0.90867189, 0.90988712, 0.90518895,\n",
       "       0.91435343, 0.90194951, 0.90673711, 0.89293827, 0.91841846,\n",
       "       0.90303984, 0.91409845, 0.91301584, 0.90765956, 0.90229282,\n",
       "       0.91100272, 0.90330634, 0.91187638, 0.90677735, 0.90584766,\n",
       "       0.91440528, 0.88878204, 0.90060014, 0.92842073, 0.90779205])"
      ]
     },
     "execution_count": 208,
     "metadata": {},
     "output_type": "execute_result"
    }
   ],
   "source": [
    "# Sklearn y sus mamadas\n",
    "datos_backup[\"Compra\"].astype(\"int64\")\n",
    "\n",
    "# Aplicacion a una formula\n",
    "cross_val_log(formula4, data=datos_backup)"
   ]
  },
  {
   "cell_type": "markdown",
   "id": "fdc92da3-18de-4d09-9dc6-63b507cb2e7b",
   "metadata": {
    "tags": []
   },
   "source": [
    "Creamos lista de fórmula y aplicamos de forma general la comparativa por CV."
   ]
  },
  {
   "cell_type": "code",
   "execution_count": 216,
   "id": "5dcacac9-7426-4205-bd08-e8fe10f14518",
   "metadata": {
    "tags": []
   },
   "outputs": [
    {
     "name": "stdout",
     "output_type": "stream",
     "text": [
      "Modelo: Compra ~ Clasificacion + CalifProductor + pH\n",
      "AUC: 0.901 (0.007)\n",
      "Modelo: Compra ~ Clasificacion + CalifProductor + pH + Etiqueta\n",
      "AUC: 0.908 (0.007)\n",
      "Modelo: Compra ~ Clasificacion + CalifProductor + pH + Etiqueta + CloruroSodico\n",
      "AUC: 0.908 (0.007)\n"
     ]
    }
   ],
   "source": [
    "list_form = [formula_condensada, formula3, formula4]\n",
    "list_res = pd.DataFrame(map(lambda x: cross_val_log(x, datos_backup, seed=2022), list_form))"
   ]
  },
  {
   "cell_type": "code",
   "execution_count": 217,
   "id": "2517002e-8998-461a-909f-347f486c42d1",
   "metadata": {
    "tags": []
   },
   "outputs": [
    {
     "data": {
      "text/html": [
       "<div>\n",
       "<style scoped>\n",
       "    .dataframe tbody tr th:only-of-type {\n",
       "        vertical-align: middle;\n",
       "    }\n",
       "\n",
       "    .dataframe tbody tr th {\n",
       "        vertical-align: top;\n",
       "    }\n",
       "\n",
       "    .dataframe thead th {\n",
       "        text-align: right;\n",
       "    }\n",
       "</style>\n",
       "<table border=\"1\" class=\"dataframe\">\n",
       "  <thead>\n",
       "    <tr style=\"text-align: right;\">\n",
       "      <th></th>\n",
       "      <th>Modelo</th>\n",
       "      <th>AUC</th>\n",
       "    </tr>\n",
       "  </thead>\n",
       "  <tbody>\n",
       "    <tr>\n",
       "      <th>0</th>\n",
       "      <td>0</td>\n",
       "      <td>0.897092</td>\n",
       "    </tr>\n",
       "    <tr>\n",
       "      <th>1</th>\n",
       "      <td>0</td>\n",
       "      <td>0.897023</td>\n",
       "    </tr>\n",
       "    <tr>\n",
       "      <th>2</th>\n",
       "      <td>0</td>\n",
       "      <td>0.905656</td>\n",
       "    </tr>\n",
       "    <tr>\n",
       "      <th>3</th>\n",
       "      <td>0</td>\n",
       "      <td>0.899847</td>\n",
       "    </tr>\n",
       "    <tr>\n",
       "      <th>4</th>\n",
       "      <td>0</td>\n",
       "      <td>0.903244</td>\n",
       "    </tr>\n",
       "  </tbody>\n",
       "</table>\n",
       "</div>"
      ],
      "text/plain": [
       "   Modelo       AUC\n",
       "0       0  0.897092\n",
       "1       0  0.897023\n",
       "2       0  0.905656\n",
       "3       0  0.899847\n",
       "4       0  0.903244"
      ]
     },
     "execution_count": 217,
     "metadata": {},
     "output_type": "execute_result"
    }
   ],
   "source": [
    "results = list_res.T.melt()\n",
    "results.columns = [\"Modelo\", \"AUC\"]\n",
    "results.head()"
   ]
  },
  {
   "cell_type": "code",
   "execution_count": 219,
   "id": "fcc2cdeb-197f-44df-9c71-850936230861",
   "metadata": {
    "tags": []
   },
   "outputs": [
    {
     "data": {
      "image/png": "[encoded data removed]",
      "text/plain": [
       "<Figure size 1400x400 with 1 Axes>"
      ]
     },
     "metadata": {},
     "output_type": "display_data"
    }
   ],
   "source": [
    "plt.clf()\n",
    "sns.violinplot(x=\"Modelo\", y=\"AUC\", data=results)\n",
    "plt.show()"
   ]
  },
  {
   "cell_type": "markdown",
   "id": "8a481604-42e7-40d1-ac35-231ddbe6a1ed",
   "metadata": {},
   "source": [
    "## Punto de corte óptimo para la probabilidad estimada\n",
    "\n",
    "Vamos a ver las distribuciones de las probabilidades estimadas para los conjuntos de evento y no evento observado <br>\n",
    "Lo que nos gustaría tener es una separabilidad total, es decir 0 solapamiento e, idealmente que, las probabilidades <br>\n",
    "estimadas para los 0 fueran muy bajas y las de los 1 contrariamente en valores altos cercanos a 1."
   ]
  },
  {
   "cell_type": "code",
   "execution_count": 221,
   "id": "5164cdf3-7630-4890-bba4-c9be80446c5b",
   "metadata": {
    "tags": []
   },
   "outputs": [
    {
     "data": {
      "image/png": "[encoded data removed]",
      "text/plain": [
       "<Figure size 1400x400 with 1 Axes>"
      ]
     },
     "metadata": {},
     "output_type": "display_data"
    }
   ],
   "source": [
    "metrics.get_scorer_names() # Metricas\n",
    "y_pred = modelo3.predict(x_test)\n",
    "plt.clf()\n",
    "sns.kdeplot(x=y_pred, hue=y_test, fill=True, common_norm=False, alpha=0.4)\n",
    "plt.show()"
   ]
  },
  {
   "cell_type": "markdown",
   "id": "5af904da-4a97-4f1b-8a7d-b4d1d6702313",
   "metadata": {},
   "source": [
    "En naranja la distribución de probabilidades estimadas para los 1. se ve bien, su densidad se \"apunta\" en valores altos. Sin embargo <br>\n",
    "la de los 0 está mucho más repartida... Recordemos que dado el desbalanceo ya intuíamos que el modelo tendría mayor dificultad en <br>\n",
    "reconocer los 0s. <br> \n",
    "\n",
    "En cualquier caso parece que se puede conseguir una separabilidad alta entre clases con algún punto de corte de la probabilidad, esto es <br>\n",
    "diciendo todas las probabilidades estimadas mayor que punto de corto los clasifico como 1 y el resto como 0. <br>\n",
    "<br>\n",
    "\n",
    "El valor de corte por defecto en cualquier modelo de clasificación es el de 0.5 pero esto no es necesariamente lo más adecuado en contexto de <br>\n",
    "desbalanceo. Por esta razón es bueno hacer el ejercicio de buscar el punto de corte que resulte óptimo bajo algún criterio.<br>\n",
    "<br>\n",
    "En primer lugar podemos ver que un valor de 0.75 haría una buena discriminación pero despues de ahí la densidad del valor 1 aumenta mucho. Probaremos <br>\n",
    "ahí (siempre hay que tener en cuenta la prevalencia a priori del evento, es decir su **frecuencia relativa de aparición en el archivo era de 0.78**."
   ]
  },
  {
   "cell_type": "code",
   "execution_count": 224,
   "id": "fb87092a-9755-4c75-9b5f-c46b7a934f1a",
   "metadata": {
    "tags": []
   },
   "outputs": [
    {
     "data": {
      "image/png": "[encoded data removed]",
      "text/plain": [
       "<Figure size 1400x400 with 1 Axes>"
      ]
     },
     "metadata": {},
     "output_type": "display_data"
    }
   ],
   "source": [
    "def roc_grafico(test, pred):\n",
    "    fpr, tpr, thresholds = metrics.roc_curve(test, pred)\n",
    "    roc_auc = metrics.auc(fpr, tpr)\n",
    "    \n",
    "    plt.figure()\n",
    "    lw = 2\n",
    "    plt.plot(fpr, tpr, color='darkorange', lw=lw, label=\"ROC Curve (area = %0.2f)\" % roc_auc,)\n",
    "    plt.plot([0, 1], [0, 1], color='navy', lw=lw, linestyle='--')\n",
    "    plt.xlim([0.0, 1.0])\n",
    "    plt.ylim([0.0, 1.05])\n",
    "    plt.xlabel(\"False Positive Rate\")\n",
    "    plt.ylabel(\"True Positive Rate\")\n",
    "    plt.title(\"Receiver Operating characteristic Example\")\n",
    "    plt.legend(loc=\"lower right\")\n",
    "    plt.grid()\n",
    "    plt.show()\n",
    "    \n",
    "roc_grafico(y_test, y_pred)"
   ]
  },
  {
   "cell_type": "markdown",
   "id": "66eeeec1-c152-4415-9ded-0297db143b8e",
   "metadata": {},
   "source": [
    "Existe el índice de youden que maximiza la relación entre sensibilidad y especificidad conjuntamente con una formula aditiva. <br>\n",
    "\n",
    "Podemos generar una rejilla de puntos de corte posibles entre 0 y 1 y valorar cual de estos maximiza este criterio y compararlo con el que maximiza el accuracy"
   ]
  },
  {
   "cell_type": "code",
   "execution_count": 231,
   "id": "1c54cbe2-03f0-4849-8407-3369ab925cab",
   "metadata": {
    "tags": []
   },
   "outputs": [
    {
     "data": {
      "text/plain": [
       "0.7621240299972789"
      ]
     },
     "execution_count": 231,
     "metadata": {},
     "output_type": "execute_result"
    }
   ],
   "source": [
    "def cutoff_youden(test,pred):\n",
    "    fpr, tpr, thresholds = metrics.roc_curve(test,pred)\n",
    "    j_scores = tpr-fpr\n",
    "    j_ordered = sorted(zip(j_scores,thresholds))\n",
    "    return j_ordered[-1][1]\n",
    "\n",
    "corte = cutoff_youden(y_test, y_pred)\n",
    "corte"
   ]
  },
  {
   "cell_type": "markdown",
   "id": "b152a682-eb6b-4248-b712-9c873a57d30e",
   "metadata": {},
   "source": [
    "Youden dice que el punto de corte óptimo es 0.76. Por otro lado y como es de esperar pues por definición, el punto de corte <br>\n",
    "que maximiza el accuracy es 0.49. Probamos las métricas con estos valor. Veamos los coeficientes del modelo ganador."
   ]
  },
  {
   "cell_type": "code",
   "execution_count": 232,
   "id": "a4750047-30e9-48ce-9cb4-9bb7205fcdde",
   "metadata": {
    "tags": []
   },
   "outputs": [
    {
     "data": {
      "text/html": [
       "<table class=\"simpletable\">\n",
       "<caption>Logit Regression Results</caption>\n",
       "<tr>\n",
       "  <th>Dep. Variable:</th>        <td>Compra</td>      <th>  No. Observations:  </th>  <td>  5092</td> \n",
       "</tr>\n",
       "<tr>\n",
       "  <th>Model:</th>                 <td>Logit</td>      <th>  Df Residuals:      </th>  <td>  5083</td> \n",
       "</tr>\n",
       "<tr>\n",
       "  <th>Method:</th>                 <td>MLE</td>       <th>  Df Model:          </th>  <td>     8</td> \n",
       "</tr>\n",
       "<tr>\n",
       "  <th>Date:</th>            <td>Tue, 06 Feb 2024</td> <th>  Pseudo R-squ.:     </th>  <td>0.4083</td> \n",
       "</tr>\n",
       "<tr>\n",
       "  <th>Time:</th>                <td>17:09:22</td>     <th>  Log-Likelihood:    </th> <td> -1571.4</td>\n",
       "</tr>\n",
       "<tr>\n",
       "  <th>converged:</th>             <td>True</td>       <th>  LL-Null:           </th> <td> -2655.9</td>\n",
       "</tr>\n",
       "<tr>\n",
       "  <th>Covariance Type:</th>     <td>nonrobust</td>    <th>  LLR p-value:       </th>  <td> 0.000</td> \n",
       "</tr>\n",
       "</table>\n",
       "<table class=\"simpletable\">\n",
       "<tr>\n",
       "            <td></td>               <th>coef</th>     <th>std err</th>      <th>z</th>      <th>P>|z|</th>  <th>[0.025</th>    <th>0.975]</th>  \n",
       "</tr>\n",
       "<tr>\n",
       "  <th>Intercept</th>             <td>    4.2454</td> <td>    0.343</td> <td>   12.363</td> <td> 0.000</td> <td>    3.572</td> <td>    4.918</td>\n",
       "</tr>\n",
       "<tr>\n",
       "  <th>Clasificacion[T.**+]</th>  <td>    3.0262</td> <td>    0.181</td> <td>   16.681</td> <td> 0.000</td> <td>    2.671</td> <td>    3.382</td>\n",
       "</tr>\n",
       "<tr>\n",
       "  <th>Clasificacion[T.Desc]</th> <td>   -1.7971</td> <td>    0.096</td> <td>  -18.656</td> <td> 0.000</td> <td>   -1.986</td> <td>   -1.608</td>\n",
       "</tr>\n",
       "<tr>\n",
       "  <th>Etiqueta[T.M]</th>         <td>   -0.3534</td> <td>    0.218</td> <td>   -1.622</td> <td> 0.105</td> <td>   -0.780</td> <td>    0.074</td>\n",
       "</tr>\n",
       "<tr>\n",
       "  <th>Etiqueta[T.R]</th>         <td>   -1.0111</td> <td>    0.212</td> <td>   -4.765</td> <td> 0.000</td> <td>   -1.427</td> <td>   -0.595</td>\n",
       "</tr>\n",
       "<tr>\n",
       "  <th>Etiqueta[T.B]</th>         <td>   -1.3757</td> <td>    0.227</td> <td>   -6.049</td> <td> 0.000</td> <td>   -1.821</td> <td>   -0.930</td>\n",
       "</tr>\n",
       "<tr>\n",
       "  <th>Etiqueta[T.MB]</th>        <td>   -1.7526</td> <td>    0.329</td> <td>   -5.319</td> <td> 0.000</td> <td>   -2.398</td> <td>   -1.107</td>\n",
       "</tr>\n",
       "<tr>\n",
       "  <th>CalifProductor</th>        <td>   -0.4274</td> <td>    0.035</td> <td>  -12.343</td> <td> 0.000</td> <td>   -0.495</td> <td>   -0.360</td>\n",
       "</tr>\n",
       "<tr>\n",
       "  <th>pH</th>                    <td>   -0.2485</td> <td>    0.072</td> <td>   -3.446</td> <td> 0.001</td> <td>   -0.390</td> <td>   -0.107</td>\n",
       "</tr>\n",
       "</table>"
      ],
      "text/latex": [
       "\\begin{center}\n",
       "\\begin{tabular}{lclc}\n",
       "\\toprule\n",
       "\\textbf{Dep. Variable:}        &      Compra      & \\textbf{  No. Observations:  } &     5092    \\\\\n",
       "\\textbf{Model:}                &      Logit       & \\textbf{  Df Residuals:      } &     5083    \\\\\n",
       "\\textbf{Method:}               &       MLE        & \\textbf{  Df Model:          } &        8    \\\\\n",
       "\\textbf{Date:}                 & Tue, 06 Feb 2024 & \\textbf{  Pseudo R-squ.:     } &   0.4083    \\\\\n",
       "\\textbf{Time:}                 &     17:09:22     & \\textbf{  Log-Likelihood:    } &   -1571.4   \\\\\n",
       "\\textbf{converged:}            &       True       & \\textbf{  LL-Null:           } &   -2655.9   \\\\\n",
       "\\textbf{Covariance Type:}      &    nonrobust     & \\textbf{  LLR p-value:       } &    0.000    \\\\\n",
       "\\bottomrule\n",
       "\\end{tabular}\n",
       "\\begin{tabular}{lcccccc}\n",
       "                               & \\textbf{coef} & \\textbf{std err} & \\textbf{z} & \\textbf{P$> |$z$|$} & \\textbf{[0.025} & \\textbf{0.975]}  \\\\\n",
       "\\midrule\n",
       "\\textbf{Intercept}             &       4.2454  &        0.343     &    12.363  &         0.000        &        3.572    &        4.918     \\\\\n",
       "\\textbf{Clasificacion[T.**+]}  &       3.0262  &        0.181     &    16.681  &         0.000        &        2.671    &        3.382     \\\\\n",
       "\\textbf{Clasificacion[T.Desc]} &      -1.7971  &        0.096     &   -18.656  &         0.000        &       -1.986    &       -1.608     \\\\\n",
       "\\textbf{Etiqueta[T.M]}         &      -0.3534  &        0.218     &    -1.622  &         0.105        &       -0.780    &        0.074     \\\\\n",
       "\\textbf{Etiqueta[T.R]}         &      -1.0111  &        0.212     &    -4.765  &         0.000        &       -1.427    &       -0.595     \\\\\n",
       "\\textbf{Etiqueta[T.B]}         &      -1.3757  &        0.227     &    -6.049  &         0.000        &       -1.821    &       -0.930     \\\\\n",
       "\\textbf{Etiqueta[T.MB]}        &      -1.7526  &        0.329     &    -5.319  &         0.000        &       -2.398    &       -1.107     \\\\\n",
       "\\textbf{CalifProductor}        &      -0.4274  &        0.035     &   -12.343  &         0.000        &       -0.495    &       -0.360     \\\\\n",
       "\\textbf{pH}                    &      -0.2485  &        0.072     &    -3.446  &         0.001        &       -0.390    &       -0.107     \\\\\n",
       "\\bottomrule\n",
       "\\end{tabular}\n",
       "%\\caption{Logit Regression Results}\n",
       "\\end{center}"
      ],
      "text/plain": [
       "<class 'statsmodels.iolib.summary.Summary'>\n",
       "\"\"\"\n",
       "                           Logit Regression Results                           \n",
       "==============================================================================\n",
       "Dep. Variable:                 Compra   No. Observations:                 5092\n",
       "Model:                          Logit   Df Residuals:                     5083\n",
       "Method:                           MLE   Df Model:                            8\n",
       "Date:                Tue, 06 Feb 2024   Pseudo R-squ.:                  0.4083\n",
       "Time:                        17:09:22   Log-Likelihood:                -1571.4\n",
       "converged:                       True   LL-Null:                       -2655.9\n",
       "Covariance Type:            nonrobust   LLR p-value:                     0.000\n",
       "=========================================================================================\n",
       "                            coef    std err          z      P>|z|      [0.025      0.975]\n",
       "-----------------------------------------------------------------------------------------\n",
       "Intercept                 4.2454      0.343     12.363      0.000       3.572       4.918\n",
       "Clasificacion[T.**+]      3.0262      0.181     16.681      0.000       2.671       3.382\n",
       "Clasificacion[T.Desc]    -1.7971      0.096    -18.656      0.000      -1.986      -1.608\n",
       "Etiqueta[T.M]            -0.3534      0.218     -1.622      0.105      -0.780       0.074\n",
       "Etiqueta[T.R]            -1.0111      0.212     -4.765      0.000      -1.427      -0.595\n",
       "Etiqueta[T.B]            -1.3757      0.227     -6.049      0.000      -1.821      -0.930\n",
       "Etiqueta[T.MB]           -1.7526      0.329     -5.319      0.000      -2.398      -1.107\n",
       "CalifProductor           -0.4274      0.035    -12.343      0.000      -0.495      -0.360\n",
       "pH                       -0.2485      0.072     -3.446      0.001      -0.390      -0.107\n",
       "=========================================================================================\n",
       "\"\"\""
      ]
     },
     "execution_count": 232,
     "metadata": {},
     "output_type": "execute_result"
    }
   ],
   "source": [
    "modelo3.summary()"
   ]
  },
  {
   "cell_type": "markdown",
   "id": "d2798723-acf6-4ccf-ab04-e589a5799baf",
   "metadata": {},
   "source": [
    "Influencia positiva de las clasificaciones buenas y las etiquetas y clasificación del productor <br>\n",
    "malas/bajas. Influencia negativa de las dos continuas. <br>\n",
    "<br>\n",
    "Podemos ver la matriz de confusión en el conjunto de test. Para ello generaremos el factor de <br>\n",
    "predicciones cortando las probabilidades estimadas por el punto de corte seleccionando y asignando 0 y 1,<br>\n",
    "luego enfrentaremos a la verdad verdadero y evaluaremos su capacidad."
   ]
  },
  {
   "cell_type": "markdown",
   "id": "3c4214d5-faf0-4564-9a62-2b673b09c9d5",
   "metadata": {},
   "source": [
    "## Matrices de confusion\n",
    "Comparemos matrices de confusión con punto de corte por defecto 0.5 y punto de corte <br>\n",
    "Youden."
   ]
  },
  {
   "cell_type": "code",
   "execution_count": 240,
   "id": "9c02b3c6-af01-45b3-b755-0d9f03c7818d",
   "metadata": {
    "tags": []
   },
   "outputs": [
    {
     "data": {
      "image/png": "[encoded data removed]",
      "text/plain": [
       "<Figure size 1400x400 with 2 Axes>"
      ]
     },
     "metadata": {},
     "output_type": "display_data"
    }
   ],
   "source": [
    "# Matriz de confusion 0.5\n",
    "from sklearn.metrics import confusion_matrix\n",
    "from sklearn.metrics import ConfusionMatrixDisplay\n",
    "y_pred = modelo2.predict(x_test)\n",
    "matriz_confusion = confusion_matrix(y_test, round(y_pred))\n",
    "\n",
    "cm_display = ConfusionMatrixDisplay(matriz_confusion).plot()\n",
    "cm_display\n",
    "plt.show()"
   ]
  },
  {
   "cell_type": "code",
   "execution_count": 242,
   "id": "db9721be-877d-47b4-995c-17400e280f4f",
   "metadata": {
    "tags": []
   },
   "outputs": [
    {
     "name": "stdout",
     "output_type": "stream",
     "text": [
      "              precision    recall  f1-score   support\n",
      "\n",
      "           0       0.70      0.68      0.69       268\n",
      "           1       0.91      0.92      0.92      1005\n",
      "\n",
      "    accuracy                           0.87      1273\n",
      "   macro avg       0.81      0.80      0.80      1273\n",
      "weighted avg       0.87      0.87      0.87      1273\n",
      "\n"
     ]
    }
   ],
   "source": [
    "print(metrics.classification_report(y_test, round(y_pred)))"
   ]
  },
  {
   "cell_type": "markdown",
   "id": "9c60555c-ce5d-414d-a1e3-5caf555f2340",
   "metadata": {},
   "source": [
    "- Precision: Indica la proporción de identificaciones postivas que fueron realmente <br>\n",
    "correctas. Para la clase 0, el modelo tiene una precisión del 70%, lo que significa <br>\n",
    "que todas las instancias que el modelo predijo como clase 0, el 70% de ellas son <br>\n",
    "realmente clase 0. Para la clase 1, la precisión es del 91%. <br>\n",
    "<br>\n",
    "- Recall (Sensibilidad o Exhaustividad) Muestra la propoción de positivos reales que <br>\n",
    "fueron identificados correctamente. Para la clase 0, es del 68%, lo que significa que <br>\n",
    "el modelo identificó correctamente el 68% de todas las instancias reales de la clase 0. <br>\n",
    "para la clase 1, el valor es del 92%.\n",
    "- F1-score: Es la media armónica de precisión y sensibilidad, que tiene en cuenta tanto <br>\n",
    "los falsos positivos como los falsos negativos. Para la clase 0, es 0.69, lo que sugiere <br>\n",
    "un balance razonable entre precisión y sensibilidad. Para la clase 1, es 0.92, lo que indica <br>\n",
    "un buen balance.<br>\n",
    "<br>\n",
    "- Support: El número de ocurrencias reales de cada clase en tu conjunto de datos. Hay <br>\n",
    "268 instancias de la clase 0 y 1005 de la clase 1.<br>\n",
    "<br>\n",
    "- Accuracy: La proporción de predicciones correctas entre el total de casos. Tu modelo <br>\n",
    "tiene una exactitud del 87%, lo que significa que acierta en el 87% de las veces al predecir <br>\n",
    "la clase correcta. <br>\n",
    "<br>\n",
    "- Macro Average: Es el promedio de la precisión, sensibilidad y F1-score para cada clase, sin <br>\n",
    "tener en cuenta la proporción (support) de cada clase."
   ]
  }
 ],
 "metadata": {
  "kernelspec": {
   "display_name": "Python 3 (ipykernel)",
   "language": "python",
   "name": "python3"
  },
  "language_info": {
   "codemirror_mode": {
    "name": "ipython",
    "version": 3
   },
   "file_extension": ".py",
   "mimetype": "text/x-python",
   "name": "python",
   "nbconvert_exporter": "python",
   "pygments_lexer": "ipython3",
   "version": "3.11.5"
  }
 },
 "nbformat": 4,
 "nbformat_minor": 5
}
